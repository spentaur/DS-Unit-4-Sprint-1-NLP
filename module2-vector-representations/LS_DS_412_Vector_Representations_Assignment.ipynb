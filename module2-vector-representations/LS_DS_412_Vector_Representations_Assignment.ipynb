{
 "cells": [
  {
   "cell_type": "markdown",
   "metadata": {},
   "source": [
    "<img align=\"left\" src=\"https://lever-client-logos.s3.amazonaws.com/864372b1-534c-480e-acd5-9711f850815c-1524247202159.png\" width=200>\n",
    "<br></br>\n",
    "\n",
    "# Vector Representations\n",
    "## *Data Science Unit 4 Sprint 2 Assignment 2*"
   ]
  },
  {
   "cell_type": "code",
   "execution_count": 860,
   "metadata": {
    "colab": {
     "base_uri": "https://localhost:8080/",
     "height": 159
    },
    "colab_type": "code",
    "id": "hyj-f9FDcVFp",
    "outputId": "5dd045fe-6e4c-458c-e2fc-253c3da9c805"
   },
   "outputs": [],
   "source": [
    "from sklearn.feature_extraction.text import CountVectorizer, TfidfVectorizer\n",
    "from sklearn.neighbors import NearestNeighbors\n",
    "import matplotlib.pyplot as plt\n",
    "import pandas as pd\n",
    "import pandas_express\n",
    "import numpy as np\n",
    "import spacy\n",
    "from spacy.tokenizer import Tokenizer\n",
    "import squarify"
   ]
  },
  {
   "cell_type": "code",
   "execution_count": 781,
   "metadata": {},
   "outputs": [],
   "source": [
    "nlp = spacy.load(\"en_core_web_lg\")"
   ]
  },
  {
   "cell_type": "markdown",
   "metadata": {
    "colab_type": "text",
    "id": "M7bcmqfGXrFG"
   },
   "source": [
    "## 1) *Clean:* Job Listings from indeed.com that contain the title \"Data Scientist\" \n",
    "\n",
    "You have `job_listings.csv` in the data folder for this module. The text data in the description column is still messy - full of html tags. Use the [BeautifulSoup](https://www.crummy.com/software/BeautifulSoup/bs4/doc/) library to clean up this column. You will need to read thru the documentation to accomplish this task. \n",
    "\n",
    "`Tip:` You will need to install the `bs4` library inside your conda environment. "
   ]
  },
  {
   "cell_type": "code",
   "execution_count": 874,
   "metadata": {
    "colab": {},
    "colab_type": "code",
    "id": "KcYlc1URXhlC"
   },
   "outputs": [],
   "source": [
    "jobs = pd.read_csv('./data/job_listings.csv')[['description', 'title']]"
   ]
  },
  {
   "cell_type": "code",
   "execution_count": 875,
   "metadata": {},
   "outputs": [
    {
     "name": "stdout",
     "output_type": "stream",
     "text": [
      "(426, 2)\n"
     ]
    },
    {
     "data": {
      "text/html": [
       "<div>\n",
       "<style scoped>\n",
       "    .dataframe tbody tr th:only-of-type {\n",
       "        vertical-align: middle;\n",
       "    }\n",
       "\n",
       "    .dataframe tbody tr th {\n",
       "        vertical-align: top;\n",
       "    }\n",
       "\n",
       "    .dataframe thead th {\n",
       "        text-align: right;\n",
       "    }\n",
       "</style>\n",
       "<table border=\"1\" class=\"dataframe\">\n",
       "  <thead>\n",
       "    <tr style=\"text-align: right;\">\n",
       "      <th></th>\n",
       "      <th>description</th>\n",
       "      <th>title</th>\n",
       "    </tr>\n",
       "  </thead>\n",
       "  <tbody>\n",
       "    <tr>\n",
       "      <th>0</th>\n",
       "      <td>b\"&lt;div&gt;&lt;div&gt;Job Requirements:&lt;/div&gt;&lt;ul&gt;&lt;li&gt;&lt;p&gt;...</td>\n",
       "      <td>Data scientist</td>\n",
       "    </tr>\n",
       "    <tr>\n",
       "      <th>1</th>\n",
       "      <td>b'&lt;div&gt;Job Description&lt;br/&gt;\\n&lt;br/&gt;\\n&lt;p&gt;As a Da...</td>\n",
       "      <td>Data Scientist I</td>\n",
       "    </tr>\n",
       "    <tr>\n",
       "      <th>2</th>\n",
       "      <td>b'&lt;div&gt;&lt;p&gt;As a Data Scientist you will be work...</td>\n",
       "      <td>Data Scientist - Entry Level</td>\n",
       "    </tr>\n",
       "    <tr>\n",
       "      <th>3</th>\n",
       "      <td>b'&lt;div class=\"jobsearch-JobMetadataHeader icl-...</td>\n",
       "      <td>Data Scientist</td>\n",
       "    </tr>\n",
       "    <tr>\n",
       "      <th>4</th>\n",
       "      <td>b'&lt;ul&gt;&lt;li&gt;Location: USA \\xe2\\x80\\x93 multiple ...</td>\n",
       "      <td>Data Scientist</td>\n",
       "    </tr>\n",
       "  </tbody>\n",
       "</table>\n",
       "</div>"
      ],
      "text/plain": [
       "                                         description  \\\n",
       "0  b\"<div><div>Job Requirements:</div><ul><li><p>...   \n",
       "1  b'<div>Job Description<br/>\\n<br/>\\n<p>As a Da...   \n",
       "2  b'<div><p>As a Data Scientist you will be work...   \n",
       "3  b'<div class=\"jobsearch-JobMetadataHeader icl-...   \n",
       "4  b'<ul><li>Location: USA \\xe2\\x80\\x93 multiple ...   \n",
       "\n",
       "                          title  \n",
       "0               Data scientist   \n",
       "1              Data Scientist I  \n",
       "2  Data Scientist - Entry Level  \n",
       "3                Data Scientist  \n",
       "4                Data Scientist  "
      ]
     },
     "execution_count": 875,
     "metadata": {},
     "output_type": "execute_result"
    }
   ],
   "source": [
    "print(jobs.shape)\n",
    "jobs.head()"
   ]
  },
  {
   "cell_type": "code",
   "execution_count": 876,
   "metadata": {},
   "outputs": [
    {
     "data": {
      "text/plain": [
       "0    b\"<div><div>Job Requirements:</div><ul><li><p>...\n",
       "1    b'<div>Job Description<br/>\\n<br/>\\n<p>As a Da...\n",
       "2    b'<div><p>As a Data Scientist you will be work...\n",
       "3    b'<div class=\"jobsearch-JobMetadataHeader icl-...\n",
       "4    b'<ul><li>Location: USA \\xe2\\x80\\x93 multiple ...\n",
       "Name: description, dtype: object"
      ]
     },
     "execution_count": 876,
     "metadata": {},
     "output_type": "execute_result"
    }
   ],
   "source": [
    "descriptions = jobs['description']\n",
    "descriptions.head()"
   ]
  },
  {
   "cell_type": "code",
   "execution_count": 877,
   "metadata": {},
   "outputs": [],
   "source": [
    "def clean(data):\n",
    "    remove_chars = {\n",
    "        r'\\\\xe2\\\\x80\\\\x99': \"'\",\n",
    "        r'\\\\xe2\\\\x80\\\\x93': \"-\",\n",
    "        r'\\\\xe2\\\\x80\\\\x94': \"-\",\n",
    "        r'\\\\xe2\\\\x80\\\\x9c': '\"',\n",
    "        r'\\\\xe2\\\\x80\\\\xa6': \" \",\n",
    "        r'\\\\xc2\\\\xae': \" \",\n",
    "        r'\\\\xe2\\\\x84\\\\xa2': \" \",\n",
    "        r'\\\\xc2\\\\xbb': \" \",\n",
    "        r'\\\\xc2\\\\xb7': \" \",\n",
    "        r'\\\\xe2\\\\x80\\\\xa0': \" \",\n",
    "        r'\\\\xe2\\\\x80\\\\x8b': \" \",\n",
    "        r'\\\\xc2\\\\xa8': \" \",\n",
    "        r'\\\\xe2\\\\x82\\\\xac': \" \",\n",
    "        r'\\\\xef\\\\xac\\\\x81': \" \",\n",
    "        r'\\\\xe2\\\\x84\\\\xa0': \" \",\n",
    "        r'\\\\xef\\\\xbb\\\\xbf': \" \",\n",
    "        r'\\\\xe2\\\\x80\\\\x9d': '\"',\n",
    "        r'\\\\xef\\\\x83\\\\x98': \" \",\n",
    "        r'\\\\xe2\\\\x80\\\\x98': \"'\",\n",
    "        r'\\\\xe2\\\\x80\\\\xa2': \" \",\n",
    "        r'\\\\xef\\\\x82\\\\xa7': \" \",\n",
    "        r'\\\\xc3\\\\xa9': \"e\",\n",
    "        r'\\\\xe2\\\\x80\\\\x90': \"-\",\n",
    "        r'\\\\xe2\\\\x9c\\\\xa6': \" \",\n",
    "        r'\\\\xe2\\\\x9c\\\\xa7': \" \",\n",
    "        r'\\\\xc3\\\\xaf': \"i\",\n",
    "        r'\\\\xc2\\\\xa9': \" \",\n",
    "        r'\\\\n': \" \",\n",
    "        r'(?<=\\d),(?=\\d)': \"\",\n",
    "        r'<.*?>': \" \",\n",
    "        r\"'$\": \"\",\n",
    "        r\"\\\\'\": \"'\",\n",
    "        r\"needs\\\\\\\\possess\": \"needs. possess\"\n",
    "    }\n",
    "    \n",
    "    urls = {\n",
    "        r'(https?:\\/\\/(?:www\\.|(?!www))[a-zA-Z0-9][a-zA-Z0-9-]+[a-zA-Z0-9]\\.[^\\s]{2,}|www\\.[a-zA-Z0-9][a-zA-Z0-9-]+[a-zA-Z0-9]\\.[^\\s]{2,}|https?:\\/\\/(?:www\\.|(?!www))[a-zA-Z0-9]+\\.[^\\s]{2,}|www\\.[a-zA-Z0-9]+\\.[^\\s]{2,})': \"\"\n",
    "    }\n",
    "    \n",
    "    selectors = \"\\#li[a-z0-9\\-_]*\"\n",
    "    \n",
    "    tags = r\"(?:(?<=\\s)|(?<=^))(li|jl|mv|mon|sfarm|pm|id|req)(?=\\s|$)\"\n",
    "    \n",
    "    data = data.str.lower().str[2:]\n",
    "    \n",
    "    data = data.replace(urls, regex=True)\n",
    "    data = data.replace(remove_chars, regex=True)\n",
    "    data = data.replace({tags: \"\"}, regex=True)\n",
    "    data = data.replace({selectors: \"\"}, regex=True)\n",
    "    data = data.replace({r\"\\s{2,}\": \" \"}, regex=True)\n",
    "    \n",
    "    data = data.str.strip()\n",
    "    \n",
    "    return data"
   ]
  },
  {
   "cell_type": "code",
   "execution_count": 878,
   "metadata": {},
   "outputs": [],
   "source": [
    "jobs['description'] = clean(descriptions)\n",
    "jobs = jobs.drop_duplicates()\n",
    "descriptions = jobs['description']"
   ]
  },
  {
   "cell_type": "markdown",
   "metadata": {
    "colab_type": "text",
    "id": "5C4xFZNtX1m2"
   },
   "source": [
    "## 2) Use Spacy to tokenize the listings "
   ]
  },
  {
   "cell_type": "code",
   "execution_count": 879,
   "metadata": {
    "colab": {},
    "colab_type": "code",
    "id": "dhUHuMr-X-II"
   },
   "outputs": [],
   "source": [
    "##### Your Code Here #####\n",
    "def get_lemmas(text):\n",
    "\n",
    "    lemmas = []\n",
    "    \n",
    "    doc = nlp(text)\n",
    "    \n",
    "    for token in doc: \n",
    "        if ((token.is_stop == False) and (token.is_punct == False)) and (token.pos_ != 'PRON') and (token.pos_ != 'NUM'):\n",
    "            lemmas.append(token.lemma_)\n",
    "    \n",
    "    return lemmas"
   ]
  },
  {
   "cell_type": "code",
   "execution_count": 880,
   "metadata": {},
   "outputs": [],
   "source": [
    "tokens = descriptions.apply(get_lemmas)"
   ]
  },
  {
   "cell_type": "code",
   "execution_count": 881,
   "metadata": {},
   "outputs": [
    {
     "data": {
      "text/plain": [
       "6353"
      ]
     },
     "execution_count": 881,
     "metadata": {},
     "output_type": "execute_result"
    }
   ],
   "source": [
    "words = set()\n",
    "for _, row in tokens.iteritems():\n",
    "    words.update(row)\n",
    "    \n",
    "len(words)"
   ]
  },
  {
   "cell_type": "code",
   "execution_count": 882,
   "metadata": {},
   "outputs": [],
   "source": [
    "tokens_str = tokens.str.join(' ')"
   ]
  },
  {
   "cell_type": "markdown",
   "metadata": {
    "colab_type": "text",
    "id": "-lgCZNL_YycP"
   },
   "source": [
    "## 3) Use Scikit-Learn's CountVectorizer to get word counts for each listing."
   ]
  },
  {
   "cell_type": "code",
   "execution_count": 883,
   "metadata": {
    "colab": {},
    "colab_type": "code",
    "id": "X2PZ8Pj_YxcF"
   },
   "outputs": [],
   "source": [
    "vect = CountVectorizer()\n",
    "\n",
    "vect.fit(tokens_str)\n",
    "\n",
    "dtm = vect.transform(tokens_str)"
   ]
  },
  {
   "cell_type": "code",
   "execution_count": 884,
   "metadata": {},
   "outputs": [
    {
     "data": {
      "text/plain": [
       "(355, 6212)"
      ]
     },
     "execution_count": 884,
     "metadata": {},
     "output_type": "execute_result"
    }
   ],
   "source": [
    "dtm.shape"
   ]
  },
  {
   "cell_type": "code",
   "execution_count": 885,
   "metadata": {},
   "outputs": [
    {
     "name": "stdout",
     "output_type": "stream",
     "text": [
      "(355, 6212)\n"
     ]
    },
    {
     "data": {
      "text/html": [
       "<div>\n",
       "<style scoped>\n",
       "    .dataframe tbody tr th:only-of-type {\n",
       "        vertical-align: middle;\n",
       "    }\n",
       "\n",
       "    .dataframe tbody tr th {\n",
       "        vertical-align: top;\n",
       "    }\n",
       "\n",
       "    .dataframe thead th {\n",
       "        text-align: right;\n",
       "    }\n",
       "</style>\n",
       "<table border=\"1\" class=\"dataframe\">\n",
       "  <thead>\n",
       "    <tr style=\"text-align: right;\">\n",
       "      <th></th>\n",
       "      <th>10</th>\n",
       "      <th>100x</th>\n",
       "      <th>10b</th>\n",
       "      <th>10ms</th>\n",
       "      <th>10x</th>\n",
       "      <th>112</th>\n",
       "      <th>12</th>\n",
       "      <th>14000</th>\n",
       "      <th>17b</th>\n",
       "      <th>180008jq</th>\n",
       "      <th>...</th>\n",
       "      <th>zenreach</th>\n",
       "      <th>zeus</th>\n",
       "      <th>zf</th>\n",
       "      <th>zheng</th>\n",
       "      <th>zillow</th>\n",
       "      <th>zogsport</th>\n",
       "      <th>zone</th>\n",
       "      <th>zoom</th>\n",
       "      <th>zuckerberg</th>\n",
       "      <th>zurich</th>\n",
       "    </tr>\n",
       "  </thead>\n",
       "  <tbody>\n",
       "    <tr>\n",
       "      <th>0</th>\n",
       "      <td>0</td>\n",
       "      <td>0</td>\n",
       "      <td>0</td>\n",
       "      <td>0</td>\n",
       "      <td>0</td>\n",
       "      <td>0</td>\n",
       "      <td>0</td>\n",
       "      <td>0</td>\n",
       "      <td>0</td>\n",
       "      <td>0</td>\n",
       "      <td>...</td>\n",
       "      <td>0</td>\n",
       "      <td>0</td>\n",
       "      <td>0</td>\n",
       "      <td>0</td>\n",
       "      <td>0</td>\n",
       "      <td>0</td>\n",
       "      <td>0</td>\n",
       "      <td>0</td>\n",
       "      <td>0</td>\n",
       "      <td>0</td>\n",
       "    </tr>\n",
       "    <tr>\n",
       "      <th>1</th>\n",
       "      <td>0</td>\n",
       "      <td>0</td>\n",
       "      <td>0</td>\n",
       "      <td>0</td>\n",
       "      <td>0</td>\n",
       "      <td>0</td>\n",
       "      <td>0</td>\n",
       "      <td>0</td>\n",
       "      <td>0</td>\n",
       "      <td>0</td>\n",
       "      <td>...</td>\n",
       "      <td>0</td>\n",
       "      <td>0</td>\n",
       "      <td>0</td>\n",
       "      <td>0</td>\n",
       "      <td>0</td>\n",
       "      <td>0</td>\n",
       "      <td>0</td>\n",
       "      <td>0</td>\n",
       "      <td>0</td>\n",
       "      <td>0</td>\n",
       "    </tr>\n",
       "    <tr>\n",
       "      <th>2</th>\n",
       "      <td>0</td>\n",
       "      <td>0</td>\n",
       "      <td>0</td>\n",
       "      <td>0</td>\n",
       "      <td>0</td>\n",
       "      <td>0</td>\n",
       "      <td>0</td>\n",
       "      <td>0</td>\n",
       "      <td>0</td>\n",
       "      <td>0</td>\n",
       "      <td>...</td>\n",
       "      <td>0</td>\n",
       "      <td>0</td>\n",
       "      <td>0</td>\n",
       "      <td>0</td>\n",
       "      <td>0</td>\n",
       "      <td>0</td>\n",
       "      <td>0</td>\n",
       "      <td>0</td>\n",
       "      <td>0</td>\n",
       "      <td>0</td>\n",
       "    </tr>\n",
       "    <tr>\n",
       "      <th>3</th>\n",
       "      <td>0</td>\n",
       "      <td>0</td>\n",
       "      <td>0</td>\n",
       "      <td>0</td>\n",
       "      <td>0</td>\n",
       "      <td>0</td>\n",
       "      <td>0</td>\n",
       "      <td>0</td>\n",
       "      <td>0</td>\n",
       "      <td>0</td>\n",
       "      <td>...</td>\n",
       "      <td>0</td>\n",
       "      <td>0</td>\n",
       "      <td>0</td>\n",
       "      <td>1</td>\n",
       "      <td>0</td>\n",
       "      <td>0</td>\n",
       "      <td>0</td>\n",
       "      <td>0</td>\n",
       "      <td>0</td>\n",
       "      <td>0</td>\n",
       "    </tr>\n",
       "    <tr>\n",
       "      <th>4</th>\n",
       "      <td>0</td>\n",
       "      <td>0</td>\n",
       "      <td>0</td>\n",
       "      <td>0</td>\n",
       "      <td>0</td>\n",
       "      <td>0</td>\n",
       "      <td>0</td>\n",
       "      <td>0</td>\n",
       "      <td>0</td>\n",
       "      <td>0</td>\n",
       "      <td>...</td>\n",
       "      <td>0</td>\n",
       "      <td>0</td>\n",
       "      <td>0</td>\n",
       "      <td>0</td>\n",
       "      <td>0</td>\n",
       "      <td>0</td>\n",
       "      <td>0</td>\n",
       "      <td>0</td>\n",
       "      <td>0</td>\n",
       "      <td>0</td>\n",
       "    </tr>\n",
       "  </tbody>\n",
       "</table>\n",
       "<p>5 rows × 6212 columns</p>\n",
       "</div>"
      ],
      "text/plain": [
       "   10  100x  10b  10ms  10x  112  12  14000  17b  180008jq  ...  zenreach  \\\n",
       "0   0     0    0     0    0    0   0      0    0         0  ...         0   \n",
       "1   0     0    0     0    0    0   0      0    0         0  ...         0   \n",
       "2   0     0    0     0    0    0   0      0    0         0  ...         0   \n",
       "3   0     0    0     0    0    0   0      0    0         0  ...         0   \n",
       "4   0     0    0     0    0    0   0      0    0         0  ...         0   \n",
       "\n",
       "   zeus  zf  zheng  zillow  zogsport  zone  zoom  zuckerberg  zurich  \n",
       "0     0   0      0       0         0     0     0           0       0  \n",
       "1     0   0      0       0         0     0     0           0       0  \n",
       "2     0   0      0       0         0     0     0           0       0  \n",
       "3     0   0      1       0         0     0     0           0       0  \n",
       "4     0   0      0       0         0     0     0           0       0  \n",
       "\n",
       "[5 rows x 6212 columns]"
      ]
     },
     "execution_count": 885,
     "metadata": {},
     "output_type": "execute_result"
    }
   ],
   "source": [
    "dtm = pd.DataFrame(dtm.todense(), columns=vect.get_feature_names())\n",
    "print(dtm.shape)\n",
    "dtm.head()"
   ]
  },
  {
   "cell_type": "markdown",
   "metadata": {
    "colab_type": "text",
    "id": "Zo1iH_UeY7_n"
   },
   "source": [
    "## 4) Visualize the most common word counts"
   ]
  },
  {
   "cell_type": "code",
   "execution_count": 886,
   "metadata": {
    "colab": {},
    "colab_type": "code",
    "id": "M5LB00uyZKV5"
   },
   "outputs": [],
   "source": [
    "counts = dtm.sum().sort_values(ascending=False)"
   ]
  },
  {
   "cell_type": "code",
   "execution_count": 887,
   "metadata": {},
   "outputs": [],
   "source": [
    "counts_pct = counts / sum(counts.values)"
   ]
  },
  {
   "cell_type": "code",
   "execution_count": 888,
   "metadata": {},
   "outputs": [
    {
     "name": "stdout",
     "output_type": "stream",
     "text": [
      "20\n"
     ]
    },
    {
     "data": {
      "image/png": "[encoded data removed]",
      "text/plain": [
       "<Figure size 432x288 with 1 Axes>"
      ]
     },
     "metadata": {
      "needs_background": "light"
     },
     "output_type": "display_data"
    }
   ],
   "source": [
    "counts_20 = counts[:20]\n",
    "counts_pct_20 = counts_pct[:20]\n",
    "print(len(counts_20))\n",
    "\n",
    "squarify.plot(sizes=counts_pct_20, label=counts_20.index, alpha=.8 )\n",
    "plt.axis('off')\n",
    "plt.show()"
   ]
  },
  {
   "cell_type": "markdown",
   "metadata": {
    "colab_type": "text",
    "id": "bwFsTqrVZMYi"
   },
   "source": [
    "## 5) Use Scikit-Learn's tfidfVectorizer to get a TF-IDF feature matrix"
   ]
  },
  {
   "cell_type": "code",
   "execution_count": 889,
   "metadata": {
    "colab": {},
    "colab_type": "code",
    "id": "-gx2gZCbl5Np"
   },
   "outputs": [
    {
     "data": {
      "text/html": [
       "<div>\n",
       "<style scoped>\n",
       "    .dataframe tbody tr th:only-of-type {\n",
       "        vertical-align: middle;\n",
       "    }\n",
       "\n",
       "    .dataframe tbody tr th {\n",
       "        vertical-align: top;\n",
       "    }\n",
       "\n",
       "    .dataframe thead th {\n",
       "        text-align: right;\n",
       "    }\n",
       "</style>\n",
       "<table border=\"1\" class=\"dataframe\">\n",
       "  <thead>\n",
       "    <tr style=\"text-align: right;\">\n",
       "      <th></th>\n",
       "      <th>10</th>\n",
       "      <th>100x</th>\n",
       "      <th>10b</th>\n",
       "      <th>10ms</th>\n",
       "      <th>10x</th>\n",
       "      <th>112</th>\n",
       "      <th>12</th>\n",
       "      <th>14000</th>\n",
       "      <th>17b</th>\n",
       "      <th>180008jq</th>\n",
       "      <th>...</th>\n",
       "      <th>zenreach</th>\n",
       "      <th>zeus</th>\n",
       "      <th>zf</th>\n",
       "      <th>zheng</th>\n",
       "      <th>zillow</th>\n",
       "      <th>zogsport</th>\n",
       "      <th>zone</th>\n",
       "      <th>zoom</th>\n",
       "      <th>zuckerberg</th>\n",
       "      <th>zurich</th>\n",
       "    </tr>\n",
       "  </thead>\n",
       "  <tbody>\n",
       "    <tr>\n",
       "      <th>0</th>\n",
       "      <td>0.0</td>\n",
       "      <td>0.0</td>\n",
       "      <td>0.0</td>\n",
       "      <td>0.0</td>\n",
       "      <td>0.0</td>\n",
       "      <td>0.0</td>\n",
       "      <td>0.0</td>\n",
       "      <td>0.0</td>\n",
       "      <td>0.0</td>\n",
       "      <td>0.0</td>\n",
       "      <td>...</td>\n",
       "      <td>0.0</td>\n",
       "      <td>0.0</td>\n",
       "      <td>0.0</td>\n",
       "      <td>0.000000</td>\n",
       "      <td>0.0</td>\n",
       "      <td>0.0</td>\n",
       "      <td>0.0</td>\n",
       "      <td>0.0</td>\n",
       "      <td>0.0</td>\n",
       "      <td>0.0</td>\n",
       "    </tr>\n",
       "    <tr>\n",
       "      <th>1</th>\n",
       "      <td>0.0</td>\n",
       "      <td>0.0</td>\n",
       "      <td>0.0</td>\n",
       "      <td>0.0</td>\n",
       "      <td>0.0</td>\n",
       "      <td>0.0</td>\n",
       "      <td>0.0</td>\n",
       "      <td>0.0</td>\n",
       "      <td>0.0</td>\n",
       "      <td>0.0</td>\n",
       "      <td>...</td>\n",
       "      <td>0.0</td>\n",
       "      <td>0.0</td>\n",
       "      <td>0.0</td>\n",
       "      <td>0.000000</td>\n",
       "      <td>0.0</td>\n",
       "      <td>0.0</td>\n",
       "      <td>0.0</td>\n",
       "      <td>0.0</td>\n",
       "      <td>0.0</td>\n",
       "      <td>0.0</td>\n",
       "    </tr>\n",
       "    <tr>\n",
       "      <th>2</th>\n",
       "      <td>0.0</td>\n",
       "      <td>0.0</td>\n",
       "      <td>0.0</td>\n",
       "      <td>0.0</td>\n",
       "      <td>0.0</td>\n",
       "      <td>0.0</td>\n",
       "      <td>0.0</td>\n",
       "      <td>0.0</td>\n",
       "      <td>0.0</td>\n",
       "      <td>0.0</td>\n",
       "      <td>...</td>\n",
       "      <td>0.0</td>\n",
       "      <td>0.0</td>\n",
       "      <td>0.0</td>\n",
       "      <td>0.000000</td>\n",
       "      <td>0.0</td>\n",
       "      <td>0.0</td>\n",
       "      <td>0.0</td>\n",
       "      <td>0.0</td>\n",
       "      <td>0.0</td>\n",
       "      <td>0.0</td>\n",
       "    </tr>\n",
       "    <tr>\n",
       "      <th>3</th>\n",
       "      <td>0.0</td>\n",
       "      <td>0.0</td>\n",
       "      <td>0.0</td>\n",
       "      <td>0.0</td>\n",
       "      <td>0.0</td>\n",
       "      <td>0.0</td>\n",
       "      <td>0.0</td>\n",
       "      <td>0.0</td>\n",
       "      <td>0.0</td>\n",
       "      <td>0.0</td>\n",
       "      <td>...</td>\n",
       "      <td>0.0</td>\n",
       "      <td>0.0</td>\n",
       "      <td>0.0</td>\n",
       "      <td>0.112281</td>\n",
       "      <td>0.0</td>\n",
       "      <td>0.0</td>\n",
       "      <td>0.0</td>\n",
       "      <td>0.0</td>\n",
       "      <td>0.0</td>\n",
       "      <td>0.0</td>\n",
       "    </tr>\n",
       "    <tr>\n",
       "      <th>4</th>\n",
       "      <td>0.0</td>\n",
       "      <td>0.0</td>\n",
       "      <td>0.0</td>\n",
       "      <td>0.0</td>\n",
       "      <td>0.0</td>\n",
       "      <td>0.0</td>\n",
       "      <td>0.0</td>\n",
       "      <td>0.0</td>\n",
       "      <td>0.0</td>\n",
       "      <td>0.0</td>\n",
       "      <td>...</td>\n",
       "      <td>0.0</td>\n",
       "      <td>0.0</td>\n",
       "      <td>0.0</td>\n",
       "      <td>0.000000</td>\n",
       "      <td>0.0</td>\n",
       "      <td>0.0</td>\n",
       "      <td>0.0</td>\n",
       "      <td>0.0</td>\n",
       "      <td>0.0</td>\n",
       "      <td>0.0</td>\n",
       "    </tr>\n",
       "  </tbody>\n",
       "</table>\n",
       "<p>5 rows × 6212 columns</p>\n",
       "</div>"
      ],
      "text/plain": [
       "    10  100x  10b  10ms  10x  112   12  14000  17b  180008jq  ...  zenreach  \\\n",
       "0  0.0   0.0  0.0   0.0  0.0  0.0  0.0    0.0  0.0       0.0  ...       0.0   \n",
       "1  0.0   0.0  0.0   0.0  0.0  0.0  0.0    0.0  0.0       0.0  ...       0.0   \n",
       "2  0.0   0.0  0.0   0.0  0.0  0.0  0.0    0.0  0.0       0.0  ...       0.0   \n",
       "3  0.0   0.0  0.0   0.0  0.0  0.0  0.0    0.0  0.0       0.0  ...       0.0   \n",
       "4  0.0   0.0  0.0   0.0  0.0  0.0  0.0    0.0  0.0       0.0  ...       0.0   \n",
       "\n",
       "   zeus   zf     zheng  zillow  zogsport  zone  zoom  zuckerberg  zurich  \n",
       "0   0.0  0.0  0.000000     0.0       0.0   0.0   0.0         0.0     0.0  \n",
       "1   0.0  0.0  0.000000     0.0       0.0   0.0   0.0         0.0     0.0  \n",
       "2   0.0  0.0  0.000000     0.0       0.0   0.0   0.0         0.0     0.0  \n",
       "3   0.0  0.0  0.112281     0.0       0.0   0.0   0.0         0.0     0.0  \n",
       "4   0.0  0.0  0.000000     0.0       0.0   0.0   0.0         0.0     0.0  \n",
       "\n",
       "[5 rows x 6212 columns]"
      ]
     },
     "execution_count": 889,
     "metadata": {},
     "output_type": "execute_result"
    }
   ],
   "source": [
    "tfidf = TfidfVectorizer()\n",
    "\n",
    "dtm = tfidf.fit_transform(tokens_str)\n",
    "\n",
    "dtm = pd.DataFrame(dtm.todense(), columns=tfidf.get_feature_names())\n",
    "\n",
    "# View Feature Matrix as DataFrame\n",
    "dtm.head()"
   ]
  },
  {
   "cell_type": "markdown",
   "metadata": {},
   "source": [
    "## 6) Create a NearestNeighbor Model. Write the description of your ideal datascience job and query your job listings. "
   ]
  },
  {
   "cell_type": "code",
   "execution_count": 890,
   "metadata": {
    "collapsed": false,
    "inputHidden": false,
    "jupyter": {
     "outputs_hidden": false
    },
    "outputHidden": false
   },
   "outputs": [
    {
     "data": {
      "text/plain": [
       "NearestNeighbors(algorithm='kd_tree', leaf_size=30, metric='minkowski',\n",
       "         metric_params=None, n_jobs=None, n_neighbors=5, p=2, radius=1.0)"
      ]
     },
     "execution_count": 890,
     "metadata": {},
     "output_type": "execute_result"
    }
   ],
   "source": [
    "nn = NearestNeighbors(n_neighbors=5, algorithm='kd_tree')\n",
    "nn.fit(dtm)"
   ]
  },
  {
   "cell_type": "code",
   "execution_count": 891,
   "metadata": {},
   "outputs": [],
   "source": [
    "ideal = [\"Self driving cars\"]\n",
    "ideal_trans = tfidf.transform(ideal)"
   ]
  },
  {
   "cell_type": "code",
   "execution_count": 898,
   "metadata": {},
   "outputs": [
    {
     "data": {
      "text/plain": [
       "(array([[1.21060207, 1.35332179, 1.3684849 , 1.38315031, 1.38425018]]),\n",
       " array([[270,  18,  83, 305,  69]]))"
      ]
     },
     "execution_count": 898,
     "metadata": {},
     "output_type": "execute_result"
    }
   ],
   "source": [
    "neighbors = nn.kneighbors(ideal_trans.todense())\n",
    "neighbors"
   ]
  },
  {
   "cell_type": "code",
   "execution_count": 899,
   "metadata": {},
   "outputs": [
    {
     "data": {
      "text/plain": [
       "array(['nauto is an ai technology company that\\'s improving the safety of commercial fleets today and the autonomous fleets of tomorrow. nauto\\'s intelligent driver safety system assesses how drivers interact with the vehicle and the road ahead to reduce distracted driving and prevent collisions. with this knowledge, nauto is powering the development of self-driving technology that brings the best of human driving to autonomy. are you ready to help with this mission? we\\'re aiming for greater safety and knowledge: our approach to re-thinking road safety is two-fold: deepen our understanding of real-world drivers to learn how they interact with the vehicle and road, with the goal of reducing distracted driving and preventing collisions before they occur. second, apply these insights to the development of safe, effective autonomous vehicles that fit into existing traffic patterns and human driving behavior. we\\'re taking a driver-centric approach: we surface the safety insights that matter most, while protecting the privacy of drivers. by using artificial intelligence on the device, we\\'re able to detect distractions and immediately warn drivers in real-time. only a fraction of driving time-such as distractions or other high-risk events-is uploaded to the cloud, where it\\'s automatically visible to fleet managers via a secure web application so they can then better coach drivers. investors in nauto\\'s $159m series b-round included softbank, greylock, playground global, draper nexus as well as leading strategics including bmw, gm, toyota, and allianz insurance. responsibilities ---------------- build risk models based on real-life data from large vehicle fleets and insurance companies work with large datasets to discover insights helpful in developing new approaches and algorithms to advance the state of the art in autonomous systems and transportation safety experiences and skills ---------------------- passionate about autonomous driving systems hands on data scientist with practical experience building predictive models using diverse data sources at scale collaborative mindset when working with engineering teams to implement data models and data gathering infrastructure in production independent thinker capable of uncovering insights in data to inform our roadmap practical experience with machine learning methods, common cloud based data analysis tools and frameworks (hadoop, spark, sql, r, etc) strong mathematical, statistical background programming in python m.sc or phd in computer science, math, physics or similarly quantitative-heavy background perks ----- ground floor opportunity with the team; shape the strategic direction of the company beautiful modern work space. many perks including cafe with meals, snacks and drinks provided exceptional health benefits coverage. opportunities to get to know your team better through frequent employee events and gatherings sharp, motivated co-workers in a fun office environment learning and development opportunities from a highly diverse and talented peer group, including experts in a wide range of fields, from artificial intelligence &amp; computer vision to systems &amp; device engineering to support &amp; operations nauto is committed to being a diverse and inclusive environment that fosters learning from each other. we celebrate people of diverse backgrounds, experiences, abilities and perspectives. we are an equal opportunity employer with a work environment free of discrimination and harassment. come revolutionize transportation safety and do your best work here at nauto!\"',\n",
       "       \"$45000 a year working under direction of the associate director for decision support analytics, this position will utilize statistical software, visualization tools, and a variety of data sources (databases, files, erp's, etc.) to deliver solutions for members of the campus community. this position will collaborate with a variety of campus stakeholders to develop metrics, analyses, and visualizations to answer decision-making needs. the university of nebraska-lincoln seeks to attract and retain a high performing and diverse workforce in which employees' differences are respected and valued to better meet the varying needs of the diverse populations we serve. the university fosters a diverse and inclusive work environment that promotes collaboration so that all individuals are able to participate and contribute to their full potential. as an eo/aa employer, qualified applicants are considered for employment without regard to race, color, ethnicity, national origin, sex, pregnancy, sexual orientation, gender identity, religion, disability, age, genetic information, veteran status, marital status, and/or political affiliation. see: required qualifications bachelor's degree in computer science, business, mathematics, statistics, social science, or related field plus minimum of one year of significant experience creating data visualizations (tableau, microsoft power bi, r, python, matlab, d3, or similar) required; equivalent education/experience considered. must have minimum of one year of experience and/or training in statistical methods or machine learning. excellent written and verbal communications skills, including experience making presentations in a business or professional setting necessary. one year of significant experience scripting using r, python, sas, spss, or other language essential. must have exceptional attention to detail, excellent problem solving and listening skills. demonstrated ability to work cooperatively in the accomplishment of a goal essential. ability to work independently while demonstrating initiative required. flexibility necessary for development of new systems and enhancement to existing systems necessary. willingness and ability to work in a change-oriented environment essential. preferred qualifications master's degree in business, mathematics, statistics or related quantitative field preferred. filter/query building experience in sql or similar desirable. prefer experience training end-users on software platforms. knowledge of data modeling and data warehousing concepts helpful. prefer report building experience. project management experience desirable. knowledge of basic statistics and data science helpful. pre-placement driving record review required no physical required no commercial driver's license (cdl) required. subject to dot approved pre-employment &amp; random testing for alcohol and controlled substances. no criminal history background check required yes posted salary $45000 minimum\",\n",
       "       'about uber we\\'re changing the way people think about transportation. not that long ago we were just an app to request premium black cars in a few metropolitan areas. now we\\'re a part of the logistical fabric of more than 600 cities around the world. whether it\\'s a ride, a sandwich, or a package, we use technology to give people what they want, when they want it. for the people who drive with uber, our app represents a flexible new way to earn money. for cities, we help strengthen local economies, improve access to transportation, and make streets safer. and that\\'s just what we\\'re doing today. we\\'re thinking about the future, too. with teams working on autonomous trucking and self-driving cars, we\\'re in for the long haul. we\\'re reimagining how people and things move from one place to the next. about the role we are looking for data scientists with strong backgrounds in statistics, machine learning, computer science, etc to join the core product team at uber. in this role, you will embed in an area such as rider or driver and be responsible for deriving insights and building models used to optimize our users\\' experiences. what you\\'ll do leverage data to perform intensive analysis across all areas of our business to catalyze product development design experiments and interpret the results to draw detailed and actionable conclusions build cutting-edge machine learning models to make our product intelligent (nlp, ocr, neural network, etc) perform time-series analyses, hypothesis testing, and causal analyses to statistically assess relative impact and extract trends create models to enhance understanding of user behavior and predict future performance of cohorts collaborate with cross-functional teams across disciplines such as product, engineering, operations, and marketing what you\\'ll need masters or phd (with anticipated graduation in 2019) in statistics, computer science, economics, math or another technical field experience with common analysis tools - sql, r, and python. demonstrable familiarity with code and programming concepts a product mindset - you ask and address the most important analytical questions with a view on enhancing product impact self-driven with the ability to work in a self-guided manner superb communication and organizational skills \"',\n",
       "       \"los gatos, california science and analytics netflix is a global leader in entertainment with over 130 million members in 190 countries. while we are making great strides in becoming the biggest and most data-driven studio the world has ever seen, we are also continuously innovating our ways to promote better customer experience. customer service (cs) is one of the few verticals in which we directly collect customer feedbacks across the globe (via phone, chat and social media). using data from a global network of call centers, extensive self-help articles we solve customer problems and aim to improve our product experience before problems arise. we are looking for a highly motivated senior data scientist that will help bring our customer experience to the next level. you will be leveraging nlp to uncover deeper consumer insights from phone contacts, live chat, and social media interactions to inform product initiatives in improving the customer experience. building machine learning models to optimize our customer support process and personalize our customer's self-help experience. working with a diverse set of stakeholders across operation and product, serving as a strategic partner to define high impact analytical problems and find innovative ways to solve these problems via data, machine learning solutions and experimentation. partnering with other research scientists on solving a broader set of nlp challenges across netflix. qualifications: ph.d. in computer science, statistics, physics, or related quantitative field solid experience with natural language processing (nlp). strong fundamental knowledge of regression, decision trees, pattern recognition, probability theory, neural networks. expert in python, or another scripting language (r, perl); command line usage extensive experience with sql experience working directly with cross-functional teams such as executive leadership, operations, product management, and technology. excellent communication skills: written, verbal and presentation skills experience in causal inference is a strong plus fluency in a foreign language a strong plus\",\n",
       "       '$62844 - $100908 a year summary about us: the oregon state lottery is modernizing its technology, processes and gaming offers to better meet the needs of a digital world. we\\'re looking for experienced and motivated talent who want to turn data into insights to create better decision-making across the enterprise. about the role: the oregon lottery\\'s research &amp; analytics (r&amp;a) team serves as a center of excellence for promoting data-driven decision making throughout the organization. as business consultants and partners to the enterprise, we integrate business intelligence, advanced analytics, market research and market intelligence into program discovery, development, implementation, and ongoing performance management. we partner closely with it to lead the agency\\'s enterprise information management program to ensure data governance, sound information architecture, data quality, and distributed access to business intelligence. this is a highly collaborative environment and we aim to achieve relevant insights. data scientists collaborate with business partners to identify data requirements, develop dashboards to support real-time business tracking and translate data into insights. the lottery is looking for a data scientist who will partner and consulting with lottery\\'s digital marketing, product, and retail sales teams to access, analyze, and use data as part of the lottery\\'s mobile and web analytics program. you are an accomplished data analyst and communicator who enjoys taking the initiative to explore data and share insights. responsibilities you will: identify opportunities to enhance the depth and value of the lottery\\'s mobile app, website, and social media data identify and integrate data from multiple sources to better understand customer segments and preferences partner with the marketing team and other functions to establish an analytic program that analyzes digital experiences to create relevant insights produce performance and measurement dashboards to monitor performance, act on opportunities, and address pain points ensure consistency of data across all dashboards, metrics, and analysis qualifications you have: knowledge, skills, experience business analytics and consulting work with databases, data warehouses, and large datasets access data and create reports based on a sql database compile, clean, transform, and tabulate data strong attention to detail and accuracy excellent communicator excellent interpersonal skills - able to gain the trust and respect of marketing and product partners by understanding their strategies and helping them connect insights to actions prioritize assignments within specified timelines continuous improvement orientation minimum qualifications bachelor\\'s degree five (5) years of hands-on proficiency writing complex sql queries to access data from sql databases proficiency using web analytics tools such as google analytics, facebook insights, adobe analytics, etc. desired experience degree in a closely related field with data analysis orientation use a business analytics platform, such as power bi or tableau, to visualize and share insights (training is provided). understand digital marketing best practices and social media marketing. highly proficient in windows, excel, word, and powerpoint. proficient in statistical tools such as r, python, or spss a plus. work for a digital gaming platform or content provider, such as mobile, video, sports, or online casino, a plus. experience with geospatial analytics software a plus. our benefits: as an employee, you will enjoy: vacation leave: 10 hours per month, with increased accruals every 5 years sick leave: 8 hours per month personal business leave: 24 hours per year 11 holidays per year telework and flexible schedules for eligible positions comprehensive medical, dental, vision, and prescription benefits with low monthly premiums life insurance, short-term and long-term disability, accidental death, long-term care, and pre-tax flexible spending accounts public employees retirement system (pers) - retirement program includes defined benefit (pension) and defined contribution (retirement savings) oregon savings growth plan 457(b) deferred compensation plan that provides additional savings for retirement; post tax, pre-tax options available apply now!! visit results of this recruitment may be used to fill future vacancies. the oregon lottery reserves the right to change, withdraw, close, or re-post job announcements as business needs dictate. ors 461.150 (5) states, \"no person will be employed by the state lottery who has been convicted of a felony or any gambling related offense.\" a background investigation is required before job offer which includes fingerprinting, criminal history, credit history (based on the position), tax records, driving record, affiliation with the gaming industry, and checking employment references and character references. all employees and members of their immediate family, regardless of where they live, are prohibited-by-law from playing oregon lottery games. according to the american with disabilities act, persons with disabilities who believe they need reasonable accommodation, or help to apply for this position, may call 503-540-1315 or email oregon.lotterycareers@state.or.us the oregon lottery is an equal opportunity/affirmative action employer committed to workplace diversity.'],\n",
       "      dtype=object)"
      ]
     },
     "execution_count": 899,
     "metadata": {},
     "output_type": "execute_result"
    }
   ],
   "source": [
    "jobs.iloc[neighbors[1][0]]['description'].values"
   ]
  },
  {
   "cell_type": "markdown",
   "metadata": {
    "colab_type": "text",
    "id": "FiDfTWceoRkH"
   },
   "source": [
    "## Stretch Goals\n",
    "\n",
    " - Try different visualizations for words and frequencies - what story do you want to tell with the data?\n",
    " - Scrape Job Listings for the job title \"Data Analyst\". How do these differ from Data Scientist Job Listings\n",
    " - Try and identify requirements for experience specific technologies that are asked for in the job listings. How are those distributed among the job listings?\n",
    " - Use a clustering algorithm to cluster documents by their most important terms. Do the clusters reveal any common themes?\n",
    "  - **Hint:** K-means might not be the best algorithm for this. Do a little bit of research to see what might be good for this. Also, remember that algorithms that depend on Euclidean distance break down with high dimensional data.\n",
    " - Create a labeled dataset - which jobs will you apply for? Train a model to select the jobs you are most likely to apply for. :) "
   ]
  }
 ],
 "metadata": {
  "colab": {
   "collapsed_sections": [],
   "name": "LS_DS_422_BOW_Assignment.ipynb",
   "provenance": [],
   "version": "0.3.2"
  },
  "kernel_info": {
   "name": "python3"
  },
  "kernelspec": {
   "display_name": "lambda",
   "language": "python",
   "name": "lambda"
  },
  "language_info": {
   "codemirror_mode": {
    "name": "ipython",
    "version": 3
   },
   "file_extension": ".py",
   "mimetype": "text/x-python",
   "name": "python",
   "nbconvert_exporter": "python",
   "pygments_lexer": "ipython3",
   "version": "3.7.5"
  },
  "nteract": {
   "version": "0.14.3"
  }
 },
 "nbformat": 4,
 "nbformat_minor": 4
}
