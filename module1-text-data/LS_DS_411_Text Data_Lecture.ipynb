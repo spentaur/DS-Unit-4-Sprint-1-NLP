{
 "cells": [
  {
   "cell_type": "markdown",
   "metadata": {
    "toc-hr-collapsed": false
   },
   "source": [
    "Lambda School Data Science\n",
    "\n",
    "*Unit 4, Sprint 1, Module 1*\n",
    "\n",
    "---\n",
    "<h1 id=\"moduleTitle\"> Natural Language Processing Introduction (Prepare)</h1>\n",
    "\n",
    "\"Natural\" meaning - not computer languages but spoken/written human languages. The hard thing about NLP is that human languages are far less structured or consistent than computer languages. This is perhaps the largest source of difficulty when trying to get computers to \"understand\" human languages. How do you get a machine to understand sarcasm, and irony, and synonyms, connotation, denotation, nuance, and tone of voice --all without it having lived a lifetime of experience for context? If you think about it, our human brains have been exposed to quite a lot of training data to help us interpret languages, and even then we misunderstand each other pretty frequently. \n",
    "    \n",
    "\n",
    "<h2 id='moduleObjectives'>Learning Objectives</h2>\n",
    "\n",
    "By the end of end of this module, a student should be able to:\n",
    "* <a href=\"#p1\">Objective 1</a>: Tokenze text\n",
    "* <a href=\"#p1\">Objective 2</a>: Remove stop words from text\n",
    "* <a href=\"#p3\">Objective 3</a>: Perform stemming and lemmatization on tokens\n",
    "\n",
    "## Conda Environments\n",
    "\n",
    "You will be completing each module this sprint on your machine. We will be using conda environments to manage the packages and their dependencies for this sprint's content. In a classroom setting, instructors typically abstract away environment for you. However, environment management is an important professional data science skill. We showed you how to manage environments using pipvirtual env during Unit 3, but in this sprint, we will introduce an environment management tool common in the data science community: \n",
    "\n",
    "> __conda__: Package, dependency and environment management for any language—Python, R, Ruby, Lua, Scala, Java, JavaScript, C/ C++, FORTRAN, and more.\n",
    "\n",
    "The easiest way to install conda on your machine is via the [Anaconda Distribution](https://www.anaconda.com/distribution/) of Python & R. Once you have conda installed, read [\"A Guide to Conda Environments\"](https://towardsdatascience.com/a-guide-to-conda-environments-bc6180fc533). This article will provide an introduce into some of the conda basics. If you need some additional help getting started, the official [\"Setting started with conda\"](https://conda.io/projects/conda/en/latest/user-guide/getting-started.html) guide will point you in the right direction. \n",
    "\n",
    ":snake: \n",
    "\n",
    "To get the sprint environment setup: \n",
    "\n",
    "1. Open your command line tool (Terminal for MacOS, Anaconda Prompt for Windows)\n",
    "2. Navigate to the folder with this sprint's content. There should be a `requirements.txt`\n",
    "3. Run `conda create -n U4-S1-NLP python==3.7` => You can also rename the environment if you would like. Once the command completes, your conda environment should be ready.\n",
    "4. Now, we are going to add in the require python packages for this sprint. You will need to 'activate' the conda environment: `source activate U4-S1-NLP` on Terminal or `conda activate U4-S1-NLP` on Anaconda Prompt. Once your environment is activate, run `pip install -r requirements.txt` which will install the required packages into your environment.\n",
    "5. We are going to also add an Ipython Kernel reference to your conda environment, so we can use it from JupyterLab. \n",
    "6. Next run `python -m ipykernel install --user --name U4-S1-NLP --display-name \"U4-S1-NLP (Python3)\"` => This will add a json object to an ipython file, so JupterLab will know that it can use this isolated instance of Python. :) \n",
    "7. Last step, we need to install the models for Spacy. Run these commands `python -m spacy download en_core_web_md` and `python -m spacy download en_core_web_lg`\n",
    "8. Deactivate your conda environment and launch JupyterLab. You should know see \"U4-S1-NLP (Python3)\" in the list of available kernels on launch screen. \n"
   ]
  },
  {
   "cell_type": "markdown",
   "metadata": {
    "toc-hr-collapsed": false
   },
   "source": [
    "# Tokenze Text (Learn)\n",
    "<a id=\"p1\"></a>"
   ]
  },
  {
   "cell_type": "markdown",
   "metadata": {
    "toc-hr-collapsed": true
   },
   "source": [
    "## Overview\n",
    "\n",
    "> **token**: an instance of a sequence of characters in some particular document that are grouped together as a useful semantic unit for processing\n",
    "\n",
    "> [_*Introduction to Information Retrival*_](https://nlp.stanford.edu/IR-book/)\n",
    "\n",
    "\n",
    "### The attributes of good tokens\n",
    "\n",
    "* Should be stored in an iterable datastructure\n",
    "  - Allows analysis of the \"semantic unit\"\n",
    "* Should be all the same case\n",
    "  - Reduces the complexity of our data\n",
    "* Should be free of non-alphanumeric characters (ie punctuation, whitespace)\n",
    "  - Removes information that is probably not relevant to the analysis"
   ]
  },
  {
   "cell_type": "markdown",
   "metadata": {},
   "source": [
    "Let's pretend we are trying analyze the random sequence here. Question: what is the most common character in this sequence?"
   ]
  },
  {
   "cell_type": "code",
   "execution_count": 1,
   "metadata": {},
   "outputs": [],
   "source": [
    "random_seq = \"AABAAFBBBBCGCDDEEEFCFFDFFAFFZFGGGGHEAFJAAZBBFCZ\""
   ]
  },
  {
   "cell_type": "markdown",
   "metadata": {},
   "source": [
    "A useful unit of analysis for us is going to be a letter or character"
   ]
  },
  {
   "cell_type": "code",
<<<<<<< HEAD
   "execution_count": 2,
=======
   "execution_count": 58,
>>>>>>> e62c1cf418925f78597f10b590b0cca3ee6d4c7e
   "metadata": {},
   "outputs": [
    {
     "name": "stdout",
     "output_type": "stream",
     "text": [
      "['A', 'A', 'B', 'A', 'A', 'F', 'B', 'B', 'B', 'B', 'C', 'G', 'C', 'D', 'D', 'E', 'E', 'E', 'F', 'C', 'F', 'F', 'D', 'F', 'F', 'A', 'F', 'F', 'Z', 'F', 'G', 'G', 'G', 'G', 'H', 'E', 'A', 'F', 'J', 'A', 'A', 'Z', 'B', 'B', 'F', 'C', 'Z']\n"
     ]
    }
   ],
   "source": [
    "tokens = list(random_seq)\n",
    "print(tokens)"
   ]
  },
  {
   "cell_type": "markdown",
   "metadata": {},
   "source": [
    "Our tokens are already \"good\": in an iterable datastructure, all the same case, and free of noise characters (punctionation, whitespace), so we can jump straight into analysis."
   ]
  },
  {
   "cell_type": "code",
<<<<<<< HEAD
   "execution_count": 3,
=======
   "execution_count": 59,
>>>>>>> e62c1cf418925f78597f10b590b0cca3ee6d4c7e
   "metadata": {},
   "outputs": [
    {
     "data": {
<<<<<<< HEAD
      "image/png": "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\n",
=======
      "image/png": "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\n",
>>>>>>> e62c1cf418925f78597f10b590b0cca3ee6d4c7e
      "text/plain": [
       "<Figure size 432x288 with 1 Axes>"
      ]
     },
     "metadata": {
      "needs_background": "light"
     },
     "output_type": "display_data"
    }
   ],
   "source": [
    "import seaborn as sns\n",
    "\n",
    "sns.countplot(tokens);"
   ]
  },
  {
   "cell_type": "markdown",
   "metadata": {},
   "source": [
    "The most common character in our sequence is  \"F\". We can't just glance at the the sequence to know which character is the most common. We (humans) struggle to subitize complex data (like random text sequences).\n",
    "\n",
    "> __Subitize__ is the ability to tell the number of objects in a set, quickly, without counting.  \n",
    "\n",
    "We need to chunk the data into countable pieces \"tokens\" for us to analyze them. This inability subitize text data is the motivation for our discussion today."
   ]
  },
  {
   "cell_type": "markdown",
   "metadata": {
    "toc-hr-collapsed": true
   },
   "source": [
    "### Tokenizing with Pure Python"
   ]
  },
  {
   "cell_type": "code",
<<<<<<< HEAD
   "execution_count": 4,
=======
   "execution_count": 60,
>>>>>>> e62c1cf418925f78597f10b590b0cca3ee6d4c7e
   "metadata": {},
   "outputs": [],
   "source": [
    "sample = \"Friends, Romans, countrymen, lend me your ears;\""
   ]
  },
  {
   "cell_type": "markdown",
   "metadata": {},
   "source": [
    "##### Iterable Tokens\n",
    "\n",
    "A string object in Python is already iterable. However, the item you iterate over is a character not a token:\n",
    "\n",
    "```\n",
    "from time import sleep\n",
    "for num, character in enumerate(sample):\n",
    "    sleep(.5)\n",
    "    print(f\"Char {num} - {character}\", end=\"\\r\")\n",
    "```\n",
    "\n",
    "If we instead care about the words in our sample (our semantic unit), we can use the string method `.split()` to seperate the whitespace and create iterable units. :)"
   ]
  },
  {
   "cell_type": "code",
<<<<<<< HEAD
   "execution_count": 5,
=======
   "execution_count": 65,
>>>>>>> e62c1cf418925f78597f10b590b0cca3ee6d4c7e
   "metadata": {},
   "outputs": [
    {
     "data": {
      "text/plain": [
       "['Friends,', 'Romans,', 'countrymen,', 'lend', 'me', 'your', 'ears;']"
      ]
     },
<<<<<<< HEAD
     "execution_count": 5,
=======
     "execution_count": 65,
>>>>>>> e62c1cf418925f78597f10b590b0cca3ee6d4c7e
     "metadata": {},
     "output_type": "execute_result"
    }
   ],
   "source": [
    "sample.split(\" \")"
   ]
  },
  {
   "cell_type": "markdown",
   "metadata": {},
   "source": [
    "##### Case Normalization\n",
    "A common data cleaning data cleaning task with token is to standardize or normalize the case. Normalizing case reduces the chance that you have duplicate records for things which have practically the same semantic meaning. You can use either the `.lower()` or `.upper()` string methods to normalize case.\n",
    "\n",
    "Consider the following example: "
   ]
  },
  {
   "cell_type": "code",
<<<<<<< HEAD
   "execution_count": 6,
=======
   "execution_count": 66,
>>>>>>> e62c1cf418925f78597f10b590b0cca3ee6d4c7e
   "metadata": {},
   "outputs": [],
   "source": [
    "import pandas as pd\n",
    "df = pd.read_csv('./data/Datafiniti_Amazon_Consumer_Reviews_of_Amazon_Products_May19.csv')"
   ]
  },
  {
   "cell_type": "code",
<<<<<<< HEAD
   "execution_count": 7,
   "metadata": {},
   "outputs": [
    {
     "name": "stdout",
     "output_type": "stream",
     "text": [
      "LS_DS_411_Text Data_Lecture.ipynb    \u001b[1m\u001b[36mimages\u001b[m\u001b[m\r\n",
      "LS_DS_411_Text_Data_Assignment.ipynb \u001b[1m\u001b[36mprevious_lectures\u001b[m\u001b[m\r\n",
      "\u001b[1m\u001b[36mdata\u001b[m\u001b[m\r\n"
     ]
    }
   ],
   "source": [
    "!ls"
   ]
  },
  {
   "cell_type": "code",
   "execution_count": 8,
=======
   "execution_count": 67,
>>>>>>> e62c1cf418925f78597f10b590b0cca3ee6d4c7e
   "metadata": {},
   "outputs": [
    {
     "data": {
      "text/plain": [
       "Amazon          16153\n",
       "Amazonbasics    12169\n",
       "AmazonBasics       10\n",
       "Name: brand, dtype: int64"
      ]
     },
<<<<<<< HEAD
     "execution_count": 8,
=======
     "execution_count": 67,
>>>>>>> e62c1cf418925f78597f10b590b0cca3ee6d4c7e
     "metadata": {},
     "output_type": "execute_result"
    }
   ],
   "source": [
    "# Notice anything odd here? \n",
    "df['brand'].value_counts()"
   ]
  },
  {
   "cell_type": "code",
<<<<<<< HEAD
   "execution_count": 9,
=======
   "execution_count": 68,
>>>>>>> e62c1cf418925f78597f10b590b0cca3ee6d4c7e
   "metadata": {},
   "outputs": [
    {
     "data": {
      "text/plain": [
       "amazon          16153\n",
       "amazonbasics    12179\n",
       "Name: brand, dtype: int64"
      ]
     },
<<<<<<< HEAD
     "execution_count": 9,
=======
     "execution_count": 68,
>>>>>>> e62c1cf418925f78597f10b590b0cca3ee6d4c7e
     "metadata": {},
     "output_type": "execute_result"
    }
   ],
   "source": [
    "# Much cleaner\n",
    "df['brand'] = df['brand'].apply(lambda x: x.lower())\n",
    "df['brand'].value_counts()"
   ]
  },
  {
   "cell_type": "markdown",
   "metadata": {},
   "source": [
    "##### Keep Only Alphanumeric Characters\n",
    "Yes, we only want letters and numbers. Everything else is probably noise: punctionation, whitespace, and other notation. This one is little bit more complicatd than our previous example. Here we will have to import the base package `re` (regular expressions). \n",
    "\n",
    "The only regex expression pattern you need for this is `'[^a-zA-Z ^0-9]'` which keeps lower case letters, upper case letters, spaces, and numbers."
   ]
  },
  {
   "cell_type": "code",
<<<<<<< HEAD
   "execution_count": 10,
=======
   "execution_count": 69,
>>>>>>> e62c1cf418925f78597f10b590b0cca3ee6d4c7e
   "metadata": {},
   "outputs": [
    {
     "name": "stdout",
     "output_type": "stream",
     "text": [
      "Friends, Romans, countrymen, lend me your ears; 911\n"
     ]
    }
   ],
   "source": [
    "sample = sample+\" 911\"\n",
    "print(sample)"
   ]
  },
  {
   "cell_type": "code",
<<<<<<< HEAD
   "execution_count": 11,
=======
   "execution_count": 70,
>>>>>>> e62c1cf418925f78597f10b590b0cca3ee6d4c7e
   "metadata": {},
   "outputs": [
    {
     "data": {
      "text/plain": [
       "'Friends Romans countrymen lend me your ears 911'"
      ]
     },
<<<<<<< HEAD
     "execution_count": 11,
=======
     "execution_count": 70,
>>>>>>> e62c1cf418925f78597f10b590b0cca3ee6d4c7e
     "metadata": {},
     "output_type": "execute_result"
    }
   ],
   "source": [
    "import re\n",
    "\n",
    "re.sub(r'[^a-zA-Z ^0-9]', '', sample)"
   ]
  },
  {
   "cell_type": "markdown",
   "metadata": {},
   "source": [
    "#### Two Minute Challenge \n",
    "- Complete the function `tokenize` below\n",
    "- Combine the methods which we discussed above to clean text before we analyze it\n",
    "- You can put the methods in any order you want"
   ]
  },
  {
   "cell_type": "code",
<<<<<<< HEAD
   "execution_count": 12,
=======
   "execution_count": 71,
>>>>>>> e62c1cf418925f78597f10b590b0cca3ee6d4c7e
   "metadata": {},
   "outputs": [],
   "source": [
    "def tokenize(text):\n",
    "    \"\"\"Parses a string into a list of semantic units (words)\n",
    "\n",
    "    Args:\n",
    "        text (str): The string that the function will tokenize.\n",
    "\n",
    "    Returns:\n",
    "        list: tokens parsed out by the mechanics of your choice\n",
    "    \"\"\"\n",
    "    \n",
    "    tokens = re.sub(r'[^a-zA-Z ^0-9]', '', text)\n",
    "    tokens = tokens.lower().split()\n",
    "    \n",
    "    return tokens"
   ]
  },
  {
   "cell_type": "code",
<<<<<<< HEAD
   "execution_count": 13,
=======
   "execution_count": 72,
>>>>>>> e62c1cf418925f78597f10b590b0cca3ee6d4c7e
   "metadata": {},
   "outputs": [
    {
     "data": {
      "text/plain": [
       "['friends', 'romans', 'countrymen', 'lend', 'me', 'your', 'ears', '911']"
      ]
     },
<<<<<<< HEAD
     "execution_count": 13,
=======
     "execution_count": 72,
>>>>>>> e62c1cf418925f78597f10b590b0cca3ee6d4c7e
     "metadata": {},
     "output_type": "execute_result"
    }
   ],
   "source": [
    "tokenize(sample)"
   ]
  },
  {
   "cell_type": "markdown",
   "metadata": {
    "toc-hr-collapsed": true
   },
   "source": [
    "## Follow Along\n",
    "\n",
    "Our inability to analyze text data becomes quickly amphilfied in business context. Consider the following: \n",
    "\n",
    "A business which sells widgets also collects customer reviews of those widgets. When the business first started out, they had a human read the reviews to look for patterns. Now, the business sells thousands of widgets a month. The human readers can't keep up with the pace of reviews to synthesize an accurate analysis. They need some science to help them analyze their data.\n",
    "\n",
    "Now, let's pretend that business is Amazon, and the widgets are Amazon products such as the Alexa, Echo, or other AmazonBasics products. Let's analyze their reviews with some counts. This dataset is available on [Kaggle](https://www.kaggle.com/datafiniti/consumer-reviews-of-amazon-products/)."
   ]
  },
  {
   "cell_type": "code",
<<<<<<< HEAD
   "execution_count": 14,
=======
   "execution_count": 73,
>>>>>>> e62c1cf418925f78597f10b590b0cca3ee6d4c7e
   "metadata": {},
   "outputs": [],
   "source": [
    "\"\"\"\n",
    "Import Statements\n",
    "\"\"\"\n",
    "\n",
    "# Base\n",
    "from collections import Counter\n",
    "import re\n",
    " \n",
    "import pandas as pd\n",
    "\n",
    "# Plotting\n",
    "import squarify\n",
    "import matplotlib.pyplot as plt\n",
    "import seaborn as sns\n",
    "\n",
    "# NLP Libraries\n",
    "import spacy\n",
    "from spacy.tokenizer import Tokenizer\n",
    "from nltk.stem import PorterStemmer\n",
    "\n",
    "nlp = spacy.load(\"en_core_web_lg\")"
   ]
  },
  {
   "cell_type": "code",
<<<<<<< HEAD
   "execution_count": 53,
=======
   "execution_count": 75,
>>>>>>> e62c1cf418925f78597f10b590b0cca3ee6d4c7e
   "metadata": {},
   "outputs": [
    {
     "data": {
      "text/html": [
       "<div>\n",
       "<style scoped>\n",
       "    .dataframe tbody tr th:only-of-type {\n",
       "        vertical-align: middle;\n",
       "    }\n",
       "\n",
       "    .dataframe tbody tr th {\n",
       "        vertical-align: top;\n",
       "    }\n",
       "\n",
       "    .dataframe thead th {\n",
       "        text-align: right;\n",
       "    }\n",
       "</style>\n",
       "<table border=\"1\" class=\"dataframe\">\n",
       "  <thead>\n",
       "    <tr style=\"text-align: right;\">\n",
       "      <th></th>\n",
       "      <th>id</th>\n",
       "      <th>dateAdded</th>\n",
       "      <th>dateUpdated</th>\n",
       "      <th>name</th>\n",
       "      <th>asins</th>\n",
       "      <th>brand</th>\n",
       "      <th>categories</th>\n",
       "      <th>primaryCategories</th>\n",
       "      <th>imageURLs</th>\n",
       "      <th>keys</th>\n",
       "      <th>...</th>\n",
<<<<<<< HEAD
=======
       "      <th>reviews.didPurchase</th>\n",
>>>>>>> e62c1cf418925f78597f10b590b0cca3ee6d4c7e
       "      <th>reviews.doRecommend</th>\n",
       "      <th>reviews.id</th>\n",
       "      <th>reviews.numHelpful</th>\n",
       "      <th>reviews.rating</th>\n",
       "      <th>reviews.sourceURLs</th>\n",
       "      <th>reviews.text</th>\n",
       "      <th>reviews.title</th>\n",
       "      <th>reviews.username</th>\n",
       "      <th>sourceURLs</th>\n",
<<<<<<< HEAD
       "      <th>tokens</th>\n",
=======
>>>>>>> e62c1cf418925f78597f10b590b0cca3ee6d4c7e
       "    </tr>\n",
       "  </thead>\n",
       "  <tbody>\n",
       "    <tr>\n",
       "      <th>0</th>\n",
       "      <td>AVpgNzjwLJeJML43Kpxn</td>\n",
       "      <td>2015-10-30T08:59:32Z</td>\n",
       "      <td>2019-04-25T09:08:16Z</td>\n",
       "      <td>AmazonBasics AAA Performance Alkaline Batterie...</td>\n",
       "      <td>B00QWO9P0O,B00LH3DMUO</td>\n",
       "      <td>amazonbasics</td>\n",
       "      <td>AA,AAA,Health,Electronics,Health &amp; Household,C...</td>\n",
       "      <td>Health &amp; Beauty</td>\n",
       "      <td>https://images-na.ssl-images-amazon.com/images...</td>\n",
       "      <td>amazonbasics/hl002619,amazonbasicsaaaperforman...</td>\n",
       "      <td>...</td>\n",
       "      <td>NaN</td>\n",
       "      <td>NaN</td>\n",
       "      <td>NaN</td>\n",
<<<<<<< HEAD
=======
       "      <td>NaN</td>\n",
>>>>>>> e62c1cf418925f78597f10b590b0cca3ee6d4c7e
       "      <td>3</td>\n",
       "      <td>https://www.amazon.com/product-reviews/B00QWO9...</td>\n",
       "      <td>I order 3 of them and one of the item is bad q...</td>\n",
       "      <td>... 3 of them and one of the item is bad quali...</td>\n",
       "      <td>Byger yang</td>\n",
       "      <td>https://www.barcodable.com/upc/841710106442,ht...</td>\n",
<<<<<<< HEAD
       "      <td>[order, 3, item, bad, quality., missing, backu...</td>\n",
=======
>>>>>>> e62c1cf418925f78597f10b590b0cca3ee6d4c7e
       "    </tr>\n",
       "    <tr>\n",
       "      <th>1</th>\n",
       "      <td>AVpgNzjwLJeJML43Kpxn</td>\n",
       "      <td>2015-10-30T08:59:32Z</td>\n",
       "      <td>2019-04-25T09:08:16Z</td>\n",
       "      <td>AmazonBasics AAA Performance Alkaline Batterie...</td>\n",
       "      <td>B00QWO9P0O,B00LH3DMUO</td>\n",
       "      <td>amazonbasics</td>\n",
       "      <td>AA,AAA,Health,Electronics,Health &amp; Household,C...</td>\n",
       "      <td>Health &amp; Beauty</td>\n",
       "      <td>https://images-na.ssl-images-amazon.com/images...</td>\n",
       "      <td>amazonbasics/hl002619,amazonbasicsaaaperforman...</td>\n",
       "      <td>...</td>\n",
       "      <td>NaN</td>\n",
       "      <td>NaN</td>\n",
       "      <td>NaN</td>\n",
<<<<<<< HEAD
=======
       "      <td>NaN</td>\n",
>>>>>>> e62c1cf418925f78597f10b590b0cca3ee6d4c7e
       "      <td>4</td>\n",
       "      <td>https://www.amazon.com/product-reviews/B00QWO9...</td>\n",
       "      <td>Bulk is always the less expensive way to go fo...</td>\n",
       "      <td>... always the less expensive way to go for pr...</td>\n",
       "      <td>ByMG</td>\n",
       "      <td>https://www.barcodable.com/upc/841710106442,ht...</td>\n",
<<<<<<< HEAD
       "      <td>[bulk, expensive, way, products, like]</td>\n",
       "    </tr>\n",
       "  </tbody>\n",
       "</table>\n",
       "<p>2 rows × 25 columns</p>\n",
=======
       "    </tr>\n",
       "  </tbody>\n",
       "</table>\n",
       "<p>2 rows × 24 columns</p>\n",
>>>>>>> e62c1cf418925f78597f10b590b0cca3ee6d4c7e
       "</div>"
      ],
      "text/plain": [
       "                     id             dateAdded           dateUpdated  \\\n",
       "0  AVpgNzjwLJeJML43Kpxn  2015-10-30T08:59:32Z  2019-04-25T09:08:16Z   \n",
       "1  AVpgNzjwLJeJML43Kpxn  2015-10-30T08:59:32Z  2019-04-25T09:08:16Z   \n",
       "\n",
       "                                                name                  asins  \\\n",
       "0  AmazonBasics AAA Performance Alkaline Batterie...  B00QWO9P0O,B00LH3DMUO   \n",
       "1  AmazonBasics AAA Performance Alkaline Batterie...  B00QWO9P0O,B00LH3DMUO   \n",
       "\n",
       "          brand                                         categories  \\\n",
       "0  amazonbasics  AA,AAA,Health,Electronics,Health & Household,C...   \n",
       "1  amazonbasics  AA,AAA,Health,Electronics,Health & Household,C...   \n",
       "\n",
       "  primaryCategories                                          imageURLs  \\\n",
       "0   Health & Beauty  https://images-na.ssl-images-amazon.com/images...   \n",
       "1   Health & Beauty  https://images-na.ssl-images-amazon.com/images...   \n",
       "\n",
<<<<<<< HEAD
       "                                                keys  ... reviews.doRecommend  \\\n",
       "0  amazonbasics/hl002619,amazonbasicsaaaperforman...  ...                 NaN   \n",
       "1  amazonbasics/hl002619,amazonbasicsaaaperforman...  ...                 NaN   \n",
       "\n",
       "  reviews.id reviews.numHelpful reviews.rating  \\\n",
       "0        NaN                NaN              3   \n",
       "1        NaN                NaN              4   \n",
=======
       "                                                keys  ... reviews.didPurchase  \\\n",
       "0  amazonbasics/hl002619,amazonbasicsaaaperforman...  ...                 NaN   \n",
       "1  amazonbasics/hl002619,amazonbasicsaaaperforman...  ...                 NaN   \n",
       "\n",
       "  reviews.doRecommend reviews.id reviews.numHelpful reviews.rating  \\\n",
       "0                 NaN        NaN                NaN              3   \n",
       "1                 NaN        NaN                NaN              4   \n",
>>>>>>> e62c1cf418925f78597f10b590b0cca3ee6d4c7e
       "\n",
       "                                  reviews.sourceURLs  \\\n",
       "0  https://www.amazon.com/product-reviews/B00QWO9...   \n",
       "1  https://www.amazon.com/product-reviews/B00QWO9...   \n",
       "\n",
       "                                        reviews.text  \\\n",
       "0  I order 3 of them and one of the item is bad q...   \n",
       "1  Bulk is always the less expensive way to go fo...   \n",
       "\n",
       "                                       reviews.title  reviews.username  \\\n",
       "0  ... 3 of them and one of the item is bad quali...        Byger yang   \n",
       "1  ... always the less expensive way to go for pr...              ByMG   \n",
       "\n",
<<<<<<< HEAD
       "                                          sourceURLs  \\\n",
       "0  https://www.barcodable.com/upc/841710106442,ht...   \n",
       "1  https://www.barcodable.com/upc/841710106442,ht...   \n",
       "\n",
       "                                              tokens  \n",
       "0  [order, 3, item, bad, quality., missing, backu...  \n",
       "1             [bulk, expensive, way, products, like]  \n",
       "\n",
       "[2 rows x 25 columns]"
      ]
     },
     "execution_count": 53,
=======
       "                                          sourceURLs  \n",
       "0  https://www.barcodable.com/upc/841710106442,ht...  \n",
       "1  https://www.barcodable.com/upc/841710106442,ht...  \n",
       "\n",
       "[2 rows x 24 columns]"
      ]
     },
     "execution_count": 75,
>>>>>>> e62c1cf418925f78597f10b590b0cca3ee6d4c7e
     "metadata": {},
     "output_type": "execute_result"
    }
   ],
   "source": [
    "df.head(2)"
   ]
  },
  {
   "cell_type": "code",
<<<<<<< HEAD
   "execution_count": 52,
=======
   "execution_count": 78,
>>>>>>> e62c1cf418925f78597f10b590b0cca3ee6d4c7e
   "metadata": {},
   "outputs": [
    {
     "data": {
      "text/plain": [
       "good                0.002118\n",
       "great               0.001729\n",
       "Good                0.001482\n",
       "Great               0.001341\n",
       "ok                  0.001165\n",
       "Great price         0.001059\n",
<<<<<<< HEAD
       "great price         0.000988\n",
       "Excellent           0.000988\n",
=======
       "Excellent           0.000988\n",
       "great price         0.000988\n",
>>>>>>> e62c1cf418925f78597f10b590b0cca3ee6d4c7e
       "Great value         0.000953\n",
       "good price          0.000812\n",
       "great value         0.000777\n",
       "Great price!        0.000635\n",
       "good value          0.000600\n",
       "Great value.        0.000565\n",
       "good deal           0.000565\n",
       "OK                  0.000529\n",
<<<<<<< HEAD
       "Great deal          0.000529\n",
       "Good deal           0.000529\n",
       "As expected         0.000529\n",
       "Great product       0.000529\n",
       "Good batteries      0.000494\n",
       "Good value          0.000494\n",
       "So far so good      0.000459\n",
       "Great batteries.    0.000459\n",
       "Good price          0.000459\n",
       "Great value!        0.000459\n",
       "great deal          0.000459\n",
       "Good buy            0.000424\n",
       "Work great          0.000424\n",
       "good batteries      0.000388\n",
       "Great!              0.000388\n",
       "Great price.        0.000388\n",
       "Great batteries     0.000388\n",
       "Great deal!         0.000388\n",
       "Great buy           0.000388\n",
       "very good           0.000388\n",
       "as expected         0.000388\n",
       "Good value.         0.000388\n",
       "excellent           0.000388\n",
       "As described        0.000388\n",
       "good product        0.000353\n",
       "Ok                  0.000353\n",
       "Nice                0.000353\n",
       "Work great.         0.000353\n",
       "great batteries     0.000353\n",
       "Perfect!            0.000353\n",
       "Long lasting        0.000318\n",
       "Good price.         0.000318\n",
       "Great product.      0.000318\n",
       "So far so good.     0.000318\n",
       "Name: reviews.text, dtype: float64"
      ]
     },
     "execution_count": 52,
=======
       "As expected         0.000529\n",
       "Good deal           0.000529\n",
       "Great deal          0.000529\n",
       "Great product       0.000529\n",
       "Good value          0.000494\n",
       "Good batteries      0.000494\n",
       "Great batteries.    0.000459\n",
       "So far so good      0.000459\n",
       "Great value!        0.000459\n",
       "great deal          0.000459\n",
       "Good price          0.000459\n",
       "Work great          0.000424\n",
       "Good buy            0.000424\n",
       "Great deal!         0.000388\n",
       "Great buy           0.000388\n",
       "As described        0.000388\n",
       "Great!              0.000388\n",
       "Good value.         0.000388\n",
       "Great batteries     0.000388\n",
       "excellent           0.000388\n",
       "good batteries      0.000388\n",
       "Great price.        0.000388\n",
       "very good           0.000388\n",
       "as expected         0.000388\n",
       "Perfect!            0.000353\n",
       "Nice                0.000353\n",
       "Ok                  0.000353\n",
       "great batteries     0.000353\n",
       "Work great.         0.000353\n",
       "good product        0.000353\n",
       "Thanks              0.000318\n",
       "Long lasting        0.000318\n",
       "works great         0.000318\n",
       "Great product.      0.000318\n",
       "Name: reviews.text, dtype: float64"
      ]
     },
     "execution_count": 78,
>>>>>>> e62c1cf418925f78597f10b590b0cca3ee6d4c7e
     "metadata": {},
     "output_type": "execute_result"
    }
   ],
   "source": [
    "# How can we count the raw text?\n",
    "df['reviews.text'].value_counts(normalize=True)[:50]"
   ]
  },
  {
   "cell_type": "code",
<<<<<<< HEAD
   "execution_count": 17,
=======
   "execution_count": 79,
>>>>>>> e62c1cf418925f78597f10b590b0cca3ee6d4c7e
   "metadata": {},
   "outputs": [],
   "source": [
    "df['tokens'] = df['reviews.text'].apply(tokenize)"
   ]
  },
  {
   "cell_type": "code",
<<<<<<< HEAD
   "execution_count": 18,
=======
   "execution_count": 80,
>>>>>>> e62c1cf418925f78597f10b590b0cca3ee6d4c7e
   "metadata": {},
   "outputs": [
    {
     "data": {
      "text/plain": [
       "0    [i, order, 3, of, them, and, one, of, the, ite...\n",
       "1    [bulk, is, always, the, less, expensive, way, ...\n",
       "2    [well, they, are, not, duracell, but, for, the...\n",
       "3    [seem, to, work, as, well, as, name, brand, ba...\n",
       "4    [these, batteries, are, very, long, lasting, t...\n",
       "Name: tokens, dtype: object"
      ]
     },
<<<<<<< HEAD
     "execution_count": 18,
=======
     "execution_count": 80,
>>>>>>> e62c1cf418925f78597f10b590b0cca3ee6d4c7e
     "metadata": {},
     "output_type": "execute_result"
    }
   ],
   "source": [
    "df['tokens'].head()"
   ]
  },
  {
   "cell_type": "markdown",
   "metadata": {},
   "source": [
    "#### Analyzing Tokens"
   ]
  },
  {
   "cell_type": "code",
<<<<<<< HEAD
   "execution_count": 19,
=======
   "execution_count": 81,
>>>>>>> e62c1cf418925f78597f10b590b0cca3ee6d4c7e
   "metadata": {},
   "outputs": [
    {
     "data": {
      "text/plain": [
       "[('the', 28836),\n",
       " ('and', 22302),\n",
       " ('i', 20588),\n",
       " ('to', 19537),\n",
       " ('for', 17918),\n",
       " ('a', 17599),\n",
       " ('it', 16793),\n",
       " ('is', 11482),\n",
       " ('my', 11149),\n",
       " ('this', 10420)]"
      ]
     },
<<<<<<< HEAD
     "execution_count": 19,
=======
     "execution_count": 81,
>>>>>>> e62c1cf418925f78597f10b590b0cca3ee6d4c7e
     "metadata": {},
     "output_type": "execute_result"
    }
   ],
   "source": [
    "# Object from Base Python\n",
    "from collections import Counter\n",
    "\n",
    "# The object `Counter` takes an iterable, but you can instaniate an empty one and update it. \n",
    "word_counts = Counter()\n",
    "\n",
    "# Update it based on a split of each of our documents\n",
    "df['tokens'].apply(lambda x: word_counts.update(x))\n",
    "\n",
    "# Print out the 10 most common words\n",
    "word_counts.most_common(10)"
   ]
  },
  {
   "cell_type": "markdown",
   "metadata": {},
   "source": [
    "Let's create a fuction which takes a corpus of document and returns and dataframe of word counts for us to analyze."
   ]
  },
  {
   "cell_type": "code",
<<<<<<< HEAD
   "execution_count": 20,
=======
   "execution_count": 82,
>>>>>>> e62c1cf418925f78597f10b590b0cca3ee6d4c7e
   "metadata": {},
   "outputs": [],
   "source": [
    "def count(docs):\n",
    "\n",
    "        word_counts = Counter()\n",
    "        appears_in = Counter()\n",
    "        \n",
    "        total_docs = len(docs)\n",
    "\n",
    "        for doc in docs:\n",
    "            word_counts.update(doc)\n",
    "            appears_in.update(set(doc))\n",
    "\n",
    "        temp = zip(word_counts.keys(), word_counts.values())\n",
    "        \n",
    "        wc = pd.DataFrame(temp, columns = ['word', 'count'])\n",
    "\n",
    "        wc['rank'] = wc['count'].rank(method='first', ascending=False)\n",
    "        total = wc['count'].sum()\n",
    "\n",
    "        wc['pct_total'] = wc['count'].apply(lambda x: x / total)\n",
    "        \n",
    "        wc = wc.sort_values(by='rank')\n",
    "        wc['cul_pct_total'] = wc['pct_total'].cumsum()\n",
    "\n",
    "        t2 = zip(appears_in.keys(), appears_in.values())\n",
    "        ac = pd.DataFrame(t2, columns=['word', 'appears_in'])\n",
    "        wc = ac.merge(wc, on='word')\n",
    "\n",
    "        wc['appears_in_pct'] = wc['appears_in'].apply(lambda x: x / total_docs)\n",
    "        \n",
    "        return wc.sort_values(by='rank')"
   ]
  },
  {
   "cell_type": "code",
<<<<<<< HEAD
   "execution_count": 21,
=======
   "execution_count": 83,
>>>>>>> e62c1cf418925f78597f10b590b0cca3ee6d4c7e
   "metadata": {},
   "outputs": [],
   "source": [
    "# Use the Function\n",
    "wc = count(df['tokens'])"
   ]
  },
  {
   "cell_type": "code",
<<<<<<< HEAD
   "execution_count": 22,
=======
   "execution_count": 84,
>>>>>>> e62c1cf418925f78597f10b590b0cca3ee6d4c7e
   "metadata": {},
   "outputs": [
    {
     "data": {
      "text/html": [
       "<div>\n",
       "<style scoped>\n",
       "    .dataframe tbody tr th:only-of-type {\n",
       "        vertical-align: middle;\n",
       "    }\n",
       "\n",
       "    .dataframe tbody tr th {\n",
       "        vertical-align: top;\n",
       "    }\n",
       "\n",
       "    .dataframe thead th {\n",
       "        text-align: right;\n",
       "    }\n",
       "</style>\n",
       "<table border=\"1\" class=\"dataframe\">\n",
       "  <thead>\n",
       "    <tr style=\"text-align: right;\">\n",
       "      <th></th>\n",
       "      <th>word</th>\n",
       "      <th>appears_in</th>\n",
       "      <th>count</th>\n",
       "      <th>rank</th>\n",
       "      <th>pct_total</th>\n",
       "      <th>cul_pct_total</th>\n",
       "      <th>appears_in_pct</th>\n",
       "    </tr>\n",
       "  </thead>\n",
       "  <tbody>\n",
       "    <tr>\n",
<<<<<<< HEAD
       "      <th>24</th>\n",
=======
       "      <th>15</th>\n",
>>>>>>> e62c1cf418925f78597f10b590b0cca3ee6d4c7e
       "      <td>the</td>\n",
       "      <td>13185</td>\n",
       "      <td>28836</td>\n",
       "      <td>1.0</td>\n",
       "      <td>0.039350</td>\n",
       "      <td>0.039350</td>\n",
       "      <td>0.465375</td>\n",
       "    </tr>\n",
       "    <tr>\n",
<<<<<<< HEAD
       "      <th>1</th>\n",
=======
       "      <th>19</th>\n",
>>>>>>> e62c1cf418925f78597f10b590b0cca3ee6d4c7e
       "      <td>and</td>\n",
       "      <td>13731</td>\n",
       "      <td>22302</td>\n",
       "      <td>2.0</td>\n",
       "      <td>0.030434</td>\n",
       "      <td>0.069784</td>\n",
       "      <td>0.484646</td>\n",
       "    </tr>\n",
       "    <tr>\n",
<<<<<<< HEAD
       "      <th>11</th>\n",
=======
       "      <th>21</th>\n",
>>>>>>> e62c1cf418925f78597f10b590b0cca3ee6d4c7e
       "      <td>i</td>\n",
       "      <td>10301</td>\n",
       "      <td>20588</td>\n",
       "      <td>3.0</td>\n",
       "      <td>0.028095</td>\n",
       "      <td>0.097879</td>\n",
       "      <td>0.363582</td>\n",
       "    </tr>\n",
       "    <tr>\n",
<<<<<<< HEAD
       "      <th>13</th>\n",
=======
       "      <th>23</th>\n",
>>>>>>> e62c1cf418925f78597f10b590b0cca3ee6d4c7e
       "      <td>to</td>\n",
       "      <td>11312</td>\n",
       "      <td>19537</td>\n",
       "      <td>4.0</td>\n",
       "      <td>0.026661</td>\n",
       "      <td>0.124539</td>\n",
       "      <td>0.399266</td>\n",
       "    </tr>\n",
       "    <tr>\n",
<<<<<<< HEAD
       "      <th>29</th>\n",
=======
       "      <th>33</th>\n",
>>>>>>> e62c1cf418925f78597f10b590b0cca3ee6d4c7e
       "      <td>for</td>\n",
       "      <td>12101</td>\n",
       "      <td>17918</td>\n",
       "      <td>5.0</td>\n",
       "      <td>0.024451</td>\n",
       "      <td>0.148990</td>\n",
       "      <td>0.427114</td>\n",
       "    </tr>\n",
       "  </tbody>\n",
       "</table>\n",
       "</div>"
      ],
      "text/plain": [
       "   word  appears_in  count  rank  pct_total  cul_pct_total  appears_in_pct\n",
<<<<<<< HEAD
       "24  the       13185  28836   1.0   0.039350       0.039350        0.465375\n",
       "1   and       13731  22302   2.0   0.030434       0.069784        0.484646\n",
       "11    i       10301  20588   3.0   0.028095       0.097879        0.363582\n",
       "13   to       11312  19537   4.0   0.026661       0.124539        0.399266\n",
       "29  for       12101  17918   5.0   0.024451       0.148990        0.427114"
      ]
     },
     "execution_count": 22,
=======
       "15  the       13185  28836   1.0   0.039350       0.039350        0.465375\n",
       "19  and       13731  22302   2.0   0.030434       0.069784        0.484646\n",
       "21    i       10301  20588   3.0   0.028095       0.097879        0.363582\n",
       "23   to       11312  19537   4.0   0.026661       0.124539        0.399266\n",
       "33  for       12101  17918   5.0   0.024451       0.148990        0.427114"
      ]
     },
     "execution_count": 84,
>>>>>>> e62c1cf418925f78597f10b590b0cca3ee6d4c7e
     "metadata": {},
     "output_type": "execute_result"
    }
   ],
   "source": [
    "wc.head()"
   ]
  },
  {
   "cell_type": "code",
<<<<<<< HEAD
   "execution_count": 23,
=======
   "execution_count": 85,
>>>>>>> e62c1cf418925f78597f10b590b0cca3ee6d4c7e
   "metadata": {},
   "outputs": [
    {
     "data": {
<<<<<<< HEAD
      "image/png": "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\n",
=======
      "image/png": "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\n",
>>>>>>> e62c1cf418925f78597f10b590b0cca3ee6d4c7e
      "text/plain": [
       "<Figure size 432x288 with 1 Axes>"
      ]
     },
     "metadata": {
      "needs_background": "light"
     },
     "output_type": "display_data"
    }
   ],
   "source": [
    "import seaborn as sns\n",
    "\n",
    "# Cumulative Distribution Plot\n",
    "sns.lineplot(x='rank', y='cul_pct_total', data=wc);"
   ]
  },
  {
   "cell_type": "code",
<<<<<<< HEAD
   "execution_count": 24,
=======
   "execution_count": 86,
>>>>>>> e62c1cf418925f78597f10b590b0cca3ee6d4c7e
   "metadata": {},
   "outputs": [
    {
     "data": {
      "text/plain": [
       "0.3353465992363599"
      ]
     },
<<<<<<< HEAD
     "execution_count": 24,
=======
     "execution_count": 86,
>>>>>>> e62c1cf418925f78597f10b590b0cca3ee6d4c7e
     "metadata": {},
     "output_type": "execute_result"
    }
   ],
   "source": [
    "wc[wc['rank'] <= 20]['cul_pct_total'].max()"
   ]
  },
  {
   "cell_type": "code",
<<<<<<< HEAD
   "execution_count": 25,
=======
   "execution_count": 87,
>>>>>>> e62c1cf418925f78597f10b590b0cca3ee6d4c7e
   "metadata": {},
   "outputs": [
    {
     "data": {
<<<<<<< HEAD
      "image/png": "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\n",
=======
      "image/png": "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\n",
>>>>>>> e62c1cf418925f78597f10b590b0cca3ee6d4c7e
      "text/plain": [
       "<Figure size 432x288 with 1 Axes>"
      ]
     },
     "metadata": {
      "needs_background": "light"
     },
     "output_type": "display_data"
    }
   ],
   "source": [
    "import squarify\n",
    "import matplotlib.pyplot as plt\n",
    "\n",
    "wc_top20 = wc[wc['rank'] <= 20]\n",
    "\n",
    "squarify.plot(sizes=wc_top20['pct_total'], label=wc_top20['word'], alpha=.8 )\n",
    "plt.axis('off')\n",
    "plt.show()"
   ]
  },
  {
   "cell_type": "markdown",
   "metadata": {},
   "source": [
    "### Processing Raw Text with Spacy\n",
    "\n",
    "Spacy's datamodel for documents is unique among NLP libraries. Instead of storing the documents components repeatively in various datastructures, Spacy indexes components and simply stores the lookup informaiton. \n",
    "\n",
    "This is often why Spacy is considered to be more production grade than library like NLTK."
   ]
  },
  {
   "cell_type": "code",
<<<<<<< HEAD
   "execution_count": 26,
=======
   "execution_count": 88,
>>>>>>> e62c1cf418925f78597f10b590b0cca3ee6d4c7e
   "metadata": {},
   "outputs": [],
   "source": [
    "import spacy\n",
    "from spacy.tokenizer import Tokenizer\n",
    "\n",
    "nlp = spacy.load(\"en_core_web_lg\")\n",
    "\n",
    "# Tokenizer\n",
    "tokenizer = Tokenizer(nlp.vocab)"
   ]
  },
  {
   "cell_type": "code",
<<<<<<< HEAD
   "execution_count": 27,
=======
   "execution_count": 89,
>>>>>>> e62c1cf418925f78597f10b590b0cca3ee6d4c7e
   "metadata": {},
   "outputs": [
    {
     "data": {
      "text/plain": [
       "['Friends,', 'Romans,', 'countrymen,', 'lend', 'me', 'your', 'ears;', '911']"
      ]
     },
<<<<<<< HEAD
     "execution_count": 27,
=======
     "execution_count": 89,
>>>>>>> e62c1cf418925f78597f10b590b0cca3ee6d4c7e
     "metadata": {},
     "output_type": "execute_result"
    }
   ],
   "source": [
    "# Print out list of tokens\n",
    "[token.text for token in tokenizer(sample)]"
   ]
  },
  {
   "cell_type": "code",
<<<<<<< HEAD
   "execution_count": 28,
=======
   "execution_count": 90,
>>>>>>> e62c1cf418925f78597f10b590b0cca3ee6d4c7e
   "metadata": {},
   "outputs": [],
   "source": [
    "# Tokenizer Pipe\n",
    "\n",
    "tokens = []\n",
    "\n",
    "\"\"\" Make them tokens \"\"\"\n",
    "for doc in tokenizer.pipe(df['reviews.text'], batch_size=500):\n",
    "    doc_tokens = [token.text for token in doc]\n",
    "    tokens.append(doc_tokens)\n",
    "\n",
    "df['tokens'] = tokens"
   ]
  },
  {
   "cell_type": "code",
<<<<<<< HEAD
   "execution_count": 29,
=======
   "execution_count": 91,
>>>>>>> e62c1cf418925f78597f10b590b0cca3ee6d4c7e
   "metadata": {},
   "outputs": [
    {
     "data": {
      "text/plain": [
       "0    [I, order, 3, of, them, and, one, of, the, ite...\n",
       "1    [Bulk, is, always, the, less, expensive, way, ...\n",
       "2    [Well, they, are, not, Duracell, but, for, the...\n",
       "3    [Seem, to, work, as, well, as, name, brand, ba...\n",
       "4    [These, batteries, are, very, long, lasting, t...\n",
       "Name: tokens, dtype: object"
      ]
     },
<<<<<<< HEAD
     "execution_count": 29,
=======
     "execution_count": 91,
>>>>>>> e62c1cf418925f78597f10b590b0cca3ee6d4c7e
     "metadata": {},
     "output_type": "execute_result"
    }
   ],
   "source": [
    "df['tokens'].head()"
   ]
  },
  {
   "cell_type": "code",
<<<<<<< HEAD
   "execution_count": 30,
=======
   "execution_count": 92,
>>>>>>> e62c1cf418925f78597f10b590b0cca3ee6d4c7e
   "metadata": {},
   "outputs": [],
   "source": [
    "wc = count(df['tokens'])"
   ]
  },
  {
   "cell_type": "code",
<<<<<<< HEAD
   "execution_count": 31,
=======
   "execution_count": 93,
>>>>>>> e62c1cf418925f78597f10b590b0cca3ee6d4c7e
   "metadata": {},
   "outputs": [
    {
     "data": {
      "text/html": [
       "<div>\n",
       "<style scoped>\n",
       "    .dataframe tbody tr th:only-of-type {\n",
       "        vertical-align: middle;\n",
       "    }\n",
       "\n",
       "    .dataframe tbody tr th {\n",
       "        vertical-align: top;\n",
       "    }\n",
       "\n",
       "    .dataframe thead th {\n",
       "        text-align: right;\n",
       "    }\n",
       "</style>\n",
       "<table border=\"1\" class=\"dataframe\">\n",
       "  <thead>\n",
       "    <tr style=\"text-align: right;\">\n",
       "      <th></th>\n",
       "      <th>word</th>\n",
       "      <th>appears_in</th>\n",
       "      <th>count</th>\n",
       "      <th>rank</th>\n",
       "      <th>pct_total</th>\n",
       "      <th>cul_pct_total</th>\n",
       "      <th>appears_in_pct</th>\n",
       "    </tr>\n",
       "  </thead>\n",
       "  <tbody>\n",
       "    <tr>\n",
<<<<<<< HEAD
       "      <th>25</th>\n",
=======
       "      <th>15</th>\n",
>>>>>>> e62c1cf418925f78597f10b590b0cca3ee6d4c7e
       "      <td>the</td>\n",
       "      <td>12316</td>\n",
       "      <td>25154</td>\n",
       "      <td>1.0</td>\n",
       "      <td>0.034219</td>\n",
       "      <td>0.034219</td>\n",
       "      <td>0.434703</td>\n",
       "    </tr>\n",
       "    <tr>\n",
<<<<<<< HEAD
       "      <th>1</th>\n",
=======
       "      <th>21</th>\n",
>>>>>>> e62c1cf418925f78597f10b590b0cca3ee6d4c7e
       "      <td>and</td>\n",
       "      <td>13541</td>\n",
       "      <td>21850</td>\n",
       "      <td>2.0</td>\n",
       "      <td>0.029725</td>\n",
       "      <td>0.063944</td>\n",
       "      <td>0.477940</td>\n",
       "    </tr>\n",
       "    <tr>\n",
<<<<<<< HEAD
       "      <th>19</th>\n",
=======
       "      <th>16</th>\n",
>>>>>>> e62c1cf418925f78597f10b590b0cca3ee6d4c7e
       "      <td>I</td>\n",
       "      <td>9913</td>\n",
       "      <td>19762</td>\n",
       "      <td>3.0</td>\n",
       "      <td>0.026884</td>\n",
       "      <td>0.090828</td>\n",
       "      <td>0.349887</td>\n",
       "    </tr>\n",
       "    <tr>\n",
<<<<<<< HEAD
       "      <th>15</th>\n",
=======
       "      <th>24</th>\n",
>>>>>>> e62c1cf418925f78597f10b590b0cca3ee6d4c7e
       "      <td>to</td>\n",
       "      <td>11227</td>\n",
       "      <td>19324</td>\n",
       "      <td>4.0</td>\n",
       "      <td>0.026288</td>\n",
       "      <td>0.117117</td>\n",
       "      <td>0.396266</td>\n",
       "    </tr>\n",
       "    <tr>\n",
<<<<<<< HEAD
       "      <th>30</th>\n",
=======
       "      <th>34</th>\n",
>>>>>>> e62c1cf418925f78597f10b590b0cca3ee6d4c7e
       "      <td>for</td>\n",
       "      <td>11790</td>\n",
       "      <td>17197</td>\n",
       "      <td>5.0</td>\n",
       "      <td>0.023395</td>\n",
       "      <td>0.140512</td>\n",
       "      <td>0.416137</td>\n",
       "    </tr>\n",
       "  </tbody>\n",
       "</table>\n",
       "</div>"
      ],
      "text/plain": [
       "   word  appears_in  count  rank  pct_total  cul_pct_total  appears_in_pct\n",
<<<<<<< HEAD
       "25  the       12316  25154   1.0   0.034219       0.034219        0.434703\n",
       "1   and       13541  21850   2.0   0.029725       0.063944        0.477940\n",
       "19    I        9913  19762   3.0   0.026884       0.090828        0.349887\n",
       "15   to       11227  19324   4.0   0.026288       0.117117        0.396266\n",
       "30  for       11790  17197   5.0   0.023395       0.140512        0.416137"
      ]
     },
     "execution_count": 31,
=======
       "15  the       12316  25154   1.0   0.034219       0.034219        0.434703\n",
       "21  and       13541  21850   2.0   0.029725       0.063944        0.477940\n",
       "16    I        9913  19762   3.0   0.026884       0.090828        0.349887\n",
       "24   to       11227  19324   4.0   0.026288       0.117117        0.396266\n",
       "34  for       11790  17197   5.0   0.023395       0.140512        0.416137"
      ]
     },
     "execution_count": 93,
>>>>>>> e62c1cf418925f78597f10b590b0cca3ee6d4c7e
     "metadata": {},
     "output_type": "execute_result"
    }
   ],
   "source": [
    "wc.head()"
   ]
  },
  {
   "cell_type": "code",
<<<<<<< HEAD
   "execution_count": 32,
=======
   "execution_count": 94,
>>>>>>> e62c1cf418925f78597f10b590b0cca3ee6d4c7e
   "metadata": {},
   "outputs": [
    {
     "data": {
<<<<<<< HEAD
      "image/png": "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\n",
=======
      "image/png": "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\n",
>>>>>>> e62c1cf418925f78597f10b590b0cca3ee6d4c7e
      "text/plain": [
       "<Figure size 432x288 with 1 Axes>"
      ]
     },
     "metadata": {
      "needs_background": "light"
     },
     "output_type": "display_data"
    }
   ],
   "source": [
    "wc_top20 = wc[wc['rank'] <= 20]\n",
    "\n",
    "squarify.plot(sizes=wc_top20['pct_total'], label=wc_top20['word'], alpha=.8 )\n",
    "plt.axis('off')\n",
    "plt.show()"
   ]
  },
  {
   "cell_type": "markdown",
   "metadata": {
    "toc-hr-collapsed": true
   },
   "source": [
    "## Challenge\n",
    "\n",
    "In the module project, you will apply tokenization to another set of review data and produce visualizations of those tokens. "
   ]
  },
  {
   "cell_type": "markdown",
   "metadata": {
    "toc-hr-collapsed": false
   },
   "source": [
    "# Stop Words (Learn)\n",
    "<a id=\"p2\"></a>"
   ]
  },
  {
   "cell_type": "markdown",
   "metadata": {},
   "source": [
    "## Overview\n",
    "Section Agenda\n",
    "- What are they?\n",
    "- How do we get rid of them using Spacy?\n",
    "- Visualization\n",
    "- Libraries of Stop Words\n",
    "- Extending Stop Words\n",
    "- Statistical trimming\n",
    "\n",
    "If the visualizations above, you began to notice a pattern. Most of the words don't really add much to our undertanding of product reviews. Words such as \"I\", \"and\", \"of\", etc. have almost no semantic meaning to us. We call these useless words \"stop words,\" because we should 'stop' ourselves from including them in the analysis. \n",
    "\n",
    "Most NLP libraries have built in lists of stop words that common english words: conjunctions, articles, adverbs, pronouns, and common verbs. The best practice, however, is to extend/customize these standard english stopwords for your problem's domain. If I am studying political science, I may want to exclude the word \"politics\" from my analysis; it's so common it does not add to my understanding. "
   ]
  },
  {
   "cell_type": "markdown",
   "metadata": {
    "toc-hr-collapsed": true
   },
   "source": [
    "## Follow Along \n",
    "\n",
    "### Default Stop Words\n",
    "Let's take a look at the standard stop words that came with our spacy model:"
   ]
  },
  {
   "cell_type": "code",
<<<<<<< HEAD
   "execution_count": 33,
=======
   "execution_count": 95,
>>>>>>> e62c1cf418925f78597f10b590b0cca3ee6d4c7e
   "metadata": {},
   "outputs": [
    {
     "data": {
      "text/plain": [
       "{\"'d\",\n",
       " \"'ll\",\n",
       " \"'m\",\n",
       " \"'re\",\n",
       " \"'s\",\n",
       " \"'ve\",\n",
       " 'a',\n",
       " 'about',\n",
       " 'above',\n",
       " 'across',\n",
       " 'after',\n",
       " 'afterwards',\n",
       " 'again',\n",
       " 'against',\n",
       " 'all',\n",
       " 'almost',\n",
       " 'alone',\n",
       " 'along',\n",
       " 'already',\n",
       " 'also',\n",
       " 'although',\n",
       " 'always',\n",
       " 'am',\n",
       " 'among',\n",
       " 'amongst',\n",
       " 'amount',\n",
       " 'an',\n",
       " 'and',\n",
       " 'another',\n",
       " 'any',\n",
       " 'anyhow',\n",
       " 'anyone',\n",
       " 'anything',\n",
       " 'anyway',\n",
       " 'anywhere',\n",
       " 'are',\n",
       " 'around',\n",
       " 'as',\n",
       " 'at',\n",
       " 'back',\n",
       " 'be',\n",
       " 'became',\n",
       " 'because',\n",
       " 'become',\n",
       " 'becomes',\n",
       " 'becoming',\n",
       " 'been',\n",
       " 'before',\n",
       " 'beforehand',\n",
       " 'behind',\n",
       " 'being',\n",
       " 'below',\n",
       " 'beside',\n",
       " 'besides',\n",
       " 'between',\n",
       " 'beyond',\n",
       " 'both',\n",
       " 'bottom',\n",
       " 'but',\n",
       " 'by',\n",
       " 'ca',\n",
       " 'call',\n",
       " 'can',\n",
       " 'cannot',\n",
       " 'could',\n",
       " 'did',\n",
       " 'do',\n",
       " 'does',\n",
       " 'doing',\n",
       " 'done',\n",
       " 'down',\n",
       " 'due',\n",
       " 'during',\n",
       " 'each',\n",
       " 'eight',\n",
       " 'either',\n",
       " 'eleven',\n",
       " 'else',\n",
       " 'elsewhere',\n",
       " 'empty',\n",
       " 'enough',\n",
       " 'even',\n",
       " 'ever',\n",
       " 'every',\n",
       " 'everyone',\n",
       " 'everything',\n",
       " 'everywhere',\n",
       " 'except',\n",
       " 'few',\n",
       " 'fifteen',\n",
       " 'fifty',\n",
       " 'first',\n",
       " 'five',\n",
       " 'for',\n",
       " 'former',\n",
       " 'formerly',\n",
       " 'forty',\n",
       " 'four',\n",
       " 'from',\n",
       " 'front',\n",
       " 'full',\n",
       " 'further',\n",
       " 'get',\n",
       " 'give',\n",
       " 'go',\n",
       " 'had',\n",
       " 'has',\n",
       " 'have',\n",
       " 'he',\n",
       " 'hence',\n",
       " 'her',\n",
       " 'here',\n",
       " 'hereafter',\n",
       " 'hereby',\n",
       " 'herein',\n",
       " 'hereupon',\n",
       " 'hers',\n",
       " 'herself',\n",
       " 'him',\n",
       " 'himself',\n",
       " 'his',\n",
       " 'how',\n",
       " 'however',\n",
       " 'hundred',\n",
       " 'i',\n",
       " 'if',\n",
       " 'in',\n",
       " 'indeed',\n",
       " 'into',\n",
       " 'is',\n",
       " 'it',\n",
       " 'its',\n",
       " 'itself',\n",
       " 'just',\n",
       " 'keep',\n",
       " 'last',\n",
       " 'latter',\n",
       " 'latterly',\n",
       " 'least',\n",
       " 'less',\n",
       " 'made',\n",
       " 'make',\n",
       " 'many',\n",
       " 'may',\n",
       " 'me',\n",
       " 'meanwhile',\n",
       " 'might',\n",
       " 'mine',\n",
       " 'more',\n",
       " 'moreover',\n",
       " 'most',\n",
       " 'mostly',\n",
       " 'move',\n",
       " 'much',\n",
       " 'must',\n",
       " 'my',\n",
       " 'myself',\n",
       " \"n't\",\n",
       " 'name',\n",
       " 'namely',\n",
       " 'neither',\n",
       " 'never',\n",
       " 'nevertheless',\n",
       " 'next',\n",
       " 'nine',\n",
       " 'no',\n",
       " 'nobody',\n",
       " 'none',\n",
       " 'noone',\n",
       " 'nor',\n",
       " 'not',\n",
       " 'nothing',\n",
       " 'now',\n",
       " 'nowhere',\n",
       " 'n‘t',\n",
       " 'n’t',\n",
       " 'of',\n",
       " 'off',\n",
       " 'often',\n",
       " 'on',\n",
       " 'once',\n",
       " 'one',\n",
       " 'only',\n",
       " 'onto',\n",
       " 'or',\n",
       " 'other',\n",
       " 'others',\n",
       " 'otherwise',\n",
       " 'our',\n",
       " 'ours',\n",
       " 'ourselves',\n",
       " 'out',\n",
       " 'over',\n",
       " 'own',\n",
       " 'part',\n",
       " 'per',\n",
       " 'perhaps',\n",
       " 'please',\n",
       " 'put',\n",
       " 'quite',\n",
       " 'rather',\n",
       " 're',\n",
       " 'really',\n",
       " 'regarding',\n",
       " 'same',\n",
       " 'say',\n",
       " 'see',\n",
       " 'seem',\n",
       " 'seemed',\n",
       " 'seeming',\n",
       " 'seems',\n",
       " 'serious',\n",
       " 'several',\n",
       " 'she',\n",
       " 'should',\n",
       " 'show',\n",
       " 'side',\n",
       " 'since',\n",
       " 'six',\n",
       " 'sixty',\n",
       " 'so',\n",
       " 'some',\n",
       " 'somehow',\n",
       " 'someone',\n",
       " 'something',\n",
       " 'sometime',\n",
       " 'sometimes',\n",
       " 'somewhere',\n",
       " 'still',\n",
       " 'such',\n",
       " 'take',\n",
       " 'ten',\n",
       " 'than',\n",
       " 'that',\n",
       " 'the',\n",
       " 'their',\n",
       " 'them',\n",
       " 'themselves',\n",
       " 'then',\n",
       " 'thence',\n",
       " 'there',\n",
       " 'thereafter',\n",
       " 'thereby',\n",
       " 'therefore',\n",
       " 'therein',\n",
       " 'thereupon',\n",
       " 'these',\n",
       " 'they',\n",
       " 'third',\n",
       " 'this',\n",
       " 'those',\n",
       " 'though',\n",
       " 'three',\n",
       " 'through',\n",
       " 'throughout',\n",
       " 'thru',\n",
       " 'thus',\n",
       " 'to',\n",
       " 'together',\n",
       " 'too',\n",
       " 'top',\n",
       " 'toward',\n",
       " 'towards',\n",
       " 'twelve',\n",
       " 'twenty',\n",
       " 'two',\n",
       " 'under',\n",
       " 'unless',\n",
       " 'until',\n",
       " 'up',\n",
       " 'upon',\n",
       " 'us',\n",
       " 'used',\n",
       " 'using',\n",
       " 'various',\n",
       " 'very',\n",
       " 'via',\n",
       " 'was',\n",
       " 'we',\n",
       " 'well',\n",
       " 'were',\n",
       " 'what',\n",
       " 'whatever',\n",
       " 'when',\n",
       " 'whence',\n",
       " 'whenever',\n",
       " 'where',\n",
       " 'whereafter',\n",
       " 'whereas',\n",
       " 'whereby',\n",
       " 'wherein',\n",
       " 'whereupon',\n",
       " 'wherever',\n",
       " 'whether',\n",
       " 'which',\n",
       " 'while',\n",
       " 'whither',\n",
       " 'who',\n",
       " 'whoever',\n",
       " 'whole',\n",
       " 'whom',\n",
       " 'whose',\n",
       " 'why',\n",
       " 'will',\n",
       " 'with',\n",
       " 'within',\n",
       " 'without',\n",
       " 'would',\n",
       " 'yet',\n",
       " 'you',\n",
       " 'your',\n",
       " 'yours',\n",
       " 'yourself',\n",
       " 'yourselves',\n",
       " '‘d',\n",
       " '‘ll',\n",
       " '‘m',\n",
       " '‘re',\n",
       " '‘s',\n",
       " '‘ve',\n",
       " '’d',\n",
       " '’ll',\n",
       " '’m',\n",
       " '’re',\n",
       " '’s',\n",
       " '’ve'}"
      ]
     },
<<<<<<< HEAD
     "execution_count": 33,
=======
     "execution_count": 95,
>>>>>>> e62c1cf418925f78597f10b590b0cca3ee6d4c7e
     "metadata": {},
     "output_type": "execute_result"
    }
   ],
   "source": [
    "# Spacy's Default Stop Words\n",
    "nlp.Defaults.stop_words"
   ]
  },
  {
   "cell_type": "code",
<<<<<<< HEAD
   "execution_count": 34,
=======
   "execution_count": 96,
>>>>>>> e62c1cf418925f78597f10b590b0cca3ee6d4c7e
   "metadata": {},
   "outputs": [],
   "source": [
    "tokens = []\n",
    "\n",
    "\"\"\" Update those tokens w/o stopwords\"\"\"\n",
    "for doc in tokenizer.pipe(df['reviews.text'], batch_size=500):\n",
    "    \n",
    "    doc_tokens = []\n",
    "    \n",
    "    for token in doc:\n",
    "        if (token.is_stop == False) & (token.is_punct == False):\n",
    "            doc_tokens.append(token.text.lower())\n",
    "\n",
    "    tokens.append(doc_tokens)\n",
    "\n",
    "df['tokens'] = tokens"
   ]
  },
  {
   "cell_type": "code",
<<<<<<< HEAD
   "execution_count": 35,
=======
   "execution_count": 97,
>>>>>>> e62c1cf418925f78597f10b590b0cca3ee6d4c7e
   "metadata": {},
   "outputs": [
    {
     "data": {
      "text/plain": [
       "0    [order, 3, item, bad, quality., missing, backu...\n",
       "1               [bulk, expensive, way, products, like]\n",
       "2                            [duracell, price, happy.]\n",
       "3              [work, brand, batteries, better, price]\n",
       "4            [batteries, long, lasting, price, great.]\n",
       "Name: tokens, dtype: object"
      ]
     },
<<<<<<< HEAD
     "execution_count": 35,
=======
     "execution_count": 97,
>>>>>>> e62c1cf418925f78597f10b590b0cca3ee6d4c7e
     "metadata": {},
     "output_type": "execute_result"
    }
   ],
   "source": [
    "df.tokens.head()"
   ]
  },
  {
   "cell_type": "code",
<<<<<<< HEAD
   "execution_count": 36,
=======
   "execution_count": 98,
>>>>>>> e62c1cf418925f78597f10b590b0cca3ee6d4c7e
   "metadata": {},
   "outputs": [
    {
     "data": {
<<<<<<< HEAD
      "image/png": "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\n",
=======
      "image/png": "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\n",
>>>>>>> e62c1cf418925f78597f10b590b0cca3ee6d4c7e
      "text/plain": [
       "<Figure size 432x288 with 1 Axes>"
      ]
     },
     "metadata": {
      "needs_background": "light"
     },
     "output_type": "display_data"
    }
   ],
   "source": [
    "wc = count(df['tokens'])\n",
    "\n",
    "wc_top20 = wc[wc['rank'] <= 20]\n",
    "\n",
    "squarify.plot(sizes=wc_top20['pct_total'], label=wc_top20['word'], alpha=.8 )\n",
    "plt.axis('off')\n",
    "plt.show()"
   ]
  },
  {
   "cell_type": "markdown",
   "metadata": {},
   "source": [
    "### Extending Stop Words"
   ]
  },
  {
   "cell_type": "code",
<<<<<<< HEAD
   "execution_count": 37,
=======
   "execution_count": 99,
>>>>>>> e62c1cf418925f78597f10b590b0cca3ee6d4c7e
   "metadata": {},
   "outputs": [
    {
     "name": "stdout",
     "output_type": "stream",
     "text": [
      "<class 'set'>\n"
     ]
    }
   ],
   "source": [
    "print(type(nlp.Defaults.stop_words))"
   ]
  },
  {
   "cell_type": "code",
<<<<<<< HEAD
   "execution_count": 38,
=======
   "execution_count": 102,
>>>>>>> e62c1cf418925f78597f10b590b0cca3ee6d4c7e
   "metadata": {},
   "outputs": [],
   "source": [
    "STOP_WORDS = nlp.Defaults.stop_words.union(['batteries','I', 'amazon', 'i', 'Amazon', 'it', \"it's\", 'it.', 'the', 'this',])"
   ]
  },
  {
   "cell_type": "code",
<<<<<<< HEAD
   "execution_count": 39,
=======
   "execution_count": 103,
>>>>>>> e62c1cf418925f78597f10b590b0cca3ee6d4c7e
   "metadata": {},
   "outputs": [
    {
     "data": {
      "text/plain": [
       "{\"'d\",\n",
       " \"'ll\",\n",
       " \"'m\",\n",
       " \"'re\",\n",
       " \"'s\",\n",
       " \"'ve\",\n",
       " 'Amazon',\n",
       " 'I',\n",
       " 'a',\n",
       " 'about',\n",
       " 'above',\n",
       " 'across',\n",
       " 'after',\n",
       " 'afterwards',\n",
       " 'again',\n",
       " 'against',\n",
       " 'all',\n",
       " 'almost',\n",
       " 'alone',\n",
       " 'along',\n",
       " 'already',\n",
       " 'also',\n",
       " 'although',\n",
       " 'always',\n",
       " 'am',\n",
       " 'amazon',\n",
       " 'among',\n",
       " 'amongst',\n",
       " 'amount',\n",
       " 'an',\n",
       " 'and',\n",
       " 'another',\n",
       " 'any',\n",
       " 'anyhow',\n",
       " 'anyone',\n",
       " 'anything',\n",
       " 'anyway',\n",
       " 'anywhere',\n",
       " 'are',\n",
       " 'around',\n",
       " 'as',\n",
       " 'at',\n",
       " 'back',\n",
       " 'batteries',\n",
       " 'be',\n",
       " 'became',\n",
       " 'because',\n",
       " 'become',\n",
       " 'becomes',\n",
       " 'becoming',\n",
       " 'been',\n",
       " 'before',\n",
       " 'beforehand',\n",
       " 'behind',\n",
       " 'being',\n",
       " 'below',\n",
       " 'beside',\n",
       " 'besides',\n",
       " 'between',\n",
       " 'beyond',\n",
       " 'both',\n",
       " 'bottom',\n",
       " 'but',\n",
       " 'by',\n",
       " 'ca',\n",
       " 'call',\n",
       " 'can',\n",
       " 'cannot',\n",
       " 'could',\n",
       " 'did',\n",
       " 'do',\n",
       " 'does',\n",
       " 'doing',\n",
       " 'done',\n",
       " 'down',\n",
       " 'due',\n",
       " 'during',\n",
       " 'each',\n",
       " 'eight',\n",
       " 'either',\n",
       " 'eleven',\n",
       " 'else',\n",
       " 'elsewhere',\n",
       " 'empty',\n",
       " 'enough',\n",
       " 'even',\n",
       " 'ever',\n",
       " 'every',\n",
       " 'everyone',\n",
       " 'everything',\n",
       " 'everywhere',\n",
       " 'except',\n",
       " 'few',\n",
       " 'fifteen',\n",
       " 'fifty',\n",
       " 'first',\n",
       " 'five',\n",
       " 'for',\n",
       " 'former',\n",
       " 'formerly',\n",
       " 'forty',\n",
       " 'four',\n",
       " 'from',\n",
       " 'front',\n",
       " 'full',\n",
       " 'further',\n",
       " 'get',\n",
       " 'give',\n",
       " 'go',\n",
       " 'had',\n",
       " 'has',\n",
       " 'have',\n",
       " 'he',\n",
       " 'hence',\n",
       " 'her',\n",
       " 'here',\n",
       " 'hereafter',\n",
       " 'hereby',\n",
       " 'herein',\n",
       " 'hereupon',\n",
       " 'hers',\n",
       " 'herself',\n",
       " 'him',\n",
       " 'himself',\n",
       " 'his',\n",
       " 'how',\n",
       " 'however',\n",
       " 'hundred',\n",
       " 'i',\n",
       " 'if',\n",
       " 'in',\n",
       " 'indeed',\n",
       " 'into',\n",
       " 'is',\n",
       " 'it',\n",
       " \"it's\",\n",
       " 'it.',\n",
       " 'its',\n",
       " 'itself',\n",
       " 'just',\n",
       " 'keep',\n",
       " 'last',\n",
       " 'latter',\n",
       " 'latterly',\n",
       " 'least',\n",
       " 'less',\n",
       " 'made',\n",
       " 'make',\n",
       " 'many',\n",
       " 'may',\n",
       " 'me',\n",
       " 'meanwhile',\n",
       " 'might',\n",
       " 'mine',\n",
       " 'more',\n",
       " 'moreover',\n",
       " 'most',\n",
       " 'mostly',\n",
       " 'move',\n",
       " 'much',\n",
       " 'must',\n",
       " 'my',\n",
       " 'myself',\n",
       " \"n't\",\n",
       " 'name',\n",
       " 'namely',\n",
       " 'neither',\n",
       " 'never',\n",
       " 'nevertheless',\n",
       " 'next',\n",
       " 'nine',\n",
       " 'no',\n",
       " 'nobody',\n",
       " 'none',\n",
       " 'noone',\n",
       " 'nor',\n",
       " 'not',\n",
       " 'nothing',\n",
       " 'now',\n",
       " 'nowhere',\n",
       " 'n‘t',\n",
       " 'n’t',\n",
       " 'of',\n",
       " 'off',\n",
       " 'often',\n",
       " 'on',\n",
       " 'once',\n",
       " 'one',\n",
       " 'only',\n",
       " 'onto',\n",
       " 'or',\n",
       " 'other',\n",
       " 'others',\n",
       " 'otherwise',\n",
       " 'our',\n",
       " 'ours',\n",
       " 'ourselves',\n",
       " 'out',\n",
       " 'over',\n",
       " 'own',\n",
       " 'part',\n",
       " 'per',\n",
       " 'perhaps',\n",
       " 'please',\n",
       " 'put',\n",
       " 'quite',\n",
       " 'rather',\n",
       " 're',\n",
       " 'really',\n",
       " 'regarding',\n",
       " 'same',\n",
       " 'say',\n",
       " 'see',\n",
       " 'seem',\n",
       " 'seemed',\n",
       " 'seeming',\n",
       " 'seems',\n",
       " 'serious',\n",
       " 'several',\n",
       " 'she',\n",
       " 'should',\n",
       " 'show',\n",
       " 'side',\n",
       " 'since',\n",
       " 'six',\n",
       " 'sixty',\n",
       " 'so',\n",
       " 'some',\n",
       " 'somehow',\n",
       " 'someone',\n",
       " 'something',\n",
       " 'sometime',\n",
       " 'sometimes',\n",
       " 'somewhere',\n",
       " 'still',\n",
       " 'such',\n",
       " 'take',\n",
       " 'ten',\n",
       " 'than',\n",
       " 'that',\n",
       " 'the',\n",
       " 'their',\n",
       " 'them',\n",
       " 'themselves',\n",
       " 'then',\n",
       " 'thence',\n",
       " 'there',\n",
       " 'thereafter',\n",
       " 'thereby',\n",
       " 'therefore',\n",
       " 'therein',\n",
       " 'thereupon',\n",
       " 'these',\n",
       " 'they',\n",
       " 'third',\n",
       " 'this',\n",
       " 'those',\n",
       " 'though',\n",
       " 'three',\n",
       " 'through',\n",
       " 'throughout',\n",
       " 'thru',\n",
       " 'thus',\n",
       " 'to',\n",
       " 'together',\n",
       " 'too',\n",
       " 'top',\n",
       " 'toward',\n",
       " 'towards',\n",
       " 'twelve',\n",
       " 'twenty',\n",
       " 'two',\n",
       " 'under',\n",
       " 'unless',\n",
       " 'until',\n",
       " 'up',\n",
       " 'upon',\n",
       " 'us',\n",
       " 'used',\n",
       " 'using',\n",
       " 'various',\n",
       " 'very',\n",
       " 'via',\n",
       " 'was',\n",
       " 'we',\n",
       " 'well',\n",
       " 'were',\n",
       " 'what',\n",
       " 'whatever',\n",
       " 'when',\n",
       " 'whence',\n",
       " 'whenever',\n",
       " 'where',\n",
       " 'whereafter',\n",
       " 'whereas',\n",
       " 'whereby',\n",
       " 'wherein',\n",
       " 'whereupon',\n",
       " 'wherever',\n",
       " 'whether',\n",
       " 'which',\n",
       " 'while',\n",
       " 'whither',\n",
       " 'who',\n",
       " 'whoever',\n",
       " 'whole',\n",
       " 'whom',\n",
       " 'whose',\n",
       " 'why',\n",
       " 'will',\n",
       " 'with',\n",
       " 'within',\n",
       " 'without',\n",
       " 'would',\n",
       " 'yet',\n",
       " 'you',\n",
       " 'your',\n",
       " 'yours',\n",
       " 'yourself',\n",
       " 'yourselves',\n",
       " '‘d',\n",
       " '‘ll',\n",
       " '‘m',\n",
       " '‘re',\n",
       " '‘s',\n",
       " '‘ve',\n",
       " '’d',\n",
       " '’ll',\n",
       " '’m',\n",
       " '’re',\n",
       " '’s',\n",
       " '’ve'}"
      ]
     },
<<<<<<< HEAD
     "execution_count": 39,
=======
     "execution_count": 103,
>>>>>>> e62c1cf418925f78597f10b590b0cca3ee6d4c7e
     "metadata": {},
     "output_type": "execute_result"
    }
   ],
   "source": [
    "STOP_WORDS"
   ]
  },
  {
   "cell_type": "code",
<<<<<<< HEAD
   "execution_count": 40,
=======
   "execution_count": 104,
>>>>>>> e62c1cf418925f78597f10b590b0cca3ee6d4c7e
   "metadata": {},
   "outputs": [],
   "source": [
    "tokens = []\n",
    "\n",
    "for doc in tokenizer.pipe(df['reviews.text'], batch_size=500):\n",
    "    \n",
    "    doc_tokens = []\n",
    "    \n",
    "    for token in doc: \n",
    "        if token.text.lower() not in STOP_WORDS:\n",
    "            doc_tokens.append(token.text.lower())\n",
    "   \n",
    "    tokens.append(doc_tokens)\n",
    "    \n",
    "df['tokens'] = tokens"
   ]
  },
  {
   "cell_type": "code",
<<<<<<< HEAD
   "execution_count": 41,
=======
   "execution_count": 105,
>>>>>>> e62c1cf418925f78597f10b590b0cca3ee6d4c7e
   "metadata": {},
   "outputs": [
    {
     "data": {
      "text/html": [
       "<div>\n",
       "<style scoped>\n",
       "    .dataframe tbody tr th:only-of-type {\n",
       "        vertical-align: middle;\n",
       "    }\n",
       "\n",
       "    .dataframe tbody tr th {\n",
       "        vertical-align: top;\n",
       "    }\n",
       "\n",
       "    .dataframe thead th {\n",
       "        text-align: right;\n",
       "    }\n",
       "</style>\n",
       "<table border=\"1\" class=\"dataframe\">\n",
       "  <thead>\n",
       "    <tr style=\"text-align: right;\">\n",
       "      <th></th>\n",
       "      <th>word</th>\n",
       "      <th>appears_in</th>\n",
       "      <th>count</th>\n",
       "      <th>rank</th>\n",
       "      <th>pct_total</th>\n",
       "      <th>cul_pct_total</th>\n",
       "      <th>appears_in_pct</th>\n",
       "    </tr>\n",
       "  </thead>\n",
       "  <tbody>\n",
       "    <tr>\n",
<<<<<<< HEAD
       "      <th>76</th>\n",
=======
       "      <th>74</th>\n",
>>>>>>> e62c1cf418925f78597f10b590b0cca3ee6d4c7e
       "      <td>great</td>\n",
       "      <td>7187</td>\n",
       "      <td>8183</td>\n",
       "      <td>1.0</td>\n",
       "      <td>0.023959</td>\n",
       "      <td>0.023959</td>\n",
       "      <td>0.253671</td>\n",
       "    </tr>\n",
       "    <tr>\n",
<<<<<<< HEAD
       "      <th>68</th>\n",
=======
       "      <th>67</th>\n",
>>>>>>> e62c1cf418925f78597f10b590b0cca3ee6d4c7e
       "      <td>good</td>\n",
       "      <td>4633</td>\n",
       "      <td>5148</td>\n",
       "      <td>2.0</td>\n",
       "      <td>0.015073</td>\n",
       "      <td>0.039032</td>\n",
       "      <td>0.163525</td>\n",
       "    </tr>\n",
       "    <tr>\n",
       "      <th>7808</th>\n",
       "      <td>tablet</td>\n",
       "      <td>3920</td>\n",
       "      <td>4714</td>\n",
       "      <td>3.0</td>\n",
       "      <td>0.013802</td>\n",
       "      <td>0.052834</td>\n",
       "      <td>0.138359</td>\n",
       "    </tr>\n",
       "    <tr>\n",
<<<<<<< HEAD
       "      <th>102</th>\n",
=======
       "      <th>108</th>\n",
>>>>>>> e62c1cf418925f78597f10b590b0cca3ee6d4c7e
       "      <td>love</td>\n",
       "      <td>3154</td>\n",
       "      <td>3458</td>\n",
       "      <td>4.0</td>\n",
       "      <td>0.010125</td>\n",
       "      <td>0.062958</td>\n",
       "      <td>0.111323</td>\n",
       "    </tr>\n",
       "    <tr>\n",
<<<<<<< HEAD
       "      <th>114</th>\n",
=======
       "      <th>110</th>\n",
>>>>>>> e62c1cf418925f78597f10b590b0cca3ee6d4c7e
       "      <td>use</td>\n",
       "      <td>2881</td>\n",
       "      <td>3233</td>\n",
       "      <td>5.0</td>\n",
       "      <td>0.009466</td>\n",
       "      <td>0.072424</td>\n",
       "      <td>0.101687</td>\n",
       "    </tr>\n",
       "  </tbody>\n",
       "</table>\n",
       "</div>"
      ],
      "text/plain": [
       "        word  appears_in  count  rank  pct_total  cul_pct_total  \\\n",
<<<<<<< HEAD
       "76     great        7187   8183   1.0   0.023959       0.023959   \n",
       "68      good        4633   5148   2.0   0.015073       0.039032   \n",
       "7808  tablet        3920   4714   3.0   0.013802       0.052834   \n",
       "102     love        3154   3458   4.0   0.010125       0.062958   \n",
       "114      use        2881   3233   5.0   0.009466       0.072424   \n",
       "\n",
       "      appears_in_pct  \n",
       "76          0.253671  \n",
       "68          0.163525  \n",
       "7808        0.138359  \n",
       "102         0.111323  \n",
       "114         0.101687  "
      ]
     },
     "execution_count": 41,
=======
       "74     great        7187   8183   1.0   0.023959       0.023959   \n",
       "67      good        4633   5148   2.0   0.015073       0.039032   \n",
       "7808  tablet        3920   4714   3.0   0.013802       0.052834   \n",
       "108     love        3154   3458   4.0   0.010125       0.062958   \n",
       "110      use        2881   3233   5.0   0.009466       0.072424   \n",
       "\n",
       "      appears_in_pct  \n",
       "74          0.253671  \n",
       "67          0.163525  \n",
       "7808        0.138359  \n",
       "108         0.111323  \n",
       "110         0.101687  "
      ]
     },
     "execution_count": 105,
>>>>>>> e62c1cf418925f78597f10b590b0cca3ee6d4c7e
     "metadata": {},
     "output_type": "execute_result"
    }
   ],
   "source": [
    "wc = count(df['tokens'])\n",
    "wc.head()"
   ]
  },
  {
   "cell_type": "code",
<<<<<<< HEAD
   "execution_count": 42,
=======
   "execution_count": 106,
>>>>>>> e62c1cf418925f78597f10b590b0cca3ee6d4c7e
   "metadata": {},
   "outputs": [
    {
     "data": {
<<<<<<< HEAD
      "image/png": "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\n",
=======
      "image/png": "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\n",
>>>>>>> e62c1cf418925f78597f10b590b0cca3ee6d4c7e
      "text/plain": [
       "<Figure size 432x288 with 1 Axes>"
      ]
     },
     "metadata": {
      "needs_background": "light"
     },
     "output_type": "display_data"
    }
   ],
   "source": [
    "wc_top20 = wc[wc['rank'] <= 20]\n",
    "\n",
    "squarify.plot(sizes=wc_top20['pct_total'], label=wc_top20['word'], alpha=.8 )\n",
    "plt.axis('off')\n",
    "plt.show()"
   ]
  },
  {
   "cell_type": "code",
<<<<<<< HEAD
   "execution_count": 43,
=======
   "execution_count": 47,
>>>>>>> e62c1cf418925f78597f10b590b0cca3ee6d4c7e
   "metadata": {},
   "outputs": [
    {
     "data": {
      "text/plain": [
       "5    19897\n",
       "4     5648\n",
       "3     1206\n",
       "1      965\n",
       "2      616\n",
       "Name: reviews.rating, dtype: int64"
      ]
     },
<<<<<<< HEAD
     "execution_count": 43,
=======
     "execution_count": 47,
>>>>>>> e62c1cf418925f78597f10b590b0cca3ee6d4c7e
     "metadata": {},
     "output_type": "execute_result"
    }
   ],
   "source": [
    "df['reviews.rating'].value_counts()"
   ]
  },
  {
   "cell_type": "markdown",
   "metadata": {},
   "source": [
    "### Statistical Trimming\n",
    "\n",
    "So far, we have talked about stop word in relation to either broad english words or domain specific stop words. Another common approach to stop word removal is via statistical trimming. The basic idea: preserve the words that give the most about of variation in your data. \n",
    "\n",
    "Do you remember this graph?"
   ]
  },
  {
   "cell_type": "code",
<<<<<<< HEAD
   "execution_count": 44,
=======
   "execution_count": 48,
>>>>>>> e62c1cf418925f78597f10b590b0cca3ee6d4c7e
   "metadata": {},
   "outputs": [
    {
     "data": {
<<<<<<< HEAD
      "image/png": "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\n",
=======
      "image/png": "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\n",
>>>>>>> e62c1cf418925f78597f10b590b0cca3ee6d4c7e
      "text/plain": [
       "<Figure size 432x288 with 1 Axes>"
      ]
     },
     "metadata": {
      "needs_background": "light"
     },
     "output_type": "display_data"
    }
   ],
   "source": [
    "sns.lineplot(x='rank', y='cul_pct_total', data=wc);"
   ]
  },
  {
   "cell_type": "markdown",
   "metadata": {},
   "source": [
    "This graph tells us that only a *handful* of words represented 80% of words in the overall corpus. We can interpret this in two ways: \n",
    "1. The words that appear most frequently may not provide any insight into the mean on the documens since they are so prevalent. \n",
    "2. Words that appear infrequeny (at the end of the graph) also probably do not add much value, because the are mentioned so rarely. \n",
    "\n",
    "Let's take a look at the words at the bottom and the top and make a decision for ourselves:"
   ]
  },
  {
   "cell_type": "code",
<<<<<<< HEAD
   "execution_count": 45,
=======
   "execution_count": 107,
>>>>>>> e62c1cf418925f78597f10b590b0cca3ee6d4c7e
   "metadata": {},
   "outputs": [
    {
     "data": {
      "text/html": [
       "<div>\n",
       "<style scoped>\n",
       "    .dataframe tbody tr th:only-of-type {\n",
       "        vertical-align: middle;\n",
       "    }\n",
       "\n",
       "    .dataframe tbody tr th {\n",
       "        vertical-align: top;\n",
       "    }\n",
       "\n",
       "    .dataframe thead th {\n",
       "        text-align: right;\n",
       "    }\n",
       "</style>\n",
       "<table border=\"1\" class=\"dataframe\">\n",
       "  <thead>\n",
       "    <tr style=\"text-align: right;\">\n",
       "      <th></th>\n",
       "      <th>word</th>\n",
       "      <th>appears_in</th>\n",
       "      <th>count</th>\n",
       "      <th>rank</th>\n",
       "      <th>pct_total</th>\n",
       "      <th>cul_pct_total</th>\n",
       "      <th>appears_in_pct</th>\n",
       "    </tr>\n",
       "  </thead>\n",
       "  <tbody>\n",
       "    <tr>\n",
<<<<<<< HEAD
       "      <th>21200</th>\n",
=======
       "      <th>21201</th>\n",
>>>>>>> e62c1cf418925f78597f10b590b0cca3ee6d4c7e
       "      <td>cares</td>\n",
       "      <td>1</td>\n",
       "      <td>1</td>\n",
       "      <td>21201.0</td>\n",
       "      <td>0.000003</td>\n",
       "      <td>0.999944</td>\n",
       "      <td>0.000035</td>\n",
       "    </tr>\n",
       "    <tr>\n",
<<<<<<< HEAD
       "      <th>21201</th>\n",
=======
       "      <th>21202</th>\n",
>>>>>>> e62c1cf418925f78597f10b590b0cca3ee6d4c7e
       "      <td>photo/video</td>\n",
       "      <td>1</td>\n",
       "      <td>1</td>\n",
       "      <td>21202.0</td>\n",
       "      <td>0.000003</td>\n",
       "      <td>0.999947</td>\n",
       "      <td>0.000035</td>\n",
       "    </tr>\n",
       "    <tr>\n",
<<<<<<< HEAD
       "      <th>21202</th>\n",
=======
       "      <th>21200</th>\n",
>>>>>>> e62c1cf418925f78597f10b590b0cca3ee6d4c7e
       "      <td>taking,</td>\n",
       "      <td>1</td>\n",
       "      <td>1</td>\n",
       "      <td>21203.0</td>\n",
       "      <td>0.000003</td>\n",
       "      <td>0.999950</td>\n",
       "      <td>0.000035</td>\n",
       "    </tr>\n",
       "    <tr>\n",
       "      <th>21203</th>\n",
       "      <td>\"t\".</td>\n",
       "      <td>1</td>\n",
       "      <td>1</td>\n",
       "      <td>21204.0</td>\n",
       "      <td>0.000003</td>\n",
       "      <td>0.999953</td>\n",
       "      <td>0.000035</td>\n",
       "    </tr>\n",
       "    <tr>\n",
<<<<<<< HEAD
       "      <th>21205</th>\n",
=======
       "      <th>21204</th>\n",
>>>>>>> e62c1cf418925f78597f10b590b0cca3ee6d4c7e
       "      <td>say..............................................</td>\n",
       "      <td>1</td>\n",
       "      <td>1</td>\n",
       "      <td>21205.0</td>\n",
       "      <td>0.000003</td>\n",
       "      <td>0.999956</td>\n",
       "      <td>0.000035</td>\n",
       "    </tr>\n",
       "    <tr>\n",
<<<<<<< HEAD
       "      <th>21204</th>\n",
=======
       "      <th>21205</th>\n",
>>>>>>> e62c1cf418925f78597f10b590b0cca3ee6d4c7e
       "      <td>kindlelishous!!!!!!!!!!!!!</td>\n",
       "      <td>1</td>\n",
       "      <td>1</td>\n",
       "      <td>21206.0</td>\n",
       "      <td>0.000003</td>\n",
       "      <td>0.999959</td>\n",
       "      <td>0.000035</td>\n",
       "    </tr>\n",
       "    <tr>\n",
       "      <th>21206</th>\n",
       "      <td>competent,</td>\n",
       "      <td>1</td>\n",
       "      <td>1</td>\n",
       "      <td>21207.0</td>\n",
       "      <td>0.000003</td>\n",
       "      <td>0.999962</td>\n",
       "      <td>0.000035</td>\n",
       "    </tr>\n",
       "    <tr>\n",
       "      <th>21207</th>\n",
       "      <td>3-year-old,</td>\n",
       "      <td>1</td>\n",
       "      <td>1</td>\n",
       "      <td>21208.0</td>\n",
       "      <td>0.000003</td>\n",
       "      <td>0.999965</td>\n",
       "      <td>0.000035</td>\n",
       "    </tr>\n",
       "    <tr>\n",
<<<<<<< HEAD
       "      <th>21209</th>\n",
=======
       "      <th>21208</th>\n",
>>>>>>> e62c1cf418925f78597f10b590b0cca3ee6d4c7e
       "      <td>dollars.my</td>\n",
       "      <td>1</td>\n",
       "      <td>1</td>\n",
       "      <td>21209.0</td>\n",
       "      <td>0.000003</td>\n",
       "      <td>0.999968</td>\n",
       "      <td>0.000035</td>\n",
       "    </tr>\n",
       "    <tr>\n",
<<<<<<< HEAD
       "      <th>21208</th>\n",
=======
       "      <th>21209</th>\n",
>>>>>>> e62c1cf418925f78597f10b590b0cca3ee6d4c7e
       "      <td>relies</td>\n",
       "      <td>1</td>\n",
       "      <td>1</td>\n",
       "      <td>21210.0</td>\n",
       "      <td>0.000003</td>\n",
       "      <td>0.999971</td>\n",
       "      <td>0.000035</td>\n",
       "    </tr>\n",
       "    <tr>\n",
       "      <th>21210</th>\n",
       "      <td>readi,g</td>\n",
       "      <td>1</td>\n",
       "      <td>1</td>\n",
       "      <td>21211.0</td>\n",
       "      <td>0.000003</td>\n",
       "      <td>0.999974</td>\n",
       "      <td>0.000035</td>\n",
       "    </tr>\n",
       "    <tr>\n",
<<<<<<< HEAD
       "      <th>21213</th>\n",
=======
       "      <th>21211</th>\n",
>>>>>>> e62c1cf418925f78597f10b590b0cca3ee6d4c7e
       "      <td>perfectly..great</td>\n",
       "      <td>1</td>\n",
       "      <td>1</td>\n",
       "      <td>21212.0</td>\n",
       "      <td>0.000003</td>\n",
       "      <td>0.999977</td>\n",
       "      <td>0.000035</td>\n",
       "    </tr>\n",
       "    <tr>\n",
<<<<<<< HEAD
       "      <th>21211</th>\n",
=======
       "      <th>21214</th>\n",
>>>>>>> e62c1cf418925f78597f10b590b0cca3ee6d4c7e
       "      <td>blanking</td>\n",
       "      <td>1</td>\n",
       "      <td>1</td>\n",
       "      <td>21213.0</td>\n",
       "      <td>0.000003</td>\n",
       "      <td>0.999980</td>\n",
       "      <td>0.000035</td>\n",
       "    </tr>\n",
       "    <tr>\n",
<<<<<<< HEAD
       "      <th>21212</th>\n",
=======
       "      <th>21213</th>\n",
>>>>>>> e62c1cf418925f78597f10b590b0cca3ee6d4c7e
       "      <td>app\"</td>\n",
       "      <td>1</td>\n",
       "      <td>1</td>\n",
       "      <td>21214.0</td>\n",
       "      <td>0.000003</td>\n",
       "      <td>0.999982</td>\n",
       "      <td>0.000035</td>\n",
       "    </tr>\n",
       "    <tr>\n",
<<<<<<< HEAD
       "      <th>21214</th>\n",
=======
       "      <th>21212</th>\n",
>>>>>>> e62c1cf418925f78597f10b590b0cca3ee6d4c7e
       "      <td>have...then</td>\n",
       "      <td>1</td>\n",
       "      <td>1</td>\n",
       "      <td>21215.0</td>\n",
       "      <td>0.000003</td>\n",
       "      <td>0.999985</td>\n",
       "      <td>0.000035</td>\n",
       "    </tr>\n",
       "    <tr>\n",
       "      <th>21215</th>\n",
       "      <td>moztly</td>\n",
       "      <td>1</td>\n",
       "      <td>1</td>\n",
       "      <td>21216.0</td>\n",
       "      <td>0.000003</td>\n",
       "      <td>0.999988</td>\n",
       "      <td>0.000035</td>\n",
       "    </tr>\n",
       "    <tr>\n",
       "      <th>21216</th>\n",
       "      <td>titles,</td>\n",
       "      <td>1</td>\n",
       "      <td>1</td>\n",
       "      <td>21217.0</td>\n",
       "      <td>0.000003</td>\n",
       "      <td>0.999991</td>\n",
       "      <td>0.000035</td>\n",
       "    </tr>\n",
       "    <tr>\n",
       "      <th>21217</th>\n",
       "      <td>it..better</td>\n",
       "      <td>1</td>\n",
       "      <td>1</td>\n",
       "      <td>21218.0</td>\n",
       "      <td>0.000003</td>\n",
       "      <td>0.999994</td>\n",
       "      <td>0.000035</td>\n",
       "    </tr>\n",
       "    <tr>\n",
       "      <th>21218</th>\n",
       "      <td>shows/movies!</td>\n",
       "      <td>1</td>\n",
       "      <td>1</td>\n",
       "      <td>21219.0</td>\n",
       "      <td>0.000003</td>\n",
       "      <td>0.999997</td>\n",
       "      <td>0.000035</td>\n",
       "    </tr>\n",
       "    <tr>\n",
       "      <th>21219</th>\n",
       "      <td>bookreader.</td>\n",
       "      <td>1</td>\n",
       "      <td>1</td>\n",
       "      <td>21220.0</td>\n",
       "      <td>0.000003</td>\n",
       "      <td>1.000000</td>\n",
       "      <td>0.000035</td>\n",
       "    </tr>\n",
       "  </tbody>\n",
       "</table>\n",
       "</div>"
      ],
      "text/plain": [
       "                                                    word  appears_in  count  \\\n",
<<<<<<< HEAD
       "21200                                              cares           1      1   \n",
       "21201                                        photo/video           1      1   \n",
       "21202                                            taking,           1      1   \n",
       "21203                                               \"t\".           1      1   \n",
       "21205  say..............................................           1      1   \n",
       "21204                         kindlelishous!!!!!!!!!!!!!           1      1   \n",
       "21206                                         competent,           1      1   \n",
       "21207                                        3-year-old,           1      1   \n",
       "21209                                         dollars.my           1      1   \n",
       "21208                                             relies           1      1   \n",
       "21210                                            readi,g           1      1   \n",
       "21213                                   perfectly..great           1      1   \n",
       "21211                                           blanking           1      1   \n",
       "21212                                               app\"           1      1   \n",
       "21214                                        have...then           1      1   \n",
=======
       "21201                                              cares           1      1   \n",
       "21202                                        photo/video           1      1   \n",
       "21200                                            taking,           1      1   \n",
       "21203                                               \"t\".           1      1   \n",
       "21204  say..............................................           1      1   \n",
       "21205                         kindlelishous!!!!!!!!!!!!!           1      1   \n",
       "21206                                         competent,           1      1   \n",
       "21207                                        3-year-old,           1      1   \n",
       "21208                                         dollars.my           1      1   \n",
       "21209                                             relies           1      1   \n",
       "21210                                            readi,g           1      1   \n",
       "21211                                   perfectly..great           1      1   \n",
       "21214                                           blanking           1      1   \n",
       "21213                                               app\"           1      1   \n",
       "21212                                        have...then           1      1   \n",
>>>>>>> e62c1cf418925f78597f10b590b0cca3ee6d4c7e
       "21215                                             moztly           1      1   \n",
       "21216                                            titles,           1      1   \n",
       "21217                                         it..better           1      1   \n",
       "21218                                      shows/movies!           1      1   \n",
       "21219                                        bookreader.           1      1   \n",
       "\n",
       "          rank  pct_total  cul_pct_total  appears_in_pct  \n",
<<<<<<< HEAD
       "21200  21201.0   0.000003       0.999944        0.000035  \n",
       "21201  21202.0   0.000003       0.999947        0.000035  \n",
       "21202  21203.0   0.000003       0.999950        0.000035  \n",
       "21203  21204.0   0.000003       0.999953        0.000035  \n",
       "21205  21205.0   0.000003       0.999956        0.000035  \n",
       "21204  21206.0   0.000003       0.999959        0.000035  \n",
       "21206  21207.0   0.000003       0.999962        0.000035  \n",
       "21207  21208.0   0.000003       0.999965        0.000035  \n",
       "21209  21209.0   0.000003       0.999968        0.000035  \n",
       "21208  21210.0   0.000003       0.999971        0.000035  \n",
       "21210  21211.0   0.000003       0.999974        0.000035  \n",
       "21213  21212.0   0.000003       0.999977        0.000035  \n",
       "21211  21213.0   0.000003       0.999980        0.000035  \n",
       "21212  21214.0   0.000003       0.999982        0.000035  \n",
       "21214  21215.0   0.000003       0.999985        0.000035  \n",
=======
       "21201  21201.0   0.000003       0.999944        0.000035  \n",
       "21202  21202.0   0.000003       0.999947        0.000035  \n",
       "21200  21203.0   0.000003       0.999950        0.000035  \n",
       "21203  21204.0   0.000003       0.999953        0.000035  \n",
       "21204  21205.0   0.000003       0.999956        0.000035  \n",
       "21205  21206.0   0.000003       0.999959        0.000035  \n",
       "21206  21207.0   0.000003       0.999962        0.000035  \n",
       "21207  21208.0   0.000003       0.999965        0.000035  \n",
       "21208  21209.0   0.000003       0.999968        0.000035  \n",
       "21209  21210.0   0.000003       0.999971        0.000035  \n",
       "21210  21211.0   0.000003       0.999974        0.000035  \n",
       "21211  21212.0   0.000003       0.999977        0.000035  \n",
       "21214  21213.0   0.000003       0.999980        0.000035  \n",
       "21213  21214.0   0.000003       0.999982        0.000035  \n",
       "21212  21215.0   0.000003       0.999985        0.000035  \n",
>>>>>>> e62c1cf418925f78597f10b590b0cca3ee6d4c7e
       "21215  21216.0   0.000003       0.999988        0.000035  \n",
       "21216  21217.0   0.000003       0.999991        0.000035  \n",
       "21217  21218.0   0.000003       0.999994        0.000035  \n",
       "21218  21219.0   0.000003       0.999997        0.000035  \n",
       "21219  21220.0   0.000003       1.000000        0.000035  "
      ]
     },
<<<<<<< HEAD
     "execution_count": 45,
=======
     "execution_count": 107,
>>>>>>> e62c1cf418925f78597f10b590b0cca3ee6d4c7e
     "metadata": {},
     "output_type": "execute_result"
    }
   ],
   "source": [
    "wc.tail(20)"
   ]
  },
  {
   "cell_type": "code",
<<<<<<< HEAD
   "execution_count": 46,
=======
   "execution_count": 50,
>>>>>>> e62c1cf418925f78597f10b590b0cca3ee6d4c7e
   "metadata": {},
   "outputs": [
    {
     "data": {
      "text/plain": [
<<<<<<< HEAD
       "count    21220.000000\n",
       "mean         0.000538\n",
       "std          0.003705\n",
=======
       "count    21221.000000\n",
       "mean         0.000544\n",
       "std          0.003826\n",
>>>>>>> e62c1cf418925f78597f10b590b0cca3ee6d4c7e
       "min          0.000035\n",
       "25%          0.000035\n",
       "50%          0.000071\n",
       "75%          0.000176\n",
       "max          0.253671\n",
       "Name: appears_in_pct, dtype: float64"
      ]
     },
<<<<<<< HEAD
     "execution_count": 46,
=======
     "execution_count": 50,
>>>>>>> e62c1cf418925f78597f10b590b0cca3ee6d4c7e
     "metadata": {},
     "output_type": "execute_result"
    }
   ],
   "source": [
    "wc['appears_in_pct'].describe()"
   ]
  },
  {
   "cell_type": "code",
<<<<<<< HEAD
   "execution_count": 47,
=======
   "execution_count": 51,
>>>>>>> e62c1cf418925f78597f10b590b0cca3ee6d4c7e
   "metadata": {},
   "outputs": [
    {
     "name": "stderr",
     "output_type": "stream",
     "text": [
<<<<<<< HEAD
      "/Users/spentaur/.local/share/virtualenvs/lambda-e5gwxZ0x/lib/python3.7/site-packages/scipy/stats/stats.py:1713: FutureWarning: Using a non-tuple sequence for multidimensional indexing is deprecated; use `arr[tuple(seq)]` instead of `arr[seq]`. In the future this will be interpreted as an array index, `arr[np.array(seq)]`, which will result either in an error or a different result.\n",
=======
      "/Users/jonathansokoll/anaconda3/envs/U4-S1-NLP-DS6/lib/python3.7/site-packages/scipy/stats/stats.py:1713: FutureWarning: Using a non-tuple sequence for multidimensional indexing is deprecated; use `arr[tuple(seq)]` instead of `arr[seq]`. In the future this will be interpreted as an array index, `arr[np.array(seq)]`, which will result either in an error or a different result.\n",
>>>>>>> e62c1cf418925f78597f10b590b0cca3ee6d4c7e
      "  return np.add.reduce(sorted[indexer] * weights, axis=axis) / sumval\n"
     ]
    },
    {
     "data": {
<<<<<<< HEAD
      "image/png": "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\n",
=======
      "image/png": "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\n",
>>>>>>> e62c1cf418925f78597f10b590b0cca3ee6d4c7e
      "text/plain": [
       "<Figure size 432x288 with 1 Axes>"
      ]
     },
     "metadata": {
      "needs_background": "light"
     },
     "output_type": "display_data"
    }
   ],
   "source": [
    "# Frequency of appears in documents\n",
    "sns.distplot(wc['appears_in_pct']);"
   ]
  },
  {
   "cell_type": "code",
<<<<<<< HEAD
   "execution_count": 48,
=======
   "execution_count": 52,
>>>>>>> e62c1cf418925f78597f10b590b0cca3ee6d4c7e
   "metadata": {},
   "outputs": [
    {
     "data": {
<<<<<<< HEAD
      "image/png": "iVBORw0KGgoAAAANSUhEUgAAAXAAAAEHCAYAAAC3Ph1GAAAABHNCSVQICAgIfAhkiAAAAAlwSFlzAAALEgAACxIB0t1+/AAAADh0RVh0U29mdHdhcmUAbWF0cGxvdGxpYiB2ZXJzaW9uMy4xLjIsIGh0dHA6Ly9tYXRwbG90bGliLm9yZy8li6FKAAAgAElEQVR4nO3deZxcZZ3v8c+vqrt637uzdjqdDUIIJEgTQthXEQfBBVREURhR7+DoHefOdWTuHWdGZ8YN9M4444AoYZRFRRRRAyEGQiRkJWTp7PvaW7qTXtJLdT33jzodyqaT9FLVVaf7+3696lWnnjqnzi8n3d9+6izPMeccIiLiP4FkFyAiIoOjABcR8SkFuIiITynARUR8SgEuIuJTacO5stLSUldZWTmcqxQR8b21a9fWO+fKercPa4BXVlayZs2a4VyliIjvmdm+vtq1C0VExKcU4CIiPqUAFxHxKQW4iIhPKcBFRHxKAS4i4lMKcBERn1KAi4j4lAJcRMSnhvVKzNHuyZX7B7zMXZdWJKASERkJ1AMXEfEpBbiIiE+dNcDNLNPMVpnZW2a22cz+wWufYmYrzWynmT1jZqHElysiIj360wPvAK5zzs0B5gI3m9l84BvAw8656UAjcF/iyhQRkd7OGuAuqsV7me49HHAd8AuvfSFwe0IqFBGRPvVrH7iZBc1sPVALLAZ2AU3OubA3y0FgYmJKFBGRvvQrwJ1z3c65uUA5MA+Y2d8VmNn9ZrbGzNbU1dUNskwREeltQGehOOeagKXAZUChmfWcR14OHDrNMo8456qcc1VlZe+4I5CIiAxSf85CKTOzQm86C7gR2EI0yD/kzXYP8OtEFSkiIu/UnysxxwMLzSxINPB/5px7wcyqgafN7GvAm8BjCaxTRER6OWuAO+c2ABf10b6b6P5wERFJAl2JKSLiUwpwERGfUoCLiPiUAlxExKcU4CIiPqUAFxHxKQW4iIhPKcBFRHxKAS4i4lMKcBERn1KAi4j4lAJcRMSnFOAiIj6lABcR8SkFuIiITynARUR8SgEuIuJTCnAREZ9SgIuI+JQCXETEpxTgIiI+pQAXEfEpBbiIiE8pwEVEfEoBLiLiU2cNcDObZGZLzazazDab2Re89q+a2SEzW+89bkl8uSIi0iOtH/OEgS8559aZWR6w1swWe+897Jz7duLKExGR0zlrgDvnjgBHvOlmM9sCTEx0YSIicmYD2gduZpXARcBKr+kBM9tgZj8ys6LTLHO/ma0xszV1dXVDKlZERN7W7wA3s1zgWeCLzrkTwH8C04C5RHvo3+lrOefcI865KudcVVlZWRxKFhER6GeAm1k60fD+qXPulwDOuRrnXLdzLgI8CsxLXJkiItJbf85CMeAxYItz7qGY9vExs70f2BT/8kRE5HT6cxbK5cDHgY1mtt5r+wrwUTObCzhgL/CZhFQoIiJ96s9ZKMsB6+Ot38W/HBER6S9diSki4lMKcBERn1KAi4j4lAJcRMSnFOAiIj6lABcR8SkFuIiITynARUR8SgEuIuJTCnAREZ9SgIuI+JQCXETEpxTgIiI+pQAXEfEpBbiIiE8pwEVEfEoBLiLiUwpwERGfUoCLiPiUAlxExKcU4CIiPqUAFxHxKQW4iIhPKcBFRHzqrAFuZpPMbKmZVZvZZjP7gtdebGaLzWyH91yU+HJFRKRHf3rgYeBLzrlZwHzgL8xsFvBlYIlzbgawxHstIiLD5KwB7pw74pxb5003A1uAicBtwEJvtoXA7YkqUkRE3mlA+8DNrBK4CFgJjHXOHfHeOgqMPc0y95vZGjNbU1dXN4RSRUQkVr8D3MxygWeBLzrnTsS+55xzgOtrOefcI865KudcVVlZ2ZCKFRGRt/UrwM0snWh4/9Q590uvucbMxnvvjwdqE1OiiIj0pT9noRjwGLDFOfdQzFvPA/d40/cAv45/eSIicjpp/ZjncuDjwEYzW++1fQX4V+BnZnYfsA+4MzEliohIX84a4M655YCd5u3r41uOiIj0l67EFBHxKQW4iIhPKcBFRHxKAS4i4lMKcBERn1KAi4j4lAJcRMSnFOAiIj6lABcR8SkFuIiITynARUR8SgEuIuJTCnAREZ9SgIuI+JQCXETEpxTgIiI+pQAXEfEpBbiIiE8pwEVEfEoBLiLiUwpwERGfUoCLiPiUAlxExKcU4CIiPqUAFxHxqbMGuJn9yMxqzWxTTNtXzeyQma33HrcktkwREektrR/zPA78O/BEr/aHnXPfjntFo1xLR5jm9i7auyJ0dUc42dlNViiY7LJEJAWdNcCdc8vMrDLxpYxuzjmW76xn0aajuJj2V7fX8e07LuTiycVJq01EUlN/euCn84CZfQJYA3zJOdfY10xmdj9wP0BFRcUQVjdyhSMRnl9/mDX7Gpk1Pp+5kwrJTA/S3tXNq9vr+NAPVvDpK6fyVzeeQ2a6euMiEjXYg5j/CUwD5gJHgO+cbkbn3CPOuSrnXFVZWdkgVzdydYS7+fEf97JmXyPXnlvGXZdWMHtiAdPH5DJ7YgEv/s+r+MglFTyybDdf+vlbOOfO/qEiMioMqgfunKvpmTazR4EX4lbRKLO4uoa99a3ccXE5F1UUveP93Iw0/uUDF1BelMW3XtzGvMpi7llQOfyFikjKGVQP3MzGx7x8P7DpdPPK6R1sbGPFrgbmTSnuM7xjfe7qaVw3cwxf+2016w80DVOFIpLKztoDN7OngGuAUjM7CPw9cI2ZzQUcsBf4TAJrHJG6I45frT9EbkYa7z5/3Gnne3Ll/lPTC6aVsG5/I5/88SoeuHY62aHT//fddamON4iMdP05C+WjfTQ/loBaRpU3djdwuKmdj86r6PeByexQGnfNq+C/Xt3Nbzcc4Y6qSQmuUkRSma7ETILjJ7tYXF3DuWPzmD0hf0DLlhdlc/n0UtYfaOJw08kEVSgifqAAT4LlO+oIRyLcOmcCZjbg5a85t4ysUJDfbzqis1JERjEF+DBr7+pmzb5GZk8soDgnNKjPyEwPct3MMeyqa2V7TUucKxQRv1CAD7N1+xvpCEe4fFrpkD5n3pRiSnJCLNp8hIh64SKjkgJ8GEWc4/VdDVQUZzOpOHtIn5UWCHDT+eOoOdHBun19XgQrIiOcAnwYbT3SzLHWTi6fPrTed4/ZE/IpL8rile11dEfUCxcZbRTgw+iPu+opzEpn1viBnXlyOmbG1eeUcay1k82Hj8flM0XEPxTgw2Tz4ePsqW/lsmklBAMDP/PkdM4bn09pbohlO+p0RorIKKMAHyY/W32AtIBRFedhYQNmXDmjjMNN7eyqa43rZ4tIalOAD4Nwd4QXNhxh5ri8hNycYe6kQvIy0nhtR13cP1tEUpcCfBgs31lPQ2sncycVJuTz04MBFkwrYUdti67OFBlFFODD4NfrD5OfmcY5Y/MSto55U0oIpQXUCxcZRRTgCdbWGebFzUd574XjSQsmbnNnhYJUTS5i46HjnGjvSth6RCR1KMATbHF1DW2d3dw2d2LC1zV/agkRB6v3Hkv4ukQk+RTgCfbr9YeZUJDJvMrE35S4NDeDc8bmsmrPMbq6Iwlfn4gklwI8gY61drJsex23zp1AII7nfp/J/KklNLeHWbTp6LCsT0SSRwGeQL/beIRwxHH7MOw+6XHO2DyKc0I8sWLvsK1TRJJDAZ5AizYdZWppDjPHJe7sk94CZsyfUszqvY26vF5khFOAJ8jxti7e2N3ATeePG9RNG4bi4snFZKUHeeL1fcO6XhEZXgrwBPnDthrCEce7zx877OvOCgW5/aIJ/PqtQxxv0ymFIiOVAjxBXtxUw9j8DOaUJ+bqy7O5e/5k2rsiPLvuYFLWLyKJpwBPgPaubl7dXsdNs8YN29knvZ0/oYCLKgr5ycp9GqVQZIRSgCfAsu11nOzq5qYk7D6Jdfelk9ld18qKXQ1JrUNEEkMBngAvbq4hPzON+VNLklrHey8cT2F2Oj9ZqYOZIiPRWQPczH5kZrVmtimmrdjMFpvZDu+5KLFl+ke4O8KSrTVcf95Y0hM49kl/ZKYHubNqEi9trqHmRHtSaxGR+OtPwjwO3Nyr7cvAEufcDGCJ91qAVXuP0dTWlZSzT/rysUsrCEccT686kOxSRCTOzhrgzrllQO/RkW4DFnrTC4Hb41yXb720uYaMtABXnVOW7FIAmFySw1XnlPHUqv2ENT6KyIgy2O/4Y51zR7zpo8Bpu5tmdr+ZrTGzNXV1I3usauccS7bWcPn0UrJDacku55RPzJ/M0RPtLK6uSXYpIhJHQ95J66LnqJ32PDXn3CPOuSrnXFVZWWr0ShNlR20LB46d5PrzxiS7lD9x7cwxTCzMYuGKvckuRUTiaLABXmNm4wG859r4leRfL2+J9nCvn5ka+797BAPGxy+bzBu7j7G9pjnZ5YhInAw2wJ8H7vGm7wF+HZ9y/G3JllpmT8xnXEFmskt5hzurJhFKC2iUQpERpD+nET4FrADONbODZnYf8K/AjWa2A7jBez2qNbR0sG5/Y8r1vnsU54R435wJ/HLdId1yTWSE6M9ZKB91zo13zqU758qdc4855xqcc9c752Y4525wzo36e3gt3VaHc3DDeakZ4ACfuGwybZ3d/HKtxkcRGQl0JWacLNkSHbxq9sT8ZJdyWheWFzJ3UiFPrNhHJKLxUUT8TgEeBx3hbpZtr+O6mWOHfezvgfrU5ZXsrm/l1e0j+5ROkdFAAR4Hq/Yco7WzmxtS7PTBvtxywXjG5Wfyw+W7k12KiAyRAjwOlmypJTM9wOXTS5NdylmlBwN88vJK/rizgerDJ5JdjogMgQJ8iJxzLK6u4YrpZWSmB5NdTr989JIKstKDPLZ8T7JLEZEhUIAP0dajzRxqOumL3Sc9CrLTubOqnOffOkStRikU8S0F+BAt8a6+vM5HAQ7wqcunEI44/vsNjRUu4lcK8CFavKWWuZMKGZOXeldfnkllaQ43njeW/35jH22d4WSXIyKDoAAfgtoT7bx1oIkbZ6XuxTtn8pmrp9HU1sVP39if7FJEZBAU4EOwZGt0DK9UG32wvy6eXMTl00t45LXdtHd1J7scERkgBfgQvFxdQ3lRFueOzUt2KYP2wLUzqGvu4JnVumOPiN8owAfpZGc3y3fWc8N5qX/15ZnMn1rMJZVF/ODVXXSGdcceET9RgA/S8p31dIQjKT14VX+YGQ9cN4Mjx9t5dp0GuRLxk9S575fPLK4+Sl5GGvOmFCe7lD49ubL/Byadc5QXZfHNRVv50MXlpAf1d13ED/SbOgjh7ggvb6nlmpljCKX5fxOaGdfNHENjWxdPa1+4iG/4P32SYNXeYxxr7eQ9s8clu5S4OXdsHpUlOXzv5e20dOi8cBE/UIAPwqJNR8lMD3DNuSPnJs1mxntmj6O+pZNHl2mkQhE/UIAPUCTiWLTpKFefU0Z2aGQdQphUnM17LxzPo6/t1hgpIj6gAB+gNw80UdvcwXtmj092KQnxv246l85whO8u2ZHsUkTkLBTgA7Ro0xHSg+a7wav6q7I0h7vnT+aZ1QfYelTjhYukMgX4ADjn+P2mo1wxvZT8zPRkl5MwX7h+BgVZ6Xzllxt170yRFKYAH4DNh09wsPHkiN190qMoJ8SDt5zHuv1NPLlKA12JpCoF+AD8ftMRggHjBp+OPjgQH3jXRBZMK+Ebi7bqgKZIilKA95Nzjt9uOML8qcUU54SSXU7CmRlff/8FdIQj/MML1ckuR0T6MKQAN7O9ZrbRzNab2Zp4FZWK1h9oYm9DG7fNnZjsUobNlNIcPn/tdH674Qi/33gk2eWISC/x6IFf65yb65yrisNnpazn3jxERlpgRF192R+fuXoac8oL+JtnN3DgWFuyyxGRGNqF0g9d3RF+89Zhbpw1lrwRfPZJX0JpAf7to+8CB194+k26ujXkrEiqGGqAO+AlM1trZvfHo6BU9Oq2OhrbuvjAu0bP7pNYFSXZ/PMHLmDd/iYeXrw92eWIiGeo14Jf4Zw7ZGZjgMVmttU5tyx2Bi/Y7weoqKgY4uqS47n1hyjJCXHljJEz9slA3TpnAn/cWc9/vrqLd1UUjYozcURS3ZB64M65Q95zLfAcMK+PeR5xzlU556rKyvwXgCfau1hcXcOtcyaM+nGy//7W85k9oYDPP/UmGw42JbsckVFv0IlkZjlmltczDdwEbIpXYali0cajdIYj3H7R6Nx9EisrFOSxT1ZRnBPi3sfX6KCmSJINpUs5FlhuZm8Bq4DfOucWxaes1PHsuoNMLc1hTnlBsktJCWPyMll47yV0hrv55I9X0dTWmeySREatQQe4c263c26O9zjfOff1eBaWCnbUNLNyzzE+VFXu6xsXx9v0MXk8+okqDhw7yUceeYO65o5klyQyKo3unbpn8cSKfYTSAnzkEn8efE2kS6eW8Ngnq9jX0MaH/2sFh5tOJrskkVFHAX4aJ9q7eHbdQd43Z8KouHR+MK6cUcYT982jrrmDO36wgt11LckuSWRUUYCfxrNrD9LW2c09l1Umu5SUdkllMU9+ej5tnWFu+/4f+cPWmmSXJDJqKMD7EIk4/nvFPi6qKOQCHbw8qwvKC3j+gSuYVJTNfQvX8P+W7NA44iLDYGTd1DFOlu+sZ3d9K9/98NxklzLsnlw5uPG/77q0gmc/t4CvPLeRhxZvZ/XeY3zjgxcyoTArYesTGe3UA+/Dwtf3UpqbwS0XjOwbN8RbVijIQ3fO4evvn83afY28++Fl/Gz1AZxTb1wkERTgvWw+fJwlW2v52KUVhNK0eQbKzPjYpZNZ9IWrmDUhn795dgN3P7aSHTXNyS5NZMRRQvXy8OLt5Gemce8VU5Jdiq9VlGTz1Kfn80+3nc/Gg8e5+Xuv8Y+/qeb4ya5klyYyYijAY7y5v5GXt9TymaunUZA1uoaNTYRAwPj4ZZUs/etr+PAlk/jx63u4+ltLeXTZbtq7upNdnojvKcBjPLR4O8U5IT65oDLZpYwoJbkZ/PP7L+CFz1/BnPJCvv67LVzzrVd4cuV+whGNLy4yWApwzxu7G3htRz2fu3oaORk6OScRzp9QwMJ75/HUp+czvjDz7TNW9hxTkIsMggKc6A2Lv/PSNsbkZXD3/MnJLmfEu2xaCb/83AIe/9Ql5GWk8dz6Qzz00nZW7G7QHX9EBkBdTeAXaw+yem8jX7t9NlmhYLLL8aXBns/92aunsb2mhaXbavnNW4dZurWWK6aXMm9KMZnp+r8QOZNRH+C1J9r5pxequaSyiLvm6eKQ4WZmnDsuj3PG5rKnvpVXttWxaPNRXtley6VTSlgwrWTU3YdUpL9GdYA753jwV5voCEf4xgcvJBDQkLHJYmZMLctlalkuBxvbWLa9jmXb6/jjznrmTirkiumljMnPTHaZIillVAf4CxuOsLi6hr99z0ymluUmuxzxlBdlc9elk6lv7mD5rnrW7Wtkzb5Gzh2bx2XTSpg+Rv9XIjCKA/xgYxt///xm5pQXcJ8u2klJpXkZ3D53IjecN5aVexpYufsYj7++l9LcEOHuCO+/qJyCbO1ekdFrVAb48ZNd3Pv4arq6I3znzrmkjfKbFae63Iw0rp85lqtnlLHx0HFW7G7gq7+p5l9+v5VbLhjPnVWTuHRKsXaByagz6gK8Mxzhcz9Zy576VhZ+ap6+jvtIWjDARRVFXFRRxIXlBTyz+gC/Wn+I5948xPiCTP7swvHcOmcCF0ws0C3wZFQYVQEeiTi+8txGXt/VwHfumMOC6aXJLkkGafbEAmZPLOArt5zHS9VHeX79YR5/fS+PvraHcfmZXDuzjGvPHcP8aSXk6ywWGaFGTYCf7OzmSz9fz+82HuWLN8zggxeXJ7skiYOsUJDb5k7ktrkTaWrr5KXqGpZureU3bx3hqVUHMINZ4/O5pLKY1o4wEwqzKM3NIDiA3S2DHXtcY52/k7ZJfI2KAD96vJ1PP7GGTYeP8+At5/HnV+qg5UhUmB3izqpJ3Fk1ic5whDX7jrFqT/Tx9Or9tHdFr/JMDxqluRmU5IQozc2gKDtEflY6BVnp5GWmkRUKEtAuGPGBER3gzjleqq7h//xqE60dYX74iSquP29sssuSYRBKC7BgWikLpkV3k3V1R/i3JTs5fPwkR5pOUt/SyZHj7VQfOUHvu78FDLJDaWSHgmSFgvxhaw35WenkZ6Z7z2kxr9MozApRlJNOYVZIV/LKsBqxAb6ztpl/+E01r+2o55yxuSy8dx7njc9PdlmSJOnBAOMKMhlXkAkVRafauyOO5vYujp+MPlo6wrR0hGnt6KatM8zJzm4ONbWz5UgzJ9q7aG4Pn3E9WelBinNClOaG6AhHyMuM9uoLvB5+flY6hVnpGiZA4mJEBXh3xLFsRx1Pr9rPy1tqyQkF+eqts7h7/mSdKih9CgaMwuwQhdmh084Tu/+1O+Jo6Qhz4mQXJ9q7ON4WDf6mk100tnVyrKWTY62d1Ld2sqOmmQONJ2nrCNP7pnKZ6QGKskPeI52inOh0cU6Its4w2aER9avZp85whNaOMG2d3bR2hmnv6qajK0JHuJvO7gjdEUd3xBFxsLehFTMImpGZHiQzPUBWKO3Ut6GCrHSKs0MU54bIy0gbNWchDemnxMxuBr4HBIEfOuf+NS5VDUB9Swdv7G5gxa4Glm6t5fDxdkpyQvz5FVO4/6qplORmDHdJMoIFA3aqN302PQfsYnv5TSejod/Y1klTWxf1LR3sqG2mq/vtiP/ekh2U5oaYWJRNeWEWE4uymFCQyYTCLMYXZDG2IIOSnIEdiB0ukYijsa2TupYOak90UNvcQc2Jduq8582HT0S/5bSH6TzLyJNGdHsHzFi7r5GIiwZ6uPc+r15CwQBleRmU5mUwJi+DsfkZjMnLPPVc5rWXDPBgdioadICbWRD4PnAjcBBYbWbPO+eq41Vcj0NNJ9lb30pdcwe1ze0cbmpnZ20LO2tbOHqiHYCcUJD5U0t48L2zuHHWWN3PUlJGbC+/r8GKnXO0dnbT2NrJsbZOKoqzOdjYxsHGk2w+fJzF1TXvCLtgwCjNDVGSEw2q4ux0bx3RPy45GWnkZaSRnZFGltdjzUgLkh400oMB0oKGYQQMMHCOtwOy2xGOROgMO9rD3bR3dnOyqztm91L41C6nJu+PUYP3zaOhtZPuPgI2LyONMfkZpAWM8qIs8jLSyM1II8d7ZIeCXs86SEZagPRg4E/CNfZbULg7Qns4QltHmBPt4VPfhKLr76ChJfoHpK65g/0NbazZe4zGtnfeys8MirOjB7KLc6Lffgqz0ynMfvt4R16mV2PMMZHM9CCZaQFCXp0ZaYGk9fiH0gOfB+x0zu0GMLOngduAuAf4fyzdyU9jTj/KCQWZPiaXBdNKOGdcHvOmFHPBxALStZtEfMjMyPUCbVJx9jtOmYtEHA2tnRxuOsnRE+3UnGjn6PF26luiYVXf0sGe+haa2s6+jz5eYr+JFGWnU16UzZzyQkrzQpTl9vR+3+719hzcHexphLHSggFygwFyM9IY08/DWh3hbmpPdJz6ZlDX3E6dt+3qmztobOtk69ETNHq7xPr6I3QmwYARDBhpASNoRsB7HbDoH8mAGQ99eM6pg+rxYs4NrNBTC5p9CLjZOffn3uuPA5c65x7oNd/9wP3ey3OBbYMvd1iUAvXJLmKA/Fgz+LNu1Tx8/Fh3omqe7Jwr692Y8CMlzrlHgEcSvZ54MbM1zrmqZNcxEH6sGfxZt2oePn6se7hrHso+h0PApJjX5V6biIgMg6EE+GpghplNMbMQ8BHg+fiUJSIiZzPoXSjOubCZPQC8SPQ0wh855zbHrbLk8c3unhh+rBn8WbdqHj5+rHtYax70QUwREUkunXcnIuJTCnAREZ8aNQFuZjeb2TYz22lmX+7j/Qwze8Z7f6WZVca897de+zYze7cf6jazSjM7aWbrvccPUqjmq8xsnZmFvesJYt+7x8x2eI97fFJzd8x2HtYD+f2o+6/MrNrMNpjZEjObHPNeqm7rM9Wcytv6s2a20attuZnNinkvMRninBvxD6IHWXcBU4EQ8BYwq9c8/wP4gTf9EeAZb3qWN38GMMX7nKAP6q4ENqXotq4ELgSeAD4U014M7Paei7zpolSu2XuvJYV/rq8Fsr3pz8X8fKTytu6zZh9s6/yY6fcBi7zphGXIaOmBn7rs3znXCfRc9h/rNmChN/0L4HqLDnBwG/C0c67DObcH2Ol9XqrXnSxnrdk5t9c5twHoPZrRu4HFzrljzrlGYDFwc4rXnEz9qXupc67Ne/kG0es1ILW39elqTqb+1H0i5mUOnBqEMmEZMloCfCJwIOb1Qa+tz3mcc2HgOFDSz2UTZSh1A0wxszfN7FUzuzLRxfauxzOQ7ZWsbT3U9Waa2Roze8PMbo9vaWc00LrvA34/yGXjZSg1Q4pvazP7CzPbBXwT+MuBLDsYI3/Q4dHrCFDhnGsws4uBX5nZ+b16CRIfk51zh8xsKvAHM9vonNuV7KJimdndQBVwdbJr6a/T1JzS29o5933g+2Z2F/B3QEKPLYyWHnh/Lvs/NY+ZpQEFQEM/l02UQdftfV1rAHDOrSW63+2chFc8tO2VrG09pPU65w55z7uBV4CL4lncGfSrbjO7AXgQeJ9zrmMgyybAUGpO+W0d42mg5xtC4rZ1Mg4IDPeD6DeN3UQPIPQcgDi/1zx/wZ8eDPyZN30+f3oAYjfDdxBzKHWX9dRJ9MDLIaA4FWqOmfdx3nkQcw/Rg2pF3nSq11wEZHjTpcAOeh3cSvLPx0VE/3jP6NWestv6DDWn+raeETN9K7DGm05YhiT8H54qD+AWYLv3g/Gg1/aPRP/CA2QCPyd6gGEVMDVm2Qe95bYB7/FD3cAHgc3AemAdcGsK1XwJ0f2ArUS/5WyOWfZe79+yE/hUqtcMLAA2er+gG4H7Uuzn42Wgxvs5WA8874Nt3WfNPtjW34v5nVtKTMAnKkN0Kb2IiE+Nln3gIiIjjgJcRMSnFOAiIj6lABcR8SkFuIiITynARUR8SgEu0g9m9sPY4UETuJ4vmll2otcjI4POA5dRyczSXHTwr5RiZnuBKudcfbJrkdSnHrgkhZn9yszWmtlmM7vfa6fAx4QAAAMHSURBVGsxs4e9tiVmVua1v2Jm3/MGyt9kZvO89hwz+5GZrfJGXbzNa680s9e8GzCsM7MFXvs1XvvzQLW3/G/N7C3vcz98hnpfMbOqmDq/7i33hpmNPcNyj5vZD7wR9Lab2Z957UEz+7a33g1m9nkz+0tgArDUzJbGZUPLyDacl6LqoUfPA2/cDSAL2ER0CFwHfMxr/7/Av3vTrwCPetNX4d2oAvhn4G5vupDoZc45QDaQ6bXP4O0xKa4hein8FO/1B3s+13tdcIZ6XyHaM8ar81Zv+pvA351huceBRUQ7SzOIXo6fSfRGBb8A0nptj71AabL/f/Twx0M9cEmWvzSzt4gO2D+JaLhFgGe8938CXBEz/1MAzrllQL6ZFQI3AV82s/VEAzYTqADSgUfNbCPRcWJi912vctFB9SE6nsaNZvYNM7vSOXe8n7V3Ai9402uJ3q3nTH7mnIs453YQHchoJnAD8F/O243jnDvWz3WLnKLxwGXYmdk1RAPsMudcm5m9QjR8e3Onme55bcAHnXPben3+V4kOhjSHaM+3Pebt1lMf4Nx2M3sX0UGKvmZmS5xz/9iPf0KXc66nnm7O/nvUV+0iQ6YeuCRDAdDohfdMYL7XHgB6bhh8F7A8ZpkPA5jZFcBxr7f8IvD5nlvImVnP2NAFwBHnXAT4ONH7Gb6DmU0A2pxzPwG+BbwrTv++3u4ws4CZTSM6tO82orcw+4w3hjtmVuzN2wzkJagOGWHUA5dkWAR81sy2EA2zN7z2VmCemf0dUIsX2p52M3uT6O6Re722fwK+C2wwswDRMa3/DPgP4Fkz+4S3rlb6dgHwLTOLAF1E90snwn6iQ/3mA591zrWb2Q+J3mBjg5l1AY8C/w48Aiwys8POuWsTVI+MEDqNUFKGmbU453L7aH8F+Gvn3Jrhr2pozOxx4AXn3C+SXYuMPNqFIiLiU+qBi8Qws+eI3vYq1v92zr14luUeBO7o1fxz59zX41mfSCwFuIiIT2kXioiITynARUR8SgEuIuJTCnAREZ/6/07SAQSBuuy/AAAAAElFTkSuQmCC\n",
=======
      "image/png": "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\n",
>>>>>>> e62c1cf418925f78597f10b590b0cca3ee6d4c7e
      "text/plain": [
       "<Figure size 432x288 with 1 Axes>"
      ]
     },
     "metadata": {
      "needs_background": "light"
     },
     "output_type": "display_data"
    }
   ],
   "source": [
    "# Tree-Map w/ Words that appear in a least 2.5% of documents. \n",
    "\n",
    "wc = wc[wc['appears_in_pct'] >= 0.025]\n",
    "\n",
    "sns.distplot(wc['appears_in_pct']);"
   ]
  },
  {
   "cell_type": "markdown",
   "metadata": {},
   "source": [
    "## Challenge\n",
    "\n",
    "In the module project, you will apply stop word removal to a new corpus. You will focus on applying dictionary based stop word removal, but as a stretch goal, you should consider applying statistical stopword trimming. "
   ]
  },
  {
   "cell_type": "markdown",
   "metadata": {
    "toc-hr-collapsed": false
   },
   "source": [
    "# Stemming & Lemmatization (Learn)\n",
    "<a id=\"p3\"></a>"
   ]
  },
  {
   "cell_type": "markdown",
   "metadata": {
    "toc-hr-collapsed": false
   },
   "source": [
    "## Overview\n",
    "\n",
    "You can see from our example above there is still some normalization to do to get a clean analysis. You notice that there many words (*i.e.* 'batteries', 'battery') which share the same root word. We can use either the process of stemming or lemmatization to trim our words down to the 'root' word. \n",
    "\n",
    "__Section Agenda__:\n",
    "\n",
    "- Which is which\n",
    "- why use one v. other\n",
    "- show side by side visualizations \n",
    "- how to do it in spacy & nltk\n",
    "- introduce PoS in here as well"
   ]
  },
  {
   "cell_type": "markdown",
   "metadata": {
    "toc-hr-collapsed": true
   },
   "source": [
    "## Follow Along"
   ]
  },
  {
   "cell_type": "markdown",
   "metadata": {
    "toc-hr-collapsed": true
   },
   "source": [
    "### Stemming\n",
    "\n",
    "> *a process for removing the commoner morphological and inflexional endings from words in English. Its main use is as part of a term normalisation process that is usually done when setting up Information Retrieval systems.* - [Martin Porter](https://tartarus.org/martin/PorterStemmer/)\n",
    "\n",
    "Some examples include:\n",
    "- 'ing'\n",
    "- 'ed'\n",
    "- 's'\n",
    "\n",
    "These rules are by no means comprehensive, but they are somewhere to start. Most stemming is done by well documented algorithms such as Porter, Snowball, and Dawson. Porter and its newer version Snowball are the most popular stemming algorithms today. For more information on various stemming algorithms check out [*\"A Comparative Study of Stemming Algorithms\"*](https://pdfs.semanticscholar.org/1c0c/0fa35d4ff8a2f925eb955e48d655494bd167.pdf) \n",
    "\n",
    "\n",
    "Spacy does not do stemming out of the box, but instead uses a different technique called *lemmatization* which we will discuss in the next section. Let's turn to an antique python package `nltk` for stemming. "
   ]
  },
  {
   "cell_type": "code",
<<<<<<< HEAD
   "execution_count": 49,
=======
   "execution_count": 108,
>>>>>>> e62c1cf418925f78597f10b590b0cca3ee6d4c7e
   "metadata": {},
   "outputs": [
    {
     "name": "stdout",
     "output_type": "stream",
     "text": [
      "python\n",
      "python\n",
      "python\n",
      "python\n",
      "pythonli\n"
     ]
    }
   ],
   "source": [
    "from nltk.stem import PorterStemmer\n",
    "\n",
    "ps = PorterStemmer()\n",
    "\n",
    "words = [\"python\", \"pythoner\", \"pythoning\", \"pythoned\", \"pythonly\"]\n",
    "\n",
    "for word in words:\n",
    "    print(ps.stem(word))"
   ]
  },
  {
   "cell_type": "markdown",
   "metadata": {},
   "source": [
    "### Two Minute Challenge\n",
    "\n",
    "Apply the Porter stemming algorithm to the tokens in the `df` dataframe. Visualize the results in the tree graph we have been using for this session."
   ]
  },
  {
   "cell_type": "code",
<<<<<<< HEAD
   "execution_count": 50,
=======
   "execution_count": null,
>>>>>>> e62c1cf418925f78597f10b590b0cca3ee6d4c7e
   "metadata": {},
   "outputs": [],
   "source": [
    "# Put in a new column `stems`\n"
   ]
  },
  {
   "cell_type": "code",
<<<<<<< HEAD
   "execution_count": 51,
=======
   "execution_count": 54,
>>>>>>> e62c1cf418925f78597f10b590b0cca3ee6d4c7e
   "metadata": {},
   "outputs": [
    {
     "ename": "KeyError",
     "evalue": "'stems'",
     "output_type": "error",
     "traceback": [
      "\u001b[0;31m---------------------------------------------------------------------------\u001b[0m",
      "\u001b[0;31mKeyError\u001b[0m                                  Traceback (most recent call last)",
<<<<<<< HEAD
      "\u001b[0;32m~/.local/share/virtualenvs/lambda-e5gwxZ0x/lib/python3.7/site-packages/pandas/core/indexes/base.py\u001b[0m in \u001b[0;36mget_loc\u001b[0;34m(self, key, method, tolerance)\u001b[0m\n\u001b[1;32m   2656\u001b[0m             \u001b[0;32mtry\u001b[0m\u001b[0;34m:\u001b[0m\u001b[0;34m\u001b[0m\u001b[0;34m\u001b[0m\u001b[0m\n\u001b[0;32m-> 2657\u001b[0;31m                 \u001b[0;32mreturn\u001b[0m \u001b[0mself\u001b[0m\u001b[0;34m.\u001b[0m\u001b[0m_engine\u001b[0m\u001b[0;34m.\u001b[0m\u001b[0mget_loc\u001b[0m\u001b[0;34m(\u001b[0m\u001b[0mkey\u001b[0m\u001b[0;34m)\u001b[0m\u001b[0;34m\u001b[0m\u001b[0;34m\u001b[0m\u001b[0m\n\u001b[0m\u001b[1;32m   2658\u001b[0m             \u001b[0;32mexcept\u001b[0m \u001b[0mKeyError\u001b[0m\u001b[0;34m:\u001b[0m\u001b[0;34m\u001b[0m\u001b[0;34m\u001b[0m\u001b[0m\n",
=======
      "\u001b[0;32m~/anaconda3/envs/U4-S1-NLP-DS6/lib/python3.7/site-packages/pandas/core/indexes/base.py\u001b[0m in \u001b[0;36mget_loc\u001b[0;34m(self, key, method, tolerance)\u001b[0m\n\u001b[1;32m   2656\u001b[0m             \u001b[0;32mtry\u001b[0m\u001b[0;34m:\u001b[0m\u001b[0;34m\u001b[0m\u001b[0;34m\u001b[0m\u001b[0m\n\u001b[0;32m-> 2657\u001b[0;31m                 \u001b[0;32mreturn\u001b[0m \u001b[0mself\u001b[0m\u001b[0;34m.\u001b[0m\u001b[0m_engine\u001b[0m\u001b[0;34m.\u001b[0m\u001b[0mget_loc\u001b[0m\u001b[0;34m(\u001b[0m\u001b[0mkey\u001b[0m\u001b[0;34m)\u001b[0m\u001b[0;34m\u001b[0m\u001b[0;34m\u001b[0m\u001b[0m\n\u001b[0m\u001b[1;32m   2658\u001b[0m             \u001b[0;32mexcept\u001b[0m \u001b[0mKeyError\u001b[0m\u001b[0;34m:\u001b[0m\u001b[0;34m\u001b[0m\u001b[0;34m\u001b[0m\u001b[0m\n",
>>>>>>> e62c1cf418925f78597f10b590b0cca3ee6d4c7e
      "\u001b[0;32mpandas/_libs/index.pyx\u001b[0m in \u001b[0;36mpandas._libs.index.IndexEngine.get_loc\u001b[0;34m()\u001b[0m\n",
      "\u001b[0;32mpandas/_libs/index.pyx\u001b[0m in \u001b[0;36mpandas._libs.index.IndexEngine.get_loc\u001b[0;34m()\u001b[0m\n",
      "\u001b[0;32mpandas/_libs/hashtable_class_helper.pxi\u001b[0m in \u001b[0;36mpandas._libs.hashtable.PyObjectHashTable.get_item\u001b[0;34m()\u001b[0m\n",
      "\u001b[0;32mpandas/_libs/hashtable_class_helper.pxi\u001b[0m in \u001b[0;36mpandas._libs.hashtable.PyObjectHashTable.get_item\u001b[0;34m()\u001b[0m\n",
      "\u001b[0;31mKeyError\u001b[0m: 'stems'",
      "\nDuring handling of the above exception, another exception occurred:\n",
      "\u001b[0;31mKeyError\u001b[0m                                  Traceback (most recent call last)",
<<<<<<< HEAD
      "\u001b[0;32m<ipython-input-51-80ad39c9fced>\u001b[0m in \u001b[0;36m<module>\u001b[0;34m\u001b[0m\n\u001b[0;32m----> 1\u001b[0;31m \u001b[0mwc\u001b[0m \u001b[0;34m=\u001b[0m \u001b[0mcount\u001b[0m\u001b[0;34m(\u001b[0m\u001b[0mdf\u001b[0m\u001b[0;34m[\u001b[0m\u001b[0;34m'stems'\u001b[0m\u001b[0;34m]\u001b[0m\u001b[0;34m)\u001b[0m\u001b[0;34m\u001b[0m\u001b[0;34m\u001b[0m\u001b[0m\n\u001b[0m\u001b[1;32m      2\u001b[0m \u001b[0;34m\u001b[0m\u001b[0m\n\u001b[1;32m      3\u001b[0m \u001b[0mwc_top20\u001b[0m \u001b[0;34m=\u001b[0m \u001b[0mwc\u001b[0m\u001b[0;34m[\u001b[0m\u001b[0mwc\u001b[0m\u001b[0;34m[\u001b[0m\u001b[0;34m'rank'\u001b[0m\u001b[0;34m]\u001b[0m \u001b[0;34m<=\u001b[0m \u001b[0;36m20\u001b[0m\u001b[0;34m]\u001b[0m\u001b[0;34m\u001b[0m\u001b[0;34m\u001b[0m\u001b[0m\n\u001b[1;32m      4\u001b[0m \u001b[0;34m\u001b[0m\u001b[0m\n\u001b[1;32m      5\u001b[0m \u001b[0msquarify\u001b[0m\u001b[0;34m.\u001b[0m\u001b[0mplot\u001b[0m\u001b[0;34m(\u001b[0m\u001b[0msizes\u001b[0m\u001b[0;34m=\u001b[0m\u001b[0mwc_top20\u001b[0m\u001b[0;34m[\u001b[0m\u001b[0;34m'pct_total'\u001b[0m\u001b[0;34m]\u001b[0m\u001b[0;34m,\u001b[0m \u001b[0mlabel\u001b[0m\u001b[0;34m=\u001b[0m\u001b[0mwc_top20\u001b[0m\u001b[0;34m[\u001b[0m\u001b[0;34m'word'\u001b[0m\u001b[0;34m]\u001b[0m\u001b[0;34m,\u001b[0m \u001b[0malpha\u001b[0m\u001b[0;34m=\u001b[0m\u001b[0;36m.8\u001b[0m \u001b[0;34m)\u001b[0m\u001b[0;34m\u001b[0m\u001b[0;34m\u001b[0m\u001b[0m\n",
      "\u001b[0;32m~/.local/share/virtualenvs/lambda-e5gwxZ0x/lib/python3.7/site-packages/pandas/core/frame.py\u001b[0m in \u001b[0;36m__getitem__\u001b[0;34m(self, key)\u001b[0m\n\u001b[1;32m   2925\u001b[0m             \u001b[0;32mif\u001b[0m \u001b[0mself\u001b[0m\u001b[0;34m.\u001b[0m\u001b[0mcolumns\u001b[0m\u001b[0;34m.\u001b[0m\u001b[0mnlevels\u001b[0m \u001b[0;34m>\u001b[0m \u001b[0;36m1\u001b[0m\u001b[0;34m:\u001b[0m\u001b[0;34m\u001b[0m\u001b[0;34m\u001b[0m\u001b[0m\n\u001b[1;32m   2926\u001b[0m                 \u001b[0;32mreturn\u001b[0m \u001b[0mself\u001b[0m\u001b[0;34m.\u001b[0m\u001b[0m_getitem_multilevel\u001b[0m\u001b[0;34m(\u001b[0m\u001b[0mkey\u001b[0m\u001b[0;34m)\u001b[0m\u001b[0;34m\u001b[0m\u001b[0;34m\u001b[0m\u001b[0m\n\u001b[0;32m-> 2927\u001b[0;31m             \u001b[0mindexer\u001b[0m \u001b[0;34m=\u001b[0m \u001b[0mself\u001b[0m\u001b[0;34m.\u001b[0m\u001b[0mcolumns\u001b[0m\u001b[0;34m.\u001b[0m\u001b[0mget_loc\u001b[0m\u001b[0;34m(\u001b[0m\u001b[0mkey\u001b[0m\u001b[0;34m)\u001b[0m\u001b[0;34m\u001b[0m\u001b[0;34m\u001b[0m\u001b[0m\n\u001b[0m\u001b[1;32m   2928\u001b[0m             \u001b[0;32mif\u001b[0m \u001b[0mis_integer\u001b[0m\u001b[0;34m(\u001b[0m\u001b[0mindexer\u001b[0m\u001b[0;34m)\u001b[0m\u001b[0;34m:\u001b[0m\u001b[0;34m\u001b[0m\u001b[0;34m\u001b[0m\u001b[0m\n\u001b[1;32m   2929\u001b[0m                 \u001b[0mindexer\u001b[0m \u001b[0;34m=\u001b[0m \u001b[0;34m[\u001b[0m\u001b[0mindexer\u001b[0m\u001b[0;34m]\u001b[0m\u001b[0;34m\u001b[0m\u001b[0;34m\u001b[0m\u001b[0m\n",
      "\u001b[0;32m~/.local/share/virtualenvs/lambda-e5gwxZ0x/lib/python3.7/site-packages/pandas/core/indexes/base.py\u001b[0m in \u001b[0;36mget_loc\u001b[0;34m(self, key, method, tolerance)\u001b[0m\n\u001b[1;32m   2657\u001b[0m                 \u001b[0;32mreturn\u001b[0m \u001b[0mself\u001b[0m\u001b[0;34m.\u001b[0m\u001b[0m_engine\u001b[0m\u001b[0;34m.\u001b[0m\u001b[0mget_loc\u001b[0m\u001b[0;34m(\u001b[0m\u001b[0mkey\u001b[0m\u001b[0;34m)\u001b[0m\u001b[0;34m\u001b[0m\u001b[0;34m\u001b[0m\u001b[0m\n\u001b[1;32m   2658\u001b[0m             \u001b[0;32mexcept\u001b[0m \u001b[0mKeyError\u001b[0m\u001b[0;34m:\u001b[0m\u001b[0;34m\u001b[0m\u001b[0;34m\u001b[0m\u001b[0m\n\u001b[0;32m-> 2659\u001b[0;31m                 \u001b[0;32mreturn\u001b[0m \u001b[0mself\u001b[0m\u001b[0;34m.\u001b[0m\u001b[0m_engine\u001b[0m\u001b[0;34m.\u001b[0m\u001b[0mget_loc\u001b[0m\u001b[0;34m(\u001b[0m\u001b[0mself\u001b[0m\u001b[0;34m.\u001b[0m\u001b[0m_maybe_cast_indexer\u001b[0m\u001b[0;34m(\u001b[0m\u001b[0mkey\u001b[0m\u001b[0;34m)\u001b[0m\u001b[0;34m)\u001b[0m\u001b[0;34m\u001b[0m\u001b[0;34m\u001b[0m\u001b[0m\n\u001b[0m\u001b[1;32m   2660\u001b[0m         \u001b[0mindexer\u001b[0m \u001b[0;34m=\u001b[0m \u001b[0mself\u001b[0m\u001b[0;34m.\u001b[0m\u001b[0mget_indexer\u001b[0m\u001b[0;34m(\u001b[0m\u001b[0;34m[\u001b[0m\u001b[0mkey\u001b[0m\u001b[0;34m]\u001b[0m\u001b[0;34m,\u001b[0m \u001b[0mmethod\u001b[0m\u001b[0;34m=\u001b[0m\u001b[0mmethod\u001b[0m\u001b[0;34m,\u001b[0m \u001b[0mtolerance\u001b[0m\u001b[0;34m=\u001b[0m\u001b[0mtolerance\u001b[0m\u001b[0;34m)\u001b[0m\u001b[0;34m\u001b[0m\u001b[0;34m\u001b[0m\u001b[0m\n\u001b[1;32m   2661\u001b[0m         \u001b[0;32mif\u001b[0m \u001b[0mindexer\u001b[0m\u001b[0;34m.\u001b[0m\u001b[0mndim\u001b[0m \u001b[0;34m>\u001b[0m \u001b[0;36m1\u001b[0m \u001b[0;32mor\u001b[0m \u001b[0mindexer\u001b[0m\u001b[0;34m.\u001b[0m\u001b[0msize\u001b[0m \u001b[0;34m>\u001b[0m \u001b[0;36m1\u001b[0m\u001b[0;34m:\u001b[0m\u001b[0;34m\u001b[0m\u001b[0;34m\u001b[0m\u001b[0m\n",
=======
      "\u001b[0;32m<ipython-input-54-80ad39c9fced>\u001b[0m in \u001b[0;36m<module>\u001b[0;34m\u001b[0m\n\u001b[0;32m----> 1\u001b[0;31m \u001b[0mwc\u001b[0m \u001b[0;34m=\u001b[0m \u001b[0mcount\u001b[0m\u001b[0;34m(\u001b[0m\u001b[0mdf\u001b[0m\u001b[0;34m[\u001b[0m\u001b[0;34m'stems'\u001b[0m\u001b[0;34m]\u001b[0m\u001b[0;34m)\u001b[0m\u001b[0;34m\u001b[0m\u001b[0;34m\u001b[0m\u001b[0m\n\u001b[0m\u001b[1;32m      2\u001b[0m \u001b[0;34m\u001b[0m\u001b[0m\n\u001b[1;32m      3\u001b[0m \u001b[0mwc_top20\u001b[0m \u001b[0;34m=\u001b[0m \u001b[0mwc\u001b[0m\u001b[0;34m[\u001b[0m\u001b[0mwc\u001b[0m\u001b[0;34m[\u001b[0m\u001b[0;34m'rank'\u001b[0m\u001b[0;34m]\u001b[0m \u001b[0;34m<=\u001b[0m \u001b[0;36m20\u001b[0m\u001b[0;34m]\u001b[0m\u001b[0;34m\u001b[0m\u001b[0;34m\u001b[0m\u001b[0m\n\u001b[1;32m      4\u001b[0m \u001b[0;34m\u001b[0m\u001b[0m\n\u001b[1;32m      5\u001b[0m \u001b[0msquarify\u001b[0m\u001b[0;34m.\u001b[0m\u001b[0mplot\u001b[0m\u001b[0;34m(\u001b[0m\u001b[0msizes\u001b[0m\u001b[0;34m=\u001b[0m\u001b[0mwc_top20\u001b[0m\u001b[0;34m[\u001b[0m\u001b[0;34m'pct_total'\u001b[0m\u001b[0;34m]\u001b[0m\u001b[0;34m,\u001b[0m \u001b[0mlabel\u001b[0m\u001b[0;34m=\u001b[0m\u001b[0mwc_top20\u001b[0m\u001b[0;34m[\u001b[0m\u001b[0;34m'word'\u001b[0m\u001b[0;34m]\u001b[0m\u001b[0;34m,\u001b[0m \u001b[0malpha\u001b[0m\u001b[0;34m=\u001b[0m\u001b[0;36m.8\u001b[0m \u001b[0;34m)\u001b[0m\u001b[0;34m\u001b[0m\u001b[0;34m\u001b[0m\u001b[0m\n",
      "\u001b[0;32m~/anaconda3/envs/U4-S1-NLP-DS6/lib/python3.7/site-packages/pandas/core/frame.py\u001b[0m in \u001b[0;36m__getitem__\u001b[0;34m(self, key)\u001b[0m\n\u001b[1;32m   2925\u001b[0m             \u001b[0;32mif\u001b[0m \u001b[0mself\u001b[0m\u001b[0;34m.\u001b[0m\u001b[0mcolumns\u001b[0m\u001b[0;34m.\u001b[0m\u001b[0mnlevels\u001b[0m \u001b[0;34m>\u001b[0m \u001b[0;36m1\u001b[0m\u001b[0;34m:\u001b[0m\u001b[0;34m\u001b[0m\u001b[0;34m\u001b[0m\u001b[0m\n\u001b[1;32m   2926\u001b[0m                 \u001b[0;32mreturn\u001b[0m \u001b[0mself\u001b[0m\u001b[0;34m.\u001b[0m\u001b[0m_getitem_multilevel\u001b[0m\u001b[0;34m(\u001b[0m\u001b[0mkey\u001b[0m\u001b[0;34m)\u001b[0m\u001b[0;34m\u001b[0m\u001b[0;34m\u001b[0m\u001b[0m\n\u001b[0;32m-> 2927\u001b[0;31m             \u001b[0mindexer\u001b[0m \u001b[0;34m=\u001b[0m \u001b[0mself\u001b[0m\u001b[0;34m.\u001b[0m\u001b[0mcolumns\u001b[0m\u001b[0;34m.\u001b[0m\u001b[0mget_loc\u001b[0m\u001b[0;34m(\u001b[0m\u001b[0mkey\u001b[0m\u001b[0;34m)\u001b[0m\u001b[0;34m\u001b[0m\u001b[0;34m\u001b[0m\u001b[0m\n\u001b[0m\u001b[1;32m   2928\u001b[0m             \u001b[0;32mif\u001b[0m \u001b[0mis_integer\u001b[0m\u001b[0;34m(\u001b[0m\u001b[0mindexer\u001b[0m\u001b[0;34m)\u001b[0m\u001b[0;34m:\u001b[0m\u001b[0;34m\u001b[0m\u001b[0;34m\u001b[0m\u001b[0m\n\u001b[1;32m   2929\u001b[0m                 \u001b[0mindexer\u001b[0m \u001b[0;34m=\u001b[0m \u001b[0;34m[\u001b[0m\u001b[0mindexer\u001b[0m\u001b[0;34m]\u001b[0m\u001b[0;34m\u001b[0m\u001b[0;34m\u001b[0m\u001b[0m\n",
      "\u001b[0;32m~/anaconda3/envs/U4-S1-NLP-DS6/lib/python3.7/site-packages/pandas/core/indexes/base.py\u001b[0m in \u001b[0;36mget_loc\u001b[0;34m(self, key, method, tolerance)\u001b[0m\n\u001b[1;32m   2657\u001b[0m                 \u001b[0;32mreturn\u001b[0m \u001b[0mself\u001b[0m\u001b[0;34m.\u001b[0m\u001b[0m_engine\u001b[0m\u001b[0;34m.\u001b[0m\u001b[0mget_loc\u001b[0m\u001b[0;34m(\u001b[0m\u001b[0mkey\u001b[0m\u001b[0;34m)\u001b[0m\u001b[0;34m\u001b[0m\u001b[0;34m\u001b[0m\u001b[0m\n\u001b[1;32m   2658\u001b[0m             \u001b[0;32mexcept\u001b[0m \u001b[0mKeyError\u001b[0m\u001b[0;34m:\u001b[0m\u001b[0;34m\u001b[0m\u001b[0;34m\u001b[0m\u001b[0m\n\u001b[0;32m-> 2659\u001b[0;31m                 \u001b[0;32mreturn\u001b[0m \u001b[0mself\u001b[0m\u001b[0;34m.\u001b[0m\u001b[0m_engine\u001b[0m\u001b[0;34m.\u001b[0m\u001b[0mget_loc\u001b[0m\u001b[0;34m(\u001b[0m\u001b[0mself\u001b[0m\u001b[0;34m.\u001b[0m\u001b[0m_maybe_cast_indexer\u001b[0m\u001b[0;34m(\u001b[0m\u001b[0mkey\u001b[0m\u001b[0;34m)\u001b[0m\u001b[0;34m)\u001b[0m\u001b[0;34m\u001b[0m\u001b[0;34m\u001b[0m\u001b[0m\n\u001b[0m\u001b[1;32m   2660\u001b[0m         \u001b[0mindexer\u001b[0m \u001b[0;34m=\u001b[0m \u001b[0mself\u001b[0m\u001b[0;34m.\u001b[0m\u001b[0mget_indexer\u001b[0m\u001b[0;34m(\u001b[0m\u001b[0;34m[\u001b[0m\u001b[0mkey\u001b[0m\u001b[0;34m]\u001b[0m\u001b[0;34m,\u001b[0m \u001b[0mmethod\u001b[0m\u001b[0;34m=\u001b[0m\u001b[0mmethod\u001b[0m\u001b[0;34m,\u001b[0m \u001b[0mtolerance\u001b[0m\u001b[0;34m=\u001b[0m\u001b[0mtolerance\u001b[0m\u001b[0;34m)\u001b[0m\u001b[0;34m\u001b[0m\u001b[0;34m\u001b[0m\u001b[0m\n\u001b[1;32m   2661\u001b[0m         \u001b[0;32mif\u001b[0m \u001b[0mindexer\u001b[0m\u001b[0;34m.\u001b[0m\u001b[0mndim\u001b[0m \u001b[0;34m>\u001b[0m \u001b[0;36m1\u001b[0m \u001b[0;32mor\u001b[0m \u001b[0mindexer\u001b[0m\u001b[0;34m.\u001b[0m\u001b[0msize\u001b[0m \u001b[0;34m>\u001b[0m \u001b[0;36m1\u001b[0m\u001b[0;34m:\u001b[0m\u001b[0;34m\u001b[0m\u001b[0;34m\u001b[0m\u001b[0m\n",
>>>>>>> e62c1cf418925f78597f10b590b0cca3ee6d4c7e
      "\u001b[0;32mpandas/_libs/index.pyx\u001b[0m in \u001b[0;36mpandas._libs.index.IndexEngine.get_loc\u001b[0;34m()\u001b[0m\n",
      "\u001b[0;32mpandas/_libs/index.pyx\u001b[0m in \u001b[0;36mpandas._libs.index.IndexEngine.get_loc\u001b[0;34m()\u001b[0m\n",
      "\u001b[0;32mpandas/_libs/hashtable_class_helper.pxi\u001b[0m in \u001b[0;36mpandas._libs.hashtable.PyObjectHashTable.get_item\u001b[0;34m()\u001b[0m\n",
      "\u001b[0;32mpandas/_libs/hashtable_class_helper.pxi\u001b[0m in \u001b[0;36mpandas._libs.hashtable.PyObjectHashTable.get_item\u001b[0;34m()\u001b[0m\n",
      "\u001b[0;31mKeyError\u001b[0m: 'stems'"
     ]
    }
   ],
   "source": [
    "wc = count(df['stems'])\n",
    "\n",
    "wc_top20 = wc[wc['rank'] <= 20]\n",
    "\n",
    "squarify.plot(sizes=wc_top20['pct_total'], label=wc_top20['word'], alpha=.8 )\n",
    "plt.axis('off')\n",
    "plt.show()"
   ]
  },
  {
   "cell_type": "markdown",
   "metadata": {
    "toc-hr-collapsed": false
   },
   "source": [
    "### Lemmatization\n",
    "\n",
    "You notice immediately that results are kinda funky - words just oddly chopped off. The Porter algorithm did exactly what it knows to do: chop off endings. Stemming works well in applications where humans don't have to worry about reading the results. Search engines and more broadly information retrival algorithms use stemming. Why? Becuase it's fast. \n",
    "\n",
    "Lemmatization on the other hand is more methodical. The goal is to transform a word into's base form called a lemma. Plural nouns with funky spellings get transformed to singular tense. Verbs are all transformed to the transitive. Nice tidy data for a visualization. :) However, this tidy data can come at computational cost. Spacy does a pretty freaking good job of it though. Let's take a look:"
   ]
  },
  {
   "cell_type": "code",
<<<<<<< HEAD
   "execution_count": 56,
=======
   "execution_count": 109,
>>>>>>> e62c1cf418925f78597f10b590b0cca3ee6d4c7e
   "metadata": {},
   "outputs": [
    {
     "name": "stdout",
     "output_type": "stream",
     "text": [
      "This    this\n",
      "is    be\n",
      "the    the\n",
      "start    start\n",
      "of    of\n",
      "our    -PRON-\n",
      "NLP    NLP\n",
      "adventure    adventure\n",
      ".    .\n",
      "We    -PRON-\n",
      "started    start\n",
      "here    here\n",
      "with    with\n",
      "Spacy    Spacy\n",
      ".    .\n"
     ]
    }
   ],
   "source": [
    "sent = \"This is the start of our NLP adventure. We started here with Spacy.\"\n",
    "\n",
    "nlp = spacy.load(\"en_core_web_lg\")\n",
    "\n",
    "doc = nlp(sent)\n",
    "\n",
    "# Lemma Attributes\n",
    "for token in doc:\n",
    "    print(token.text, \"  \", token.lemma_)"
   ]
  },
  {
   "cell_type": "code",
<<<<<<< HEAD
   "execution_count": 58,
=======
   "execution_count": 110,
>>>>>>> e62c1cf418925f78597f10b590b0cca3ee6d4c7e
   "metadata": {},
   "outputs": [],
   "source": [
    "# Wrap it all in a function\n",
    "def get_lemmas(text):\n",
    "\n",
    "    lemmas = []\n",
    "    \n",
    "    doc = nlp(text)\n",
    "    \n",
    "    # Something goes here :P\n",
    "    for token in doc: \n",
    "        if ((token.is_stop == False) and (token.is_punct == False)) and (token.pos_!= 'PRON'):\n",
    "            lemmas.append(token.lemma_)\n",
    "    \n",
    "    return lemmas"
   ]
  },
  {
   "cell_type": "code",
<<<<<<< HEAD
   "execution_count": 59,
=======
   "execution_count": 111,
>>>>>>> e62c1cf418925f78597f10b590b0cca3ee6d4c7e
   "metadata": {},
   "outputs": [],
   "source": [
    "df['lemmas'] = df['reviews.text'].apply(get_lemmas)"
   ]
  },
  {
   "cell_type": "code",
<<<<<<< HEAD
   "execution_count": 60,
=======
   "execution_count": 58,
>>>>>>> e62c1cf418925f78597f10b590b0cca3ee6d4c7e
   "metadata": {},
   "outputs": [
    {
     "data": {
      "text/plain": [
<<<<<<< HEAD
       "0    [order, 3, item, bad, quality, miss, backup, s...\n",
       "1                [Bulk, expensive, way, product, like]\n",
       "2                             [Duracell, price, happy]\n",
       "3                  [work, brand, battery, well, price]\n",
       "4                  [battery, long, last, price, great]\n",
       "Name: lemmas, dtype: object"
      ]
     },
     "execution_count": 60,
=======
       "0    [order, 3, of, and, one, of, the, item, be, ba...\n",
       "1    [bulk, be, always, the, less, expensive, way, ...\n",
       "2    [well, be, not, duracell, but, for, the, price...\n",
       "3    [seem, to, work, as, well, as, name, brand, ba...\n",
       "4    [these, battery, be, very, long, last, the, pr...\n",
       "Name: lemmas, dtype: object"
      ]
     },
     "execution_count": 58,
>>>>>>> e62c1cf418925f78597f10b590b0cca3ee6d4c7e
     "metadata": {},
     "output_type": "execute_result"
    }
   ],
   "source": [
    "df['lemmas'].head()"
   ]
  },
  {
   "cell_type": "code",
<<<<<<< HEAD
   "execution_count": null,
   "metadata": {},
   "outputs": [],
=======
   "execution_count": 59,
   "metadata": {},
   "outputs": [
    {
     "data": {
      "image/png": "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\n",
      "text/plain": [
       "<Figure size 432x288 with 1 Axes>"
      ]
     },
     "metadata": {
      "needs_background": "light"
     },
     "output_type": "display_data"
    }
   ],
>>>>>>> e62c1cf418925f78597f10b590b0cca3ee6d4c7e
   "source": [
    "wc = count(df['lemmas'])\n",
    "wc_top20 = wc[wc['rank'] <= 20]\n",
    "\n",
    "squarify.plot(sizes=wc_top20['pct_total'], label=wc_top20['word'], alpha=.8 )\n",
    "plt.axis('off')\n",
    "plt.show()"
   ]
  },
  {
   "cell_type": "markdown",
   "metadata": {},
   "source": [
    "## Challenge\n",
    "\n",
    "You should know how to apply lemmatization with Spacy to a corpus of text. "
   ]
  },
  {
   "cell_type": "markdown",
   "metadata": {},
   "source": [
    "# Review\n",
    "\n",
    "In this module project, you've seen us apply Natural Language Processing techniques (tokenization, stopword removal, and lemmatization) to a corpus of Amazon text reviews. We analyzed those reviews using these techniques and discovered that Amazon customers are generally statisfied with the battery life of Amazon products and generally appear statisfied. \n",
    "\n",
    "You will apply similiar techniques to today's [module project assignment](LS_DS_411_Text_Data_Assignment.ipynb) to analyze coffee shop reviews from yelp. Remeber that the techniques of processing the text are just the begining. There are many ways to slice and dice the data. "
   ]
  },
  {
   "cell_type": "markdown",
   "metadata": {},
   "source": [
    "# Sources\n",
    "\n",
    "* Spacy 101 - https://course.spacy.io\n",
    "* NLTK Book - https://www.nltk.org/book/\n",
    "* An Introduction to Information Retrieval - https://nlp.stanford.edu/IR-book/pdf/irbookonlinereading.pdf"
   ]
  },
  {
   "cell_type": "markdown",
   "metadata": {
    "toc-hr-collapsed": true
   },
   "source": [
    "## Advanced Resources & Techniques\n",
    "- Named Entity Recognition (NER)\n",
    "- Dependcy Trees \n",
    "- Generators\n",
    "- the major libraries (NLTK, Spacy, Gensim)"
   ]
  }
 ],
 "metadata": {
  "kernelspec": {
<<<<<<< HEAD
   "display_name": "Python 3",
   "language": "python",
   "name": "python3"
=======
   "display_name": "U4-S1-NLP-DS6 (Python3)",
   "language": "python",
   "name": "u4-s1-nlp-ds6"
>>>>>>> e62c1cf418925f78597f10b590b0cca3ee6d4c7e
  },
  "language_info": {
   "codemirror_mode": {
    "name": "ipython",
    "version": 3
   },
   "file_extension": ".py",
   "mimetype": "text/x-python",
   "name": "python",
   "nbconvert_exporter": "python",
   "pygments_lexer": "ipython3",
<<<<<<< HEAD
   "version": "3.7.5"
=======
   "version": "3.7.3"
>>>>>>> e62c1cf418925f78597f10b590b0cca3ee6d4c7e
  },
  "toc-autonumbering": false,
  "toc-showcode": false,
  "toc-showmarkdowntxt": false
 },
 "nbformat": 4,
 "nbformat_minor": 4
}
