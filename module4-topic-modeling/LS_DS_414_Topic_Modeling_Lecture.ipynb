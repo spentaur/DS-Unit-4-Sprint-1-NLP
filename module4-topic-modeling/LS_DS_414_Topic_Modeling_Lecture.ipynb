{
 "cells": [
  {
   "cell_type": "markdown",
   "metadata": {},
   "source": [
    "Lambda School Data Science\n",
    "\n",
    "*Unit 4, Sprint 1, Module 4*\n",
    "\n",
    "---"
   ]
  },
  {
   "cell_type": "markdown",
   "metadata": {},
   "source": [
    "# Topic Modeling (Prepare)\n"
   ]
  },
  {
   "cell_type": "markdown",
   "metadata": {},
   "source": [
    "# Latent Dirchilet Allocation Models (Learn)\n",
    "<a id=\"#p1\"></a>"
   ]
  },
  {
   "cell_type": "markdown",
   "metadata": {},
   "source": [
    "## Overview\n",
    "LDA is a \"generative probabilistic model\". \n",
    "\n",
    "Let's play with a modoel available [here](https://lettier.com/projects/lda-topic-modeling/)"
   ]
  },
  {
   "cell_type": "markdown",
   "metadata": {},
   "source": [
    "## Follow Along"
   ]
  },
  {
   "cell_type": "markdown",
   "metadata": {},
   "source": [
    "## Challenge "
   ]
  },
  {
   "cell_type": "markdown",
   "metadata": {},
   "source": [
    "# Estimating LDA Models with Gensim (Learn)\n",
    "<a id=\"#p1\"></a>"
   ]
  },
  {
   "cell_type": "markdown",
   "metadata": {
    "toc-hr-collapsed": true
   },
   "source": [
    "## Overview\n",
    "### A Litterary Introduction: *Jane Austen V. Charlotte Bronte*\n",
    "Despite being born nearly forty years apart, modern fans often pit Jane Austen & Charlotte Bronte against one another in a battle for litterary  supremacy. The battle centers around the topics of education for women, courting, and marriage. The authors' similiar backgrounds naturally draw comparisons, but the modern fascination is probably due to novelility of British women publishing novels during the early 19th century. \n",
    "\n",
    "Can we help close a litterary battle for supremacy and simply acknowledge that the authors addressed different topics and deserve to be acknowledged as excellent authors each in their own right?\n",
    "\n",
    "We're going to apply Latent Dirichlet Allocation a machine learning alogrithm for topic modeling to each of the author's novels to compare the distribution of topics in their novels."
   ]
  },
  {
   "cell_type": "code",
   "execution_count": 1,
   "metadata": {},
   "outputs": [
    {
     "ename": "ValueError",
     "evalue": "numpy.ufunc has the wrong size, try recompiling. Expected 192, got 216",
     "output_type": "error",
     "traceback": [
      "\u001b[0;31m---------------------------------------------------------------------------\u001b[0m",
      "\u001b[0;31mValueError\u001b[0m                                Traceback (most recent call last)",
      "\u001b[0;32m<ipython-input-1-682ea0376c04>\u001b[0m in \u001b[0;36m<module>\u001b[0;34m\u001b[0m\n\u001b[1;32m      1\u001b[0m \u001b[0;32mimport\u001b[0m \u001b[0mnumpy\u001b[0m \u001b[0;32mas\u001b[0m \u001b[0mnp\u001b[0m\u001b[0;34m\u001b[0m\u001b[0;34m\u001b[0m\u001b[0m\n\u001b[0;32m----> 2\u001b[0;31m \u001b[0;32mimport\u001b[0m \u001b[0mgensim\u001b[0m\u001b[0;34m\u001b[0m\u001b[0;34m\u001b[0m\u001b[0m\n\u001b[0m\u001b[1;32m      3\u001b[0m \u001b[0;32mimport\u001b[0m \u001b[0mos\u001b[0m\u001b[0;34m\u001b[0m\u001b[0;34m\u001b[0m\u001b[0m\n\u001b[1;32m      4\u001b[0m \u001b[0;32mimport\u001b[0m \u001b[0mre\u001b[0m\u001b[0;34m\u001b[0m\u001b[0;34m\u001b[0m\u001b[0m\n\u001b[1;32m      5\u001b[0m \u001b[0;34m\u001b[0m\u001b[0m\n",
      "\u001b[0;32m~/.local/share/virtualenvs/lambda-e5gwxZ0x/lib/python3.7/site-packages/gensim/__init__.py\u001b[0m in \u001b[0;36m<module>\u001b[0;34m\u001b[0m\n\u001b[1;32m      3\u001b[0m \"\"\"\n\u001b[1;32m      4\u001b[0m \u001b[0;34m\u001b[0m\u001b[0m\n\u001b[0;32m----> 5\u001b[0;31m \u001b[0;32mfrom\u001b[0m \u001b[0mgensim\u001b[0m \u001b[0;32mimport\u001b[0m \u001b[0mparsing\u001b[0m\u001b[0;34m,\u001b[0m \u001b[0mcorpora\u001b[0m\u001b[0;34m,\u001b[0m \u001b[0mmatutils\u001b[0m\u001b[0;34m,\u001b[0m \u001b[0minterfaces\u001b[0m\u001b[0;34m,\u001b[0m \u001b[0mmodels\u001b[0m\u001b[0;34m,\u001b[0m \u001b[0msimilarities\u001b[0m\u001b[0;34m,\u001b[0m \u001b[0msummarization\u001b[0m\u001b[0;34m,\u001b[0m \u001b[0mutils\u001b[0m  \u001b[0;31m# noqa:F401\u001b[0m\u001b[0;34m\u001b[0m\u001b[0;34m\u001b[0m\u001b[0m\n\u001b[0m\u001b[1;32m      6\u001b[0m \u001b[0;32mimport\u001b[0m \u001b[0mlogging\u001b[0m\u001b[0;34m\u001b[0m\u001b[0;34m\u001b[0m\u001b[0m\n\u001b[1;32m      7\u001b[0m \u001b[0;34m\u001b[0m\u001b[0m\n",
      "\u001b[0;32m~/.local/share/virtualenvs/lambda-e5gwxZ0x/lib/python3.7/site-packages/gensim/corpora/__init__.py\u001b[0m in \u001b[0;36m<module>\u001b[0;34m\u001b[0m\n\u001b[1;32m      4\u001b[0m \u001b[0;34m\u001b[0m\u001b[0m\n\u001b[1;32m      5\u001b[0m \u001b[0;31m# bring corpus classes directly into package namespace, to save some typing\u001b[0m\u001b[0;34m\u001b[0m\u001b[0;34m\u001b[0m\u001b[0;34m\u001b[0m\u001b[0m\n\u001b[0;32m----> 6\u001b[0;31m \u001b[0;32mfrom\u001b[0m \u001b[0;34m.\u001b[0m\u001b[0mindexedcorpus\u001b[0m \u001b[0;32mimport\u001b[0m \u001b[0mIndexedCorpus\u001b[0m  \u001b[0;31m# noqa:F401 must appear before the other classes\u001b[0m\u001b[0;34m\u001b[0m\u001b[0;34m\u001b[0m\u001b[0m\n\u001b[0m\u001b[1;32m      7\u001b[0m \u001b[0;34m\u001b[0m\u001b[0m\n\u001b[1;32m      8\u001b[0m \u001b[0;32mfrom\u001b[0m \u001b[0;34m.\u001b[0m\u001b[0mmmcorpus\u001b[0m \u001b[0;32mimport\u001b[0m \u001b[0mMmCorpus\u001b[0m  \u001b[0;31m# noqa:F401\u001b[0m\u001b[0;34m\u001b[0m\u001b[0;34m\u001b[0m\u001b[0m\n",
      "\u001b[0;32m~/.local/share/virtualenvs/lambda-e5gwxZ0x/lib/python3.7/site-packages/gensim/corpora/indexedcorpus.py\u001b[0m in \u001b[0;36m<module>\u001b[0;34m\u001b[0m\n\u001b[1;32m     13\u001b[0m \u001b[0;32mimport\u001b[0m \u001b[0mnumpy\u001b[0m\u001b[0;34m\u001b[0m\u001b[0;34m\u001b[0m\u001b[0m\n\u001b[1;32m     14\u001b[0m \u001b[0;34m\u001b[0m\u001b[0m\n\u001b[0;32m---> 15\u001b[0;31m \u001b[0;32mfrom\u001b[0m \u001b[0mgensim\u001b[0m \u001b[0;32mimport\u001b[0m \u001b[0minterfaces\u001b[0m\u001b[0;34m,\u001b[0m \u001b[0mutils\u001b[0m\u001b[0;34m\u001b[0m\u001b[0;34m\u001b[0m\u001b[0m\n\u001b[0m\u001b[1;32m     16\u001b[0m \u001b[0;34m\u001b[0m\u001b[0m\n\u001b[1;32m     17\u001b[0m \u001b[0mlogger\u001b[0m \u001b[0;34m=\u001b[0m \u001b[0mlogging\u001b[0m\u001b[0;34m.\u001b[0m\u001b[0mgetLogger\u001b[0m\u001b[0;34m(\u001b[0m\u001b[0m__name__\u001b[0m\u001b[0;34m)\u001b[0m\u001b[0;34m\u001b[0m\u001b[0;34m\u001b[0m\u001b[0m\n",
      "\u001b[0;32m~/.local/share/virtualenvs/lambda-e5gwxZ0x/lib/python3.7/site-packages/gensim/interfaces.py\u001b[0m in \u001b[0;36m<module>\u001b[0;34m\u001b[0m\n\u001b[1;32m     17\u001b[0m \u001b[0;32mimport\u001b[0m \u001b[0mlogging\u001b[0m\u001b[0;34m\u001b[0m\u001b[0;34m\u001b[0m\u001b[0m\n\u001b[1;32m     18\u001b[0m \u001b[0;34m\u001b[0m\u001b[0m\n\u001b[0;32m---> 19\u001b[0;31m \u001b[0;32mfrom\u001b[0m \u001b[0mgensim\u001b[0m \u001b[0;32mimport\u001b[0m \u001b[0mutils\u001b[0m\u001b[0;34m,\u001b[0m \u001b[0mmatutils\u001b[0m\u001b[0;34m\u001b[0m\u001b[0;34m\u001b[0m\u001b[0m\n\u001b[0m\u001b[1;32m     20\u001b[0m \u001b[0;32mfrom\u001b[0m \u001b[0msix\u001b[0m\u001b[0;34m.\u001b[0m\u001b[0mmoves\u001b[0m \u001b[0;32mimport\u001b[0m \u001b[0mxrange\u001b[0m\u001b[0;34m\u001b[0m\u001b[0;34m\u001b[0m\u001b[0m\n\u001b[1;32m     21\u001b[0m \u001b[0;34m\u001b[0m\u001b[0m\n",
      "\u001b[0;32m~/.local/share/virtualenvs/lambda-e5gwxZ0x/lib/python3.7/site-packages/gensim/matutils.py\u001b[0m in \u001b[0;36m<module>\u001b[0;34m\u001b[0m\n\u001b[1;32m   1052\u001b[0m \u001b[0;32mtry\u001b[0m\u001b[0;34m:\u001b[0m\u001b[0;34m\u001b[0m\u001b[0;34m\u001b[0m\u001b[0m\n\u001b[1;32m   1053\u001b[0m     \u001b[0;31m# try to load fast, cythonized code if possible\u001b[0m\u001b[0;34m\u001b[0m\u001b[0;34m\u001b[0m\u001b[0;34m\u001b[0m\u001b[0m\n\u001b[0;32m-> 1054\u001b[0;31m     \u001b[0;32mfrom\u001b[0m \u001b[0mgensim\u001b[0m\u001b[0;34m.\u001b[0m\u001b[0m_matutils\u001b[0m \u001b[0;32mimport\u001b[0m \u001b[0mlogsumexp\u001b[0m\u001b[0;34m,\u001b[0m \u001b[0mmean_absolute_difference\u001b[0m\u001b[0;34m,\u001b[0m \u001b[0mdirichlet_expectation\u001b[0m\u001b[0;34m\u001b[0m\u001b[0;34m\u001b[0m\u001b[0m\n\u001b[0m\u001b[1;32m   1055\u001b[0m \u001b[0;34m\u001b[0m\u001b[0m\n\u001b[1;32m   1056\u001b[0m \u001b[0;32mexcept\u001b[0m \u001b[0mImportError\u001b[0m\u001b[0;34m:\u001b[0m\u001b[0;34m\u001b[0m\u001b[0;34m\u001b[0m\u001b[0m\n",
      "\u001b[0;32m__init__.pxd\u001b[0m in \u001b[0;36minit gensim._matutils\u001b[0;34m()\u001b[0m\n",
      "\u001b[0;31mValueError\u001b[0m: numpy.ufunc has the wrong size, try recompiling. Expected 192, got 216"
     ]
    }
   ],
   "source": [
    "import numpy as np\n",
    "import gensim\n",
    "import os\n",
    "import re\n",
    "\n",
    "from gensim.utils import simple_preprocess\n",
    "from gensim.parsing.preprocessing import STOPWORDS\n",
    "from gensim import corpora\n",
    "\n",
    "from gensim.models.ldamulticore import LdaMulticore\n",
    "\n",
    "import pandas as pd"
   ]
  },
  {
   "cell_type": "markdown",
   "metadata": {},
   "source": [
    "### Novel Data\n",
    "I grabbed the novel data pre-split into a bunch of smaller chuncks"
   ]
  },
  {
   "cell_type": "code",
   "execution_count": 3,
   "metadata": {},
   "outputs": [],
   "source": [
    "path = './data/austen-brontë-split'"
   ]
  },
  {
   "cell_type": "markdown",
   "metadata": {},
   "source": [
    "### Text Preprocessing\n",
    "**Activity**: update the function `tokenize` with any technique you have learned so far this week. "
   ]
  },
  {
   "cell_type": "code",
   "execution_count": 4,
   "metadata": {},
   "outputs": [],
   "source": [
    "# 1) Plain Python - ''.split command\n",
    "# 2) Spacy - just the lemmas from the document\n",
    "# 3) Gensim - simple_preprocess\n",
    "\n",
    "def tokenize(text):\n",
    "    \"Complete this function\"\n",
    "    \n",
    "    return [token for token in simple_preprocess(text) if token in STOPWORDS]"
   ]
  },
  {
   "cell_type": "code",
   "execution_count": 5,
   "metadata": {},
   "outputs": [],
   "source": [
    "import os\n",
    "\n",
    "def gather_data(path_to_data): \n",
    "    data = []\n",
    "    for f in os.listdir(path):\n",
    "        if os.path.isdir(f) == False:\n",
    "            if f[-3:] == 'txt':\n",
    "                with open(os.path.join(path,f)) as t:\n",
    "                    text = t.read().strip('\\n')\n",
    "                    data.append(tokenize(str(text)))       \n",
    "    return data"
   ]
  },
  {
   "cell_type": "code",
   "execution_count": 6,
   "metadata": {},
   "outputs": [],
   "source": [
    "tokens = gather_data(path)"
   ]
  },
  {
   "cell_type": "code",
   "execution_count": 9,
   "metadata": {},
   "outputs": [
    {
     "data": {
      "text/plain": [
       "['she', 'found', 'that', 'he', 'was', 'only', 'his', 'an', 'of', 'the']"
      ]
     },
     "execution_count": 9,
     "metadata": {},
     "output_type": "execute_result"
    }
   ],
   "source": [
    "tokens[0][0:10]"
   ]
  },
  {
   "cell_type": "code",
   "execution_count": null,
   "metadata": {},
   "outputs": [],
   "source": [
    "\"this is a sample string with a \\n newline character\".replace('\\n', '')"
   ]
  },
  {
   "cell_type": "code",
   "execution_count": null,
   "metadata": {},
   "outputs": [],
   "source": [
    "df['tokens'].head()"
   ]
  },
  {
   "cell_type": "markdown",
   "metadata": {
    "toc-hr-collapsed": true
   },
   "source": [
    "## Follow Along"
   ]
  },
  {
   "cell_type": "code",
   "execution_count": null,
   "metadata": {},
   "outputs": [],
   "source": []
  },
  {
   "cell_type": "code",
   "execution_count": 10,
   "metadata": {},
   "outputs": [],
   "source": [
    "titles = [t[:-4] for t in os.listdir(path) if os.path.isdir(t) == False]"
   ]
  },
  {
   "cell_type": "code",
   "execution_count": 11,
   "metadata": {},
   "outputs": [
    {
     "data": {
      "text/plain": [
       "813"
      ]
     },
     "execution_count": 11,
     "metadata": {},
     "output_type": "execute_result"
    }
   ],
   "source": [
    "len(titles)"
   ]
  },
  {
   "cell_type": "code",
   "execution_count": 13,
   "metadata": {},
   "outputs": [],
   "source": [
    "STOPWORDS = set(STOPWORDS).union(set(['said', 'mr', 'mrs']))\n",
    "\n",
    "def tokenize(text):\n",
    "    return [token for token in simple_preprocess(text) if token not in STOPWORDS]"
   ]
  },
  {
   "cell_type": "code",
   "execution_count": null,
   "metadata": {},
   "outputs": [],
   "source": [
    "tokenize(\"Hello World! This a test of the tokenization method\")"
   ]
  },
  {
   "cell_type": "code",
   "execution_count": 12,
   "metadata": {},
   "outputs": [
    {
     "data": {
      "text/plain": [
       "813"
      ]
     },
     "execution_count": 12,
     "metadata": {},
     "output_type": "execute_result"
    }
   ],
   "source": [
    "len(tokens)"
   ]
  },
  {
   "cell_type": "markdown",
   "metadata": {},
   "source": [
    "### Author DataFrame\n"
   ]
  },
  {
   "cell_type": "code",
   "execution_count": 15,
   "metadata": {},
   "outputs": [],
   "source": [
    "df = pd.DataFrame(index=titles, data={'tokens':tokens})"
   ]
  },
  {
   "cell_type": "code",
   "execution_count": 16,
   "metadata": {},
   "outputs": [
    {
     "data": {
      "text/html": [
       "<div>\n",
       "<style scoped>\n",
       "    .dataframe tbody tr th:only-of-type {\n",
       "        vertical-align: middle;\n",
       "    }\n",
       "\n",
       "    .dataframe tbody tr th {\n",
       "        vertical-align: top;\n",
       "    }\n",
       "\n",
       "    .dataframe thead th {\n",
       "        text-align: right;\n",
       "    }\n",
       "</style>\n",
       "<table border=\"1\" class=\"dataframe\">\n",
       "  <thead>\n",
       "    <tr style=\"text-align: right;\">\n",
       "      <th></th>\n",
       "      <th>tokens</th>\n",
       "    </tr>\n",
       "  </thead>\n",
       "  <tbody>\n",
       "    <tr>\n",
       "      <th>Austen_Emma0026</th>\n",
       "      <td>[giving, fair, companion, account, yesterday, ...</td>\n",
       "    </tr>\n",
       "    <tr>\n",
       "      <th>Austen_Emma0032</th>\n",
       "      <td>[feels, like, snow, place, party, try, day, di...</td>\n",
       "    </tr>\n",
       "    <tr>\n",
       "      <th>CBronte_Villette0086</th>\n",
       "      <td>[pierced, opaque, blackness, stood, bougie, qu...</td>\n",
       "    </tr>\n",
       "    <tr>\n",
       "      <th>CBronte_Jane0099</th>\n",
       "      <td>[joke, queer, looks, tell, thing, specially, s...</td>\n",
       "    </tr>\n",
       "    <tr>\n",
       "      <th>CBronte_Villette0092</th>\n",
       "      <td>[second, landing, floor, comprising, abode, kn...</td>\n",
       "    </tr>\n",
       "  </tbody>\n",
       "</table>\n",
       "</div>"
      ],
      "text/plain": [
       "                                                                 tokens\n",
       "Austen_Emma0026       [giving, fair, companion, account, yesterday, ...\n",
       "Austen_Emma0032       [feels, like, snow, place, party, try, day, di...\n",
       "CBronte_Villette0086  [pierced, opaque, blackness, stood, bougie, qu...\n",
       "CBronte_Jane0099      [joke, queer, looks, tell, thing, specially, s...\n",
       "CBronte_Villette0092  [second, landing, floor, comprising, abode, kn..."
      ]
     },
     "execution_count": 16,
     "metadata": {},
     "output_type": "execute_result"
    }
   ],
   "source": [
    "df.head()"
   ]
  },
  {
   "cell_type": "code",
   "execution_count": null,
   "metadata": {},
   "outputs": [],
   "source": []
  },
  {
   "cell_type": "code",
   "execution_count": 17,
   "metadata": {},
   "outputs": [],
   "source": [
    "df['author'] = df.reset_index()['index'].apply(lambda x: x.split('_')[0]).tolist()\n",
    "df['book'] = df.reset_index()['index'].apply(lambda x: x.split('_')[1][:-4]).tolist()\n",
    "df['section'] = df.reset_index()['index'].apply(lambda x: x[-4:]).tolist()\n",
    "df['section'] = df['section'].astype('int')"
   ]
  },
  {
   "cell_type": "code",
   "execution_count": 18,
   "metadata": {},
   "outputs": [],
   "source": [
    "df['author'] = df['author'].map({'Austen':1, 'CBronte':0})"
   ]
  },
  {
   "cell_type": "code",
   "execution_count": 19,
   "metadata": {},
   "outputs": [
    {
     "data": {
      "text/plain": [
       "0    441\n",
       "1    372\n",
       "Name: author, dtype: int64"
      ]
     },
     "execution_count": 19,
     "metadata": {},
     "output_type": "execute_result"
    }
   ],
   "source": [
    "df.author.value_counts()"
   ]
  },
  {
   "cell_type": "markdown",
   "metadata": {},
   "source": [
    "### Streaming Documents\n",
    "Here we use a new pythonic thingy: the `yield` statement in our fucntion. This allows us to iterate over a bunch of documents without actually reading them into memory. You can see how we use this fucntion later on. "
   ]
  },
  {
   "cell_type": "code",
   "execution_count": 7,
   "metadata": {},
   "outputs": [],
   "source": [
    "def doc_stream(path):\n",
    "    for f in os.listdir(path):\n",
    "        if os.path.isdir(f) == False:\n",
    "            if f[-3:] == 'txt':\n",
    "                with open(os.path.join(path,f)) as t:\n",
    "                    text = t.read().strip('\\n')\n",
    "                    tokens = tokenize(str(text))\n",
    "                yield tokens"
   ]
  },
  {
   "cell_type": "code",
   "execution_count": 8,
   "metadata": {},
   "outputs": [],
   "source": [
    "streaming_data = doc_stream(path)"
   ]
  },
  {
   "cell_type": "code",
   "execution_count": null,
   "metadata": {},
   "outputs": [],
   "source": [
    "# gather_data => returns a list\n",
    "# doc_stream => returns a generator"
   ]
  },
  {
   "cell_type": "code",
   "execution_count": null,
   "metadata": {},
   "outputs": [],
   "source": [
    "next(streaming) # Returns one document at a time from the generator"
   ]
  },
  {
   "cell_type": "markdown",
   "metadata": {},
   "source": [
    "### Gensim LDA Topic Modeling"
   ]
  },
  {
   "cell_type": "code",
   "execution_count": 9,
   "metadata": {},
   "outputs": [],
   "source": [
    "# A Dictionary Representation of all the words in our corpus\n",
    "id2word = corpora.Dictionary(doc_stream(path))"
   ]
  },
  {
   "cell_type": "code",
   "execution_count": 37,
   "metadata": {},
   "outputs": [
    {
     "data": {
      "text/plain": [
       "638"
      ]
     },
     "execution_count": 37,
     "metadata": {},
     "output_type": "execute_result"
    }
   ],
   "source": [
    "id2word.token2id['girl']"
   ]
  },
  {
   "cell_type": "code",
   "execution_count": 40,
   "metadata": {},
   "outputs": [
    {
     "data": {
      "text/plain": [
       "'england'"
      ]
     },
     "execution_count": 40,
     "metadata": {},
     "output_type": "execute_result"
    }
   ],
   "source": [
    "id2word[869]"
   ]
  },
  {
   "cell_type": "code",
   "execution_count": 39,
   "metadata": {},
   "outputs": [
    {
     "data": {
      "text/plain": [
       "[(869, 3), (1254, 1), (2485, 1), (16850, 1)]"
      ]
     },
     "execution_count": 39,
     "metadata": {},
     "output_type": "execute_result"
    }
   ],
   "source": [
    "id2word.doc2bow(tokenize(\"This is a sample message Darcy England England England\"))"
   ]
  },
  {
   "cell_type": "code",
   "execution_count": 41,
   "metadata": {},
   "outputs": [
    {
     "data": {
      "text/plain": [
       "56"
      ]
     },
     "execution_count": 41,
     "metadata": {},
     "output_type": "execute_result"
    }
   ],
   "source": [
    "import sys\n",
    "sys.getsizeof(id2word)"
   ]
  },
  {
   "cell_type": "code",
   "execution_count": 42,
   "metadata": {},
   "outputs": [
    {
     "data": {
      "text/plain": [
       "22095"
      ]
     },
     "execution_count": 42,
     "metadata": {},
     "output_type": "execute_result"
    }
   ],
   "source": [
    "len(id2word.keys())"
   ]
  },
  {
   "cell_type": "code",
   "execution_count": 10,
   "metadata": {},
   "outputs": [],
   "source": [
    "# Let's remove extreme values from the dataset\n",
    "id2word.filter_extremes(no_below=5, no_above=0.95)"
   ]
  },
  {
   "cell_type": "code",
   "execution_count": 50,
   "metadata": {},
   "outputs": [
    {
     "data": {
      "text/plain": [
       "8102"
      ]
     },
     "execution_count": 50,
     "metadata": {},
     "output_type": "execute_result"
    }
   ],
   "source": [
    "len(id2word.keys())"
   ]
  },
  {
   "cell_type": "code",
   "execution_count": 12,
   "metadata": {},
   "outputs": [],
   "source": [
    "# a bag of words(bow) representation of our corpus\n",
    "# Note: we haven't actually read any text into memory here\n",
    "# Although abstracted away - tokenization IS happening in the doc_stream f(x)\n",
    "corpus = [id2word.doc2bow(text) for text in doc_stream(path)]"
   ]
  },
  {
   "cell_type": "code",
   "execution_count": 52,
   "metadata": {},
   "outputs": [
    {
     "data": {
      "text/plain": [
       "[(0, 1),\n",
       " (1, 1),\n",
       " (2, 1),\n",
       " (3, 2),\n",
       " (4, 1),\n",
       " (5, 1),\n",
       " (6, 1),\n",
       " (7, 2),\n",
       " (8, 1),\n",
       " (9, 1)]"
      ]
     },
     "execution_count": 52,
     "metadata": {},
     "output_type": "execute_result"
    }
   ],
   "source": [
    "corpus[0][:10]"
   ]
  },
  {
   "cell_type": "code",
   "execution_count": 53,
   "metadata": {},
   "outputs": [],
   "source": [
    "lda = LdaMulticore(corpus=corpus,\n",
    "                   id2word=id2word,\n",
    "                   random_state=723812,\n",
    "                   num_topics = 15,\n",
    "                   passes=10,\n",
    "                   workers=8\n",
    "                  )"
   ]
  },
  {
   "cell_type": "code",
   "execution_count": 54,
   "metadata": {},
   "outputs": [
    {
     "data": {
      "text/plain": [
       "[(0,\n",
       "  '0.009*\"pounds\" + 0.007*\"mother\" + 0.006*\"sure\" + 0.006*\"think\" + 0.006*\"year\" + 0.004*\"rochester\" + 0.004*\"certainly\" + 0.004*\"thornfield\" + 0.004*\"fairfax\" + 0.004*\"live\"'),\n",
       " (1,\n",
       "  '0.008*\"pelet\" + 0.005*\"thought\" + 0.005*\"like\" + 0.004*\"little\" + 0.004*\"man\" + 0.004*\"hunsden\" + 0.004*\"time\" + 0.003*\"having\" + 0.003*\"pupils\" + 0.003*\"crimsworth\"'),\n",
       " (2,\n",
       "  '0.008*\"madame\" + 0.006*\"little\" + 0.006*\"like\" + 0.004*\"day\" + 0.004*\"vous\" + 0.004*\"thought\" + 0.003*\"know\" + 0.003*\"beck\" + 0.003*\"good\" + 0.003*\"paul\"'),\n",
       " (3,\n",
       "  '0.005*\"night\" + 0.005*\"look\" + 0.005*\"like\" + 0.004*\"old\" + 0.004*\"est\" + 0.004*\"looked\" + 0.003*\"sir\" + 0.003*\"thought\" + 0.003*\"house\" + 0.003*\"hunsden\"'),\n",
       " (4,\n",
       "  '0.007*\"little\" + 0.005*\"madame\" + 0.005*\"like\" + 0.004*\"thought\" + 0.004*\"know\" + 0.004*\"hand\" + 0.004*\"good\" + 0.004*\"night\" + 0.003*\"day\" + 0.003*\"dr\"'),\n",
       " (5,\n",
       "  '0.017*\"elizabeth\" + 0.013*\"darcy\" + 0.010*\"miss\" + 0.010*\"bingley\" + 0.010*\"bennet\" + 0.009*\"jane\" + 0.007*\"know\" + 0.007*\"think\" + 0.006*\"wickham\" + 0.005*\"sister\"'),\n",
       " (6,\n",
       "  '0.006*\"know\" + 0.006*\"jane\" + 0.006*\"life\" + 0.005*\"like\" + 0.005*\"long\" + 0.005*\"love\" + 0.005*\"thought\" + 0.005*\"heart\" + 0.005*\"shall\" + 0.005*\"good\"'),\n",
       " (7,\n",
       "  '0.011*\"frances\" + 0.009*\"monsieur\" + 0.007*\"hunsden\" + 0.007*\"little\" + 0.006*\"english\" + 0.005*\"mdlle\" + 0.004*\"long\" + 0.004*\"time\" + 0.004*\"mademoiselle\" + 0.004*\"shall\"'),\n",
       " (8,\n",
       "  '0.008*\"good\" + 0.006*\"little\" + 0.006*\"like\" + 0.006*\"emma\" + 0.005*\"elton\" + 0.005*\"thought\" + 0.005*\"miss\" + 0.004*\"think\" + 0.004*\"great\" + 0.004*\"woman\"'),\n",
       " (9,\n",
       "  '0.012*\"sir\" + 0.006*\"long\" + 0.006*\"jane\" + 0.006*\"rochester\" + 0.005*\"little\" + 0.005*\"yes\" + 0.005*\"adele\" + 0.004*\"come\" + 0.004*\"life\" + 0.004*\"pounds\"'),\n",
       " (10,\n",
       "  '0.007*\"like\" + 0.005*\"little\" + 0.005*\"rochester\" + 0.005*\"miss\" + 0.004*\"room\" + 0.004*\"time\" + 0.004*\"thought\" + 0.003*\"sir\" + 0.003*\"day\" + 0.003*\"come\"'),\n",
       " (11,\n",
       "  '0.015*\"emma\" + 0.012*\"miss\" + 0.009*\"harriet\" + 0.008*\"thing\" + 0.008*\"weston\" + 0.008*\"think\" + 0.007*\"know\" + 0.007*\"knightley\" + 0.006*\"elton\" + 0.006*\"good\"'),\n",
       " (12,\n",
       "  '0.010*\"jane\" + 0.009*\"emma\" + 0.009*\"little\" + 0.008*\"thing\" + 0.008*\"miss\" + 0.008*\"dear\" + 0.007*\"fairfax\" + 0.006*\"shall\" + 0.006*\"know\" + 0.006*\"like\"'),\n",
       " (13,\n",
       "  '0.011*\"elinor\" + 0.010*\"marianne\" + 0.007*\"sister\" + 0.006*\"mother\" + 0.005*\"time\" + 0.004*\"soon\" + 0.004*\"jennings\" + 0.004*\"willoughby\" + 0.004*\"good\" + 0.004*\"dashwood\"'),\n",
       " (14,\n",
       "  '0.006*\"monsieur\" + 0.004*\"henri\" + 0.004*\"georgiana\" + 0.004*\"mdlle\" + 0.004*\"little\" + 0.003*\"know\" + 0.003*\"good\" + 0.003*\"asked\" + 0.003*\"time\" + 0.003*\"course\"')]"
      ]
     },
     "execution_count": 54,
     "metadata": {},
     "output_type": "execute_result"
    }
   ],
   "source": [
    "lda.print_topics()"
   ]
  },
  {
   "cell_type": "code",
   "execution_count": null,
   "metadata": {},
   "outputs": [],
   "source": []
  },
  {
   "cell_type": "code",
   "execution_count": 55,
   "metadata": {},
   "outputs": [],
   "source": [
    "words = [re.findall(r'\"([^\"]*)\"',t[1]) for t in lda.print_topics()]"
   ]
  },
  {
   "cell_type": "code",
   "execution_count": 56,
   "metadata": {},
   "outputs": [],
   "source": [
    "topics = [' '.join(t[0:5]) for t in words]"
   ]
  },
  {
   "cell_type": "code",
   "execution_count": 63,
   "metadata": {},
   "outputs": [
    {
     "name": "stdout",
     "output_type": "stream",
     "text": [
      "------ Topic 0 ------\n",
      "pounds mother sure think year\n",
      "\n",
      "------ Topic 1 ------\n",
      "pelet thought like little man\n",
      "\n",
      "------ Topic 2 ------\n",
      "madame little like day vous\n",
      "\n",
      "------ Topic 3 ------\n",
      "night look like old est\n",
      "\n",
      "------ Topic 4 ------\n",
      "little madame like thought know\n",
      "\n",
      "------ Topic 5 ------\n",
      "elizabeth darcy miss bingley bennet\n",
      "\n",
      "------ Topic 6 ------\n",
      "know jane life like long\n",
      "\n",
      "------ Topic 7 ------\n",
      "frances monsieur hunsden little english\n",
      "\n",
      "------ Topic 8 ------\n",
      "good little like emma elton\n",
      "\n",
      "------ Topic 9 ------\n",
      "sir long jane rochester little\n",
      "\n",
      "------ Topic 10 ------\n",
      "like little rochester miss room\n",
      "\n",
      "------ Topic 11 ------\n",
      "emma miss harriet thing weston\n",
      "\n",
      "------ Topic 12 ------\n",
      "jane emma little thing miss\n",
      "\n",
      "------ Topic 13 ------\n",
      "elinor marianne sister mother time\n",
      "\n",
      "------ Topic 14 ------\n",
      "monsieur henri georgiana mdlle little\n",
      "\n"
     ]
    }
   ],
   "source": [
    "for id, t in enumerate(topics): \n",
    "    print(f\"------ Topic {id} ------\")\n",
    "    print(t, end=\"\\n\\n\")"
   ]
  },
  {
   "cell_type": "markdown",
   "metadata": {},
   "source": [
    "## Challenge \n",
    "\n",
    "You will apply an LDA model to a customer review dataset to practice the fitting and estimation of LDA. "
   ]
  },
  {
   "cell_type": "markdown",
   "metadata": {},
   "source": [
    "# Interpret LDA Results (Learn)\n",
    "<a id=\"#p3\"></a>"
   ]
  },
  {
   "cell_type": "markdown",
   "metadata": {},
   "source": [
    "## Overview"
   ]
  },
  {
   "cell_type": "markdown",
   "metadata": {
    "toc-hr-collapsed": true
   },
   "source": [
    "## Follow Along"
   ]
  },
  {
   "cell_type": "markdown",
   "metadata": {},
   "source": [
    "### Topic Distance Visualization"
   ]
  },
  {
   "cell_type": "code",
   "execution_count": 64,
   "metadata": {},
   "outputs": [],
   "source": [
    "import pyLDAvis.gensim\n",
    "\n",
    "pyLDAvis.enable_notebook()"
   ]
  },
  {
   "cell_type": "code",
   "execution_count": 65,
   "metadata": {},
   "outputs": [
    {
     "name": "stderr",
     "output_type": "stream",
     "text": [
      "/Users/jonathansokoll/anaconda3/envs/U4-S1-NLP/lib/python3.7/site-packages/pyLDAvis/_prepare.py:257: FutureWarning: Sorting because non-concatenation axis is not aligned. A future version\n",
      "of pandas will change to not sort by default.\n",
      "\n",
      "To accept the future behavior, pass 'sort=False'.\n",
      "\n",
      "To retain the current behavior and silence the warning, pass 'sort=True'.\n",
      "\n",
      "  return pd.concat([default_term_info] + list(topic_dfs))\n"
     ]
    },
    {
     "data": {
      "text/html": [
       "\n",
       "<link rel=\"stylesheet\" type=\"text/css\" href=\"https://cdn.rawgit.com/bmabey/pyLDAvis/files/ldavis.v1.0.0.css\">\n",
       "\n",
       "\n",
       "<div id=\"ldavis_el257411122082513044498088709\"></div>\n",
       "<script type=\"text/javascript\">\n",
       "\n",
       "var ldavis_el257411122082513044498088709_data = {\"mdsDat\": {\"x\": [-0.04559448252947012, -0.07766567862554934, 0.14128865817178854, 0.1040427429830189, 0.15221008871151592, -0.013860169270392068, -0.07765683068027569, -0.03380851106821896, -0.0717304584235107, 0.0953642109485158, 0.052508692884153954, 0.006458536409713116, -0.09942849224728868, -0.046035833081049624, -0.08609247418295089], \"y\": [0.02055602204862199, 0.05524330416301861, 0.008633774838191763, 0.01442410940608257, 0.012563778482891426, 0.051118895692017614, 0.07267123492620231, 0.047089186829210886, 0.05393020845289216, -0.03160530420060449, -0.003885282481726412, -0.050557497619336166, -0.027451540132727412, -0.14861803640381582, -0.07411285400091921], \"topics\": [1, 2, 3, 4, 5, 6, 7, 8, 9, 10, 11, 12, 13, 14, 15], \"cluster\": [1, 1, 1, 1, 1, 1, 1, 1, 1, 1, 1, 1, 1, 1, 1], \"Freq\": [21.41192626953125, 17.60748291015625, 16.260637283325195, 16.003149032592773, 10.043458938598633, 6.805943012237549, 3.6257033348083496, 2.328252077102661, 1.555922269821167, 1.2824681997299194, 1.2248318195343018, 0.8663647770881653, 0.45879310369491577, 0.2625969648361206, 0.26247698068618774]}, \"tinfo\": {\"Category\": [\"Default\", \"Default\", \"Default\", \"Default\", \"Default\", \"Default\", \"Default\", \"Default\", \"Default\", \"Default\", \"Default\", \"Default\", \"Default\", \"Default\", \"Default\", \"Default\", \"Default\", \"Default\", \"Default\", \"Default\", \"Default\", \"Default\", \"Default\", \"Default\", \"Default\", \"Default\", \"Default\", \"Default\", \"Default\", \"Default\", \"Topic1\", \"Topic1\", \"Topic1\", \"Topic1\", \"Topic1\", \"Topic1\", \"Topic1\", \"Topic1\", \"Topic1\", \"Topic1\", \"Topic1\", \"Topic1\", \"Topic1\", \"Topic1\", \"Topic1\", \"Topic1\", \"Topic1\", \"Topic1\", \"Topic1\", \"Topic1\", \"Topic1\", \"Topic1\", \"Topic1\", \"Topic1\", \"Topic1\", \"Topic1\", \"Topic1\", \"Topic1\", \"Topic1\", \"Topic1\", \"Topic1\", \"Topic1\", \"Topic1\", \"Topic1\", \"Topic1\", \"Topic1\", \"Topic1\", \"Topic1\", \"Topic1\", \"Topic1\", \"Topic1\", \"Topic1\", \"Topic1\", \"Topic1\", \"Topic1\", \"Topic1\", \"Topic1\", \"Topic1\", \"Topic1\", \"Topic1\", \"Topic1\", \"Topic1\", \"Topic1\", \"Topic1\", \"Topic1\", \"Topic1\", \"Topic1\", \"Topic1\", \"Topic1\", \"Topic1\", \"Topic1\", \"Topic1\", \"Topic1\", \"Topic1\", \"Topic1\", \"Topic1\", \"Topic1\", \"Topic1\", \"Topic1\", \"Topic1\", \"Topic1\", \"Topic1\", \"Topic1\", \"Topic1\", \"Topic1\", \"Topic1\", \"Topic1\", \"Topic1\", \"Topic1\", \"Topic1\", \"Topic1\", \"Topic1\", \"Topic1\", \"Topic1\", \"Topic2\", \"Topic2\", \"Topic2\", \"Topic2\", \"Topic2\", \"Topic2\", \"Topic2\", \"Topic2\", \"Topic2\", \"Topic2\", \"Topic2\", \"Topic2\", \"Topic2\", \"Topic2\", \"Topic2\", \"Topic2\", \"Topic2\", \"Topic2\", \"Topic2\", \"Topic2\", \"Topic2\", \"Topic2\", \"Topic2\", \"Topic2\", \"Topic2\", \"Topic2\", \"Topic2\", \"Topic2\", \"Topic2\", \"Topic2\", \"Topic2\", \"Topic2\", \"Topic2\", \"Topic2\", \"Topic2\", \"Topic2\", \"Topic2\", \"Topic2\", \"Topic2\", \"Topic2\", \"Topic2\", \"Topic2\", \"Topic2\", \"Topic2\", \"Topic2\", \"Topic2\", \"Topic2\", \"Topic2\", \"Topic2\", \"Topic2\", \"Topic2\", \"Topic2\", \"Topic2\", \"Topic2\", \"Topic2\", \"Topic2\", \"Topic2\", \"Topic2\", \"Topic2\", \"Topic2\", \"Topic2\", \"Topic2\", \"Topic2\", \"Topic2\", \"Topic2\", \"Topic2\", \"Topic2\", \"Topic2\", \"Topic2\", \"Topic2\", \"Topic2\", \"Topic2\", \"Topic2\", \"Topic2\", \"Topic2\", \"Topic2\", \"Topic2\", \"Topic2\", \"Topic2\", \"Topic2\", \"Topic2\", \"Topic2\", \"Topic2\", \"Topic2\", \"Topic2\", \"Topic2\", \"Topic2\", \"Topic2\", \"Topic2\", \"Topic3\", \"Topic3\", \"Topic3\", \"Topic3\", \"Topic3\", \"Topic3\", \"Topic3\", \"Topic3\", \"Topic3\", \"Topic3\", \"Topic3\", \"Topic3\", \"Topic3\", \"Topic3\", \"Topic3\", \"Topic3\", \"Topic3\", \"Topic3\", \"Topic3\", \"Topic3\", \"Topic3\", \"Topic3\", \"Topic3\", \"Topic3\", \"Topic3\", \"Topic3\", \"Topic3\", \"Topic3\", \"Topic3\", \"Topic3\", \"Topic3\", \"Topic3\", \"Topic3\", \"Topic3\", \"Topic3\", \"Topic3\", \"Topic3\", \"Topic3\", \"Topic3\", \"Topic3\", \"Topic3\", \"Topic3\", \"Topic3\", \"Topic3\", \"Topic3\", \"Topic3\", \"Topic3\", \"Topic3\", \"Topic3\", \"Topic3\", \"Topic3\", \"Topic3\", \"Topic3\", \"Topic3\", \"Topic3\", \"Topic3\", \"Topic3\", \"Topic3\", \"Topic3\", \"Topic3\", \"Topic3\", \"Topic3\", \"Topic4\", \"Topic4\", \"Topic4\", \"Topic4\", \"Topic4\", \"Topic4\", \"Topic4\", \"Topic4\", \"Topic4\", \"Topic4\", \"Topic4\", \"Topic4\", \"Topic4\", \"Topic4\", \"Topic4\", \"Topic4\", \"Topic4\", \"Topic4\", \"Topic4\", \"Topic4\", \"Topic4\", \"Topic4\", \"Topic4\", \"Topic4\", \"Topic4\", \"Topic4\", \"Topic4\", \"Topic4\", \"Topic4\", \"Topic4\", \"Topic4\", \"Topic4\", \"Topic4\", \"Topic4\", \"Topic4\", \"Topic4\", \"Topic4\", \"Topic4\", \"Topic4\", \"Topic4\", \"Topic4\", \"Topic4\", \"Topic4\", \"Topic4\", \"Topic4\", \"Topic4\", \"Topic4\", \"Topic4\", \"Topic4\", \"Topic4\", \"Topic4\", \"Topic4\", \"Topic4\", \"Topic4\", \"Topic4\", \"Topic4\", \"Topic4\", \"Topic4\", \"Topic4\", \"Topic4\", \"Topic4\", \"Topic4\", \"Topic4\", \"Topic4\", \"Topic4\", \"Topic4\", \"Topic4\", \"Topic4\", \"Topic4\", \"Topic4\", \"Topic4\", \"Topic4\", \"Topic4\", \"Topic5\", \"Topic5\", \"Topic5\", \"Topic5\", \"Topic5\", \"Topic5\", \"Topic5\", \"Topic5\", \"Topic5\", \"Topic5\", \"Topic5\", \"Topic5\", \"Topic5\", \"Topic5\", \"Topic5\", \"Topic5\", \"Topic5\", \"Topic5\", \"Topic5\", \"Topic5\", \"Topic5\", \"Topic5\", \"Topic5\", \"Topic5\", \"Topic5\", \"Topic5\", \"Topic5\", \"Topic5\", \"Topic5\", \"Topic5\", \"Topic5\", \"Topic5\", \"Topic5\", \"Topic5\", \"Topic5\", \"Topic5\", \"Topic5\", \"Topic5\", \"Topic5\", \"Topic5\", \"Topic5\", \"Topic5\", \"Topic5\", \"Topic5\", \"Topic5\", \"Topic5\", \"Topic5\", \"Topic5\", \"Topic5\", \"Topic5\", \"Topic5\", \"Topic5\", \"Topic5\", \"Topic5\", \"Topic5\", \"Topic5\", \"Topic5\", \"Topic5\", \"Topic5\", \"Topic5\", \"Topic5\", \"Topic5\", \"Topic5\", \"Topic5\", \"Topic5\", \"Topic5\", \"Topic6\", \"Topic6\", \"Topic6\", \"Topic6\", \"Topic6\", \"Topic6\", \"Topic6\", \"Topic6\", \"Topic6\", \"Topic6\", \"Topic6\", \"Topic6\", \"Topic6\", \"Topic6\", \"Topic6\", \"Topic6\", \"Topic6\", \"Topic6\", \"Topic6\", \"Topic6\", \"Topic6\", \"Topic6\", \"Topic6\", \"Topic6\", \"Topic6\", \"Topic6\", \"Topic6\", \"Topic6\", \"Topic6\", \"Topic6\", \"Topic6\", \"Topic6\", \"Topic6\", \"Topic6\", \"Topic6\", \"Topic6\", \"Topic6\", \"Topic6\", \"Topic6\", \"Topic6\", \"Topic6\", \"Topic6\", \"Topic6\", \"Topic6\", \"Topic6\", \"Topic6\", \"Topic6\", \"Topic6\", \"Topic6\", \"Topic6\", \"Topic6\", \"Topic6\", \"Topic6\", \"Topic6\", \"Topic6\", \"Topic6\", \"Topic6\", \"Topic6\", \"Topic6\", \"Topic6\", \"Topic6\", \"Topic6\", \"Topic6\", \"Topic6\", \"Topic6\", \"Topic6\", \"Topic6\", \"Topic6\", \"Topic6\", \"Topic6\", \"Topic6\", \"Topic6\", \"Topic6\", \"Topic6\", \"Topic6\", \"Topic6\", \"Topic6\", \"Topic7\", \"Topic7\", \"Topic7\", \"Topic7\", \"Topic7\", \"Topic7\", \"Topic7\", \"Topic7\", \"Topic7\", \"Topic7\", \"Topic7\", \"Topic7\", \"Topic7\", \"Topic7\", \"Topic7\", \"Topic7\", \"Topic7\", \"Topic7\", \"Topic7\", \"Topic7\", \"Topic7\", \"Topic7\", \"Topic7\", \"Topic7\", \"Topic7\", \"Topic7\", \"Topic7\", \"Topic7\", \"Topic7\", \"Topic7\", \"Topic7\", \"Topic7\", \"Topic7\", \"Topic7\", \"Topic7\", \"Topic7\", \"Topic7\", \"Topic7\", \"Topic7\", \"Topic7\", \"Topic7\", \"Topic7\", \"Topic7\", \"Topic7\", \"Topic7\", \"Topic7\", \"Topic7\", \"Topic7\", \"Topic7\", \"Topic7\", \"Topic7\", \"Topic7\", \"Topic7\", \"Topic7\", \"Topic7\", \"Topic7\", \"Topic7\", \"Topic7\", \"Topic7\", \"Topic7\", \"Topic7\", \"Topic7\", \"Topic7\", \"Topic7\", \"Topic7\", \"Topic7\", \"Topic7\", \"Topic7\", \"Topic7\", \"Topic7\", \"Topic7\", \"Topic7\", \"Topic7\", \"Topic7\", \"Topic7\", \"Topic7\", \"Topic8\", \"Topic8\", \"Topic8\", \"Topic8\", \"Topic8\", \"Topic8\", \"Topic8\", \"Topic8\", \"Topic8\", \"Topic8\", \"Topic8\", \"Topic8\", \"Topic8\", \"Topic8\", \"Topic8\", \"Topic8\", \"Topic8\", \"Topic8\", \"Topic8\", \"Topic8\", \"Topic8\", \"Topic8\", \"Topic8\", \"Topic8\", \"Topic8\", \"Topic8\", \"Topic8\", \"Topic8\", \"Topic8\", \"Topic8\", \"Topic8\", \"Topic8\", \"Topic8\", \"Topic8\", \"Topic8\", \"Topic8\", \"Topic8\", \"Topic8\", \"Topic8\", \"Topic8\", \"Topic8\", \"Topic8\", \"Topic8\", \"Topic8\", \"Topic8\", \"Topic8\", \"Topic8\", \"Topic8\", \"Topic8\", \"Topic8\", \"Topic8\", \"Topic8\", \"Topic8\", \"Topic8\", \"Topic8\", \"Topic8\", \"Topic8\", \"Topic8\", \"Topic8\", \"Topic8\", \"Topic8\", \"Topic8\", \"Topic8\", \"Topic8\", \"Topic8\", \"Topic8\", \"Topic8\", \"Topic8\", \"Topic8\", \"Topic8\", \"Topic8\", \"Topic8\", \"Topic9\", \"Topic9\", \"Topic9\", \"Topic9\", \"Topic9\", \"Topic9\", \"Topic9\", \"Topic9\", \"Topic9\", \"Topic9\", \"Topic9\", \"Topic9\", \"Topic9\", \"Topic9\", \"Topic9\", \"Topic9\", \"Topic9\", \"Topic9\", \"Topic9\", \"Topic9\", \"Topic9\", \"Topic9\", \"Topic9\", \"Topic9\", \"Topic9\", \"Topic9\", \"Topic9\", \"Topic9\", \"Topic9\", \"Topic9\", \"Topic9\", \"Topic9\", \"Topic9\", \"Topic9\", \"Topic9\", \"Topic9\", \"Topic9\", \"Topic9\", \"Topic9\", \"Topic9\", \"Topic9\", \"Topic9\", \"Topic9\", \"Topic9\", \"Topic9\", \"Topic9\", \"Topic9\", \"Topic9\", \"Topic9\", \"Topic9\", \"Topic9\", \"Topic9\", \"Topic9\", \"Topic9\", \"Topic9\", \"Topic9\", \"Topic9\", \"Topic9\", \"Topic9\", \"Topic9\", \"Topic9\", \"Topic9\", \"Topic9\", \"Topic9\", \"Topic9\", \"Topic9\", \"Topic9\", \"Topic9\", \"Topic9\", \"Topic9\", \"Topic9\", \"Topic10\", \"Topic10\", \"Topic10\", \"Topic10\", \"Topic10\", \"Topic10\", \"Topic10\", \"Topic10\", \"Topic10\", \"Topic10\", \"Topic10\", \"Topic10\", \"Topic10\", \"Topic10\", \"Topic10\", \"Topic10\", \"Topic10\", \"Topic10\", \"Topic10\", \"Topic10\", \"Topic10\", \"Topic10\", \"Topic10\", \"Topic10\", \"Topic10\", \"Topic10\", \"Topic10\", \"Topic10\", \"Topic10\", \"Topic10\", \"Topic10\", \"Topic10\", \"Topic10\", \"Topic10\", \"Topic10\", \"Topic10\", \"Topic10\", \"Topic10\", \"Topic10\", \"Topic10\", \"Topic10\", \"Topic10\", \"Topic10\", \"Topic10\", \"Topic10\", \"Topic10\", \"Topic10\", \"Topic10\", \"Topic10\", \"Topic10\", \"Topic10\", \"Topic10\", \"Topic10\", \"Topic10\", \"Topic10\", \"Topic10\", \"Topic10\", \"Topic10\", \"Topic10\", \"Topic10\", \"Topic10\", \"Topic10\", \"Topic10\", \"Topic10\", \"Topic10\", \"Topic10\", \"Topic10\", \"Topic10\", \"Topic10\", \"Topic10\", \"Topic10\", \"Topic11\", \"Topic11\", \"Topic11\", \"Topic11\", \"Topic11\", \"Topic11\", \"Topic11\", \"Topic11\", \"Topic11\", \"Topic11\", \"Topic11\", \"Topic11\", \"Topic11\", \"Topic11\", \"Topic11\", \"Topic11\", \"Topic11\", \"Topic11\", \"Topic11\", \"Topic11\", \"Topic11\", \"Topic11\", \"Topic11\", \"Topic11\", \"Topic11\", \"Topic11\", \"Topic11\", \"Topic11\", \"Topic11\", \"Topic11\", \"Topic11\", \"Topic11\", \"Topic11\", \"Topic11\", \"Topic11\", \"Topic11\", \"Topic11\", \"Topic11\", \"Topic11\", \"Topic11\", \"Topic11\", \"Topic11\", \"Topic11\", \"Topic11\", \"Topic11\", \"Topic11\", \"Topic11\", \"Topic11\", \"Topic11\", \"Topic11\", \"Topic11\", \"Topic11\", \"Topic11\", \"Topic11\", \"Topic11\", \"Topic11\", \"Topic11\", \"Topic11\", \"Topic11\", \"Topic11\", \"Topic11\", \"Topic11\", \"Topic11\", \"Topic11\", \"Topic11\", \"Topic11\", \"Topic11\", \"Topic11\", \"Topic12\", \"Topic12\", \"Topic12\", \"Topic12\", \"Topic12\", \"Topic12\", \"Topic12\", \"Topic12\", \"Topic12\", \"Topic12\", \"Topic12\", \"Topic12\", \"Topic12\", \"Topic12\", \"Topic12\", \"Topic12\", \"Topic12\", \"Topic12\", \"Topic12\", \"Topic12\", \"Topic12\", \"Topic12\", \"Topic12\", \"Topic12\", \"Topic12\", \"Topic12\", \"Topic12\", \"Topic12\", \"Topic12\", \"Topic12\", \"Topic12\", \"Topic12\", \"Topic12\", \"Topic12\", \"Topic12\", \"Topic12\", \"Topic12\", \"Topic12\", \"Topic12\", \"Topic12\", \"Topic12\", \"Topic12\", \"Topic12\", \"Topic12\", \"Topic12\", \"Topic12\", \"Topic12\", \"Topic12\", \"Topic12\", \"Topic12\", \"Topic12\", \"Topic12\", \"Topic12\", \"Topic12\", \"Topic12\", \"Topic12\", \"Topic12\", \"Topic12\", \"Topic12\", \"Topic12\", \"Topic12\", \"Topic12\", \"Topic12\", \"Topic12\", \"Topic12\", \"Topic12\", \"Topic12\", \"Topic12\", \"Topic12\", \"Topic12\", \"Topic12\", \"Topic12\", \"Topic12\", \"Topic12\", \"Topic12\", \"Topic12\", \"Topic12\", \"Topic13\", \"Topic13\", \"Topic13\", \"Topic13\", \"Topic13\", \"Topic13\", \"Topic13\", \"Topic13\", \"Topic13\", \"Topic13\", \"Topic13\", \"Topic13\", \"Topic13\", \"Topic13\", \"Topic13\", \"Topic13\", \"Topic13\", \"Topic13\", \"Topic13\", \"Topic13\", \"Topic13\", \"Topic13\", \"Topic13\", \"Topic13\", \"Topic13\", \"Topic13\", \"Topic13\", \"Topic13\", \"Topic13\", \"Topic13\", \"Topic13\", \"Topic13\", \"Topic13\", \"Topic13\", \"Topic13\", \"Topic13\", \"Topic13\", \"Topic13\", \"Topic13\", \"Topic13\", \"Topic13\", \"Topic13\", \"Topic13\", \"Topic13\", \"Topic13\", \"Topic13\", \"Topic13\", \"Topic13\", \"Topic13\", \"Topic13\", \"Topic13\", \"Topic13\", \"Topic13\", \"Topic13\", \"Topic13\", \"Topic13\", \"Topic13\", \"Topic13\", \"Topic13\", \"Topic13\", \"Topic13\", \"Topic13\", \"Topic13\", \"Topic13\", \"Topic13\", \"Topic13\", \"Topic13\", \"Topic13\", \"Topic14\", \"Topic14\", \"Topic14\", \"Topic14\", \"Topic14\", \"Topic14\", \"Topic14\", \"Topic14\", \"Topic14\", \"Topic14\", \"Topic14\", \"Topic14\", \"Topic14\", \"Topic14\", \"Topic14\", \"Topic14\", \"Topic14\", \"Topic14\", \"Topic14\", \"Topic14\", \"Topic14\", \"Topic14\", \"Topic14\", \"Topic14\", \"Topic14\", \"Topic14\", \"Topic14\", \"Topic14\", \"Topic14\", \"Topic14\", \"Topic14\", \"Topic14\", \"Topic14\", \"Topic14\", \"Topic14\", \"Topic14\", \"Topic14\", \"Topic14\", \"Topic14\", \"Topic14\", \"Topic14\", \"Topic14\", \"Topic14\", \"Topic14\", \"Topic14\", \"Topic14\", \"Topic14\", \"Topic14\", \"Topic14\", \"Topic14\", \"Topic14\", \"Topic14\", \"Topic14\", \"Topic14\", \"Topic14\", \"Topic14\", \"Topic14\", \"Topic14\", \"Topic14\", \"Topic14\", \"Topic14\", \"Topic14\", \"Topic14\", \"Topic14\", \"Topic14\", \"Topic14\", \"Topic14\", \"Topic14\", \"Topic15\", \"Topic15\", \"Topic15\", \"Topic15\", \"Topic15\", \"Topic15\", \"Topic15\", \"Topic15\", \"Topic15\", \"Topic15\", \"Topic15\", \"Topic15\", \"Topic15\", \"Topic15\", \"Topic15\", \"Topic15\", \"Topic15\", \"Topic15\", \"Topic15\", \"Topic15\", \"Topic15\", \"Topic15\", \"Topic15\", \"Topic15\", \"Topic15\", \"Topic15\", \"Topic15\", \"Topic15\", \"Topic15\", \"Topic15\", \"Topic15\", \"Topic15\", \"Topic15\", \"Topic15\", \"Topic15\", \"Topic15\", \"Topic15\", \"Topic15\", \"Topic15\", \"Topic15\", \"Topic15\", \"Topic15\", \"Topic15\", \"Topic15\", \"Topic15\", \"Topic15\", \"Topic15\", \"Topic15\", \"Topic15\", \"Topic15\", \"Topic15\", \"Topic15\", \"Topic15\", \"Topic15\", \"Topic15\", \"Topic15\", \"Topic15\", \"Topic15\", \"Topic15\", \"Topic15\", \"Topic15\", \"Topic15\", \"Topic15\", \"Topic15\", \"Topic15\", \"Topic15\", \"Topic15\", \"Topic15\", \"Topic15\", \"Topic15\", \"Topic15\", \"Topic15\", \"Topic15\"], \"Freq\": [836.0, 1711.0, 931.0, 1535.0, 1318.0, 1312.0, 657.0, 596.0, 1349.0, 776.0, 1437.0, 357.0, 672.0, 1136.0, 920.0, 510.0, 361.0, 424.0, 614.0, 370.0, 1315.0, 695.0, 576.0, 934.0, 427.0, 1058.0, 587.0, 622.0, 272.0, 753.0, 28.87476348876953, 28.863691329956055, 31.619483947753906, 19.92131805419922, 85.88289642333984, 22.75632667541504, 19.74716567993164, 53.23911666870117, 16.761571884155273, 13.934161186218262, 13.88504409790039, 11.913825035095215, 23.005313873291016, 121.43511199951172, 10.915304183959961, 9.995403289794922, 119.31388092041016, 93.31673431396484, 9.843903541564941, 50.03384017944336, 11.55561637878418, 68.3874282836914, 29.48923110961914, 39.24593734741211, 10.613770484924316, 13.228958129882812, 9.69159984588623, 7.905925750732422, 6.993528366088867, 6.9849324226379395, 314.42529296875, 15.89309024810791, 11.391817092895508, 81.9462661743164, 35.71500778198242, 110.694091796875, 21.136707305908203, 128.48648071289062, 48.984130859375, 39.68549346923828, 50.72087860107422, 22.790328979492188, 99.97599029541016, 51.71770095825195, 22.50380516052246, 108.03887176513672, 44.20779800415039, 465.2650146484375, 217.2357635498047, 100.46719360351562, 230.083740234375, 113.81912994384766, 298.7674865722656, 206.94668579101562, 166.63429260253906, 99.56573486328125, 140.88604736328125, 101.53715515136719, 221.28915405273438, 82.04928588867188, 206.29856872558594, 141.18382263183594, 358.75238037109375, 194.85704040527344, 193.35159301757812, 225.75637817382812, 314.38201904296875, 209.39041137695312, 181.34339904785156, 246.1466064453125, 226.52813720703125, 212.408935546875, 246.9989776611328, 206.1099395751953, 172.89157104492188, 187.51475524902344, 223.6667022705078, 175.44290161132812, 207.55955505371094, 182.74581909179688, 188.0795135498047, 146.02635192871094, 150.01882934570312, 146.04544067382812, 36.877994537353516, 9.952476501464844, 8.998369216918945, 8.984999656677246, 13.351454734802246, 7.93312931060791, 9.698150634765625, 10.506338119506836, 6.9861063957214355, 7.829038619995117, 6.940537929534912, 7.832890033721924, 6.930730819702148, 13.892817497253418, 6.021341800689697, 11.184955596923828, 6.009202003479004, 6.0095086097717285, 6.842505931854248, 5.987033367156982, 10.31398868560791, 5.907583713531494, 5.907085418701172, 8.493534088134766, 9.324647903442383, 5.022131443023682, 5.838100910186768, 4.986380100250244, 4.986835479736328, 5.830488681793213, 53.488136291503906, 30.164657592773438, 41.027313232421875, 181.9746551513672, 17.60667610168457, 279.8040466308594, 131.688720703125, 116.30264282226562, 77.81892395019531, 53.60722351074219, 60.12734603881836, 27.095600128173828, 165.82583618164062, 95.27027893066406, 14.220627784729004, 66.94180297851562, 56.74794006347656, 31.461597442626953, 129.9276123046875, 34.912750244140625, 37.32014846801758, 49.41880798339844, 25.09429168701172, 47.9988899230957, 44.945220947265625, 123.7288818359375, 62.56048583984375, 111.69891357421875, 62.758575439453125, 44.505653381347656, 62.33956527709961, 155.90367126464844, 208.5458221435547, 201.88909912109375, 408.61669921875, 138.4920196533203, 81.27510070800781, 176.142578125, 95.76325988769531, 238.53297424316406, 154.7234649658203, 253.89089965820312, 150.3070831298828, 106.44259643554688, 220.4061737060547, 189.6083984375, 131.07789611816406, 207.16668701171875, 130.71571350097656, 156.77896118164062, 167.5929718017578, 147.31732177734375, 132.30809020996094, 170.5548553466797, 135.43301391601562, 163.88087463378906, 130.4935302734375, 133.59776306152344, 128.45211791992188, 29.7137451171875, 207.46124267578125, 359.2691345214844, 18.46486473083496, 82.91461181640625, 30.09807586669922, 400.1015319824219, 34.549625396728516, 12.654858589172363, 45.628326416015625, 15.216479301452637, 12.494544982910156, 9.768328666687012, 766.2999877929688, 32.57817840576172, 61.62875747680664, 55.26749038696289, 11.397666931152344, 7.836368560791016, 43.31952667236328, 456.2375183105469, 74.99470520019531, 137.71682739257812, 7.723233699798584, 50.88850784301758, 325.73309326171875, 5.902990341186523, 262.40887451171875, 5.761044979095459, 11.600122451782227, 125.90387725830078, 198.95974731445312, 64.9341812133789, 98.36503601074219, 40.83983612060547, 60.65955352783203, 182.07916259765625, 81.39019012451172, 405.3373718261719, 197.48150634765625, 84.35777282714844, 595.7518920898438, 396.68402099609375, 233.3525848388672, 220.3173370361328, 261.5610046386719, 361.9943542480469, 322.85675048828125, 191.6318359375, 284.7929992675781, 155.4096221923828, 306.55767822265625, 165.92898559570312, 217.0574493408203, 212.81387329101562, 212.8787841796875, 218.12571716308594, 198.44821166992188, 171.5135498046875, 171.5689239501953, 177.6673126220703, 182.7364044189453, 214.5319061279297, 26.76105308532715, 18.03285789489746, 16.06901741027832, 12.161127090454102, 84.33401489257812, 10.177343368530273, 215.84669494628906, 526.15234375, 10.980244636535645, 10.960925102233887, 132.39463806152344, 8.957446098327637, 8.048133850097656, 7.123293399810791, 70.63899993896484, 6.143017292022705, 13.155477523803711, 6.059098720550537, 6.045782089233398, 6.042452335357666, 23.6861629486084, 90.5673599243164, 26.884979248046875, 17.29132080078125, 5.0985541343688965, 32.05638122558594, 5.005821704864502, 11.052071571350098, 4.906619548797607, 568.394775390625, 201.85263061523438, 43.31956481933594, 28.691421508789062, 59.66033935546875, 193.3285369873047, 347.9991149902344, 82.41291809082031, 283.2585754394531, 66.84253692626953, 138.8089599609375, 113.46942901611328, 64.2364501953125, 38.565547943115234, 58.08822250366211, 44.225120544433594, 95.92298126220703, 183.0273895263672, 127.6192398071289, 225.52310180664062, 273.7329406738281, 133.29884338378906, 184.41427612304688, 165.7103271484375, 87.00251007080078, 76.07147979736328, 135.3553466796875, 189.16156005859375, 110.9290542602539, 208.87835693359375, 134.92991638183594, 134.50323486328125, 198.27137756347656, 139.66018676757812, 190.83346557617188, 137.15330505371094, 133.17626953125, 163.00149536132812, 143.60447692871094, 142.0240020751953, 140.59713745117188, 137.60525512695312, 134.75306701660156, 302.00128173828125, 71.96040344238281, 35.22013854980469, 67.19417572021484, 14.067887306213379, 394.2726135253906, 301.1030578613281, 34.066612243652344, 53.18614196777344, 13.51075267791748, 174.1569366455078, 28.062156677246094, 5.033233165740967, 35.63248825073242, 27.96105194091797, 9.22675609588623, 9.980324745178223, 13.68436050415039, 8.058578491210938, 72.603271484375, 524.7830200195312, 78.33509063720703, 7.784092426300049, 7.615123271942139, 141.41177368164062, 30.878543853759766, 11.064018249511719, 4.964013576507568, 6.013096332550049, 6.318742275238037, 38.2420539855957, 117.60044860839844, 86.32015991210938, 59.498695373535156, 17.965532302856445, 18.456972122192383, 25.72806739807129, 17.961502075195312, 37.410091400146484, 295.37115478515625, 55.02993392944336, 65.04838562011719, 73.9281234741211, 320.2079772949219, 119.73778533935547, 158.67205810546875, 70.23171997070312, 151.42413330078125, 217.12911987304688, 227.25900268554688, 158.60986328125, 125.59293365478516, 116.05960083007812, 105.97450256347656, 141.97618103027344, 123.1539306640625, 93.09648132324219, 152.86441040039062, 123.57662200927734, 124.02426147460938, 108.41400909423828, 135.6727294921875, 133.4320831298828, 114.4432601928711, 99.07930755615234, 93.31919860839844, 4.829192638397217, 4.695783615112305, 4.659444808959961, 17.3627986907959, 11.544368743896484, 5.926822662353516, 5.236352443695068, 6.657975196838379, 4.311544895172119, 8.535834312438965, 8.311763763427734, 6.948817729949951, 4.751431465148926, 14.907384872436523, 16.1597843170166, 4.729938507080078, 12.880033493041992, 9.205368995666504, 4.66086483001709, 3.958664894104004, 3.9473259449005127, 4.4761176109313965, 3.8222951889038086, 3.856182098388672, 7.655892848968506, 3.513456344604492, 6.864084720611572, 10.69432544708252, 4.849911212921143, 7.229312896728516, 14.615137100219727, 9.753095626831055, 11.299576759338379, 87.61486053466797, 5.8850226402282715, 72.3469009399414, 19.876628875732422, 10.017782211303711, 68.32476806640625, 126.40863037109375, 109.10396575927734, 46.80879211425781, 128.19796752929688, 46.80193328857422, 96.60487365722656, 24.899757385253906, 33.53031921386719, 112.44075775146484, 13.9119873046875, 135.1256103515625, 27.877397537231445, 96.52323913574219, 32.120445251464844, 116.20816040039062, 72.48741149902344, 101.2109146118164, 72.87706756591797, 96.22125244140625, 53.678001403808594, 92.5730972290039, 72.2496337890625, 73.49168395996094, 59.48642349243164, 94.73876953125, 58.28682327270508, 40.10024642944336, 47.472412109375, 54.428794860839844, 60.00297927856445, 42.7930908203125, 48.50076675415039, 62.02417755126953, 49.1483154296875, 52.405704498291016, 59.919124603271484, 55.46912384033203, 49.80287170410156, 18.274398803710938, 3.8513283729553223, 15.945289611816406, 14.44370174407959, 3.4840354919433594, 11.438820838928223, 5.034346580505371, 5.519164085388184, 21.461261749267578, 3.632819890975952, 4.741491317749023, 5.263587474822998, 5.2532057762146, 5.156177043914795, 15.810702323913574, 3.8754007816314697, 3.350998640060425, 4.308704376220703, 15.371488571166992, 2.654127597808838, 14.964646339416504, 2.6598360538482666, 7.133889675140381, 3.50014328956604, 2.56062388420105, 2.674121141433716, 3.496574640274048, 3.527085542678833, 3.088834762573242, 2.6277928352355957, 4.401451110839844, 14.78373908996582, 10.254413604736328, 26.27112579345703, 32.776058197021484, 42.7722282409668, 5.998824119567871, 15.455156326293945, 15.191089630126953, 14.206903457641602, 94.20165252685547, 15.15461254119873, 19.470008850097656, 21.346391677856445, 39.349735260009766, 28.861543655395508, 27.431352615356445, 26.129688262939453, 35.62883758544922, 9.527819633483887, 22.38031578063965, 10.564220428466797, 9.308046340942383, 69.66345977783203, 17.528173446655273, 72.94925689697266, 12.603675842285156, 35.41525650024414, 44.010929107666016, 28.227092742919922, 41.92043685913086, 31.302026748657227, 39.58043670654297, 35.83228302001953, 25.253110885620117, 25.3990535736084, 31.070816040039062, 28.66160774230957, 28.56279754638672, 29.76193618774414, 31.798837661743164, 29.409345626831055, 26.84290885925293, 25.776531219482422, 24.510284423828125, 24.45391273498535, 11.950345993041992, 4.193739414215088, 4.5252885818481445, 3.421290159225464, 3.450185775756836, 3.183384656906128, 56.862911224365234, 3.174912929534912, 2.6315598487854004, 3.2126927375793457, 3.1261441707611084, 4.300121307373047, 2.450713634490967, 4.8827290534973145, 2.581901788711548, 3.155702829360962, 5.811782360076904, 6.100457668304443, 2.6033313274383545, 3.336869955062866, 2.6501848697662354, 2.6358115673065186, 2.599480628967285, 2.6055126190185547, 2.5731728076934814, 2.097867488861084, 3.821226119995117, 4.561814308166504, 3.449549436569214, 2.393731117248535, 8.581572532653809, 8.527335166931152, 28.452917098999023, 21.187341690063477, 5.0332746505737305, 19.338579177856445, 10.35257625579834, 5.459090709686279, 9.628847122192383, 13.638809204101562, 22.59598731994629, 7.768884181976318, 14.919240951538086, 5.730337619781494, 11.43294906616211, 12.951927185058594, 14.97081470489502, 19.391605377197266, 20.923995971679688, 35.54991912841797, 24.370033264160156, 35.23929214477539, 7.861086845397949, 29.45351219177246, 12.399352073669434, 31.81737518310547, 17.9414119720459, 18.64333152770996, 20.947444915771484, 26.180782318115234, 19.950023651123047, 18.93164825439453, 19.937999725341797, 21.120723724365234, 20.175844192504883, 16.086801528930664, 17.795291900634766, 16.824756622314453, 15.96167278289795, 14.940820693969727, 14.89561653137207, 14.768153190612793, 7.152078628540039, 6.10603666305542, 2.637932777404785, 2.650684118270874, 53.980125427246094, 2.6463332176208496, 3.519352912902832, 6.13424015045166, 3.4975953102111816, 2.641439437866211, 3.4779844284057617, 2.581184148788452, 2.038071870803833, 2.593029260635376, 2.3585808277130127, 2.686368227005005, 2.1702489852905273, 17.740568161010742, 1.8123067617416382, 1.8055168390274048, 1.7348605394363403, 1.8063709735870361, 1.7552289962768555, 1.8126540184020996, 1.7564517259597778, 1.8001787662506104, 2.573972463607788, 2.587573528289795, 4.628400802612305, 1.6607989072799683, 1.730444073677063, 34.91166687011719, 26.251710891723633, 4.016773223876953, 42.141326904296875, 11.496313095092773, 4.380347728729248, 10.966166496276855, 18.57023048400879, 29.836381912231445, 5.001638412475586, 10.235888481140137, 13.706412315368652, 9.93258285522461, 6.152833938598633, 7.942098140716553, 3.9931161403656006, 11.13361644744873, 32.342533111572266, 16.709165573120117, 20.386825561523438, 17.070941925048828, 17.941431045532227, 9.170454978942871, 18.620275497436523, 12.377337455749512, 13.003177642822266, 14.669824600219727, 9.857723236083984, 16.874958038330078, 16.739057540893555, 12.33577823638916, 12.788804054260254, 15.045084953308105, 14.402135848999023, 15.546256065368652, 12.679022789001465, 12.59273910522461, 11.971755981445312, 11.534993171691895, 11.532245635986328, 14.444549560546875, 6.777750492095947, 3.9683642387390137, 3.1934561729431152, 2.997070074081421, 2.253629207611084, 2.1664669513702393, 3.10693359375, 2.373676300048828, 1.6220065355300903, 3.405266284942627, 2.622499942779541, 1.6235469579696655, 1.5819661617279053, 1.6177164316177368, 3.1399037837982178, 1.6130174398422241, 3.490762710571289, 3.720919370651245, 4.454115390777588, 2.0324814319610596, 1.7910988330841064, 1.4362149238586426, 2.2517261505126953, 2.2068674564361572, 1.3807049989700317, 1.6265722513198853, 1.6238973140716553, 1.6488466262817383, 4.088554382324219, 3.0005927085876465, 2.5907206535339355, 7.219669342041016, 4.448122024536133, 5.417786121368408, 9.261008262634277, 29.108274459838867, 8.223289489746094, 8.980566024780273, 7.792832851409912, 31.771169662475586, 40.43128204345703, 36.218875885009766, 19.484617233276367, 34.163177490234375, 21.44740867614746, 11.284211158752441, 35.91697311401367, 25.56153106689453, 12.414353370666504, 31.94333267211914, 9.713482856750488, 12.467053413391113, 22.947994232177734, 23.343420028686523, 6.732662677764893, 15.908740997314453, 15.317012786865234, 14.075668334960938, 11.247262954711914, 13.877434730529785, 18.934396743774414, 10.448655128479004, 12.709785461425781, 14.347960472106934, 14.443131446838379, 13.380796432495117, 11.968757629394531, 12.393465042114258, 11.05628490447998, 11.069899559020996, 4.868807315826416, 2.3738975524902344, 2.3807530403137207, 3.9523489475250244, 3.9587626457214355, 5.07983922958374, 3.1548566818237305, 2.391150951385498, 10.980929374694824, 2.3859634399414062, 2.3615288734436035, 2.342322826385498, 2.2636187076568604, 2.465487241744995, 7.710022926330566, 2.0055441856384277, 1.5753663778305054, 2.2207722663879395, 3.8579723834991455, 11.000338554382324, 2.3865883350372314, 1.5966849327087402, 1.5698232650756836, 2.097839832305908, 3.7024757862091064, 4.193904399871826, 1.9092235565185547, 1.620068073272705, 1.612087607383728, 1.5745573043823242, 4.366470813751221, 4.629537582397461, 2.9925694465637207, 5.292385578155518, 2.956796646118164, 3.0666415691375732, 11.293205261230469, 18.485586166381836, 11.055374145507812, 11.156458854675293, 30.246240615844727, 10.612447738647461, 13.572282791137695, 21.457345962524414, 13.456817626953125, 22.294069290161133, 14.245777130126953, 11.133590698242188, 7.776614189147949, 22.381406784057617, 12.88064956665039, 11.721809387207031, 18.08791732788086, 12.721871376037598, 14.763311386108398, 17.80306053161621, 12.277084350585938, 16.073299407958984, 13.509233474731445, 12.24289608001709, 13.204085350036621, 13.486692428588867, 12.792189598083496, 9.866982460021973, 10.150691986083984, 11.45781421661377, 10.527457237243652, 11.033000946044922, 5.652390480041504, 2.3094167709350586, 1.5422701835632324, 2.498973846435547, 1.5714665651321411, 1.5385279655456543, 1.477229356765747, 1.5698274374008179, 1.568550705909729, 1.5627937316894531, 1.5700292587280273, 2.2893593311309814, 1.4961426258087158, 2.3282761573791504, 1.5708566904067993, 9.206957817077637, 1.5230900049209595, 0.8111215233802795, 0.8100199103355408, 0.8187788724899292, 1.5996935367584229, 0.8100031614303589, 1.5731533765792847, 0.8098285794258118, 0.8147262334823608, 0.8007969260215759, 0.8128098845481873, 0.8098759651184082, 0.8108596801757812, 0.8045127391815186, 2.9317851066589355, 3.702813148498535, 3.1025021076202393, 2.161360502243042, 10.635101318359375, 1.9172453880310059, 13.252137184143066, 3.8598854541778564, 1.5173377990722656, 1.4602665901184082, 3.301414966583252, 3.5855751037597656, 32.20161056518555, 4.501457214355469, 9.101631164550781, 10.009191513061523, 15.391735076904297, 3.701540470123291, 9.208115577697754, 3.810669422149658, 9.866206169128418, 13.514702796936035, 16.693904876708984, 15.563373565673828, 9.597333908081055, 10.366029739379883, 10.63608169555664, 11.999723434448242, 5.85250186920166, 9.346081733703613, 9.783979415893555, 13.623987197875977, 8.672810554504395, 9.625663757324219, 7.781284809112549, 5.49915885925293, 6.056352615356445, 10.627191543579102, 8.41235065460205, 9.338139533996582, 9.842525482177734, 8.297232627868652, 7.7550201416015625, 9.084379196166992, 8.528489112854004, 8.536136627197266, 7.808964729309082, 1.4014382362365723, 2.7914481163024902, 1.366982102394104, 3.3266382217407227, 2.789431095123291, 1.412285566329956, 1.417777419090271, 1.4021904468536377, 1.4008152484893799, 1.4131181240081787, 1.41067373752594, 1.4127931594848633, 2.0776920318603516, 1.4171407222747803, 1.4042835235595703, 1.3529396057128906, 1.4183416366577148, 3.0415291786193848, 1.4145474433898926, 1.3388609886169434, 1.2837989330291748, 1.4175844192504883, 1.3163812160491943, 2.2601921558380127, 1.3842542171478271, 1.4143038988113403, 0.7292510867118835, 0.7337843775749207, 0.7183631658554077, 0.7315229773521423, 1.2885504961013794, 1.4205570220947266, 3.7580721378326416, 2.20155930519104, 5.535375118255615, 2.0468838214874268, 2.798827648162842, 4.183575630187988, 4.188516139984131, 7.466917514801025, 6.8414692878723145, 5.878284454345703, 3.6196107864379883, 3.136561393737793, 2.7993273735046387, 6.74610710144043, 2.674513816833496, 5.077850818634033, 4.760385036468506, 2.094590902328491, 4.0028462409973145, 3.616636037826538, 3.3757176399230957, 2.320373058319092, 4.2171525955200195, 4.540389060974121, 3.7105982303619385, 3.2013497352600098, 2.8562052249908447, 3.611713171005249, 3.4749932289123535, 3.24070405960083, 3.231489896774292, 3.0100607872009277, 3.098189353942871, 2.991264820098877, 2.8939833641052246, 2.9026472568511963, 1.727394938468933, 1.215699315071106, 0.973193883895874, 1.1398050785064697, 0.6275056600570679, 0.6251452565193176, 0.6263750791549683, 0.606576144695282, 0.5527217388153076, 0.6267830729484558, 0.6285433173179626, 0.6278787851333618, 0.6284279227256775, 1.1761332750320435, 0.6283630132675171, 0.6250465512275696, 0.6273144483566284, 0.6242362260818481, 0.6238583326339722, 1.2179229259490967, 0.4846939146518707, 0.6264544725418091, 0.6271116137504578, 0.6281529664993286, 0.6245241761207581, 0.6280754208564758, 0.6275389790534973, 0.6281757950782776, 0.6249272227287292, 1.088897705078125, 7.251558780670166, 1.567495584487915, 2.02886962890625, 1.6584919691085815, 2.509882688522339, 3.547744035720825, 4.766496658325195, 2.9880080223083496, 1.2214901447296143, 1.8115320205688477, 3.0633745193481445, 1.8078240156173706, 2.058271646499634, 2.282897710800171, 1.2181951999664307, 5.24661922454834, 5.467150688171387, 2.4051880836486816, 3.0964863300323486, 3.642340660095215, 3.6485183238983154, 3.5254862308502197, 1.1106330156326294, 5.031309604644775, 2.471909523010254, 3.050926685333252, 2.473905324935913, 2.849778413772583, 2.8289127349853516, 2.426011800765991, 2.3265037536621094, 2.447221040725708, 2.7717807292938232, 2.5678622722625732, 2.479120969772339, 2.1314826011657715, 2.1888787746429443, 2.029064416885376, 1.1683521270751953, 1.0098787546157837, 1.186397910118103, 1.1952617168426514, 0.9164228439331055, 0.6137753129005432, 1.7487655878067017, 0.6153376698493958, 0.6024956703186035, 0.6150470972061157, 0.6140919327735901, 0.9234641790390015, 0.6146291494369507, 0.6095265746116638, 0.6058729290962219, 0.6130946278572083, 0.6141626834869385, 0.612559974193573, 0.61394864320755, 0.6071910262107849, 0.6043846607208252, 0.5895822644233704, 1.0933725833892822, 0.5820469260215759, 0.57068932056427, 0.5518779754638672, 0.6152870059013367, 0.6154626607894897, 0.6132678389549255, 0.5499374270439148, 1.7182958126068115, 0.8640403151512146, 1.90878427028656, 3.385141611099243, 3.2878260612487793, 1.1659737825393677, 1.7089006900787354, 0.8259049654006958, 3.157801389694214, 5.2724409103393555, 1.1016523838043213, 1.8958758115768433, 1.6166422367095947, 1.19102942943573, 2.6337664127349854, 1.1941118240356445, 1.775599718093872, 1.162496566772461, 1.547796607017517, 2.4441351890563965, 1.6208053827285767, 1.1257705688476562, 2.3623359203338623, 2.808324098587036, 2.661689519882202, 2.320265531539917, 2.050896644592285, 2.330263376235962, 1.945711374282837, 2.82489013671875, 2.9583983421325684, 2.8360049724578857, 2.7860143184661865, 2.4653854370117188, 2.355529546737671, 1.910507082939148, 1.81337308883667, 1.8538011312484741, 1.9500287771224976, 1.882114291191101, 1.846060872077942, 1.8343790769577026, 1.8130112886428833], \"Term\": [\"emma\", \"little\", \"jane\", \"miss\", \"like\", \"think\", \"elizabeth\", \"sir\", \"good\", \"thing\", \"know\", \"rochester\", \"mother\", \"thought\", \"shall\", \"harriet\", \"fairfax\", \"darcy\", \"sure\", \"elton\", \"time\", \"elinor\", \"marianne\", \"long\", \"weston\", \"day\", \"dear\", \"night\", \"monsieur\", \"house\", \"eshton\", \"dent\", \"burns\", \"lynn\", \"ingram\", \"scatcherd\", \"missis\", \"brocklehurst\", \"storey\", \"stile\", \"celine\", \"varens\", \"miller\", \"bessie\", \"cheese\", \"amy\", \"reed\", \"eyre\", \"moors\", \"lowood\", \"bark\", \"temple\", \"poole\", \"gateshead\", \"dimly\", \"frock\", \"er\", \"carlo\", \"enveloped\", \"devoured\", \"rochester\", \"seacombe\", \"lloyd\", \"thornfield\", \"hannah\", \"adele\", \"pilot\", \"hall\", \"mason\", \"ve\", \"helen\", \"leah\", \"ll\", \"bread\", \"burnt\", \"black\", \"candle\", \"like\", \"face\", \"hair\", \"sir\", \"dark\", \"room\", \"door\", \"asked\", \"st\", \"stood\", \"master\", \"looked\", \"mary\", \"eyes\", \"near\", \"little\", \"heard\", \"night\", \"come\", \"miss\", \"house\", \"yes\", \"thought\", \"day\", \"shall\", \"time\", \"long\", \"hand\", \"saw\", \"good\", \"came\", \"think\", \"jane\", \"know\", \"head\", \"john\", \"went\", \"estrade\", \"grenier\", \"violets\", \"pile\", \"lid\", \"hole\", \"spectral\", \"sleeve\", \"demonstrative\", \"defendue\", \"remnant\", \"wheel\", \"nest\", \"boarders\", \"belles\", \"fifine\", \"hail\", \"platform\", \"bourne\", \"problem\", \"sternly\", \"trod\", \"naked\", \"allee\", \"fiacre\", \"actress\", \"jar\", \"sleeper\", \"appealing\", \"externes\", \"classe\", \"rosine\", \"fossette\", \"dr\", \"crecy\", \"madame\", \"paul\", \"beck\", \"emanuel\", \"rue\", \"paulina\", \"pensionnat\", \"monsieur\", \"pupils\", \"wont\", \"desk\", \"fanshawe\", \"nun\", \"graham\", \"doctor\", \"villette\", \"reuter\", \"corridor\", \"bassompierre\", \"lesson\", \"bretton\", \"est\", \"english\", \"ginevra\", \"teacher\", \"vous\", \"eye\", \"hand\", \"night\", \"little\", \"lucy\", \"garden\", \"eyes\", \"white\", \"thought\", \"knew\", \"like\", \"door\", \"light\", \"know\", \"day\", \"face\", \"good\", \"took\", \"saw\", \"long\", \"looked\", \"half\", \"think\", \"heart\", \"time\", \"moment\", \"came\", \"john\", \"abbey\", \"churchill\", \"knightley\", \"hawkins\", \"randalls\", \"surprized\", \"weston\", \"surprize\", \"richmond\", \"taylor\", \"ford\", \"larkins\", \"smallridge\", \"emma\", \"enscombe\", \"isabella\", \"cole\", \"patty\", \"longstaple\", \"donwell\", \"harriet\", \"martin\", \"hartfield\", \"cox\", \"goddard\", \"elton\", \"windsor\", \"woodhouse\", \"unceasing\", \"grandmama\", \"bates\", \"frank\", \"perry\", \"highbury\", \"campbell\", \"robert\", \"body\", \"smith\", \"thing\", \"fairfax\", \"ferrars\", \"miss\", \"think\", \"sure\", \"dear\", \"great\", \"know\", \"good\", \"oh\", \"time\", \"friend\", \"little\", \"father\", \"jane\", \"man\", \"soon\", \"thought\", \"shall\", \"better\", \"young\", \"come\", \"day\", \"willoughby\", \"cleveland\", \"allenham\", \"combe\", \"denny\", \"barton\", \"palmers\", \"jennings\", \"marianne\", \"unhappiness\", \"magna\", \"brandon\", \"jenkinson\", \"somersetshire\", \"apologising\", \"palmer\", \"curricle\", \"entreaty\", \"recital\", \"enquire\", \"unwillingly\", \"devonshire\", \"middleton\", \"delaford\", \"middletons\", \"enquiry\", \"margaret\", \"effusions\", \"employments\", \"enumerating\", \"elinor\", \"dashwood\", \"norland\", \"dashwoods\", \"cottage\", \"colonel\", \"sister\", \"behaviour\", \"mother\", \"park\", \"edward\", \"affection\", \"surprise\", \"misery\", \"engagement\", \"civility\", \"town\", \"lady\", \"family\", \"soon\", \"time\", \"letter\", \"house\", \"felt\", \"spirits\", \"marriage\", \"left\", \"day\", \"feelings\", \"good\", \"mind\", \"moment\", \"know\", \"heart\", \"little\", \"away\", \"john\", \"think\", \"long\", \"room\", \"shall\", \"man\", \"great\", \"bingley\", \"netherfield\", \"hurst\", \"lucas\", \"kent\", \"darcy\", \"bennet\", \"fitzwilliam\", \"meryton\", \"lucases\", \"wickham\", \"phillips\", \"nonsensical\", \"hertfordshire\", \"officers\", \"bennets\", \"judgement\", \"monday\", \"chooses\", \"longbourn\", \"elizabeth\", \"lizzy\", \"gracechurch\", \"intimately\", \"collins\", \"bourgh\", \"acquaintances\", \"handsomer\", \"militia\", \"corps\", \"pemberley\", \"lydia\", \"catherine\", \"gardiner\", \"caroline\", \"regiment\", \"forster\", \"saturday\", \"everybody\", \"jane\", \"charlotte\", \"uncle\", \"sisters\", \"miss\", \"family\", \"sister\", \"aunt\", \"lady\", \"think\", \"know\", \"soon\", \"dear\", \"father\", \"friend\", \"man\", \"young\", \"replied\", \"good\", \"great\", \"shall\", \"sure\", \"time\", \"little\", \"room\", \"day\", \"mother\", \"skies\", \"atom\", \"healthful\", \"vandenhuten\", \"marchmont\", \"professional\", \"honeymoon\", \"deck\", \"philanthropy\", \"handwriting\", \"chestnut\", \"insane\", \"unmarried\", \"india\", \"victor\", \"abide\", \"missionary\", \"yorke\", \"maniac\", \"crack\", \"contains\", \"suns\", \"imbecile\", \"mound\", \"quarrelled\", \"reminiscences\", \"beer\", \"rosamond\", \"assign\", \"ambitious\", \"anguish\", \"bone\", \"indian\", \"god\", \"maker\", \"graham\", \"higher\", \"terrasse\", \"bretton\", \"life\", \"love\", \"papa\", \"jane\", \"live\", \"heart\", \"existence\", \"loved\", \"long\", \"farewell\", \"know\", \"sun\", \"shall\", \"death\", \"like\", \"hand\", \"thought\", \"look\", \"good\", \"letter\", \"time\", \"come\", \"man\", \"mind\", \"little\", \"night\", \"strange\", \"feel\", \"sir\", \"saw\", \"read\", \"old\", \"day\", \"home\", \"away\", \"think\", \"soon\", \"left\", \"walravens\", \"garcon\", \"isidore\", \"justine\", \"betook\", \"alfred\", \"non\", \"soit\", \"les\", \"peut\", \"troop\", \"oratory\", \"quel\", \"soir\", \"marie\", \"felicitations\", \"treats\", \"shrine\", \"pierre\", \"storeroom\", \"qu\", \"magi\", \"ou\", \"leaved\", \"grimaces\", \"numero\", \"mystic\", \"ces\", \"etre\", \"infirm\", \"equivalent\", \"des\", \"cholmondeley\", \"que\", \"et\", \"vous\", \"etes\", \"mon\", \"priest\", \"ne\", \"madame\", \"il\", \"pas\", \"je\", \"beck\", \"ginevra\", \"est\", \"la\", \"paul\", \"elle\", \"emanuel\", \"mais\", \"moi\", \"like\", \"fanshawe\", \"little\", \"le\", \"knew\", \"day\", \"turned\", \"thought\", \"old\", \"know\", \"good\", \"stood\", \"round\", \"long\", \"away\", \"looked\", \"man\", \"time\", \"shall\", \"look\", \"night\", \"far\", \"door\", \"belgian\", \"devoirs\", \"patrician\", \"morals\", \"flamand\", \"dissimulation\", \"pelet\", \"subside\", \"irritating\", \"rests\", \"sarah\", \"growth\", \"mud\", \"sarcastic\", \"gall\", \"assiduous\", \"belgium\", \"director\", \"deformity\", \"parisian\", \"deportment\", \"repugnance\", \"tutor\", \"extorted\", \"bigben\", \"mischievous\", \"external\", \"serenity\", \"punctuality\", \"promptitude\", \"zoraide\", \"intelligent\", \"hunsden\", \"crimsworth\", \"graces\", \"frances\", \"directress\", \"prosperity\", \"mental\", \"establishment\", \"pupils\", \"mien\", \"mdlle\", \"capacity\", \"reuter\", \"pupil\", \"features\", \"english\", \"certain\", \"thought\", \"having\", \"like\", \"boys\", \"man\", \"degree\", \"little\", \"poor\", \"pleasure\", \"eyes\", \"time\", \"young\", \"mind\", \"saw\", \"day\", \"good\", \"face\", \"long\", \"looked\", \"soon\", \"heart\", \"felt\", \"look\", \"mender\", \"switzerland\", \"insight\", \"wider\", \"frances\", \"shelves\", \"franc\", \"swiss\", \"evans\", \"interrupting\", \"rainbow\", \"fee\", \"joys\", \"dishes\", \"boasting\", \"embers\", \"enlarged\", \"henri\", \"swung\", \"administered\", \"lui\", \"maintaining\", \"exchanging\", \"comments\", \"attics\", \"concisely\", \"consists\", \"diffused\", \"scotch\", \"publicity\", \"notre\", \"hunsden\", \"mdlle\", \"august\", \"monsieur\", \"lace\", \"pieces\", \"cup\", \"mademoiselle\", \"english\", \"francs\", \"reuter\", \"england\", \"diana\", \"brussels\", \"rivers\", \"grate\", \"french\", \"little\", \"old\", \"long\", \"yes\", \"shall\", \"mary\", \"time\", \"asked\", \"evening\", \"house\", \"live\", \"think\", \"like\", \"speak\", \"tell\", \"day\", \"room\", \"good\", \"knew\", \"soon\", \"come\", \"night\", \"came\", \"charade\", \"gruel\", \"leg\", \"unwholesome\", \"bathing\", \"colds\", \"hardships\", \"boiled\", \"knightleys\", \"prose\", \"richard\", \"disposal\", \"poet\", \"sacrifices\", \"performances\", \"exploring\", \"winning\", \"headache\", \"riddle\", \"carter\", \"sparkled\", \"anecdote\", \"triumphantly\", \"truths\", \"copied\", \"undone\", \"reckon\", \"lengths\", \"harp\", \"sickly\", \"wives\", \"talker\", \"likeness\", \"eltons\", \"talents\", \"clever\", \"fairfax\", \"parties\", \"perry\", \"sea\", \"dear\", \"jane\", \"emma\", \"woodhouse\", \"thing\", \"elton\", \"bates\", \"little\", \"shall\", \"children\", \"miss\", \"thousand\", \"body\", \"like\", \"know\", \"inquiry\", \"sure\", \"oh\", \"let\", \"air\", \"harriet\", \"good\", \"pretty\", \"evening\", \"soon\", \"time\", \"think\", \"better\", \"great\", \"away\", \"come\", \"selina\", \"cultivated\", \"boarder\", \"surry\", \"barouche\", \"swiss\", \"nation\", \"fathers\", \"maple\", \"devoting\", \"pomp\", \"denote\", \"ninety\", \"kings\", \"bath\", \"comprehending\", \"military\", \"panel\", \"luxury\", \"grove\", \"seas\", \"flown\", \"antagonist\", \"protestants\", \"belgium\", \"alliance\", \"dingy\", \"explore\", \"sneered\", \"pushing\", \"resources\", \"rome\", \"nash\", \"musical\", \"associations\", \"greatness\", \"highbury\", \"elton\", \"society\", \"hartfield\", \"good\", \"country\", \"woodhouse\", \"emma\", \"sort\", \"like\", \"woman\", \"body\", \"church\", \"little\", \"weston\", \"people\", \"thought\", \"father\", \"great\", \"miss\", \"harriet\", \"think\", \"house\", \"love\", \"thing\", \"shall\", \"man\", \"world\", \"place\", \"time\", \"way\", \"know\", \"briggs\", \"portfolio\", \"jump\", \"kisses\", \"adoption\", \"rays\", \"fetters\", \"gall\", \"storms\", \"decease\", \"militia\", \"committed\", \"funeral\", \"captain\", \"experiment\", \"estate\", \"chances\", \"dishevelled\", \"military\", \"scowled\", \"relatives\", \"appreciating\", \"generations\", \"shudder\", \"banker\", \"recurrence\", \"petit\", \"luxuries\", \"aspire\", \"exchanging\", \"janet\", \"cake\", \"lodge\", \"swelled\", \"pounds\", \"surgeon\", \"adele\", \"farewell\", \"including\", \"rumour\", \"henry\", \"rough\", \"sir\", \"property\", \"thousand\", \"fortune\", \"rochester\", \"veil\", \"dashwood\", \"kiss\", \"years\", \"yes\", \"long\", \"jane\", \"family\", \"father\", \"life\", \"come\", \"ll\", \"place\", \"john\", \"little\", \"old\", \"away\", \"fairfax\", \"easy\", \"son\", \"good\", \"night\", \"shall\", \"like\", \"way\", \"half\", \"think\", \"time\", \"miss\", \"felt\", \"amounted\", \"boards\", \"enfin\", \"attic\", \"climax\", \"philanthropist\", \"vicar\", \"assez\", \"collation\", \"chink\", \"vases\", \"complacent\", \"throne\", \"nailed\", \"legitimate\", \"glide\", \"nations\", \"carter\", \"rubber\", \"encore\", \"rats\", \"copying\", \"submissive\", \"demoiselles\", \"enormous\", \"communicative\", \"despotism\", \"belgians\", \"fifth\", \"enlarge\", \"cloaks\", \"messieurs\", \"bien\", \"dawn\", \"est\", \"limited\", \"boys\", \"pelet\", \"hunsden\", \"night\", \"look\", \"old\", \"laugh\", \"et\", \"windows\", \"like\", \"que\", \"looked\", \"sir\", \"superiority\", \"head\", \"began\", \"hands\", \"curtain\", \"house\", \"thought\", \"speak\", \"answer\", \"self\", \"little\", \"time\", \"way\", \"think\", \"door\", \"good\", \"day\", \"people\", \"long\", \"document\", \"bedrooms\", \"agonies\", \"brushed\", \"enlarge\", \"unprepared\", \"aerial\", \"forwarded\", \"resided\", \"chalk\", \"richer\", \"cheap\", \"sixpence\", \"preparations\", \"housekeeping\", \"plebeian\", \"airing\", \"lighting\", \"sickening\", \"expenses\", \"nobleman\", \"tranquilly\", \"xvii\", \"discharging\", \"scrape\", \"unkind\", \"amazing\", \"fulfil\", \"unfrequently\", \"annum\", \"pounds\", \"elderly\", \"millcote\", \"salary\", \"shire\", \"thornfield\", \"year\", \"comfortable\", \"involuntarily\", \"income\", \"thousand\", \"assistance\", \"getting\", \"fortnight\", \"tied\", \"sure\", \"mother\", \"expect\", \"live\", \"certainly\", \"rochester\", \"fairfax\", \"spectacles\", \"think\", \"kept\", \"father\", \"dashwood\", \"half\", \"lady\", \"years\", \"new\", \"kind\", \"little\", \"shall\", \"thing\", \"given\", \"house\", \"hands\", \"peak\", \"lied\", \"portfolio\", \"average\", \"harangue\", \"despotism\", \"drawings\", \"albion\", \"dishevelled\", \"enounced\", \"reluctantly\", \"amour\", \"paramount\", \"slippery\", \"confidential\", \"regularity\", \"scrupled\", \"eyelid\", \"inflicting\", \"reminiscences\", \"conversations\", \"reported\", \"tints\", \"expanse\", \"obeying\", \"mal\", \"paragraph\", \"levity\", \"interior\", \"contour\", \"traced\", \"propre\", \"elle\", \"henri\", \"georgiana\", \"visage\", \"pencil\", \"bracelet\", \"mdlle\", \"monsieur\", \"sketch\", \"directress\", \"secured\", \"capacity\", \"mademoiselle\", \"firmness\", \"accent\", \"hints\", \"pictures\", \"book\", \"eliza\", \"volume\", \"natural\", \"asked\", \"course\", \"wanted\", \"english\", \"word\", \"scarcely\", \"good\", \"little\", \"know\", \"time\", \"saw\", \"day\", \"doubt\", \"power\", \"voice\", \"thought\", \"young\", \"look\", \"face\", \"looked\"], \"Total\": [836.0, 1711.0, 931.0, 1535.0, 1318.0, 1312.0, 657.0, 596.0, 1349.0, 776.0, 1437.0, 357.0, 672.0, 1136.0, 920.0, 510.0, 361.0, 424.0, 614.0, 370.0, 1315.0, 695.0, 576.0, 934.0, 427.0, 1058.0, 587.0, 622.0, 272.0, 753.0, 29.76966667175293, 29.768325805664062, 32.74533462524414, 20.792037963867188, 89.65489196777344, 23.76534080505371, 20.78992462158203, 56.333274841308594, 17.764936447143555, 14.803703308105469, 14.798880577087402, 12.804262161254883, 24.786760330200195, 131.25474548339844, 11.800692558288574, 10.819716453552246, 129.76113891601562, 101.50418853759766, 10.806148529052734, 55.07011032104492, 12.724897384643555, 75.52147674560547, 32.590030670166016, 43.490386962890625, 11.798224449157715, 14.716055870056152, 10.790451049804688, 8.819636344909668, 7.823835372924805, 7.819483280181885, 357.62567138671875, 17.809999465942383, 12.803466796875, 96.67630767822266, 41.16388702392578, 132.38172912597656, 24.0816650390625, 173.19215393066406, 60.76020050048828, 48.33585739135742, 63.404747009277344, 26.79606056213379, 146.99012756347656, 72.96044158935547, 26.52822494506836, 181.75845336914062, 62.3068962097168, 1318.322021484375, 499.7835693359375, 188.74440002441406, 596.8234252929688, 229.27162170410156, 893.5275268554688, 537.1060791015625, 396.8656005859375, 192.403564453125, 324.0571594238281, 203.3605499267578, 696.6024169921875, 149.65658569335938, 639.0066528320312, 363.04327392578125, 1711.304443359375, 625.4180297851562, 622.1303100585938, 829.60693359375, 1535.201416015625, 753.0234985351562, 597.4089965820312, 1136.645263671875, 1058.3134765625, 920.8326416015625, 1315.129150390625, 934.7664184570312, 617.95556640625, 778.388916015625, 1349.910400390625, 691.6631469726562, 1312.8431396484375, 931.6484985351562, 1437.92333984375, 408.0290832519531, 626.8330688476562, 495.0291442871094, 38.79080581665039, 10.84735107421875, 9.854641914367676, 9.848904609680176, 14.846785545349121, 8.842226028442383, 10.82406997680664, 11.806368827819824, 7.850948810577393, 8.838370323181152, 7.837661266326904, 8.847583770751953, 7.829837322235107, 15.727584838867188, 6.852334976196289, 12.74251651763916, 6.850263595581055, 6.851781368255615, 7.8042521476745605, 6.830966472625732, 11.82323932647705, 6.825114727020264, 6.831020832061768, 9.83437728881836, 10.836543083190918, 5.846546649932861, 6.821277618408203, 5.830177307128906, 5.850769996643066, 6.848696231842041, 63.936161041259766, 36.1801872253418, 49.973873138427734, 234.76910400390625, 21.578927993774414, 400.6316223144531, 180.87686157226562, 162.04940795898438, 106.37030792236328, 72.66860961914062, 83.62409973144531, 35.618370056152344, 272.396484375, 152.60533142089844, 17.59232521057129, 102.84416198730469, 85.21277618408203, 43.60258102416992, 224.62222290039062, 49.45960998535156, 53.469337463378906, 75.35225677490234, 33.92753601074219, 74.15608215332031, 68.99420928955078, 241.54405212402344, 104.93932342529297, 223.40011596679688, 108.48045349121094, 71.98881530761719, 112.7745361328125, 399.3759765625, 617.95556640625, 622.1303100585938, 1711.304443359375, 379.02191162109375, 174.7834930419922, 639.0066528320312, 236.55482482910156, 1136.645263671875, 547.4461059570312, 1318.322021484375, 537.1060791015625, 309.6681823730469, 1437.92333984375, 1058.3134765625, 499.7835693359375, 1349.910400390625, 497.5240173339844, 778.388916015625, 934.7664184570312, 696.6024169921875, 589.8004760742188, 1312.8431396484375, 655.0455322265625, 1315.129150390625, 582.503662109375, 691.6631469726562, 626.8330688476562, 31.300851821899414, 218.9857635498047, 379.7348327636719, 19.521141052246094, 88.29256439208984, 32.13253402709961, 427.58758544921875, 37.008419036865234, 13.620110511779785, 49.45229721069336, 16.5704288482666, 13.623736381530762, 10.664064407348633, 836.7699584960938, 35.68395233154297, 67.504638671875, 60.7166862487793, 12.638372421264648, 8.696870803833008, 48.16617202758789, 510.0740966796875, 84.01490020751953, 154.59381103515625, 8.7101411819458, 57.68305206298828, 370.4223937988281, 6.743758678436279, 300.20458984375, 6.622177600860596, 13.409285545349121, 145.85787963867188, 234.08554077148438, 76.8751220703125, 119.58171081542969, 50.641056060791016, 78.72872924804688, 271.91033935546875, 112.86759185791016, 776.8622436523438, 361.6502685546875, 130.11143493652344, 1535.201416015625, 1312.8431396484375, 614.3060913085938, 587.6444091796875, 824.4010620117188, 1437.92333984375, 1349.910400390625, 561.0198974609375, 1315.129150390625, 439.7363586425781, 1711.304443359375, 506.7041015625, 931.6484985351562, 906.4304809570312, 928.2271728515625, 1136.645263671875, 920.8326416015625, 616.3027954101562, 664.6099243164062, 829.60693359375, 1058.3134765625, 221.08502197265625, 28.354825973510742, 19.20570182800293, 17.161516189575195, 13.080309867858887, 91.37322235107422, 11.046499252319336, 234.89468383789062, 576.5391235351562, 12.051397323608398, 12.059624671936035, 147.20079040527344, 9.982423782348633, 8.999204635620117, 7.9789252281188965, 79.1257095336914, 6.967414855957031, 15.082335472106934, 6.966095447540283, 6.962839126586914, 6.962250709533691, 27.31821060180664, 104.50568389892578, 31.30134391784668, 20.15951919555664, 5.946828365325928, 37.40055465698242, 5.851463794708252, 13.020419120788574, 5.806209564208984, 695.2964477539062, 251.80555725097656, 53.60655212402344, 37.27108383178711, 85.8719711303711, 312.8288879394531, 600.0648803710938, 148.11656188964844, 672.6724853515625, 124.50068664550781, 318.2153015136719, 265.71759033203125, 131.68389892578125, 66.1024169921875, 116.6327896118164, 80.498291015625, 241.1018524169922, 629.23046875, 384.7999572753906, 928.2271728515625, 1315.129150390625, 431.1236267089844, 753.0234985351562, 669.9378051757812, 229.3804473876953, 186.57052612304688, 539.5078125, 1058.3134765625, 383.8303527832031, 1349.910400390625, 572.1758422851562, 582.503662109375, 1437.92333984375, 655.0455322265625, 1711.304443359375, 678.7374877929688, 626.8330688476562, 1312.8431396484375, 934.7664184570312, 893.5275268554688, 920.8326416015625, 906.4304809570312, 824.4010620117188, 311.97064208984375, 75.07874298095703, 37.45622634887695, 71.98424530029297, 15.093178749084473, 424.21807861328125, 328.7279968261719, 37.4788703918457, 58.701297760009766, 15.09304428100586, 198.31024169921875, 32.39423370361328, 5.904934883117676, 42.4976921081543, 33.38609313964844, 11.02653694152832, 12.043405532836914, 16.571149826049805, 9.869195938110352, 89.91690826416016, 657.7703247070312, 99.249267578125, 9.887304306030273, 9.730997085571289, 182.54037475585938, 40.55097579956055, 14.956958770751953, 6.781397342681885, 8.467276573181152, 8.9173583984375, 54.70844650268555, 174.6693115234375, 132.86021423339844, 97.29597473144531, 26.032567977905273, 26.94215202331543, 40.47772216796875, 26.72747802734375, 67.10501861572266, 931.6484985351562, 115.7353286743164, 154.67454528808594, 188.22128295898438, 1535.201416015625, 384.7999572753906, 600.0648803710938, 182.38967895507812, 629.23046875, 1312.8431396484375, 1437.92333984375, 928.2271728515625, 587.6444091796875, 506.7041015625, 439.7363586425781, 906.4304809570312, 664.6099243164062, 352.74261474609375, 1349.910400390625, 824.4010620117188, 920.8326416015625, 614.3060913085938, 1315.129150390625, 1711.304443359375, 893.5275268554688, 1058.3134765625, 672.6724853515625, 5.757649898529053, 5.740248680114746, 5.7364020347595215, 21.428512573242188, 14.617810249328613, 7.533035755157471, 6.662646293640137, 8.583602905273438, 5.755782127380371, 11.474977493286133, 11.43238639831543, 9.574300765991211, 6.555958271026611, 20.83116340637207, 23.09798240661621, 6.767242908477783, 18.47892951965332, 13.21452522277832, 6.756857872009277, 5.773828506469727, 5.788522720336914, 6.57426643371582, 5.639399528503418, 5.776926040649414, 11.588173866271973, 5.360949993133545, 10.657361030578613, 16.634639739990234, 7.740616798400879, 11.575322151184082, 24.60867691040039, 16.49980354309082, 19.472747802734375, 227.45046997070312, 9.470573425292969, 224.62222290039062, 43.80097961425781, 18.672224044799805, 241.54405212402344, 580.6829833984375, 569.2647094726562, 171.39410400390625, 931.6484985351562, 210.72303771972656, 655.0455322265625, 78.88882446289062, 130.2870330810547, 934.7664184570312, 32.03712463378906, 1437.92333984375, 103.9144287109375, 920.8326416015625, 136.3942413330078, 1318.322021484375, 617.95556640625, 1136.645263671875, 637.3974609375, 1349.910400390625, 431.1236267089844, 1315.129150390625, 829.60693359375, 906.4304809570312, 572.1758422851562, 1711.304443359375, 622.1303100585938, 252.80758666992188, 401.0461730957031, 596.8234252929688, 778.388916015625, 317.51019287109375, 473.1365661621094, 1058.3134765625, 494.7296142578125, 678.7374877929688, 1312.8431396484375, 928.2271728515625, 539.5078125, 22.17483901977539, 5.274170875549316, 22.496131896972656, 21.751028060913086, 5.338640213012695, 17.924320220947266, 7.984305381774902, 9.049787521362305, 36.32719421386719, 6.172606468200684, 8.142565727233887, 9.093432426452637, 9.08779525756836, 9.092093467712402, 28.3739013671875, 7.175206661224365, 6.313759803771973, 8.185958862304688, 29.6320743560791, 5.125683784484863, 29.250486373901367, 5.257882595062256, 14.196301460266113, 7.0472869873046875, 5.165433406829834, 5.4138898849487305, 7.123227119445801, 7.209892272949219, 6.395442485809326, 5.44196081161499, 9.186741828918457, 32.22257995605469, 22.111364364624023, 59.55159378051758, 81.30477905273438, 112.7745361328125, 12.960384368896484, 37.25030517578125, 36.60786437988281, 34.56337356567383, 400.6316223144531, 41.16679763793945, 58.13833999633789, 69.32059478759766, 162.04940795898438, 108.48045349121094, 104.93932342529297, 102.46627807617188, 180.87686157226562, 23.75527000427246, 106.37030792236328, 30.31930160522461, 24.504728317260742, 1318.322021484375, 85.21277618408203, 1711.304443359375, 44.86811828613281, 547.4461059570312, 1058.3134765625, 337.9656066894531, 1136.645263671875, 473.1365661621094, 1437.92333984375, 1349.910400390625, 324.0571594238281, 352.5899658203125, 934.7664184570312, 678.7374877929688, 696.6024169921875, 906.4304809570312, 1315.129150390625, 920.8326416015625, 637.3974609375, 622.1303100585938, 463.0954895019531, 537.1060791015625, 14.908689498901367, 6.087067604064941, 6.838151931762695, 5.180851459503174, 5.3106889724731445, 5.342798233032227, 99.46908569335938, 6.153709888458252, 5.127623558044434, 6.361327171325684, 6.376728057861328, 9.058003425598145, 5.349905967712402, 10.819230079650879, 5.853966236114502, 7.246126651763916, 13.611084938049316, 14.40958023071289, 6.195687294006348, 7.952080249786377, 6.339241027832031, 6.393431663513184, 6.309937477111816, 6.3942790031433105, 6.3896613121032715, 5.390254974365234, 9.89448356628418, 11.859442710876465, 9.153090476989746, 6.427940845489502, 26.61627197265625, 28.13494873046875, 138.29920959472656, 95.93531799316406, 15.50369644165039, 107.11155700683594, 43.99858093261719, 17.987226486206055, 41.359642028808594, 70.12015533447266, 152.60533142089844, 31.045230865478516, 106.47117614746094, 21.045623779296875, 75.35225677490234, 94.93534088134766, 129.0817108154297, 223.40011596679688, 336.67352294921875, 1136.645263671875, 538.3980102539062, 1318.322021484375, 41.769187927246094, 906.4304809570312, 141.66519165039062, 1711.304443359375, 389.2163391113281, 448.618896484375, 639.0066528320312, 1315.129150390625, 664.6099243164062, 572.1758422851562, 778.388916015625, 1058.3134765625, 1349.910400390625, 499.7835693359375, 934.7664184570312, 696.6024169921875, 928.2271728515625, 655.0455322265625, 669.9378051757812, 637.3974609375, 8.88086223602295, 10.387961387634277, 5.043185234069824, 5.258070468902588, 107.11155700683594, 5.429576396942139, 7.2495269775390625, 12.648176193237305, 7.953245639801025, 6.034487724304199, 8.362730026245117, 6.463606834411621, 5.537591934204102, 7.130582332611084, 6.551843166351318, 7.474025726318359, 6.127132415771484, 50.11324691772461, 5.2266459465026855, 5.329020977020264, 5.218751907348633, 5.442557334899902, 5.3586039543151855, 5.57328462600708, 5.466519355773926, 5.621162414550781, 8.265623092651367, 8.311978340148926, 15.000868797302246, 5.388847351074219, 5.618092060089111, 138.29920959472656, 106.47117614746094, 13.935815811157227, 272.396484375, 55.10395812988281, 16.63846778869629, 54.35002517700195, 114.2445068359375, 223.40011596679688, 22.208288192749023, 75.35225677490234, 124.01031494140625, 73.611328125, 35.748897552490234, 58.762393951416016, 16.7439022064209, 156.8827667236328, 1711.304443359375, 473.1365661621094, 934.7664184570312, 597.4089965820312, 920.8326416015625, 149.65658569335938, 1315.129150390625, 396.8656005859375, 484.9967041015625, 753.0234985351562, 210.72303771972656, 1312.8431396484375, 1318.322021484375, 446.2237548828125, 544.8728637695312, 1058.3134765625, 893.5275268554688, 1349.910400390625, 547.4461059570312, 928.2271728515625, 829.60693359375, 622.1303100585938, 691.6631469726562, 19.413312911987305, 10.028389930725098, 8.729371070861816, 7.628317832946777, 8.04283332824707, 6.196230888366699, 6.19549036026001, 8.991787910461426, 7.153817653656006, 5.059450149536133, 10.766887664794922, 8.325871467590332, 5.2955474853515625, 5.185053825378418, 5.383445739746094, 10.507728576660156, 5.411441802978516, 11.76140308380127, 12.607354164123535, 15.176795959472656, 7.14365291595459, 6.327374458312988, 5.167421340942383, 8.263519287109375, 8.164623260498047, 5.168020725250244, 6.216352939605713, 6.267660617828369, 6.389285564422607, 15.849249839782715, 11.988542556762695, 10.690339088439941, 37.12488555908203, 21.28829574584961, 29.992664337158203, 61.959564208984375, 361.6502685546875, 61.5033073425293, 76.8751220703125, 62.89586639404297, 587.6444091796875, 931.6484985351562, 836.7699584960938, 300.20458984375, 776.8622436523438, 370.4223937988281, 145.85787963867188, 1711.304443359375, 920.8326416015625, 209.53688049316406, 1535.201416015625, 133.40196228027344, 271.91033935546875, 1318.322021484375, 1437.92333984375, 62.1806640625, 614.3060913085938, 561.0198974609375, 463.28875732421875, 262.6627197265625, 510.0740966796875, 1349.910400390625, 232.61605834960938, 484.9967041015625, 928.2271728515625, 1315.129150390625, 1312.8431396484375, 616.3027954101562, 824.4010620117188, 678.7374877929688, 829.60693359375, 9.469266891479492, 5.135754585266113, 5.229386806488037, 8.711699485778809, 9.403929710388184, 12.648176193237305, 7.857973098754883, 6.0345540046691895, 27.963790893554688, 6.084144115447998, 6.176275253295898, 6.192870140075684, 6.10496187210083, 7.125721454620361, 22.538358688354492, 6.299421310424805, 5.0697150230407715, 7.229877948760986, 12.642621994018555, 36.859580993652344, 8.018166542053223, 5.386399745941162, 5.412103652954102, 7.291813373565674, 13.611084938049316, 15.585896492004395, 7.190018177032471, 6.380153656005859, 6.415796756744385, 6.281548976898193, 18.21891212463379, 20.613750457763672, 12.904281616210938, 25.891578674316406, 13.654302597045898, 14.624342918395996, 119.58171081542969, 370.4223937988281, 149.37681579589844, 154.59381103515625, 1349.910400390625, 169.73753356933594, 300.20458984375, 836.7699584960938, 358.09808349609375, 1318.322021484375, 469.1197204589844, 271.91033935546875, 114.92030334472656, 1711.304443359375, 427.58758544921875, 338.37457275390625, 1136.645263671875, 506.7041015625, 824.4010620117188, 1535.201416015625, 510.0740966796875, 1312.8431396484375, 753.0234985351562, 569.2647094726562, 776.8622436523438, 920.8326416015625, 906.4304809570312, 414.5851135253906, 506.3539733886719, 1315.129150390625, 686.8896484375, 1437.92333984375, 14.088797569274902, 6.977389335632324, 4.848946571350098, 7.927971363067627, 5.358028888702393, 5.303257942199707, 5.378572463989258, 5.853966236114502, 7.156431198120117, 7.360260963439941, 8.467276573181152, 12.388371467590332, 8.307138442993164, 13.105330467224121, 9.276670455932617, 54.901554107666016, 9.212053298950195, 5.027243137359619, 5.0697150230407715, 5.248673915863037, 10.260662078857422, 5.2653937339782715, 10.231468200683594, 5.2717604637146, 5.331033229827881, 5.248373031616211, 5.332547664642334, 5.335978984832764, 5.372880458831787, 5.3586039543151855, 19.8367977142334, 26.769073486328125, 22.930566787719727, 15.692209243774414, 93.47093200683594, 13.974102020263672, 132.38172912597656, 32.03712463378906, 11.028536796569824, 10.68846607208252, 30.223134994506836, 34.15388107299805, 596.8234252929688, 46.386749267578125, 133.40196228027344, 169.9428253173828, 357.62567138671875, 37.54025650024414, 251.80555725097656, 47.843013763427734, 314.5033874511719, 597.4089965820312, 934.7664184570312, 931.6484985351562, 384.7999572753906, 506.7041015625, 580.6829833984375, 829.60693359375, 146.99012756347656, 506.3539733886719, 626.8330688476562, 1711.304443359375, 473.1365661621094, 678.7374877929688, 361.6502685546875, 133.2571563720703, 193.0946044921875, 1349.910400390625, 622.1303100585938, 920.8326416015625, 1318.322021484375, 686.8896484375, 589.8004760742188, 1312.8431396484375, 1315.129150390625, 1535.201416015625, 669.9378051757812, 5.182746410369873, 10.591024398803711, 5.2505083084106445, 12.871047973632812, 11.55374813079834, 5.885657787322998, 5.939039707183838, 5.877697467803955, 5.87683629989624, 5.967878818511963, 5.959159851074219, 6.0133867263793945, 8.901866912841797, 6.194080829620361, 6.20725679397583, 6.233025074005127, 6.864852428436279, 15.176795959472656, 7.08356237411499, 7.049058437347412, 7.038059711456299, 8.01172924041748, 8.006403923034668, 14.174283981323242, 8.79322338104248, 9.612223625183105, 4.9634270668029785, 5.001075744628906, 4.968542575836182, 5.079653263092041, 9.028850555419922, 11.854780197143555, 45.537025451660156, 22.159854888916016, 104.93932342529297, 22.12795066833496, 41.769187927246094, 99.46908569335938, 138.29920959472656, 622.1303100585938, 637.3974609375, 473.1365661621094, 123.44432067871094, 81.30477905273438, 60.90629959106445, 1318.322021484375, 59.55159378051758, 696.6024169921875, 596.8234252929688, 28.112632751464844, 408.0290832519531, 300.80120849609375, 230.39315795898438, 48.221771240234375, 753.0234985351562, 1136.645263671875, 446.2237548828125, 352.24969482421875, 214.77149963378906, 1711.304443359375, 1315.129150390625, 686.8896484375, 1312.8431396484375, 537.1060791015625, 1349.910400390625, 1058.3134765625, 338.37457275390625, 934.7664184570312, 6.656928539276123, 6.472640037536621, 6.1954803466796875, 7.548944473266602, 5.079653263092041, 5.3734259605407715, 5.393856048583984, 5.476969242095947, 5.274162769317627, 5.997483730316162, 6.147035121917725, 6.14652681350708, 6.167237758636475, 11.754538536071777, 6.284157752990723, 6.300146579742432, 6.379626274108887, 6.41504430770874, 6.412329196929932, 12.813952445983887, 5.101509094238281, 7.006773471832275, 7.0330729484558105, 7.0695271492004395, 7.075748443603516, 7.133185863494873, 7.188686370849609, 7.218376159667969, 7.199563980102539, 12.641446113586426, 93.47093200683594, 19.453855514526367, 27.740427017211914, 22.54192352294922, 41.956146240234375, 96.67630767822266, 179.48387145996094, 88.98965454101562, 22.780155181884766, 48.635833740234375, 133.40196228027344, 51.27083206176758, 69.27853393554688, 88.64836120605469, 25.36679458618164, 614.3060913085938, 672.6724853515625, 119.24202728271484, 210.72303771972656, 333.3817138671875, 357.62567138671875, 361.6502685546875, 21.658035278320312, 1312.8431396484375, 209.75086975097656, 506.7041015625, 251.80555725097656, 589.8004760742188, 629.23046875, 314.5033874511719, 293.46929931640625, 409.452880859375, 1711.304443359375, 920.8326416015625, 776.8622436523438, 331.1579284667969, 753.0234985351562, 230.39315795898438, 4.646759986877441, 5.004132270812988, 6.977389335632324, 7.577848434448242, 6.169193267822266, 4.9634270668029785, 14.267561912536621, 5.117867946624756, 5.027243137359619, 5.154391765594482, 5.205322742462158, 7.842086315155029, 5.259039402008057, 5.267624378204346, 5.270895957946777, 5.3398919105529785, 5.365589141845703, 5.367192268371582, 5.401473045349121, 5.360949993133545, 5.4140825271606445, 5.317724704742432, 9.927950859069824, 5.301623821258545, 5.454362392425537, 5.387104511260986, 6.0130815505981445, 6.073563098907471, 6.082100868225098, 5.455311298370361, 19.035953521728516, 8.973502159118652, 23.75527000427246, 50.11324691772461, 58.39794921875, 15.39652156829834, 31.95301055908203, 9.559549331665039, 106.47117614746094, 272.396484375, 16.061870574951172, 43.99858093261719, 35.31634521484375, 21.045623779296875, 114.2445068359375, 22.450763702392578, 53.25569152832031, 21.79706573486328, 41.82651138305664, 166.2976837158203, 60.18550109863281, 23.95871353149414, 183.84632873535156, 396.8656005859375, 340.5161437988281, 233.27764892578125, 223.40011596679688, 393.0009460449219, 200.4092254638672, 1349.910400390625, 1711.304443359375, 1437.92333984375, 1315.129150390625, 778.388916015625, 1058.3134765625, 315.45172119140625, 248.782470703125, 395.4352722167969, 1136.645263671875, 664.6099243164062, 637.3974609375, 499.7835693359375, 696.6024169921875], \"loglift\": [30.0, 29.0, 28.0, 27.0, 26.0, 25.0, 24.0, 23.0, 22.0, 21.0, 20.0, 19.0, 18.0, 17.0, 16.0, 15.0, 14.0, 13.0, 12.0, 11.0, 10.0, 9.0, 8.0, 7.0, 6.0, 5.0, 4.0, 3.0, 2.0, 1.0, 1.510699987411499, 1.5104000568389893, 1.5061999559402466, 1.4983999729156494, 1.4982000589370728, 1.4977999925613403, 1.489799976348877, 1.4846999645233154, 1.4831000566482544, 1.4807000160217285, 1.4774999618530273, 1.469099998474121, 1.466599941253662, 1.4635000228881836, 1.4631999731063843, 1.4620000123977661, 1.4572999477386475, 1.4571000337600708, 1.4479999542236328, 1.4452999830245972, 1.4448000192642212, 1.4420000314712524, 1.4412000179290771, 1.4385000467300415, 1.4354000091552734, 1.4347000122070312, 1.4337999820709229, 1.4319000244140625, 1.4290000200271606, 1.4284000396728516, 1.412500023841858, 1.427299976348877, 1.424399971961975, 1.3759000301361084, 1.3991999626159668, 1.3623000383377075, 1.4107999801635742, 1.2425999641418457, 1.3257999420166016, 1.343999981880188, 1.3179999589920044, 1.3792999982833862, 1.1557999849319458, 1.197100043296814, 1.3767000436782837, 1.0210000276565552, 1.198099970817566, 0.49970000982284546, 0.7080000042915344, 0.9107000231742859, 0.5879999995231628, 0.8409000039100647, 0.4456999897956848, 0.5874999761581421, 0.6733999848365784, 0.8823999762535095, 0.708299994468689, 0.8467000126838684, 0.3944999873638153, 0.9401999711990356, 0.4106000065803528, 0.5968000292778015, -0.021199999377131462, 0.3750999867916107, 0.3725999891757965, 0.23970000445842743, -0.044599998742341995, 0.2612999975681305, 0.3490000069141388, 0.011300000362098217, -0.0003000000142492354, 0.07450000196695328, -0.13109999895095825, 0.02930000051856041, 0.26750001311302185, 0.11789999902248383, -0.2563999891281128, 0.16940000653266907, -0.30329999327659607, -0.08760000020265579, -0.492900013923645, 0.513700008392334, 0.11129999905824661, 0.320499986410141, 1.6863000392913818, 1.6506999731063843, 1.645900011062622, 1.6449999809265137, 1.6306999921798706, 1.6283999681472778, 1.6269999742507935, 1.6202000379562378, 1.6201000213623047, 1.6155999898910522, 1.6153000593185425, 1.6150000095367432, 1.61489999294281, 1.6128000020980835, 1.6075999736785889, 1.6065000295639038, 1.6059000492095947, 1.6057000160217285, 1.605299949645996, 1.6050000190734863, 1.6002999544143677, 1.5924999713897705, 1.5915000438690186, 1.5902999639511108, 1.5865999460220337, 1.5848000049591064, 1.5812000036239624, 1.5805000066757202, 1.5771000385284424, 1.5758999586105347, 1.55840003490448, 1.5549999475479126, 1.5396000146865845, 1.482100009918213, 1.533400058746338, 1.3779000043869019, 1.4194999933242798, 1.4050999879837036, 1.424299955368042, 1.4326000213623047, 1.406999945640564, 1.4634000062942505, 1.2404999732971191, 1.2656999826431274, 1.5240999460220337, 1.3075000047683716, 1.330299973487854, 1.4105000495910645, 1.1893999576568604, 1.3884999752044678, 1.3773000240325928, 1.315000057220459, 1.4352999925613403, 1.301900029182434, 1.3083000183105469, 1.0678999423980713, 1.219599962234497, 1.0436999797821045, 1.1895999908447266, 1.25600004196167, 1.1440999507904053, 0.7961999773979187, 0.650600016117096, 0.6114000082015991, 0.3046000003814697, 0.7300999760627747, 0.9710999727249146, 0.448199987411499, 0.8324999809265137, 0.17550000548362732, 0.4731999933719635, 0.08959999680519104, 0.4632999897003174, 0.6690000295639038, -0.13860000669956207, 0.017400000244379044, 0.398499995470047, -0.13740000128746033, 0.4002000093460083, 0.13449999690055847, 0.01810000091791153, 0.18320000171661377, 0.24220000207424164, -0.30399999022483826, 0.16060000658035278, -0.3456999957561493, 0.24079999327659607, 0.09260000288486481, 0.1517000049352646, 1.7644000053405762, 1.7624000310897827, 1.7610000371932983, 1.7608000040054321, 1.753600001335144, 1.7510000467300415, 1.75, 1.7476999759674072, 1.742900013923645, 1.7359000444412231, 1.7311999797821045, 1.7299000024795532, 1.728700041770935, 1.7283999919891357, 1.7253999710083008, 1.7253999710083008, 1.7223999500274658, 1.7130999565124512, 1.7122000455856323, 1.7103999853134155, 1.7049000263214111, 1.7028000354766846, 1.7007999420166016, 1.6962000131607056, 1.691100001335144, 1.6878999471664429, 1.6833000183105469, 1.6819000244140625, 1.6770999431610107, 1.6714999675750732, 1.6692999601364136, 1.6538000106811523, 1.6476000547409058, 1.6210999488830566, 1.6013000011444092, 1.5556999444961548, 1.4154000282287598, 1.4895000457763672, 1.1658999919891357, 1.211400032043457, 1.3831000328063965, 0.8697999715805054, 0.6195999979972839, 0.8485000133514404, 0.8353999853134155, 0.66839998960495, 0.43709999322891235, 0.38580000400543213, 0.7422000169754028, 0.2865000069141388, 0.7763000130653381, 0.09679999947547913, 0.7001000046730042, 0.3596000075340271, 0.36730000376701355, 0.34389999508857727, 0.1657000035047531, 0.2816999852657318, 0.5372999906539917, 0.46219998598098755, 0.2754000127315521, 0.05999999865889549, 1.802299976348877, 1.7745000123977661, 1.7694000005722046, 1.7666000127792358, 1.7595000267028809, 1.7522000074386597, 1.7503999471664429, 1.7477999925613403, 1.7409000396728516, 1.739300012588501, 1.736899971961975, 1.7264000177383423, 1.7239999771118164, 1.7207000255584717, 1.718999981880188, 1.7188999652862549, 1.7065000534057617, 1.6957000494003296, 1.6928999423980713, 1.6912000179290771, 1.6907000541687012, 1.6897000074386597, 1.6892000436782837, 1.680299997329712, 1.6789000034332275, 1.6785000562667847, 1.6782000064849854, 1.676300048828125, 1.6684999465942383, 1.6640000343322754, 1.6309000253677368, 1.611299991607666, 1.6193000078201294, 1.5707999467849731, 1.4681999683380127, 1.351099967956543, 1.287500023841858, 1.2460999488830566, 0.9674999713897705, 1.2103999853134155, 1.0027999877929688, 0.9815000295639038, 1.1145999431610107, 1.2934999465942383, 1.1353000402450562, 1.2333999872207642, 0.9107000231742859, 0.5975000262260437, 0.7286999821662903, 0.41749998927116394, 0.262800008058548, 0.6585999727249146, 0.4255000054836273, 0.43540000915527344, 0.8629000186920166, 0.9351999759674072, 0.4496000111103058, 0.11060000211000443, 0.5910999774932861, -0.03370000049471855, 0.38769999146461487, 0.36660000681877136, -0.14890000224113464, 0.28690001368522644, -0.3612000048160553, 0.23319999873638153, 0.2833999991416931, -0.25380000472068787, -0.040800001472234726, -0.006800000090152025, -0.04699999839067459, -0.05270000174641609, 0.021199999377131462, 2.2657999992370605, 2.2558000087738037, 2.2367000579833984, 2.2293999195098877, 2.2279000282287598, 2.2249999046325684, 2.2105000019073486, 2.2028000354766846, 2.1995999813079834, 2.1875, 2.1684000492095947, 2.1547000408172607, 2.1384999752044678, 2.1221001148223877, 2.1208999156951904, 2.1201000213623047, 2.110300064086914, 2.106800079345703, 2.095599889755249, 2.084399938583374, 2.0724000930786133, 2.0615999698638916, 2.0590999126434326, 2.053100109100342, 2.0429999828338623, 2.0257999897003174, 1.9967999458312988, 1.986299991607666, 1.9559999704360962, 1.9537999629974365, 1.9401999711990356, 1.9026000499725342, 1.8669999837875366, 1.806399941444397, 1.92739999294281, 1.9199999570846558, 1.8451000452041626, 1.9007999897003174, 1.7138999700546265, 1.1495000123977661, 1.554800033569336, 1.4321000576019287, 1.363700032234192, 0.7307999730110168, 1.1308000087738037, 0.9681000113487244, 1.3438999652862549, 0.8737999796867371, 0.49880000948905945, 0.45339998602867126, 0.5314000248908997, 0.7552000284194946, 0.824400007724762, 0.8752999901771545, 0.44440001249313354, 0.612500011920929, 0.9660999774932861, 0.11999999731779099, 0.40049999952316284, 0.29339998960494995, 0.5637000203132629, 0.026799999177455902, -0.2531999945640564, 0.24320000410079956, -0.07029999792575836, 0.3230000138282776, 2.5114998817443848, 2.4865000247955322, 2.4793999195098877, 2.4769999980926514, 2.4512999057769775, 2.4475998878479004, 2.446500062942505, 2.433300018310547, 2.3984999656677246, 2.3914999961853027, 2.3685998916625977, 2.3668999671936035, 2.3654000759124756, 2.352799892425537, 2.330199956893921, 2.329200029373169, 2.3264000415802, 2.3257999420166016, 2.315999984741211, 2.3099000453948975, 2.304500102996826, 2.302999973297119, 2.2983999252319336, 2.2832000255584717, 2.272900104522705, 2.2648000717163086, 2.2474000453948975, 2.2455999851226807, 2.219899892807007, 2.216599941253662, 2.166300058364868, 2.161600112915039, 2.1431000232696533, 1.7333999872207642, 2.2116000652313232, 1.5543999671936035, 1.8973000049591064, 2.06469988822937, 1.4246000051498413, 1.1627000570297241, 1.0353000164031982, 1.3895000219345093, 0.7039999961853027, 1.182800054550171, 0.7732999920845032, 1.5341999530792236, 1.3301000595092773, 0.5695000290870667, 1.8531999588012695, 0.32260000705718994, 1.3716000318527222, 0.4318999946117401, 1.2412999868392944, 0.25859999656677246, 0.5443999767303467, 0.2687000036239624, 0.5188000202178955, 0.04619999974966049, 0.6039999723434448, 0.03370000049471855, 0.24650000035762787, 0.17499999701976776, 0.4237000048160553, -0.20649999380111694, 0.319599986076355, 0.8460999727249146, 0.5533999800682068, 0.29260000586509705, 0.12449999898672104, 0.6832000017166138, 0.40959998965263367, -0.14949999749660492, 0.3781999945640564, 0.12620000541210175, -0.39959999918937683, -0.13009999692440033, 0.30480000376701355, 3.123699903488159, 3.002700090408325, 2.972899913787842, 2.9077000617980957, 2.8903000354766846, 2.868000030517578, 2.8559000492095947, 2.8225998878479004, 2.790800094604492, 2.7869999408721924, 2.776400089263916, 2.770400047302246, 2.7690000534057617, 2.7499001026153564, 2.732300043106079, 2.7011001110076904, 2.6835999488830566, 2.675299882888794, 2.660799980163574, 2.6589999198913574, 2.646899938583374, 2.635699987411499, 2.628999948501587, 2.617300033569336, 2.6154000759124756, 2.611799955368042, 2.6054999828338623, 2.602099895477295, 2.5892999172210693, 2.589099884033203, 2.5813000202178955, 2.5380001068115234, 2.5487000942230225, 2.498699903488159, 2.408600091934204, 2.347599983215332, 2.546799898147583, 2.4374001026153564, 2.4375998973846436, 2.428100109100342, 1.8695000410079956, 2.3178000450134277, 2.2232000827789307, 2.1393001079559326, 1.9017000198364258, 1.9931000471115112, 1.9753999710083008, 1.950700044631958, 1.6924999952316284, 2.4035000801086426, 1.7583999633789062, 2.2627999782562256, 2.349100112915039, 0.3767000138759613, 1.73580002784729, 0.16189999878406525, 2.0473999977111816, 0.5789999961853027, 0.1370999962091446, 0.8345000147819519, 0.017100000753998756, 0.6014000177383423, -0.27549999952316284, -0.3118000030517578, 0.7652000188827515, 0.6865000128746033, -0.0869000032544136, 0.15240000188350677, 0.12300000339746475, -0.09920000284910202, -0.4050999879837036, -0.12680000066757202, 0.14970000088214874, 0.13339999318122864, 0.3783000111579895, 0.22769999504089355, 3.5388998985290527, 3.387500047683716, 3.3471999168395996, 3.345099925994873, 3.3287999629974365, 3.2421998977661133, 3.2007999420166016, 3.098299980163574, 3.0929999351501465, 3.076900005340576, 3.0471999645233154, 3.015000104904175, 2.9793999195098877, 2.964400053024292, 2.941499948501587, 2.928800106048584, 2.90910005569458, 2.9005000591278076, 2.8929998874664307, 2.891700029373169, 2.8879001140594482, 2.874000072479248, 2.873199939727783, 2.862299919128418, 2.8505001068115234, 2.8164000511169434, 2.8085999488830566, 2.8046000003814697, 2.7841999530792236, 2.7723000049591064, 2.6280999183654785, 2.5662999153137207, 2.1789000034332275, 2.249799966812134, 2.634999990463257, 2.04830002784729, 2.3131000995635986, 2.567699909210205, 2.302500009536743, 2.12280011177063, 1.850000023841858, 2.3747000694274902, 1.794800043106079, 2.4591000080108643, 1.874400019645691, 1.7681000232696533, 1.6057000160217285, 1.3158999681472778, 0.9818000197410583, 0.295199990272522, 0.6647999882698059, 0.13809999823570251, 2.0897998809814453, 0.33340001106262207, 1.3242000341415405, -0.2249000072479248, 0.6830000281333923, 0.5794000029563904, 0.34220001101493835, -0.1565999984741211, 0.2540999948978424, 0.3513999879360199, 0.09549999982118607, -0.15410000085830688, -0.4433000087738037, 0.3239000141620636, -0.2012999951839447, 0.03669999912381172, -0.30300000309944153, -0.020600000396370888, -0.04610000178217888, -0.004900000058114529, 3.9465999603271484, 3.631700038909912, 3.5151000022888184, 3.4781999588012695, 3.477799892425537, 3.4444000720977783, 3.4403998851776123, 3.439500093460083, 3.341599941253662, 3.336899995803833, 3.285799980163574, 3.2451999187469482, 3.1635000705718994, 3.1514999866485596, 3.141400098800659, 3.139899969100952, 3.125200033187866, 3.1247000694274902, 3.1038999557495117, 3.0808000564575195, 3.061800003051758, 3.0601999759674072, 3.046999931335449, 3.039900064468384, 3.0278000831604004, 3.024399995803833, 2.9964001178741455, 2.9960999488830566, 2.9872000217437744, 2.9860999584198, 2.9855000972747803, 2.7864999771118164, 2.763000011444092, 2.919100046157837, 2.2969000339508057, 2.595900058746338, 2.8285000324249268, 2.5625, 2.346299886703491, 2.149899959564209, 2.6723999977111816, 2.166800022125244, 1.9606000185012817, 2.160099983215332, 2.4035000801086426, 2.161799907684326, 2.729599952697754, 1.5176000595092773, 0.19449999928474426, 0.8197000026702881, 0.3377000093460083, 0.6079000234603882, 0.2249000072479248, 1.3707000017166138, -0.09430000185966492, 0.6953999996185303, 0.5442000031471252, 0.2248000055551529, 1.1008000373840332, -0.19099999964237213, -0.20329999923706055, 0.5748000144958496, 0.41110000014305115, -0.09030000120401382, 0.03530000150203705, -0.30090001225471497, 0.3977999985218048, -0.1370999962091446, -0.07530000060796738, 0.1753000020980835, 0.06909999996423721, 4.060699939727783, 3.964600086212158, 3.568000078201294, 3.485599994659424, 3.3691999912261963, 3.3450000286102295, 3.3057000637054443, 3.2936999797821045, 3.253200054168701, 3.2188000679016113, 3.205199956893921, 3.2011001110076904, 3.174099922180176, 3.169300079345703, 3.154099941253662, 3.1484999656677246, 3.1459999084472656, 3.141700029373169, 3.1361000537872314, 3.1303999423980713, 3.099400043487549, 3.0943000316619873, 3.0759999752044678, 3.0562000274658203, 3.048099994659424, 3.0364999771118164, 3.015700101852417, 3.0058000087738037, 3.001800060272217, 3.001499891281128, 2.9711999893188477, 2.938999891281128, 2.718899965286255, 2.7906999588012695, 2.6451001167297363, 2.455699920654297, 1.8366999626159668, 2.3443000316619873, 2.2093000411987305, 2.2681000232696533, 1.4387999773025513, 1.218999981880188, 1.2164000272750854, 1.621500015258789, 1.232300043106079, 1.5073000192642212, 1.7971999645233154, 0.4925999939441681, 0.7721999883651733, 1.5303000211715698, 0.4839000105857849, 1.7365000247955322, 1.2740000486373901, 0.30550000071525574, 0.23569999635219574, 2.1333000659942627, 0.7027999758720398, 0.7555999755859375, 0.862500011920929, 1.2056000232696533, 0.7520999908447266, 0.08959999680519104, 1.253499984741211, 0.7146000266075134, 0.1867000013589859, -0.1551000028848648, -0.2296999990940094, 0.414900004863739, 0.15889999270439148, 0.23909999430179596, 0.03970000147819519, 3.7372000217437744, 3.63070011138916, 3.615499973297119, 3.611999988555908, 3.5371999740600586, 3.4900999069213867, 3.489799976348877, 3.476599931716919, 3.467600107192993, 3.4663000106811523, 3.440999984741211, 3.4300999641418457, 3.4102001190185547, 3.3410000801086426, 3.329699993133545, 3.2578001022338867, 3.233599901199341, 3.2219998836517334, 3.215399980545044, 3.19320011138916, 3.190500020980835, 3.1863999366760254, 3.1647000312805176, 3.1565001010894775, 3.1005001068115234, 3.089600086212158, 3.0764000415802, 3.031599998474121, 3.0211000442504883, 3.018699884414673, 2.973900079727173, 2.908900022506714, 2.9409000873565674, 2.81469988822937, 2.8724000453948975, 2.8403000831604004, 2.04259991645813, 1.4047000408172607, 1.798799991607666, 1.7735999822616577, 0.6039000153541565, 1.6301000118255615, 1.305899977684021, 0.7389000058174133, 1.121000051498413, 0.32260000705718994, 0.9079999923706055, 1.2069000005722046, 1.7092000246047974, 0.06560000032186508, 0.8999000191688538, 1.0397000312805176, 0.26179999113082886, 0.7178000211715698, 0.3799000084400177, -0.05469999834895134, 0.6754999756813049, -0.00039999998989515007, 0.3815999925136566, 0.5630000233650208, 0.32760000228881836, 0.17880000174045563, 0.14169999957084656, 0.6643000245094299, 0.4927000105381012, -0.3407000005245209, 0.22419999539852142, -0.4677000045776367, 3.8352999687194824, 3.642899990081787, 3.603100061416626, 3.594099998474121, 3.5220000743865967, 3.5111000537872314, 3.456399917602539, 3.432499885559082, 3.230799913406372, 3.1989998817443848, 3.063499927520752, 3.0601000785827637, 3.03439998626709, 3.020699977874756, 2.9727001190185547, 2.9630000591278076, 2.9488000869750977, 2.9244000911712646, 2.914599895477295, 2.890700101852417, 2.8901000022888184, 2.876699924468994, 2.876199960708618, 2.8752999305725098, 2.8701999187469482, 2.8685998916625977, 2.867500066757202, 2.863300085067749, 2.857599973678589, 2.852400064468384, 2.836699962615967, 2.7704999446868896, 2.7483999729156494, 2.766200065612793, 2.5750999450683594, 2.7623000144958496, 2.4470999240875244, 2.6324000358581543, 2.7651000022888184, 2.7581000328063965, 2.53439998626709, 2.4946999549865723, 1.8289999961853027, 2.4159998893737793, 2.063699960708618, 1.916700005531311, 1.6030000448226929, 2.431999921798706, 1.440000057220459, 2.2184998989105225, 1.2867000102996826, 0.9598000049591064, 0.7233999967575073, 0.6565999984741211, 1.0573999881744385, 0.8592000007629395, 0.7487000226974487, 0.5126000046730042, 1.5250999927520752, 0.7562999725341797, 0.588699996471405, -0.08460000157356262, 0.7494000196456909, 0.4927999973297119, 0.9096999764442444, 1.5608999729156494, 1.2864999771118164, -0.0957999974489212, 0.44519999623298645, 0.1573999971151352, -0.14880000054836273, 0.33239999413490295, 0.4171999990940094, -0.2248000055551529, -0.2897000014781952, -0.44350001215934753, 0.29670000076293945, 4.076499938964844, 4.050899982452393, 4.038599967956543, 4.031300067901611, 3.963200092315674, 3.9570000171661377, 3.951900005340576, 3.951200008392334, 3.9504001140594482, 3.943700075149536, 3.94350004196167, 3.9358999729156494, 3.92930006980896, 3.90939998626709, 3.898099899291992, 3.8566999435424805, 3.8073999881744385, 3.776900053024292, 3.773400068283081, 3.723299980163574, 3.682800054550171, 3.652400016784668, 3.5789999961853027, 3.54830002784729, 3.5355000495910645, 3.467900037765503, 3.4665000438690186, 3.465100049972534, 3.4504001140594482, 3.446500062942505, 3.4374001026153564, 3.2625999450683594, 2.889699935913086, 3.075200080871582, 2.4421000480651855, 3.0037999153137207, 2.6814000606536865, 2.21560001373291, 1.8873000144958496, 0.9617000222206116, 0.8499000072479248, 0.9962000250816345, 1.8549000024795532, 2.129199981689453, 2.3043999671936035, 0.10920000076293945, 2.2813000679016113, 0.46299999952316284, 0.5529999732971191, 2.7874999046325684, 0.7599999904632568, 0.9634000062942505, 1.1611000299453735, 2.3501999378204346, 0.19939999282360077, -0.13850000500679016, 0.5946999788284302, 0.6836000084877014, 1.0642000436782837, -0.7764999866485596, -0.551800012588501, 0.027899999171495438, -0.6226999759674072, 0.20010000467300415, -0.6926000118255615, -0.4844000041484833, 0.6227999925613403, -0.3903000056743622, 4.593299865722656, 4.269999980926514, 4.091300010681152, 4.051799774169922, 3.851099967956543, 3.791100025177002, 3.7892000675201416, 3.74180006980896, 3.6865999698638916, 3.683799982070923, 3.6619999408721924, 3.6610000133514404, 3.6584999561309814, 3.6403000354766846, 3.6396000385284424, 3.6317999362945557, 3.6229000091552734, 3.6124000549316406, 3.612299919128418, 3.588900089263916, 3.5885000228881836, 3.5276999473571777, 3.525099992752075, 3.5215001106262207, 3.514899969100952, 3.512500047683716, 3.5037999153137207, 3.500699996948242, 3.498199939727783, 3.490499973297119, 3.3859000205993652, 3.4237000942230225, 3.326900005340576, 3.3327999114990234, 3.1259000301361084, 2.637200117111206, 2.313800096511841, 2.5483999252319336, 3.0164999961853027, 2.652100086212158, 2.1684999465942383, 2.5973000526428223, 2.4260001182556152, 2.283099889755249, 2.9061999320983887, 1.1793999671936035, 1.1297999620437622, 2.038800001144409, 1.722000002861023, 1.4256000518798828, 1.357100009918213, 1.3115999698638916, 2.97189998626709, 0.3779999911785126, 1.5013999938964844, 0.829800009727478, 1.3193999528884888, 0.6097999811172485, 0.5376999974250793, 1.0776000022888184, 1.1049000024795532, 0.8223999738693237, -0.4832000136375427, 0.060100000351667404, 0.1949000060558319, 0.8964999914169312, 0.10159999877214432, 1.2101000547409058, 4.56220006942749, 4.342299938201904, 4.171000003814697, 4.095900058746338, 4.035900115966797, 3.8524999618530273, 3.8436999320983887, 3.824399948120117, 3.821199893951416, 3.8169000148773193, 3.805500030517578, 3.8036000728607178, 3.796099901199341, 3.786099910736084, 3.7795000076293945, 3.7783000469207764, 3.7753000259399414, 3.7723000049591064, 3.768199920654297, 3.764699935913086, 3.750200033187866, 3.7434000968933105, 3.7367000579833984, 3.7335000038146973, 3.6854000091552734, 3.664299964904785, 3.6631999015808105, 3.65339994430542, 3.6484999656677246, 3.648200035095215, 3.5378000736236572, 3.602400064468384, 3.4214000701904297, 3.2479000091552734, 3.065700054168701, 3.3622000217437744, 3.0143001079559326, 3.4939000606536865, 2.424799919128418, 1.9980000257492065, 3.2630999088287354, 2.79830002784729, 2.858799934387207, 3.0708999633789062, 2.172800064086914, 3.0088000297546387, 2.541800022125244, 3.0116000175476074, 2.6461000442504883, 1.7226999998092651, 2.3282999992370605, 2.8849000930786133, 1.5882999897003174, 0.9918000102043152, 1.0913000106811523, 1.332200050354004, 1.2520999908447266, 0.8148999810218811, 1.3079999685287476, -0.22660000622272491, -0.41760000586509705, -0.2858000099658966, -0.2143000066280365, 0.18790000677108765, -0.164900004863739, 0.8360999822616577, 1.021399974822998, 0.5799999833106995, -0.4251999855041504, 0.07599999755620956, 0.09839999675750732, 0.3352999985218048, -0.008500000461935997], \"logprob\": [30.0, 29.0, 28.0, 27.0, 26.0, 25.0, 24.0, 23.0, 22.0, 21.0, 20.0, 19.0, 18.0, 17.0, 16.0, 15.0, 14.0, 13.0, 12.0, 11.0, 10.0, 9.0, 8.0, 7.0, 6.0, 5.0, 4.0, 3.0, 2.0, 1.0, -7.751200199127197, -7.751500129699707, -7.660399913787842, -8.122300148010254, -6.661099910736084, -7.989299774169922, -8.131099700927734, -7.1392998695373535, -8.295000076293945, -8.4798002243042, -8.48330020904541, -8.63640022277832, -7.978400230407715, -6.314799785614014, -8.723999977111816, -8.812000274658203, -6.332399845123291, -6.578100204467773, -8.827300071716309, -7.201399803161621, -8.666999816894531, -6.888899803161621, -7.730100154876709, -7.444300174713135, -8.751999855041504, -8.531700134277344, -8.842900276184082, -9.046500205993652, -9.169099807739258, -9.17039966583252, -5.363399982452393, -8.348199844360352, -8.68120002746582, -6.708099842071533, -7.538599967956543, -6.407400131225586, -8.06309986114502, -6.258299827575684, -7.222599983215332, -7.43310022354126, -7.18779993057251, -7.987800121307373, -6.509200096130371, -7.168300151824951, -8.000399589538574, -6.431600093841553, -7.325200080871582, -4.971499919891357, -5.733099937438965, -6.504300117492676, -5.6757001876831055, -6.379499912261963, -5.4145002365112305, -5.781700134277344, -5.998300075531006, -6.513299942016602, -6.166200160980225, -6.49370002746582, -5.714700222015381, -6.7067999839782715, -5.784800052642822, -6.164100170135498, -5.231500148773193, -5.841899871826172, -5.849599838256836, -5.694699764251709, -5.363500118255615, -5.769899845123291, -5.913700103759766, -5.6082000732421875, -5.691299915313721, -5.7555999755859375, -5.604700088500977, -5.785699844360352, -5.96150016784668, -5.880300045013428, -5.703999996185303, -5.946800231933594, -5.77869987487793, -5.906000137329102, -5.877299785614014, -6.130300045013428, -6.103400230407715, -6.130199909210205, -7.3109002113342285, -8.620699882507324, -8.721500396728516, -8.722900390625, -8.326899528503418, -8.84749984741211, -8.646599769592285, -8.566499710083008, -8.974599838256836, -8.860699653625488, -8.981100082397461, -8.860199928283691, -8.982500076293945, -8.287099838256836, -9.123200416564941, -8.503899574279785, -9.125200271606445, -9.125200271606445, -8.995400428771973, -9.128899574279785, -8.585000038146973, -9.14229965209961, -9.142399787902832, -8.779199600219727, -8.685799598693848, -9.304699897766113, -9.15410041809082, -9.311800003051758, -9.311699867248535, -9.155400276184082, -6.939000129699707, -7.5117998123168945, -7.2042999267578125, -5.714600086212158, -8.050200462341309, -5.28439998626709, -6.038099765777588, -6.162300109863281, -6.5640997886657715, -6.936800003051758, -6.822000026702881, -7.619100093841553, -5.807600021362305, -6.361800193786621, -8.263799667358398, -6.714700222015381, -6.879899978637695, -7.469699859619141, -6.051499843597412, -7.365699768066406, -7.298999786376953, -7.018199920654297, -7.695899963378906, -7.047299861907959, -7.113100051879883, -6.100399971008301, -6.782400131225586, -6.202700138092041, -6.779200077056885, -7.122900009155273, -6.785900115966797, -5.86929988861084, -5.5782999992370605, -5.610799789428711, -4.905700206756592, -5.98769998550415, -6.520699977874756, -5.747200012207031, -6.356599807739258, -5.443999767303467, -5.8769001960754395, -5.3815999031066895, -5.905799865722656, -6.250899791717529, -5.5229997634887695, -5.673500061035156, -6.042699813842773, -5.585000038146973, -6.045499801635742, -5.863699913024902, -5.796999931335449, -5.925899982452393, -6.033400058746338, -5.779399871826172, -6.010000228881836, -5.819399833679199, -6.0472002029418945, -6.02370023727417, -6.062900066375732, -7.447299957275391, -5.504000186920166, -4.954899787902832, -7.923099994659424, -6.42110013961792, -7.434500217437744, -4.8471999168396, -7.296500205993652, -8.30090045928955, -7.018400192260742, -8.116600036621094, -8.313599586486816, -8.559800148010254, -4.197400093078613, -7.355299949645996, -6.717800140380859, -6.826700210571289, -8.405500411987305, -8.780200004577637, -7.070300102233887, -4.71589994430542, -6.521500110626221, -5.913700103759766, -8.794699668884277, -6.909299850463867, -5.0528998374938965, -9.06350040435791, -5.269000053405762, -9.087800025939941, -8.387900352478027, -6.003399848937988, -5.54580020904541, -6.665599822998047, -6.250199794769287, -7.129300117492676, -6.733699798583984, -5.634500026702881, -6.439700126647949, -4.834199905395508, -5.553299903869629, -6.403900146484375, -4.449100017547607, -4.855800151824951, -5.38640022277832, -5.443900108337402, -5.272299766540527, -4.947299957275391, -5.061699867248535, -5.583399772644043, -5.18720006942749, -5.792900085449219, -5.113500118255615, -5.727399826049805, -5.458799839019775, -5.478499889373779, -5.4781999588012695, -5.45389986038208, -5.548399925231934, -5.694300174713135, -5.693900108337402, -5.658999919891357, -5.630899906158447, -5.454500198364258, -7.535999774932861, -7.930799961090088, -8.046099662780762, -8.324700355529785, -6.388199806213379, -8.502799987792969, -5.448400020599365, -4.557400226593018, -8.426899909973145, -8.428600311279297, -5.93720006942749, -8.630499839782715, -8.737500190734863, -8.859600067138672, -6.565400123596191, -9.007699966430664, -8.246100425720215, -9.021400451660156, -9.023599624633789, -9.024200439453125, -7.658100128173828, -6.31689977645874, -7.531400203704834, -7.972799777984619, -9.194000244140625, -7.355500221252441, -9.212400436401367, -8.420299530029297, -9.232399940490723, -4.480199813842773, -5.515399932861328, -7.0543999671936035, -7.466400146484375, -6.734300136566162, -5.558599948883057, -4.970799922943115, -6.411200046539307, -5.176599979400635, -6.62060022354126, -5.889900207519531, -6.091400146484375, -6.660399913787842, -7.170599937438965, -6.761000156402588, -7.033699989318848, -6.259399890899658, -5.61329984664917, -5.973899841308594, -5.4045000076293945, -5.2108001708984375, -5.9303998947143555, -5.605800151824951, -5.712699890136719, -6.35699987411499, -6.491300106048584, -5.91510009765625, -5.580399990081787, -6.114099979400635, -5.481200218200684, -5.9182000160217285, -5.92140007019043, -5.533299922943115, -5.883800029754639, -5.571599960327148, -5.901899814605713, -5.931300163269043, -5.7291998863220215, -5.855899810791016, -5.867000102996826, -5.877099990844727, -5.898600101470947, -5.91949987411499, -4.646699905395508, -6.080999851226807, -6.795499801635742, -6.149499893188477, -7.713200092315674, -4.380099773406982, -4.649700164794922, -6.828800201416016, -6.383299827575684, -7.753600120544434, -5.1971001625061035, -7.02269983291626, -8.741000175476074, -6.78380012512207, -7.026299953460693, -8.135000228881836, -8.056500434875488, -7.740799903869629, -8.270400047302246, -6.0721001625061035, -4.094099998474121, -5.996099948883057, -8.305000305175781, -8.32699966430664, -5.405399799346924, -6.927000045776367, -7.953400135040283, -8.754899978637695, -8.563199996948242, -8.51360034942627, -6.713200092315674, -5.589799880981445, -5.89900016784668, -6.271100044250488, -7.468599796295166, -7.441699981689453, -7.109499931335449, -7.468900203704834, -6.735199928283691, -4.668900012969971, -6.3491997718811035, -6.182000160217285, -6.053999900817871, -4.588099956512451, -5.571800231933594, -5.290299892425537, -6.105299949645996, -5.336999893188477, -4.976600170135498, -4.931000232696533, -5.2906999588012695, -5.524099826812744, -5.603000164031982, -5.693900108337402, -5.401400089263916, -5.543700218200684, -5.823500156402588, -5.327600002288818, -5.540200233459473, -5.536600112915039, -5.67110013961792, -5.446899890899658, -5.463500022888184, -5.617000102996826, -5.761199951171875, -5.821100234985352, -8.39330005645752, -8.421299934387207, -8.429100036621094, -7.11359977722168, -7.5218000411987305, -8.18850040435791, -8.312399864196777, -8.072199821472168, -8.506699562072754, -7.823699951171875, -7.850299835205078, -8.029399871826172, -8.409500122070312, -7.26609992980957, -7.185500144958496, -8.41409969329834, -7.412300109863281, -7.748199939727783, -8.428799629211426, -8.592100143432617, -8.594900131225586, -8.469200134277344, -8.627099990844727, -8.618300437927246, -7.932499885559082, -8.711400032043457, -8.04170036315918, -7.598299980163574, -8.388999938964844, -7.989799976348877, -7.285900115966797, -7.690400123596191, -7.5432000160217285, -5.494999885559082, -8.195599555969238, -5.686500072479248, -6.978400230407715, -7.663599967956543, -5.74370002746582, -5.128499984741211, -5.275700092315674, -6.1219000816345215, -5.1143999099731445, -6.122099876403809, -5.397299766540527, -6.7530999183654785, -6.45550012588501, -5.24560022354126, -7.33519983291626, -5.061800003051758, -6.640200138092041, -5.398200035095215, -6.498499870300293, -5.212600231170654, -5.684599876403809, -5.350800037384033, -5.679200172424316, -5.401299953460693, -5.985000133514404, -5.440000057220459, -5.687900066375732, -5.67080020904541, -5.882199764251709, -5.416900157928467, -5.902599811553955, -6.276599884033203, -6.107800006866455, -5.971099853515625, -5.873600006103516, -6.211599826812744, -6.086400032043457, -5.8404998779296875, -6.0731000900268555, -6.008999824523926, -5.875, -5.952199935913086, -6.059899806976318, -6.432700157165527, -7.989799976348877, -6.5690999031066895, -6.668000221252441, -8.09000015258789, -6.901199817657471, -7.72189998626709, -7.630000114440918, -6.271999835968018, -8.048199653625488, -7.781899929046631, -7.6774001121521, -7.6793999671936035, -7.697999954223633, -6.577499866485596, -7.98360013961792, -8.128999710083008, -7.877600193023682, -6.6057000160217285, -8.362099647521973, -6.632500171661377, -8.359999656677246, -7.3734002113342285, -8.085399627685547, -8.39799976348877, -8.354599952697754, -8.086400032043457, -8.077799797058105, -8.210399627685547, -8.372099876403809, -7.856299877166748, -6.644700050354004, -7.010499954223633, -6.069799900054932, -5.848499774932861, -5.582300186157227, -7.5467000007629395, -6.600299835205078, -6.617499828338623, -6.684500217437744, -4.792799949645996, -6.619900226593018, -6.3694000244140625, -6.277299880981445, -5.6656999588012695, -5.9756999015808105, -6.026500225067139, -6.075200080871582, -5.765100002288818, -7.084000110626221, -6.230000019073486, -6.980800151824951, -7.107399940490723, -5.094600200653076, -6.474400043487549, -5.048500061035156, -6.804200172424316, -5.771100044250488, -5.553800106048584, -5.997900009155273, -5.602499961853027, -5.894499778747559, -5.659900188446045, -5.759399890899658, -6.109300136566162, -6.103499889373779, -5.9019999504089355, -5.982699871063232, -5.986100196838379, -5.945000171661377, -5.878799915313721, -5.956900119781494, -6.0482001304626465, -6.088799953460693, -6.139100074768066, -6.14139986038208, -6.4145002365112305, -7.461699962615967, -7.3856000900268555, -7.665299892425537, -7.656899929046631, -7.737400054931641, -4.854700088500977, -7.739999771118164, -7.927700042724609, -7.7281999588012695, -7.755499839782715, -7.436699867248535, -7.998899936676025, -7.309599876403809, -7.946800231933594, -7.746099948883057, -7.13539981842041, -7.086900234222412, -7.938499927520752, -7.690299987792969, -7.9207000732421875, -7.92609977722168, -7.940000057220459, -7.937699794769287, -7.950200080871582, -8.154399871826172, -7.554699897766113, -7.377600193023682, -7.657100200653076, -8.02239990234375, -6.745699882507324, -6.751999855041504, -5.546999931335449, -5.841899871826172, -7.279200077056885, -5.933199882507324, -6.55810022354126, -7.197999954223633, -6.630499839782715, -6.282400131225586, -5.777500152587891, -6.845200061798096, -6.192599773406982, -7.149499893188477, -6.458799839019775, -6.334099769592285, -6.189199924468994, -5.930500030517578, -5.854400157928467, -5.324399948120117, -5.701900005340576, -5.333099842071533, -6.833399772644043, -5.512499809265137, -6.377699851989746, -5.435299873352051, -6.008200168609619, -5.969799995422363, -5.853300094604492, -5.630300045013428, -5.902100086212158, -5.954500198364258, -5.902699947357178, -5.84499979019165, -5.8907999992370605, -6.117300033569336, -6.01639986038208, -6.072400093078613, -6.125100135803223, -6.191199779510498, -6.194200038909912, -6.2027997970581055, -6.524799823760986, -6.683000087738037, -7.522299766540527, -7.517399787902832, -4.503600120544434, -7.519100189208984, -7.234000205993652, -6.678400039672852, -7.240200042724609, -7.520899772644043, -7.245800018310547, -7.544000148773193, -7.780200004577637, -7.539400100708008, -7.634200096130371, -7.5040998458862305, -7.717400074005127, -5.616399765014648, -7.897600173950195, -7.901400089263916, -7.941299915313721, -7.900899887084961, -7.929699897766113, -7.897500038146973, -7.928999900817871, -7.904399871826172, -7.546800136566162, -7.541500091552734, -6.960000038146973, -7.985000133514404, -7.943900108337402, -4.9394001960754395, -5.2245001792907715, -7.101799964904785, -4.751200199127197, -6.05019998550415, -7.015100002288818, -6.097400188446045, -5.570700168609619, -5.096499919891357, -6.882500171661377, -6.166399955749512, -5.8744001388549805, -6.196400165557861, -6.675300121307373, -6.420100212097168, -7.107699871063232, -6.082300186157227, -5.015900135040283, -5.676300048828125, -5.477399826049805, -5.654900074005127, -5.605100154876709, -6.276299953460693, -5.567999839782715, -5.976399898529053, -5.92710018157959, -5.80649995803833, -6.203999996185303, -5.666399955749512, -5.674499988555908, -5.979700088500977, -5.943699836730957, -5.781199932098389, -5.824900150299072, -5.7484002113342285, -5.952300071716309, -5.959099769592285, -6.009699821472168, -6.046899795532227, -6.047100067138672, -5.628699779510498, -6.385300159454346, -6.920599937438965, -7.137899875640869, -7.201300144195557, -7.486400127410889, -7.525899887084961, -7.165299892425537, -7.434500217437744, -7.815299987792969, -7.073599815368652, -7.334799766540527, -7.8144001960754395, -7.8403000831604, -7.817999839782715, -7.154799938201904, -7.820899963378906, -7.048799991607666, -6.985000133514404, -6.805099964141846, -7.589700222015381, -7.716100215911865, -7.936999797821045, -7.487299919128418, -7.507400035858154, -7.976399898529053, -7.8125, -7.8140997886657715, -7.798900127410889, -6.8907999992370605, -7.200200080871582, -7.3470001220703125, -6.322199821472168, -6.80649995803833, -6.609300136566162, -6.073200225830078, -4.9278998374938965, -6.191999912261963, -6.103899955749512, -6.245800018310547, -4.840400218963623, -4.599400043487549, -4.709400177001953, -5.3292999267578125, -4.7677998542785645, -5.233399868011475, -5.8755998611450195, -4.717800140380859, -5.0578999519348145, -5.780099868774414, -4.835000038146973, -6.0254998207092285, -5.775899887084961, -5.1656999588012695, -5.14870023727417, -6.392000198364258, -5.532100200653076, -5.570000171661377, -5.6545000076293945, -5.878799915313721, -5.668700218200684, -5.357999801635742, -5.952499866485596, -5.7565999031066895, -5.63539981842041, -5.628699779510498, -5.705100059509277, -5.816699981689453, -5.781799793243408, -5.895999908447266, -5.894700050354004, -6.670100212097168, -7.388500213623047, -7.3856000900268555, -6.878699779510498, -6.877099990844727, -6.627699851989746, -7.104000091552734, -7.381199836730957, -5.856800079345703, -7.383399963378906, -7.393700122833252, -7.401800155639648, -7.435999870300293, -7.350599765777588, -6.2104997634887695, -7.55709981918335, -7.798500061035156, -7.455100059509277, -6.9028000831604, -5.855100154876709, -7.3831000328063965, -7.785099983215332, -7.802000045776367, -7.5121002197265625, -6.943999767303467, -6.819399833679199, -7.606299877166748, -7.770500183105469, -7.7754998207092285, -7.798999786376953, -6.7789998054504395, -6.7204999923706055, -7.156899929046631, -6.586699962615967, -7.168900012969971, -7.132400035858154, -5.828800201416016, -5.335999965667725, -5.850100040435791, -5.841000080108643, -4.843599796295166, -5.890999794006348, -5.644999980926514, -5.1869001388549805, -5.653500080108643, -5.14870023727417, -5.596499919891357, -5.8429999351501465, -6.201900005340576, -5.144800186157227, -5.697299957275391, -5.791500091552734, -5.357699871063232, -5.709700107574463, -5.560800075531006, -5.373600006103516, -5.745299816131592, -5.475800037384033, -5.649600028991699, -5.748000144958496, -5.672500133514404, -5.651299953460693, -5.70419979095459, -5.963799953460693, -5.935400009155273, -5.814300060272217, -5.89900016784668, -5.852099895477295, -6.174699783325195, -7.069699764251709, -7.473499774932861, -6.990900039672852, -7.454699993133545, -7.475900173187256, -7.516600131988525, -7.4558000564575195, -7.456600189208984, -7.460299968719482, -7.455599784851074, -7.078499794006348, -7.503799915313721, -7.061600208282471, -7.455100059509277, -5.686800003051758, -7.486000061035156, -8.116100311279297, -8.117400169372559, -8.10669994354248, -7.4369001388549805, -8.117400169372559, -7.453700065612793, -8.11769962310791, -8.111599922180176, -8.128899574279785, -8.11400032043457, -8.117600440979004, -8.116399765014648, -8.124300003051758, -6.831099987030029, -6.597599983215332, -6.774499893188477, -7.136000156402588, -5.542600154876709, -7.255799770355225, -5.3225998878479, -6.556099891662598, -7.489799976348877, -7.52810001373291, -6.712399959564209, -6.629799842834473, -4.434700012207031, -6.402299880981445, -5.698299884796143, -5.6031999588012695, -5.172900199890137, -6.5980000495910645, -5.686600208282471, -6.568900108337402, -5.617599964141846, -5.302999973297119, -5.091700077056885, -5.161799907684326, -5.645199775695801, -5.56820011138916, -5.542500019073486, -5.421800136566162, -6.139900207519531, -5.671800136566162, -5.625999927520752, -5.294899940490723, -5.746500015258789, -5.642300128936768, -5.855000019073486, -6.202099800109863, -6.105599880218506, -5.543300151824951, -5.7769999504089355, -5.672599792480469, -5.619999885559082, -5.790800094604492, -5.858399868011475, -5.700200080871582, -5.763299942016602, -5.762400150299072, -5.851500034332275, -6.933499813079834, -6.244500160217285, -6.958399772644043, -6.0690999031066895, -6.245200157165527, -6.92579984664917, -6.921899795532227, -6.933000087738037, -6.934000015258789, -6.92519998550415, -6.927000045776367, -6.92549991607666, -6.53980016708374, -6.922399997711182, -6.93149995803833, -6.968699932098389, -6.921500205993652, -6.158699989318848, -6.924200057983398, -6.9791998863220215, -7.021200180053711, -6.922100067138672, -6.996099948883057, -6.455599784851074, -6.945899963378906, -6.9243998527526855, -7.5868000984191895, -7.580599784851074, -7.601799964904785, -7.583700180053711, -7.017499923706055, -6.920000076293945, -5.9471001625061035, -6.481900215148926, -5.559899806976318, -6.554699897766113, -6.241799831390381, -5.839900016784668, -5.838699817657471, -5.260499954223633, -5.3480000495910645, -5.499800205230713, -5.9847002029418945, -6.127900123596191, -6.241600036621094, -5.362100124359131, -6.287300109863281, -5.646100044250488, -5.710700035095215, -6.531700134277344, -5.883999824523926, -5.985499858856201, -6.0543999671936035, -6.429299831390381, -5.831900119781494, -5.757999897003174, -5.959799766540527, -6.107500076293945, -6.221499919891357, -5.986800193786621, -6.025400161743164, -6.095200061798096, -6.098100185394287, -6.169099807739258, -6.140200138092041, -6.175300121307373, -6.208399772644043, -6.205399990081787, -6.166399955749512, -6.5177001953125, -6.740200042724609, -6.582200050354004, -7.178999900817871, -7.182799816131592, -7.1809000968933105, -7.2129998207092285, -7.3059000968933105, -7.180200099945068, -7.1774001121521, -7.178500175476074, -7.177599906921387, -6.55079984664917, -7.177700042724609, -7.183000087738037, -7.1793999671936035, -7.184299945831299, -7.184899806976318, -6.515900135040283, -7.437300205230713, -7.180699825286865, -7.179699897766113, -7.177999973297119, -7.183800220489502, -7.178100109100342, -7.178999900817871, -7.177999973297119, -7.183199882507324, -6.627900123596191, -4.731800079345703, -6.263599872589111, -6.0055999755859375, -6.207099914550781, -5.792799949645996, -5.446700096130371, -5.151400089263916, -5.6184000968933105, -6.513000011444092, -6.118899822235107, -5.593500137329102, -6.1209001541137695, -5.991199970245361, -5.887599945068359, -6.515699863433838, -5.055500030517578, -5.0142998695373535, -5.835400104522705, -5.582799911499023, -5.420400142669678, -5.418700218200684, -5.453000068664551, -6.608099937438965, -5.097400188446045, -5.80810022354126, -5.597599983215332, -5.807199954986572, -5.665800094604492, -5.6732001304626465, -5.8267998695373535, -5.86870002746582, -5.8180999755859375, -5.693600177764893, -5.769999980926514, -5.805099964141846, -5.956200122833252, -5.929699897766113, -6.005499839782715, -6.557000160217285, -6.7027997970581055, -6.5416998863220215, -6.534200191497803, -6.799900054931641, -7.200699806213379, -6.15369987487793, -7.198200225830078, -7.219299793243408, -7.198599815368652, -7.200200080871582, -6.792200088500977, -7.1992998123168945, -7.207699775695801, -7.213699817657471, -7.2017998695373535, -7.200099945068359, -7.202700138092041, -7.200399875640869, -7.21150016784668, -7.216100215911865, -7.240900039672852, -6.623300075531006, -7.253799915313721, -7.273499965667725, -7.307000160217285, -7.198299884796143, -7.197999954223633, -7.201499938964844, -7.310500144958496, -6.171299934387207, -6.858699798583984, -6.066100120544434, -5.493199825286865, -5.52239990234375, -6.559000015258789, -6.176700115203857, -6.903900146484375, -5.562699794769287, -5.050099849700928, -6.615799903869629, -6.07289981842041, -6.2322001457214355, -6.537799835205078, -5.744200229644775, -6.535200119018555, -6.138500213623047, -6.561999797821045, -6.2758002281188965, -5.818900108337402, -6.229700088500977, -6.594099998474121, -5.85290002822876, -5.679999828338623, -5.73360013961792, -5.8709001541137695, -5.99429988861084, -5.866600036621094, -6.046999931335449, -5.674099922180176, -5.627900123596191, -5.670199871063232, -5.688000202178955, -5.810200214385986, -5.855800151824951, -6.065199851989746, -6.117400169372559, -6.095399856567383, -6.0447001457214355, -6.0802001953125, -6.0995001792907715, -6.105899810791016, -6.117599964141846]}, \"token.table\": {\"Topic\": [3, 5, 6, 1, 2, 3, 4, 6, 7, 8, 9, 15, 1, 3, 5, 6, 2, 1, 6, 9, 12, 13, 14, 3, 7, 9, 1, 12, 1, 2, 14, 1, 2, 3, 4, 5, 6, 7, 8, 9, 10, 12, 15, 4, 5, 6, 14, 1, 2, 3, 4, 5, 6, 7, 8, 9, 10, 11, 13, 14, 3, 4, 14, 6, 7, 8, 15, 6, 7, 8, 2, 4, 1, 3, 4, 5, 7, 11, 3, 5, 12, 14, 1, 2, 6, 8, 2, 3, 13, 2, 8, 15, 1, 1, 2, 4, 10, 1, 2, 4, 6, 1, 2, 5, 6, 8, 14, 1, 2, 3, 4, 5, 6, 7, 8, 9, 10, 11, 12, 13, 15, 1, 4, 11, 4, 2, 2, 8, 10, 12, 1, 2, 3, 4, 5, 6, 7, 8, 9, 10, 11, 12, 15, 2, 4, 9, 12, 2, 7, 13, 1, 3, 8, 9, 1, 2, 6, 1, 2, 3, 4, 5, 6, 8, 12, 14, 1, 2, 3, 6, 11, 13, 6, 1, 2, 7, 13, 1, 7, 9, 1, 2, 3, 9, 10, 1, 2, 3, 4, 5, 6, 7, 8, 9, 10, 15, 1, 7, 15, 1, 2, 3, 4, 5, 6, 7, 8, 9, 10, 11, 12, 13, 14, 15, 1, 3, 7, 12, 1, 4, 10, 11, 3, 4, 1, 2, 6, 7, 9, 1, 3, 5, 10, 11, 12, 1, 3, 4, 11, 3, 4, 10, 1, 2, 6, 7, 8, 4, 8, 13, 14, 1, 3, 6, 1, 2, 3, 4, 5, 6, 7, 8, 9, 10, 11, 13, 1, 3, 4, 5, 6, 7, 8, 6, 7, 8, 2, 8, 11, 13, 2, 6, 8, 11, 13, 2, 1, 4, 5, 8, 9, 4, 5, 1, 2, 12, 1, 7, 1, 2, 3, 4, 5, 6, 7, 8, 9, 10, 11, 12, 13, 14, 15, 1, 2, 7, 9, 13, 1, 8, 1, 4, 5, 8, 1, 2, 3, 5, 6, 7, 8, 9, 12, 13, 15, 4, 11, 2, 7, 1, 2, 13, 2, 4, 9, 1, 2, 3, 4, 5, 6, 7, 8, 10, 11, 1, 3, 4, 10, 1, 2, 3, 6, 7, 1, 2, 3, 4, 5, 6, 7, 8, 9, 10, 11, 12, 13, 15, 4, 5, 2, 1, 2, 3, 4, 6, 7, 8, 11, 13, 1, 6, 7, 14, 15, 3, 4, 5, 1, 2, 3, 7, 10, 13, 1, 2, 6, 7, 9, 11, 1, 12, 1, 9, 1, 2, 7, 12, 14, 1, 2, 6, 7, 8, 9, 11, 1, 1, 3, 4, 12, 1, 3, 5, 6, 8, 12, 13, 1, 2, 3, 4, 5, 6, 7, 8, 9, 10, 11, 12, 13, 3, 5, 10, 1, 2, 7, 12, 2, 5, 6, 8, 15, 5, 6, 12, 1, 1, 2, 5, 8, 1, 5, 10, 12, 13, 1, 4, 5, 8, 10, 1, 1, 2, 3, 4, 5, 6, 7, 8, 9, 10, 11, 12, 13, 1, 2, 3, 4, 5, 6, 7, 8, 9, 10, 11, 12, 14, 1, 2, 7, 9, 1, 7, 8, 14, 2, 3, 5, 7, 12, 1, 10, 11, 12, 3, 4, 5, 6, 8, 3, 5, 8, 14, 1, 1, 6, 12, 1, 2, 3, 4, 5, 6, 7, 8, 9, 10, 11, 12, 13, 2, 8, 13, 2, 6, 7, 10, 5, 9, 1, 2, 3, 4, 5, 6, 7, 9, 11, 3, 4, 5, 6, 10, 11, 12, 1, 2, 3, 4, 5, 8, 1, 2, 6, 7, 3, 4, 1, 2, 3, 4, 5, 6, 7, 8, 10, 11, 1, 2, 6, 13, 2, 6, 8, 13, 1, 3, 10, 3, 5, 10, 3, 7, 13, 4, 5, 8, 9, 1, 2, 3, 4, 5, 7, 8, 10, 4, 1, 2, 3, 4, 5, 6, 7, 8, 9, 10, 11, 12, 13, 14, 15, 1, 2, 3, 4, 5, 6, 8, 9, 10, 11, 12, 14, 2, 3, 4, 9, 1, 2, 3, 6, 8, 10, 12, 3, 4, 10, 13, 15, 2, 11, 13, 2, 4, 11, 1, 4, 9, 3, 5, 7, 15, 1, 5, 7, 9, 5, 6, 1, 2, 15, 2, 3, 4, 15, 1, 4, 5, 7, 10, 1, 4, 7, 8, 13, 2, 5, 1, 2, 7, 8, 15, 1, 2, 3, 4, 5, 9, 11, 12, 1, 2, 3, 4, 5, 6, 7, 8, 9, 10, 11, 1, 2, 3, 4, 5, 6, 7, 8, 9, 10, 11, 12, 13, 14, 15, 3, 2, 6, 1, 2, 6, 7, 1, 2, 6, 7, 8, 9, 13, 2, 6, 11, 1, 2, 6, 8, 9, 14, 4, 1, 2, 3, 6, 7, 12, 13, 4, 5, 8, 1, 2, 3, 4, 5, 6, 7, 8, 9, 10, 11, 12, 3, 4, 5, 12, 14, 3, 4, 1, 2, 6, 7, 8, 12, 13, 1, 2, 3, 4, 5, 6, 7, 8, 9, 10, 11, 12, 13, 14, 15, 1, 2, 3, 4, 5, 6, 7, 8, 10, 11, 12, 14, 1, 2, 3, 4, 5, 6, 7, 9, 11, 12, 14, 3, 4, 5, 6, 12, 6, 9, 2, 1, 7, 8, 1, 2, 3, 4, 5, 6, 7, 8, 10, 11, 12, 13, 3, 4, 2, 8, 13, 2, 4, 1, 4, 6, 11, 1, 4, 8, 9, 1, 2, 7, 8, 9, 1, 2, 3, 4, 6, 7, 8, 9, 13, 15, 1, 8, 13, 15, 8, 9, 3, 4, 5, 5, 8, 11, 1, 1, 6, 9, 10, 12, 2, 4, 7, 9, 1, 2, 7, 11, 1, 2, 8, 9, 11, 2, 6, 8, 9, 13, 15, 1, 4, 8, 11, 14, 3, 5, 6, 9, 13, 6, 8, 12, 15, 4, 10, 12, 13, 14, 6, 8, 1, 2, 3, 10, 1, 2, 14, 3, 10, 11, 1, 2, 3, 4, 5, 6, 7, 8, 9, 10, 11, 12, 13, 15, 1, 2, 3, 4, 5, 6, 7, 8, 9, 10, 11, 12, 13, 15, 1, 2, 3, 6, 7, 8, 11, 2, 3, 4, 12, 15, 1, 2, 3, 4, 5, 6, 7, 8, 9, 10, 11, 12, 13, 1, 2, 3, 4, 5, 6, 7, 8, 9, 12, 4, 1, 3, 4, 5, 6, 7, 14, 1, 2, 3, 4, 5, 7, 1, 2, 4, 5, 6, 15, 1, 2, 3, 4, 5, 6, 7, 8, 10, 1, 2, 7, 8, 9, 15, 1, 3, 4, 5, 6, 10, 11, 3, 10, 1, 2, 6, 7, 11, 1, 9, 1, 3, 4, 5, 6, 8, 10, 11, 12, 3, 4, 1, 2, 9, 13, 2, 13, 3, 4, 5, 9, 14, 1, 2, 3, 4, 5, 6, 7, 8, 9, 10, 11, 12, 15, 1, 2, 3, 4, 6, 7, 8, 9, 11, 13, 15, 1, 4, 13, 14, 2, 3, 9, 15, 2, 7, 11, 13, 1, 8, 9, 15, 4, 4, 3, 11, 12, 4, 6, 4, 1, 1, 5, 6, 7, 1, 1, 1, 2, 6, 7, 8, 9, 13, 1, 2, 3, 4, 5, 6, 7, 8, 9, 10, 11, 1, 2, 3, 4, 5, 6, 7, 12, 13, 2, 8, 1, 2, 7, 8, 13, 2, 7, 1, 2, 7, 1, 8, 9, 1, 2, 3, 4, 5, 6, 7, 8, 9, 10, 11, 12, 13, 15, 1, 2, 4, 5, 6, 7, 8, 1, 2, 9, 12, 1, 2, 3, 4, 5, 6, 8, 9, 11, 12, 2, 7, 15, 1, 2, 3, 4, 5, 7, 11, 14, 1, 4, 5, 11, 14, 2, 6, 12, 1, 3, 4, 11, 3, 10, 11, 2, 5, 6, 8, 13, 2, 1, 3, 8, 1, 2, 3, 4, 5, 6, 7, 8, 9, 10, 11, 12, 13, 15, 2, 6, 15, 1, 2, 3, 4, 5, 6, 7, 8, 9, 10, 11, 12, 13, 1, 2, 12, 13, 1, 2, 3, 4, 5, 6, 7, 8, 9, 10, 11, 12, 13, 14, 15, 1, 3, 4, 5, 6, 7, 9, 10, 12, 13, 14, 1, 2, 3, 4, 5, 6, 7, 8, 9, 10, 11, 12, 15, 1, 2, 6, 7, 1, 2, 3, 4, 5, 6, 7, 8, 9, 10, 11, 12, 13, 14, 15, 4, 6, 7, 9, 11, 12, 1, 2, 3, 4, 5, 6, 7, 8, 9, 10, 11, 12, 13, 14, 1, 6, 8, 11, 1, 2, 3, 4, 5, 6, 7, 8, 9, 11, 12, 13, 1, 6, 9, 1, 2, 3, 4, 5, 6, 7, 8, 9, 10, 11, 12, 13, 14, 15, 1, 2, 3, 4, 5, 6, 7, 8, 9, 10, 11, 12, 14, 4, 7, 9, 1, 2, 3, 4, 5, 6, 7, 8, 9, 10, 11, 12, 13, 14, 3, 4, 5, 1, 12, 2, 6, 2, 8, 6, 8, 10, 13, 1, 2, 4, 7, 8, 15, 4, 5, 6, 8, 1, 6, 11, 3, 5, 4, 5, 8, 1, 2, 3, 4, 5, 6, 8, 9, 12, 14, 1, 2, 3, 4, 5, 6, 7, 8, 9, 10, 11, 12, 13, 14, 15, 3, 4, 14, 2, 6, 7, 2, 7, 9, 1, 2, 6, 8, 9, 11, 15, 2, 6, 7, 8, 9, 1, 2, 3, 4, 5, 6, 10, 11, 12, 1, 2, 6, 7, 8, 9, 11, 13, 1, 2, 3, 4, 5, 6, 7, 8, 9, 10, 11, 15, 1, 7, 4, 6, 7, 9, 14, 1, 3, 6, 12, 7, 8, 12, 7, 1, 2, 3, 4, 5, 6, 7, 8, 10, 11, 13, 4, 5, 8, 1, 2, 12, 1, 2, 5, 6, 12, 1, 2, 4, 5, 6, 12, 15, 1, 2, 3, 4, 5, 6, 8, 9, 10, 13, 14, 1, 2, 6, 7, 1, 2, 3, 4, 5, 6, 7, 8, 9, 10, 11, 12, 14, 2, 6, 13, 1, 2, 3, 4, 5, 6, 7, 8, 9, 11, 13, 3, 5, 10, 11, 1, 2, 3, 4, 5, 6, 7, 8, 9, 10, 11, 12, 13, 14, 15, 4, 5, 8, 1, 2, 4, 6, 7, 8, 11, 1, 2, 4, 6, 7, 9, 10, 11, 3, 10, 1, 7, 9, 12, 1, 2, 3, 4, 5, 6, 7, 8, 9, 10, 11, 12, 13, 14, 1, 2, 3, 5, 7, 11, 2, 1, 7, 13, 1, 3, 4, 9, 10, 11, 1, 2, 8, 9, 1, 10, 2, 1, 2, 3, 4, 5, 6, 7, 8, 9, 11, 12, 1, 2, 3, 4, 5, 6, 7, 8, 9, 10, 11, 12, 13, 14, 1, 2, 3, 4, 5, 6, 7, 8, 9, 11, 12, 1, 2, 3, 4, 5, 6, 7, 8, 9, 10, 11, 12, 14, 15, 1, 2, 3, 4, 5, 6, 7, 8, 9, 10, 11, 12, 13, 14, 5, 7, 5, 6, 12, 1, 3, 9, 12, 2, 15, 2, 3, 10, 2, 5, 6, 10, 1, 2, 3, 4, 5, 6, 10, 11, 3, 4, 5, 10, 11, 1, 2, 3, 4, 5, 6, 7, 8, 9, 10, 11, 12, 13, 14, 3, 1, 2, 3, 4, 5, 6, 7, 8, 9, 10, 11, 12, 13, 14, 15, 3, 4, 5, 8, 10, 6, 1, 2, 3, 4, 5, 6, 7, 8, 9, 10, 11, 12, 13, 14, 15, 1, 2, 3, 4, 5, 6, 7, 8, 9, 10, 11, 12, 13, 14, 15, 1, 2, 6, 8, 2, 6, 8, 9, 15, 1, 3, 10, 12, 4, 5, 8, 3, 4, 5, 10, 11, 12, 1, 2, 3, 4, 5, 6, 9, 10, 1, 2, 3, 4, 5, 7, 15, 2, 1, 2, 3, 4, 5, 6, 7, 8, 9, 10, 11, 12, 6, 7, 1, 2, 3, 4, 5, 6, 7, 8, 9, 10, 11, 12, 13, 14, 4, 5, 10, 14, 1, 2, 6, 7, 8, 9, 11, 13, 1, 5, 1, 2, 7, 8, 9, 6, 8, 1, 2, 3, 5, 8, 10, 12, 3, 4, 5, 7, 8, 9, 10, 11, 12, 14, 1, 6, 8, 13, 1, 2, 6, 12, 1, 7, 2, 4, 6, 15, 1, 12, 14, 1, 2, 3, 4, 5, 6, 7, 8, 10, 1, 6, 7, 9, 10, 11, 1, 2, 3, 4, 5, 8, 13, 2, 6, 12, 15, 6, 9, 10, 5, 11, 1, 2, 4, 6, 12, 14, 1, 8, 13, 3, 10, 2, 6, 7, 1, 2, 3, 4, 5, 6, 8, 9, 10, 12, 1, 6, 12, 2, 1, 2, 7, 9, 13, 4, 3, 4, 5, 1, 2, 3, 4, 5, 6, 7, 8, 9, 10, 11, 12, 2, 9, 4, 5, 5, 10, 12, 2, 6, 7, 5, 1, 2, 3, 4, 5, 6, 7, 8, 9, 14, 1, 2, 3, 4, 5, 6, 7, 8, 9, 10, 11, 12, 13, 14, 1, 3, 11, 1, 2, 4, 6, 7, 8, 9, 12, 1, 2, 8, 12, 1, 2, 3, 4, 5, 6, 7, 8, 9, 10, 11, 12, 13, 1, 3, 4, 5, 6, 10, 11, 3, 10, 1, 2, 3, 4, 5, 6, 7, 8, 9, 10, 11, 12, 13, 14, 15, 1, 2, 3, 4, 6, 7, 9, 13, 1, 2, 3, 5, 6, 7, 8, 9, 14, 1, 2, 3, 4, 5, 6, 7, 8, 9, 10, 11, 12, 13, 14, 15, 3, 1, 2, 3, 4, 5, 6, 7, 8, 10, 11, 12, 13, 1, 2, 6, 7, 8, 13, 1, 7, 12, 13, 6, 7, 12, 1, 2, 3, 4, 5, 6, 7, 8, 9, 10, 11, 12, 13, 1, 6, 10, 1, 2, 13, 1, 4, 6, 8, 10, 2, 7, 9, 13, 1, 2, 3, 4, 6, 7, 8, 9, 11, 15, 1, 2, 3, 4, 5, 6, 7, 8, 9, 10, 11, 12, 1, 2, 3, 4, 5, 6, 7, 8, 9, 10, 12, 13, 14, 2, 3, 7, 11, 15, 1, 2, 2, 7, 15, 1, 2, 3, 4, 5, 6, 7, 8, 9, 10, 11, 12, 13, 14, 1, 2, 3, 4, 5, 6, 7, 8, 9, 10, 11, 13, 1, 14, 1, 2, 3, 4, 5, 6, 7, 8, 9, 10, 11, 12, 13, 15, 1, 2, 3, 4, 5, 6, 7, 8, 10, 11, 15, 1, 2, 3, 4, 6, 7, 9, 10, 13, 1, 2, 3, 4, 5, 6, 7, 8, 9, 10, 11, 12, 13, 14, 15, 1, 2, 3, 4, 5, 6, 7, 8, 9, 10, 11, 12, 13, 14, 1, 4, 5, 8, 9, 1, 2, 4, 6, 7, 9, 11, 12, 13, 14, 1, 2, 1, 2, 4, 5, 7, 12, 1, 2, 3, 4, 5, 6, 7, 8, 9, 10, 11, 12, 13, 14, 15, 4, 5, 8, 3, 1, 2, 3, 4, 5, 6, 7, 8, 9, 10, 11, 12, 13, 14, 15, 1, 2, 3, 4, 5, 6, 7, 8, 9, 10, 11, 12, 13, 14, 15, 1, 2, 3, 4, 5, 6, 7, 8, 9, 10, 11, 12, 14, 1, 2, 3, 4, 5, 6, 7, 10, 11, 12, 1, 7, 9, 4, 5, 8, 4, 5, 1, 2, 3, 4, 5, 6, 7, 9, 11, 7, 8, 9, 1, 6, 7, 8, 12, 1, 2, 3, 4, 7, 9, 11, 4, 5, 8, 1, 1, 2, 3, 6, 7, 8, 9, 10, 12, 1, 2, 6, 7, 9, 11, 13, 15, 2, 7, 11, 4, 3, 4, 5, 7, 9, 1, 2, 7, 2, 6, 8, 2, 15, 1, 2, 3, 4, 5, 6, 7, 8, 9, 10, 11, 12, 13, 1, 6, 3, 10, 11, 1, 2, 6, 1, 3, 4, 1, 3, 4, 5, 7, 2, 6, 7, 11, 1, 2, 3, 4, 5, 6, 7, 8, 10, 12, 3, 4, 5, 10, 11, 1, 2, 4, 5, 6, 7, 8, 9, 10, 12, 1, 6, 10, 13, 1, 2, 3, 4, 5, 6, 7, 8, 9, 12, 14, 1, 2, 6, 8, 9, 13, 15, 2, 9, 1, 2, 5, 6, 7, 8, 9, 11, 12, 4, 5, 8, 2, 7, 8, 13, 1, 3, 4, 5, 3, 4, 1, 2, 6, 7, 8, 13, 1, 11, 12, 5, 12, 1, 12, 14, 1, 5, 1, 2, 3, 4, 5, 6, 7, 8, 9, 10, 11, 12, 13, 15, 1, 5, 8, 9, 1, 2, 3, 4, 5, 6, 10, 1, 2, 3, 4, 5, 6, 7, 8, 9, 10, 11, 12, 13, 1, 6, 8, 1, 1, 2, 7, 1, 2, 3, 4, 5, 6, 7, 8, 9, 10, 11, 12, 13, 1, 2, 6, 7, 9, 5, 10, 1, 2, 6, 7, 8, 9, 12, 13, 15, 1, 7, 8, 1, 2, 3, 4, 5, 6, 7, 8, 9, 10, 11, 12, 14, 15, 4, 6, 3, 4, 8, 1, 2, 3, 4, 5, 10, 11, 1, 7, 11, 2, 3, 13, 2, 5, 10, 11, 1, 2, 8, 11, 1, 8, 11, 13, 1, 2, 3, 4, 5, 6, 7, 8, 9, 10, 11, 12, 15, 1, 2, 7, 8, 1, 2, 3, 4, 5, 6, 7, 8, 9, 10, 11, 15, 2, 4, 5, 8, 1, 2, 3, 4, 5, 6, 7, 8, 9, 10, 11, 12, 14, 15, 1, 2, 3, 4, 5, 6, 7, 8, 9, 10, 11, 12, 13, 2, 7, 11, 1, 7, 13, 3, 7, 9, 5, 3, 4, 5, 12, 2, 9, 2, 7, 1, 2, 6, 7, 2, 15, 1, 4, 5, 1, 2, 3, 4, 5, 6, 7, 8, 9, 10, 11, 12, 15, 1, 2, 3, 4, 5, 6, 7, 8, 9, 10, 11, 12, 13, 14, 2, 7, 2, 7, 8, 9, 3, 4, 4, 1, 2, 11, 1, 2, 3, 4, 5, 6, 7, 8, 9, 10, 12, 1, 2, 4, 13, 15, 1, 6, 9, 15, 1, 7, 8, 1, 2, 3, 4, 5, 6, 7, 8, 9, 11, 12, 13, 1, 2, 3, 4, 5, 6, 7, 10, 11, 1, 2, 6, 7, 9, 13, 1, 8, 13, 3, 1, 2, 6, 7, 9, 11, 13, 1, 2, 6, 7, 9, 6, 8, 11, 15, 2, 6, 7, 8, 9, 13, 15, 4, 5, 7, 1, 2, 3, 6, 7, 10, 15, 2, 6, 7, 8, 9, 13, 1, 2, 3, 4, 5, 6, 7, 8, 9, 10, 11, 12, 13, 14, 2, 3, 5, 10, 3, 10, 11, 12, 1, 2, 7, 12, 2, 7, 12, 1, 9, 11, 13, 2, 6, 4, 5, 1, 2, 3, 4, 6, 7, 8, 9, 11, 14, 15, 1, 2, 3, 4, 7, 8, 9, 2, 7, 2, 1, 12, 13, 1, 2, 3, 4, 5, 6, 7, 8, 9, 10, 11, 12, 13, 2, 1, 2, 3, 4, 5, 6, 7, 8, 9, 10, 11, 12, 13, 2, 8, 14, 2, 7, 10, 1, 2, 6, 11, 1, 6, 1, 2, 3, 4, 5, 6, 7, 8, 9, 10, 11, 12, 15, 2, 9, 10, 12, 15, 1, 2, 3, 4, 5, 6, 9, 10, 12, 14, 1, 2, 3, 4, 5, 6, 7, 8, 9, 10, 11, 12, 13, 15, 1, 3, 4, 8, 14, 1, 2, 3, 4, 5, 6, 7, 8, 9, 10, 11, 13, 15, 1, 2, 6, 7, 2, 6, 10, 1, 2, 3, 8, 1, 2, 3, 4, 5, 6, 9, 12, 2, 8, 15, 3, 7, 10, 11, 1, 2, 3, 4, 5, 8, 2, 11, 2, 6, 9, 10, 1, 2, 3, 8, 9, 1, 2, 5, 6, 7, 8, 9, 11, 15, 1, 2, 6, 7, 8, 9, 15, 1, 2, 9, 11, 1, 2, 7, 9, 2, 4, 6, 9, 1, 2, 7, 8, 13, 2, 7, 1, 2, 9, 3, 11, 12, 2, 9, 13, 2, 12, 1, 2, 3, 4, 5, 6, 7, 8, 9, 10, 11, 12, 13, 15, 4, 2, 5, 7, 10, 1, 4, 8, 10, 12, 1, 2, 6, 12, 1, 4, 5, 8, 3, 6, 15, 1, 3, 6, 12, 1, 4, 10, 15, 1, 6, 15, 2, 1, 2, 3, 4, 5, 6, 7, 8, 9, 10, 11, 14, 1, 2, 8, 15, 1, 2, 3, 8, 2, 4, 11, 14, 1, 2, 3, 4, 6, 10, 11, 2, 8, 2, 8, 9, 13, 15, 1, 3, 6, 10, 2, 4, 8, 14, 3, 1, 2, 10, 11, 1, 2, 6, 9, 10, 12, 1, 3, 4, 5, 9, 1, 2, 6, 7, 9, 10, 12, 14, 1, 2, 6, 7, 8, 10, 11, 1, 2, 3, 4, 5, 6, 7, 8, 9, 10, 11, 12, 13, 15, 1, 6, 2, 7, 1, 2, 4, 6, 8, 9, 12, 1, 2, 3, 4, 5, 6, 7, 8, 9, 10, 11, 12, 13, 15, 1, 3, 13, 1, 2, 6, 7, 8, 9, 1, 3, 6, 7, 8, 12, 13, 2, 7, 10, 1, 2, 3, 6, 7, 8, 9, 12, 14, 4, 6, 8, 2, 3, 8, 12, 3, 4, 5, 9, 10, 1, 2, 3, 4, 5, 6, 7, 8, 9, 10, 11, 12, 13, 15, 1, 2, 3, 4, 5, 6, 7, 8, 11, 12, 15, 1, 1, 2, 5, 6, 7, 9, 1, 7, 12, 3, 5, 9, 10, 14, 4, 5, 7, 15, 1, 2, 3, 5, 6, 7, 9, 10, 11, 12, 1, 4, 6, 9, 11, 1, 2, 3, 4, 5, 6, 8, 10, 12, 15, 1, 2, 3, 4, 5, 6, 7, 8, 10, 11, 13, 14, 3, 11, 2, 6, 7, 8, 1, 2, 3, 4, 5, 6, 7, 8, 9, 10, 11, 12, 14, 4, 6, 9, 1, 2, 4, 5, 6, 8, 9, 12, 14, 1, 7, 2, 12, 13, 1, 14, 1, 2, 4, 10, 1, 2, 3, 4, 5, 6, 7, 9, 10, 12, 13, 15, 1, 2, 3, 4, 5, 6, 7, 8, 9, 10, 11, 12, 1, 2, 3, 4, 5, 6, 8, 9, 10, 12, 14, 1, 5, 11, 14, 1, 2, 4, 5, 6, 10, 14, 15, 6, 2, 2, 1, 4, 6, 7, 15, 3, 1, 3, 4, 10, 11, 13, 2, 11, 1, 2, 3, 4, 5, 6, 7, 8, 9, 10, 11, 12, 13, 15, 1, 2, 7, 2, 7, 4, 1, 2, 3, 4, 5, 6, 7, 8, 10, 11, 12, 1, 2, 3, 4, 5, 6, 7, 8, 9, 10, 11, 12, 13, 14, 15, 1, 2, 3, 4, 5, 6, 7, 8, 9, 10, 11, 12, 1, 2, 7, 10, 1, 2, 3, 4, 5, 6, 7, 8, 9, 10, 11, 13, 1, 2, 3, 6, 7, 8, 14, 2, 1, 2, 3, 4, 5, 6, 7, 8, 9, 10, 11, 12, 13, 1, 2, 4, 5, 6, 7, 8, 9, 10, 12, 1, 2, 1, 1, 2, 3, 4, 5, 6, 7, 8, 9, 12, 13, 3, 7, 13, 1, 6, 7, 12, 1, 2, 3, 4, 5, 6, 7, 8, 9, 11, 12, 14, 1, 2, 3, 4, 12, 13, 5, 8, 1, 2, 3, 4, 6, 7, 9, 10, 6, 8, 1, 2, 3, 5, 8, 11, 13, 1, 2, 3, 4, 5, 6, 7, 8, 9, 10, 11, 12, 13, 14, 1, 2, 10, 12, 1, 2, 3, 4, 5, 6, 7, 8, 15, 3, 5, 10, 3, 3, 11, 1, 2, 6, 7, 10, 12, 6, 9, 11, 1, 9, 11, 1, 9, 13, 1, 2, 3, 4, 5, 8, 9, 10, 1, 3, 5, 10, 11, 3, 4, 12, 1, 2, 3, 6, 7, 8, 9, 11, 15, 1, 2, 3, 4, 5, 6, 7, 8, 9, 10, 11, 12, 13, 15, 1, 2, 3, 6, 1, 2, 6, 1, 2, 3, 4, 5, 6, 7, 8, 9, 10, 11, 12, 13, 14, 15, 1, 2, 3, 4, 5, 6, 7, 8, 9, 10, 11, 12, 13, 14, 15, 1, 2, 6, 12, 14, 1, 2, 3, 4, 5, 6, 7, 8, 9, 10, 11, 12, 13, 14, 15, 1, 2, 3, 4, 5, 6, 7, 8, 9, 10, 11, 12, 14, 1, 13, 1, 2, 5, 7, 12, 14, 1, 2, 3, 4, 5, 6, 7, 8, 9, 10, 11, 12, 13, 15, 1, 9, 15, 1, 2, 3, 4, 5, 6, 7, 8, 9, 10, 11, 12, 13, 15, 1, 2, 3, 4, 5, 6, 7, 8, 9, 10, 11, 12, 14, 15, 1, 2, 4, 11, 12, 15, 1, 2, 5, 14, 15, 3, 6, 7, 1, 8, 10, 2, 1, 4, 7, 1, 2, 4, 10, 1, 2, 3, 4, 5, 6, 7, 8, 9, 10, 11, 12, 13, 14, 15, 1, 2, 7, 8, 3, 1, 2, 3, 4, 5, 6, 7, 8, 9, 10, 11, 12, 5, 6, 10, 13, 1, 4, 12, 14, 4, 3, 4, 6, 12, 14, 6, 11, 3, 4, 6, 14, 1, 7, 10, 12, 4, 2, 6, 1, 2, 7, 9, 13, 1, 3, 4, 6, 7, 11, 12, 13, 1, 2, 6, 7, 8, 12, 1, 5, 12, 13, 2, 6, 8, 1, 2, 6, 7, 11, 2, 1, 2, 8, 12, 15, 1, 2, 3, 4, 5, 6, 7, 8, 9, 10, 11, 12, 13, 15, 1, 2, 3, 4, 15, 1, 2, 7, 9, 13, 2, 6, 7, 1, 2, 3, 4, 5, 6, 7, 8, 9, 10, 11, 12, 14, 15, 1, 2, 3, 4, 5, 6, 7, 8, 9, 10, 11, 12, 13, 14, 15, 1, 2, 3, 4, 5, 6, 7, 8, 9, 10, 11, 12, 13, 14, 1, 3, 4, 5, 6, 10, 11, 12, 2, 1, 2, 3, 4, 6, 7, 8, 9, 10, 12, 4, 5, 1, 9, 12, 3, 4, 1, 2, 3, 4, 5, 6, 7, 12, 13, 3, 2, 10, 1, 2, 3, 4, 6, 10, 1, 2, 3, 4, 5, 6, 7, 8, 9, 10, 11, 12, 14, 2, 4, 11, 3, 4, 5, 10, 11, 12, 1, 2, 3, 4, 5, 6, 7, 8, 9, 10, 11, 12, 13, 14, 15, 1, 2, 3, 4, 5, 6, 7, 8, 9, 10, 11, 12, 13, 14, 3, 6, 9, 10, 14, 1, 2, 3, 4, 5, 6, 7, 8, 9, 10, 11, 12, 14, 1, 2, 3, 4, 5, 6, 7, 8, 9, 10, 11, 12, 13, 14, 1, 2, 3, 4, 5, 6, 7, 8, 9, 10, 11, 12, 13, 15, 6, 8, 1, 2, 3, 4, 5, 6, 7, 8, 9, 10, 11, 12, 13, 14, 15, 2, 6, 8, 12, 13], \"Freq\": [0.958440363407135, 0.14777067303657532, 0.7388533353805542, 0.3004373610019684, 0.22532802820205688, 0.0751093402504921, 0.11266401410102844, 0.0751093402504921, 0.0751093402504921, 0.05633200705051422, 0.03755467012524605, 0.03755467012524605, 0.06685851514339447, 0.06685851514339447, 0.735443651676178, 0.06685851514339447, 0.8552057147026062, 0.8384842872619629, 0.01510782539844513, 0.01510782539844513, 0.09820086508989334, 0.01510782539844513, 0.007553912699222565, 0.18765172362327576, 0.3753034472465515, 0.3753034472465515, 0.5599073767662048, 0.3732715845108032, 0.5561883449554443, 0.18539611995220184, 0.18539611995220184, 0.05645091086626053, 0.07903127372264862, 0.15429915487766266, 0.42526352405548096, 0.13924558460712433, 0.09032145887613297, 0.026343759149312973, 0.01129018235951662, 0.0037633939646184444, 0.007526787929236889, 0.007526787929236889, 0.0037633939646184444, 0.32281598448753357, 0.16140799224376678, 0.32281598448753357, 0.16140799224376678, 0.20939400792121887, 0.2931516170501709, 0.1104077473282814, 0.08756476640701294, 0.09898626059293747, 0.045685965567827225, 0.045685965567827225, 0.022842982783913612, 0.030457310378551483, 0.041878800839185715, 0.007614327594637871, 0.0038071637973189354, 0.0038071637973189354, 0.6269959807395935, 0.15674899518489838, 0.15674899518489838, 0.3907877206802368, 0.1953938603401184, 0.1953938603401184, 0.1953938603401184, 0.2231604903936386, 0.6136913299560547, 0.05579012259840965, 0.8134729862213135, 0.9372216463088989, 0.19248171150684357, 0.19248171150684357, 0.12832114100456238, 0.12832114100456238, 0.06416057050228119, 0.25664228200912476, 0.41732242703437805, 0.2782149612903595, 0.13910748064517975, 0.13910748064517975, 0.08639068156480789, 0.17278136312961578, 0.6047347784042358, 0.08639068156480789, 0.3858957886695862, 0.1929478943347931, 0.1929478943347931, 0.5100683569908142, 0.2550341784954071, 0.12751708924770355, 0.9242386221885681, 0.15804342925548553, 0.31608685851097107, 0.15804342925548553, 0.31608685851097107, 0.20318037271499634, 0.04063607379794121, 0.16254429519176483, 0.609541118144989, 0.07910487055778503, 0.2373146265745163, 0.2373146265745163, 0.15820974111557007, 0.2373146265745163, 0.07910487055778503, 0.24698388576507568, 0.1646559238433838, 0.1618170291185379, 0.13058918714523315, 0.1618170291185379, 0.04542232304811478, 0.02271116152405739, 0.008516686037182808, 0.019872266799211502, 0.008516686037182808, 0.005677790381014347, 0.008516686037182808, 0.008516686037182808, 0.0028388951905071735, 0.36954206228256226, 0.18477103114128113, 0.36954206228256226, 0.8773111701011658, 0.8545883893966675, 0.37983864545822144, 0.18991932272911072, 0.18991932272911072, 0.18991932272911072, 0.4207973778247833, 0.15622417628765106, 0.09071081131696701, 0.06047387421131134, 0.0856713205575943, 0.07811208814382553, 0.04787515103816986, 0.010078978724777699, 0.03023693710565567, 0.0075592342764139175, 0.0025197446811944246, 0.0075592342764139175, 0.0075592342764139175, 0.1861198991537094, 0.1861198991537094, 0.3722397983074188, 0.1861198991537094, 0.17013464868068695, 0.3402692973613739, 0.17013464868068695, 0.27600952982902527, 0.13800476491451263, 0.4140142798423767, 0.13800476491451263, 0.129188671708107, 0.129188671708107, 0.6459433436393738, 0.07801707088947296, 0.03900853544473648, 0.1950426697731018, 0.44859814643859863, 0.11702559888362885, 0.01950426772236824, 0.03900853544473648, 0.01950426772236824, 0.03900853544473648, 0.5126588940620422, 0.07323698699474335, 0.07323698699474335, 0.07323698699474335, 0.21971096098423004, 0.07323698699474335, 0.8710424304008484, 0.07769375294446945, 0.38846874237060547, 0.23308125138282776, 0.23308125138282776, 0.36586353182792664, 0.18293176591396332, 0.36586353182792664, 0.35878774523735046, 0.07175754755735397, 0.14351509511470795, 0.2870301902294159, 0.07175754755735397, 0.08772426098585129, 0.021931065246462822, 0.2576900124549866, 0.1644829958677292, 0.3837936520576477, 0.0054827663116157055, 0.010965532623231411, 0.0054827663116157055, 0.043862130492925644, 0.0054827663116157055, 0.0054827663116157055, 0.3958907425403595, 0.3958907425403595, 0.1319635808467865, 0.19447872042655945, 0.10460598021745682, 0.18858543038368225, 0.20184534788131714, 0.1222858652472496, 0.07661283016204834, 0.042726386338472366, 0.017679883167147636, 0.008839941583573818, 0.016206560656428337, 0.00589329469949007, 0.014733236283063889, 0.002946647349745035, 0.0014733236748725176, 0.0014733236748725176, 0.1875808984041214, 0.1875808984041214, 0.1875808984041214, 0.1875808984041214, 0.9430331587791443, 0.3190155625343323, 0.21267704665660858, 0.42535409331321716, 0.05472062528133392, 0.9193065166473389, 0.10788056254386902, 0.6472833752632141, 0.08091042190790176, 0.1483357697725296, 0.013485070317983627, 0.020567966625094414, 0.8638545870780945, 0.013711977750062943, 0.07541587948799133, 0.013711977750062943, 0.006855988875031471, 0.04436880350112915, 0.39931923151016235, 0.13310641050338745, 0.3549504280090332, 0.2486685812473297, 0.2486685812473297, 0.37300288677215576, 0.00617095734924078, 0.7158310413360596, 0.02468382939696312, 0.24066734313964844, 0.00617095734924078, 0.3089929223060608, 0.3089929223060608, 0.1544964611530304, 0.1544964611530304, 0.0938318595290184, 0.1876637190580368, 0.6568230390548706, 0.18284501135349274, 0.12632927298545837, 0.20944064855575562, 0.1695471853017807, 0.15624937415122986, 0.02659563720226288, 0.03989345580339432, 0.03989345580339432, 0.0166222732514143, 0.01329781860113144, 0.00664890930056572, 0.01329781860113144, 0.006751439534127712, 0.18904030323028564, 0.5536180138587952, 0.2160460650920868, 0.006751439534127712, 0.013502879068255424, 0.006751439534127712, 0.0670749768614769, 0.0670749768614769, 0.8048996925354004, 0.1999569833278656, 0.3999139666557312, 0.1999569833278656, 0.1999569833278656, 0.07346952706575394, 0.07346952706575394, 0.4408171772956848, 0.29387810826301575, 0.07346952706575394, 0.8756139278411865, 0.0030420287512242794, 0.06084057316184044, 0.9156506657600403, 0.012168115004897118, 0.0030420287512242794, 0.09069030731916428, 0.8162127733230591, 0.9218714237213135, 0.060950178653001785, 0.007618772331625223, 0.18731361627578735, 0.5619408488273621, 0.20769011974334717, 0.11682569235563278, 0.27908360958099365, 0.11682569235563278, 0.13629664480686188, 0.07139347493648529, 0.014603211544454098, 0.017848368734121323, 0.004867737181484699, 0.019470948725938797, 0.0032451581209897995, 0.004867737181484699, 0.0016225790604948997, 0.0032451581209897995, 0.0016225790604948997, 0.021960152313113213, 0.6148842573165894, 0.21960152685642242, 0.021960152313113213, 0.08784060925245285, 0.46950843930244446, 0.46950843930244446, 0.0032054297626018524, 0.019232578575611115, 0.9680398106575012, 0.006410859525203705, 0.5941951870918274, 0.25308313965797424, 0.016505422070622444, 0.005501807201653719, 0.016505422070622444, 0.07702530175447464, 0.005501807201653719, 0.005501807201653719, 0.005501807201653719, 0.005501807201653719, 0.005501807201653719, 0.3824540078639984, 0.3824540078639984, 0.8901557326316833, 0.06358255445957184, 0.3776783049106598, 0.28325870633125305, 0.28325870633125305, 0.1526288092136383, 0.3052576184272766, 0.3052576184272766, 0.06252060830593109, 0.01103304885327816, 0.6693382859230042, 0.10665280371904373, 0.01471073180437088, 0.02574378065764904, 0.00735536590218544, 0.01471073180437088, 0.04413219541311264, 0.04045451059937477, 0.3336377739906311, 0.1112125888466835, 0.1112125888466835, 0.3336377739906311, 0.181820347905159, 0.060606781393289566, 0.060606781393289566, 0.6060678362846375, 0.060606781393289566, 0.4630250930786133, 0.22850589454174042, 0.01202662568539381, 0.054119814187288284, 0.07817306369543076, 0.036079876124858856, 0.01202662568539381, 0.01202662568539381, 0.02405325137078762, 0.030066564679145813, 0.018039938062429428, 0.006013312842696905, 0.006013312842696905, 0.01202662568539381, 0.22194287180900574, 0.7644698619842529, 0.896946907043457, 0.09576436877250671, 0.11970546096563339, 0.3351753056049347, 0.07182327657938004, 0.07182327657938004, 0.02394109219312668, 0.19152873754501343, 0.02394109219312668, 0.07182327657938004, 0.41842976212501526, 0.20921488106250763, 0.20921488106250763, 0.10460744053125381, 0.10460744053125381, 0.074727863073349, 0.8967342972755432, 0.006793441716581583, 0.7127149701118469, 0.1096484586596489, 0.027412114664912224, 0.1096484586596489, 0.013706057332456112, 0.013706057332456112, 0.14076107740402222, 0.5133638978004456, 0.28152215480804443, 0.037260282784700394, 0.012420094572007656, 0.008280063048005104, 0.567827045917511, 0.42587026953697205, 0.9408293962478638, 0.035502996295690536, 0.13246884942054749, 0.26493769884109497, 0.26493769884109497, 0.13246884942054749, 0.13246884942054749, 0.3356746733188629, 0.1398644596338272, 0.1398644596338272, 0.027972890064120293, 0.16783733665943146, 0.16783733665943146, 0.027972890064120293, 0.9772384762763977, 0.8670011162757874, 0.03769569844007492, 0.07539139688014984, 0.03769569844007492, 0.4482784867286682, 0.0747130811214447, 0.0747130811214447, 0.1494261622428894, 0.03735654056072235, 0.1494261622428894, 0.03735654056072235, 0.25301334261894226, 0.19373592734336853, 0.1734948605298996, 0.12722955644130707, 0.10554270446300507, 0.053494248539209366, 0.0346989706158638, 0.018795276060700417, 0.0173494853079319, 0.00867474265396595, 0.00867474265396595, 0.0028915810398757458, 0.0014457905199378729, 0.8096197843551636, 0.11848094314336777, 0.03949364647269249, 0.7061818838119507, 0.19259504973888397, 0.032099176198244095, 0.04814876243472099, 0.3801265358924866, 0.04751581698656082, 0.2375790774822235, 0.28509488701820374, 0.04751581698656082, 0.3052193224430084, 0.45782896876335144, 0.1526096612215042, 0.9070668816566467, 0.03841342031955719, 0.23048052191734314, 0.6914415955543518, 0.03841342031955719, 0.19767017662525177, 0.19767017662525177, 0.2635602355003357, 0.06589005887508392, 0.19767017662525177, 0.007526707835495472, 0.3236484229564667, 0.6472968459129333, 0.007526707835495472, 0.007526707835495472, 0.9460175037384033, 0.13366064429283142, 0.2910831868648529, 0.06831543892621994, 0.15148206055164337, 0.10098804533481598, 0.0920773297548294, 0.041583310812711716, 0.06237496808171272, 0.020791655406355858, 0.008910709992051125, 0.014851182699203491, 0.011880946345627308, 0.002970236586406827, 0.08998694270849228, 0.11098389327526093, 0.3149542808532715, 0.14397910237312317, 0.21596865355968475, 0.029995646327733994, 0.023996517062187195, 0.011998258531093597, 0.017997387796640396, 0.014997823163866997, 0.008998693898320198, 0.005999129265546799, 0.011998258531093597, 0.13869832456111908, 0.13869832456111908, 0.5547932982444763, 0.13869832456111908, 0.33347317576408386, 0.33347317576408386, 0.16673658788204193, 0.16673658788204193, 0.1085534319281578, 0.4342137277126312, 0.1085534319281578, 0.1085534319281578, 0.2171068638563156, 0.10302208364009857, 0.7211546301841736, 0.051511041820049286, 0.051511041820049286, 0.008640403859317303, 0.48386263847351074, 0.47522222995758057, 0.008640403859317303, 0.008640403859317303, 0.32538700103759766, 0.16269350051879883, 0.32538700103759766, 0.16269350051879883, 0.9321486949920654, 0.08747079968452454, 0.6997663974761963, 0.08747079968452454, 0.19089718163013458, 0.16226260364055634, 0.20044204592704773, 0.19089718163013458, 0.07158644497394562, 0.014317288994789124, 0.04295186698436737, 0.0381794348359108, 0.00477242935448885, 0.057269155979156494, 0.00477242935448885, 0.014317288994789124, 0.00477242935448885, 0.33512744307518005, 0.33512744307518005, 0.16756372153759003, 0.40703052282333374, 0.045225612819194794, 0.45225611329078674, 0.045225612819194794, 0.8106030225753784, 0.1013253778219223, 0.44378581643104553, 0.10442019253969193, 0.06091177836060524, 0.06961346417665482, 0.06091177836060524, 0.03480673208832741, 0.12182355672121048, 0.02610504813492298, 0.06961346417665482, 0.9452669024467468, 0.004566506948322058, 0.004566506948322058, 0.004566506948322058, 0.009133013896644115, 0.009133013896644115, 0.01826602779328823, 0.03726787120103836, 0.07453574240207672, 0.12422624230384827, 0.5465954542160034, 0.1863393634557724, 0.024845248088240623, 0.03128120303153992, 0.828951895236969, 0.01564060151576996, 0.09384360909461975, 0.035267364233732224, 0.9522188305854797, 0.2582329213619232, 0.0161395575851202, 0.193674698472023, 0.08069778978824615, 0.14525602757930756, 0.0322791151702404, 0.0322791151702404, 0.0322791151702404, 0.14525602757930756, 0.04841867461800575, 0.34620800614356995, 0.17310400307178497, 0.17310400307178497, 0.25965601205825806, 0.33226820826530457, 0.22151213884353638, 0.11075606942176819, 0.11075606942176819, 0.16138842701911926, 0.3227768540382385, 0.3227768540382385, 0.9058465361595154, 0.06587974727153778, 0.016469936817884445, 0.3403191566467285, 0.3403191566467285, 0.17015957832336426, 0.19721664488315582, 0.7724318504333496, 0.010956480167806149, 0.005478240083903074, 0.06073607876896858, 0.0063932714983820915, 0.12466879189014435, 0.6169506907463074, 0.16942168772220612, 0.012786542996764183, 0.0031966357491910458, 0.0063932714983820915, 0.9323185682296753, 0.27241817116737366, 0.13861986994743347, 0.2145594358444214, 0.11933362483978271, 0.07593958079814911, 0.08678808808326721, 0.028929362073540688, 0.007232340518385172, 0.014464681036770344, 0.013259291648864746, 0.008437730371952057, 0.014464681036770344, 0.003616170259192586, 0.0012053900863975286, 0.0012053900863975286, 0.06742356717586517, 0.01123726088553667, 0.39330413937568665, 0.2472197413444519, 0.10113535076379776, 0.03371178358793259, 0.03371178358793259, 0.01123726088553667, 0.02247452177107334, 0.02247452177107334, 0.01123726088553667, 0.03371178358793259, 0.1794274002313614, 0.1794274002313614, 0.1794274002313614, 0.3588548004627228, 0.08072085678577423, 0.16144171357154846, 0.16144171357154846, 0.08072085678577423, 0.16144171357154846, 0.08072085678577423, 0.16144171357154846, 0.20806840062141418, 0.41613680124282837, 0.10403420031070709, 0.10403420031070709, 0.10403420031070709, 0.49888691306114197, 0.16629564762115479, 0.16629564762115479, 0.47623422741889954, 0.15874473750591278, 0.31748947501182556, 0.17789915204048157, 0.35579830408096313, 0.35579830408096313, 0.37944212555885315, 0.18972106277942657, 0.18972106277942657, 0.18972106277942657, 0.24196602404117584, 0.12098301202058792, 0.24196602404117584, 0.36294904351234436, 0.1727556437253952, 0.6910225749015808, 0.3666152060031891, 0.3666152060031891, 0.18330760300159454, 0.1847034990787506, 0.1847034990787506, 0.3694069981575012, 0.1847034990787506, 0.1224796250462532, 0.2449592500925064, 0.1224796250462532, 0.1224796250462532, 0.2449592500925064, 0.2496339976787567, 0.2496339976787567, 0.12481699883937836, 0.12481699883937836, 0.12481699883937836, 0.2242816686630249, 0.6728450059890747, 0.11789833754301071, 0.7368645668029785, 0.08842375129461288, 0.029474584385752678, 0.029474584385752678, 0.12809768319129944, 0.011645243503153324, 0.03493573144078255, 0.6987146139144897, 0.058226216584444046, 0.03493573144078255, 0.023290487006306648, 0.011645243503153324, 0.17674346268177032, 0.11782898008823395, 0.06480593979358673, 0.2062007039785385, 0.22387506067752838, 0.017674347385764122, 0.02356579527258873, 0.06480593979358673, 0.02356579527258873, 0.011782897636294365, 0.06480593979358673, 0.17032966017723083, 0.1967601329088211, 0.13508903980255127, 0.11746872961521149, 0.11159529536962509, 0.09397498518228531, 0.06754451990127563, 0.03230390325188637, 0.011746873147785664, 0.011746873147785664, 0.017620310187339783, 0.014683591201901436, 0.005873436573892832, 0.002936718286946416, 0.008810155093669891, 0.9184696078300476, 0.17319530248641968, 0.6927812099456787, 0.04634150490164757, 0.8341470956802368, 0.04634150490164757, 0.09268300980329514, 0.5628792643547058, 0.0104236900806427, 0.0729658305644989, 0.0729658305644989, 0.2188974916934967, 0.0312710702419281, 0.0208473801612854, 0.19471335411071777, 0.19471335411071777, 0.38942670822143555, 0.3679850995540619, 0.147194042801857, 0.2207910716533661, 0.03679851070046425, 0.20239180326461792, 0.018399255350232124, 0.8611515164375305, 0.7465507388114929, 0.10368760675191879, 0.02073752135038376, 0.02073752135038376, 0.02073752135038376, 0.02073752135038376, 0.04147504270076752, 0.061289232224226, 0.9287675619125366, 0.0023572780191898346, 0.4972268342971802, 0.32712289690971375, 0.017446555197238922, 0.008723277598619461, 0.008723277598619461, 0.06542458385229111, 0.043616387993097305, 0.008723277598619461, 0.0043616387993097305, 0.0043616387993097305, 0.0043616387993097305, 0.008723277598619461, 0.12708218395709991, 0.80220627784729, 0.01588527299463749, 0.03574186563491821, 0.007942636497318745, 0.1878131628036499, 0.778083086013794, 0.3610132038593292, 0.04512665048241615, 0.31588655710220337, 0.0902533009648323, 0.04512665048241615, 0.04512665048241615, 0.0902533009648323, 0.21449221670627594, 0.17953093349933624, 0.17291663587093353, 0.17858602106571198, 0.09354506433010101, 0.05858377739787102, 0.041575584560632706, 0.01984289288520813, 0.014173494651913643, 0.006614297162741423, 0.007559197023510933, 0.006614297162741423, 0.0028346988838166, 0.0018897992558777332, 0.0018897992558777332, 0.045946154743433, 0.02722734957933426, 0.3743760585784912, 0.20420512557029724, 0.21441538631916046, 0.04254273325204849, 0.011911965906620026, 0.0034034186974167824, 0.05445469915866852, 0.01361367478966713, 0.0034034186974167824, 0.0017017093487083912, 0.38857945799827576, 0.10264363139867783, 0.05132181569933891, 0.10997531563043594, 0.0439901277422905, 0.23461401462554932, 0.014663375914096832, 0.02199506387114525, 0.007331687957048416, 0.014663375914096832, 0.007331687957048416, 0.1358647495508194, 0.1358647495508194, 0.2717294991016388, 0.1358647495508194, 0.2717294991016388, 0.8155083656311035, 0.11650119721889496, 0.905144214630127, 0.1614025980234146, 0.3228051960468292, 0.48420777916908264, 0.09882456064224243, 0.07058896869421005, 0.3247092664241791, 0.16235463321208954, 0.12000124901533127, 0.049412280321121216, 0.02823558822274208, 0.08470676094293594, 0.021176690235733986, 0.021176690235733986, 0.021176690235733986, 0.00705889705568552, 0.09584253281354904, 0.8625827431678772, 0.4938521087169647, 0.3527514934539795, 0.14110060036182404, 0.8916119933128357, 0.9174094796180725, 0.1614760160446167, 0.1614760160446167, 0.1614760160446167, 0.3229520320892334, 0.974189817905426, 0.31549519300460815, 0.47324275970458984, 0.15774759650230408, 0.031034138053655624, 0.4034437835216522, 0.46551206707954407, 0.06206827610731125, 0.031034138053655624, 0.20419242978096008, 0.6514710783958435, 0.009723449125885963, 0.009723449125885963, 0.02917034737765789, 0.038893796503543854, 0.019446898251771927, 0.019446898251771927, 0.009723449125885963, 0.009723449125885963, 0.40294739603996277, 0.20147369801998138, 0.20147369801998138, 0.20147369801998138, 0.6571308374404907, 0.16428270936012268, 0.03660561889410019, 0.8785348534584045, 0.07321123778820038, 0.32872331142425537, 0.16436165571212769, 0.32872331142425537, 0.8951998353004456, 0.6113189458847046, 0.14943352341651917, 0.13584865629673004, 0.04075459763407707, 0.02716973051428795, 0.2406166046857834, 0.1203083023428917, 0.1203083023428917, 0.3609248995780945, 0.9323436617851257, 0.5563268065452576, 0.1390817016363144, 0.2781634032726288, 0.13879655301570892, 0.2081948220729828, 0.4163896441459656, 0.06939827650785446, 0.13879655301570892, 0.5227441191673279, 0.04545601084828377, 0.22728005051612854, 0.09091202169656754, 0.022728005424141884, 0.04545601084828377, 0.14145217835903168, 0.42435652017593384, 0.14145217835903168, 0.14145217835903168, 0.14145217835903168, 0.14024099707603455, 0.14024099707603455, 0.14024099707603455, 0.42072299122810364, 0.14024099707603455, 0.39783236384391785, 0.19891618192195892, 0.19891618192195892, 0.19891618192195892, 0.36032265424728394, 0.36032265424728394, 0.12010754644870758, 0.12010754644870758, 0.12010754644870758, 0.18716783821582794, 0.561503529548645, 0.08087407052516937, 0.7076480984687805, 0.1819666624069214, 0.020218517631292343, 0.15021942555904388, 0.45065829157829285, 0.30043885111808777, 0.8927427530288696, 0.020761458203196526, 0.062284376472234726, 0.3853987157344818, 0.27927443385124207, 0.09309148043394089, 0.07447318732738495, 0.03537476435303688, 0.042822081595659256, 0.04468391090631485, 0.009309148415923119, 0.013032807037234306, 0.0018618296599015594, 0.005585488863289356, 0.007447318639606237, 0.005585488863289356, 0.0018618296599015594, 0.1553328037261963, 0.12046217173337936, 0.3170057237148285, 0.14582262933254242, 0.10144183039665222, 0.06974125653505325, 0.025360457599163055, 0.012680228799581528, 0.012680228799581528, 0.009510171599686146, 0.012680228799581528, 0.009510171599686146, 0.003170057199895382, 0.006340114399790764, 0.021297521889209747, 0.7752297520637512, 0.008519008755683899, 0.08944959193468094, 0.05537355691194534, 0.029816530644893646, 0.017038017511367798, 0.1401781141757965, 0.35044530034065247, 0.280356228351593, 0.07008905708789825, 0.1401781141757965, 0.14258146286010742, 0.20261575281620026, 0.2101200520992279, 0.11256431043148041, 0.1951114684343338, 0.015008574351668358, 0.015008574351668358, 0.030017148703336716, 0.007504287175834179, 0.015008574351668358, 0.007504287175834179, 0.03752143681049347, 0.007504287175834179, 0.09427579492330551, 0.0062850527465343475, 0.40224337577819824, 0.4368111789226532, 0.012570105493068695, 0.009427579119801521, 0.0062850527465343475, 0.018855158239603043, 0.0031425263732671738, 0.009427579119801521, 0.8544870615005493, 0.5140368938446045, 0.05140369385480881, 0.15421107411384583, 0.05140369385480881, 0.05140369385480881, 0.10280738770961761, 0.10280738770961761, 0.0014382353983819485, 0.0014382353983819485, 0.16108237206935883, 0.8169177174568176, 0.01438235491514206, 0.0014382353983819485, 0.2990753650665283, 0.06646119058132172, 0.18276827037334442, 0.3489212393760681, 0.04984589293599129, 0.03323059529066086, 0.004560862667858601, 0.0015202874783426523, 0.0015202874783426523, 0.18395479023456573, 0.7981509566307068, 0.0015202874783426523, 0.0015202874783426523, 0.006081149913370609, 0.0015202874783426523, 0.04209592193365097, 0.37886330485343933, 0.4209592342376709, 0.04209592193365097, 0.04209592193365097, 0.08419184386730194, 0.0026996207889169455, 0.8800764083862305, 0.005399241577833891, 0.0026996207889169455, 0.0026996207889169455, 0.05669203773140907, 0.048593174666166306, 0.7515866756439209, 0.18789666891098022, 0.018802238628268242, 0.7332873344421387, 0.018802238628268242, 0.2068246304988861, 0.009401119314134121, 0.5351868271827698, 0.40139010548591614, 0.0011950716143473983, 0.9154248237609863, 0.007170429453253746, 0.0023901432286947966, 0.0011950716143473983, 0.0011950716143473983, 0.043022576719522476, 0.025096504017710686, 0.0011950716143473983, 0.07680243998765945, 0.844826877117157, 0.1418629139661789, 0.4255887567996979, 0.1418629139661789, 0.1418629139661789, 0.5713732242584229, 0.19045774638652802, 0.4286959171295166, 0.49728724360466003, 0.04286959022283554, 0.008573918603360653, 0.008573918603360653, 0.33868151903152466, 0.13708537817001343, 0.04031922668218613, 0.05644691735506058, 0.04031922668218613, 0.1612769067287445, 0.024191536009311676, 0.01612769067287445, 0.11289383471012115, 0.008063845336437225, 0.0645107626914978, 0.008063845336437225, 0.008063845336437225, 0.16114583611488342, 0.5013425946235657, 0.017905093729496002, 0.0044762734323740005, 0.05371528118848801, 0.013428820297122002, 0.08504919707775116, 0.13428820669651031, 0.008952546864748001, 0.0044762734323740005, 0.008952546864748001, 0.3937276601791382, 0.1968638300895691, 0.1968638300895691, 0.1968638300895691, 0.3264169692993164, 0.1632084846496582, 0.3264169692993164, 0.1632084846496582, 0.4548957645893097, 0.22744788229465485, 0.11372394114732742, 0.11372394114732742, 0.3880186378955841, 0.19400931894779205, 0.19400931894779205, 0.19400931894779205, 0.8617174625396729, 0.8407843112945557, 0.9247854351997375, 0.028023801743984222, 0.028023801743984222, 0.8619354963302612, 0.06630273163318634, 0.8611469864845276, 0.8947018384933472, 0.21770504117012024, 0.10885252058506012, 0.10885252058506012, 0.4354100823402405, 0.9267452955245972, 0.9741459488868713, 0.038117263466119766, 0.6003469228744507, 0.009529315866529942, 0.2572915256023407, 0.009529315866529942, 0.0285879485309124, 0.0571758970618248, 0.05704493820667267, 0.342269629240036, 0.07130617648363113, 0.14261235296726227, 0.014261234551668167, 0.028522469103336334, 0.05704493820667267, 0.19965729117393494, 0.05704493820667267, 0.014261234551668167, 0.028522469103336334, 0.054643262177705765, 0.018214421346783638, 0.018214421346783638, 0.3096451461315155, 0.3096451461315155, 0.07285768538713455, 0.036428842693567276, 0.1639297902584076, 0.018214421346783638, 0.9538342952728271, 0.025779305025935173, 0.08609580248594284, 0.41817960143089294, 0.4058802127838135, 0.03689819946885109, 0.03689819946885109, 0.4629492461681366, 0.4629492461681366, 0.15636134147644043, 0.31272268295288086, 0.4690840542316437, 0.1257348358631134, 0.3772045075893402, 0.3772045075893402, 0.19587762653827667, 0.222681924700737, 0.15257835388183594, 0.14433087408542633, 0.1154647022485733, 0.05360861122608185, 0.016494957730174065, 0.012371217831969261, 0.026804305613040924, 0.026804305613040924, 0.016494957730174065, 0.008247478865087032, 0.006185608915984631, 0.002061869716271758, 0.13411813974380493, 0.04470604658126831, 0.14902015030384064, 0.5513745546340942, 0.059608060866594315, 0.029804030433297157, 0.014902015216648579, 0.18661576509475708, 0.18661576509475708, 0.37323153018951416, 0.18661576509475708, 0.31690165400505066, 0.06338033080101013, 0.10140853375196457, 0.08873246610164642, 0.025352133437991142, 0.31690165400505066, 0.025352133437991142, 0.025352133437991142, 0.012676066718995571, 0.03802819922566414, 0.5658643841743469, 0.18862146139144897, 0.18862146139144897, 0.18449871242046356, 0.050317831337451935, 0.14256718754768372, 0.21804392337799072, 0.3019069731235504, 0.06709043681621552, 0.01677260920405388, 0.01677260920405388, 0.07803993672132492, 0.23411980271339417, 0.3901996612548828, 0.07803993672132492, 0.07803993672132492, 0.2155945897102356, 0.5389865040779114, 0.2155945897102356, 0.15673603117465973, 0.31347206234931946, 0.15673603117465973, 0.31347206234931946, 0.4758402407169342, 0.28550413250923157, 0.19033609330654144, 0.10106641799211502, 0.10106641799211502, 0.30319926142692566, 0.4042656719684601, 0.10106641799211502, 0.8760791420936584, 0.31277960538864136, 0.15638980269432068, 0.46916940808296204, 0.3255078196525574, 0.39060938358306885, 0.055085938423871994, 0.060093749314546585, 0.017527343705296516, 0.07010937482118607, 0.015023437328636646, 0.03255078196525574, 0.015023437328636646, 0.005007812287658453, 0.007511718664318323, 0.0025039061438292265, 0.005007812287658453, 0.0025039061438292265, 0.37263432145118713, 0.37263432145118713, 0.18631716072559357, 0.3223753571510315, 0.2754274904727936, 0.0688568726181984, 0.10485024005174637, 0.046947866678237915, 0.07198672741651535, 0.03286350890994072, 0.03286350890994072, 0.012519431300461292, 0.007824644446372986, 0.009389573708176613, 0.007824644446372986, 0.003129857825115323, 0.9162183403968811, 0.009851810522377491, 0.039407242089509964, 0.019703621044754982, 0.43418794870376587, 0.26211345195770264, 0.060025982558727264, 0.0700303167104721, 0.020008660852909088, 0.06602858006954193, 0.022009527310729027, 0.03201385587453842, 0.010004330426454544, 0.0020008659921586514, 0.004001731984317303, 0.008003463968634605, 0.0020008659921586514, 0.004001731984317303, 0.004001731984317303, 0.309691458940506, 0.5447251796722412, 0.0027651023119688034, 0.00829530693590641, 0.005530204623937607, 0.0027651023119688034, 0.005530204623937607, 0.08018796890974045, 0.022120818495750427, 0.0027651023119688034, 0.011060409247875214, 0.07276508212089539, 0.023388775065541267, 0.15332642197608948, 0.3326403796672821, 0.31185033917427063, 0.025987528264522552, 0.015592517331242561, 0.007796258665621281, 0.007796258665621281, 0.015592517331242561, 0.007796258665621281, 0.025987528264522552, 0.0025987529661506414, 0.02347065880894661, 0.6689137816429138, 0.09388263523578644, 0.2112359255552292, 0.28503841161727905, 0.13388167321681976, 0.12308476865291595, 0.18138808012008667, 0.0885346531867981, 0.07773774862289429, 0.053984545171260834, 0.010796909220516682, 0.012956291437149048, 0.008637527003884315, 0.012956291437149048, 0.004318763501942158, 0.004318763501942158, 0.002159381750971079, 0.002159381750971079, 0.3121378719806671, 0.4369930326938629, 0.0312137883156538, 0.0312137883156538, 0.0312137883156538, 0.1248551532626152, 0.09867691993713379, 0.039470769464969635, 0.3276073634624481, 0.11446522921323776, 0.22893045842647552, 0.06907384097576141, 0.025655999779701233, 0.01184123009443283, 0.017761845141649246, 0.01184123009443283, 0.025655999779701233, 0.019735384732484818, 0.001973538426682353, 0.005920615047216415, 0.16571232676506042, 0.16571232676506042, 0.16571232676506042, 0.33142465353012085, 0.46482184529304504, 0.17043468356132507, 0.03873515501618385, 0.054229214787483215, 0.03873515501618385, 0.030988123267889023, 0.030988123267889023, 0.11620546132326126, 0.015494061633944511, 0.007747030816972256, 0.015494061633944511, 0.007747030816972256, 0.3094247579574585, 0.15471237897872925, 0.46413713693618774, 0.18451741337776184, 0.13464783132076263, 0.23189349472522736, 0.18451741337776184, 0.05735000595450401, 0.11719349026679993, 0.022441307082772255, 0.019947828724980354, 0.009973914362490177, 0.012467392720282078, 0.009973914362490177, 0.004986957181245089, 0.0024934785906225443, 0.0024934785906225443, 0.0024934785906225443, 0.06773825734853745, 0.09639675170183182, 0.23708391189575195, 0.28919026255607605, 0.1458977907896042, 0.0833701640367508, 0.013026588596403599, 0.023447858169674873, 0.013026588596403599, 0.013026588596403599, 0.007815953344106674, 0.005210635252296925, 0.0026053176261484623, 0.2787376046180725, 0.557475209236145, 0.13936880230903625, 0.205989271402359, 0.1686723679304123, 0.1552382856607437, 0.24778419733047485, 0.06418506056070328, 0.07164844125509262, 0.031346194446086884, 0.02239013835787773, 0.004478027578443289, 0.0029853517189621925, 0.01194140687584877, 0.01194140687584877, 0.0014926758594810963, 0.0014926758594810963, 0.645600438117981, 0.24594302475452423, 0.09222863614559174, 0.5577688217163086, 0.18592293560504913, 0.8305231332778931, 0.09228035062551498, 0.8632517457008362, 0.07847743481397629, 0.20126625895500183, 0.40253251791000366, 0.20126625895500183, 0.20126625895500183, 0.31179341673851013, 0.13362574577331543, 0.26725149154663086, 0.04454191401600838, 0.13362574577331543, 0.04454191401600838, 0.05336340144276619, 0.9071778059005737, 0.1882994920015335, 0.5648984313011169, 0.37130552530288696, 0.18565276265144348, 0.37130552530288696, 0.90522700548172, 0.06034846976399422, 0.3211643099784851, 0.6423286199569702, 0.0247049480676651, 0.11280524730682373, 0.09024419635534286, 0.24817153811454773, 0.1692078709602356, 0.19176891446113586, 0.056402623653411865, 0.067683145403862, 0.022561049088835716, 0.022561049088835716, 0.022561049088835716, 0.1529926359653473, 0.035305991768836975, 0.18829862773418427, 0.18241429328918457, 0.23537327349185944, 0.07061198353767395, 0.005884332116693258, 0.005884332116693258, 0.005884332116693258, 0.011768664233386517, 0.023537328466773033, 0.05884331837296486, 0.005884332116693258, 0.005884332116693258, 0.005884332116693258, 0.18258273601531982, 0.5477482080459595, 0.18258273601531982, 0.820428729057312, 0.040020912885665894, 0.12006273865699768, 0.2758800685405731, 0.13794003427028656, 0.5517601370811462, 0.07468848675489426, 0.0653524249792099, 0.1307048499584198, 0.177385151386261, 0.5041472911834717, 0.02800818160176277, 0.009336060844361782, 0.2701694071292877, 0.18011294305324554, 0.09005647152662277, 0.18011294305324554, 0.22514116764068604, 0.012815827503800392, 0.025631655007600784, 0.8501166105270386, 0.008543885312974453, 0.0042719426564872265, 0.059807196259498596, 0.008543885312974453, 0.017087770625948906, 0.0042719426564872265, 0.3442060649394989, 0.35058024525642395, 0.06374186277389526, 0.0828644260764122, 0.06374186277389526, 0.07011605054140091, 0.006374186370521784, 0.006374186370521784, 0.052304066717624664, 0.09323768317699432, 0.35248392820358276, 0.15918628871440887, 0.2410535216331482, 0.0477558858692646, 0.004548179917037487, 0.006822269409894943, 0.004548179917037487, 0.02046680822968483, 0.013644538819789886, 0.0022740899585187435, 0.883388876914978, 0.06795299053192139, 0.2770706117153168, 0.2770706117153168, 0.1385353058576584, 0.1385353058576584, 0.1385353058576584, 0.36113518476486206, 0.12037839740514755, 0.2407567948102951, 0.12037839740514755, 0.1708243489265442, 0.5124730467796326, 0.3416486978530884, 0.7584130167961121, 0.19452637434005737, 0.4634304940700531, 0.022885456681251526, 0.12014864385128021, 0.0057213641703128815, 0.07437773048877716, 0.06865637004375458, 0.0057213641703128815, 0.0057213641703128815, 0.022885456681251526, 0.011442728340625763, 0.3597271144390106, 0.6063971519470215, 0.020555835217237473, 0.8967499136924744, 0.04598717391490936, 0.02299358695745468, 0.3909507393836975, 0.09773768484592438, 0.09773768484592438, 0.19547536969184875, 0.19547536969184875, 0.5308405756950378, 0.08561944216489792, 0.10274333506822586, 0.18836277723312378, 0.017123889178037643, 0.017123889178037643, 0.05137166753411293, 0.34642764925956726, 0.14434485137462616, 0.21651728451251984, 0.10104139894247055, 0.07217242568731308, 0.01443448569625616, 0.01443448569625616, 0.01443448569625616, 0.01443448569625616, 0.01443448569625616, 0.02886897139251232, 0.009218250401318073, 0.5807498097419739, 0.12905551493167877, 0.26732927560806274, 0.16004449129104614, 0.13588683307170868, 0.2204386293888092, 0.19628097116947174, 0.12380799651145935, 0.06039414554834366, 0.03925619274377823, 0.012078829109668732, 0.012078829109668732, 0.006039414554834366, 0.018118243664503098, 0.006039414554834366, 0.006039414554834366, 0.4813072383403778, 0.1604357361793518, 0.1604357361793518, 0.28137993812561035, 0.1494830995798111, 0.035172492265701294, 0.05275873839855194, 0.008793123066425323, 0.38689741492271423, 0.02198280766606331, 0.013189684599637985, 0.013189684599637985, 0.030775930732488632, 0.004396561533212662, 0.8841418623924255, 0.01733611524105072, 0.01733611524105072, 0.05200834199786186, 0.1659369319677353, 0.15334351360797882, 0.23927514255046844, 0.1548250913619995, 0.11334085464477539, 0.07111582905054092, 0.02666843682527542, 0.01481579802930355, 0.01185263879597187, 0.01407500822097063, 0.0222236979752779, 0.008148688822984695, 0.002222369657829404, 0.0007407899247482419, 0.002222369657829404, 0.10113979876041412, 0.809118390083313, 0.10113979876041412, 0.06450074911117554, 0.12900149822235107, 0.12900149822235107, 0.12900149822235107, 0.06450074911117554, 0.3225037455558777, 0.12900149822235107, 0.06232687085866928, 0.5787494778633118, 0.004451919347047806, 0.320538192987442, 0.017807677388191223, 0.004451919347047806, 0.004451919347047806, 0.004451919347047806, 0.8949022889137268, 0.07457518577575684, 0.5972323417663574, 0.05972323566675186, 0.23889294266700745, 0.05972323566675186, 0.12736518681049347, 0.10067915171384811, 0.3178064823150635, 0.16375525295734406, 0.15041223168373108, 0.054585084319114685, 0.026686040684580803, 0.008491013199090958, 0.007278011180460453, 0.014556022360920906, 0.018195027485489845, 0.007278011180460453, 0.002426003571599722, 0.001213001785799861, 0.06837914139032364, 0.13675828278064728, 0.20513741672039032, 0.20513741672039032, 0.13675828278064728, 0.20513741672039032, 0.9218840599060059, 0.19359458982944489, 0.5807837843894958, 0.19359458982944489, 0.1356499344110489, 0.35268986225128174, 0.08138996362686157, 0.027129989117383957, 0.08138996362686157, 0.2984298765659332, 0.11039960384368896, 0.22079920768737793, 0.44159841537475586, 0.11039960384368896, 0.1994338035583496, 0.6980183124542236, 0.8758786916732788, 0.5298170447349548, 0.23841767013072968, 0.07947255671024323, 0.047683533281087875, 0.005298170261085033, 0.021192681044340134, 0.021192681044340134, 0.02649085223674774, 0.005298170261085033, 0.010596340522170067, 0.005298170261085033, 0.24584585428237915, 0.2238045036792755, 0.17972178757190704, 0.10512029379606247, 0.09664285182952881, 0.052560146898031235, 0.03390977159142494, 0.01186842005699873, 0.010172931477427483, 0.008477442897856236, 0.010172931477427483, 0.013563908636569977, 0.003390977159142494, 0.005086465738713741, 0.7390635013580322, 0.06928720325231552, 0.011547867208719254, 0.04041753709316254, 0.011547867208719254, 0.028869668021798134, 0.046191468834877014, 0.005773933604359627, 0.005773933604359627, 0.011547867208719254, 0.028869668021798134, 0.2799554169178009, 0.3382120132446289, 0.07443901151418686, 0.08576668798923492, 0.01941887103021145, 0.11651322990655899, 0.0388377420604229, 0.012945914641022682, 0.016182392835617065, 0.006472957320511341, 0.004854717757552862, 0.0032364786602556705, 0.0016182393301278353, 0.0032364786602556705, 0.37761539220809937, 0.22136074304580688, 0.11285057663917542, 0.047744471579790115, 0.02604244090616703, 0.09114854037761688, 0.05208488181233406, 0.030382847413420677, 0.004340406507253647, 0.004340406507253647, 0.004340406507253647, 0.008680813014507294, 0.013021220453083515, 0.008680813014507294, 0.7373111844062805, 0.14746223390102386, 0.08714614063501358, 0.784315288066864, 0.08714614063501358, 0.8745529651641846, 0.048586275428533554, 0.024293137714266777, 0.024293137714266777, 0.6483830213546753, 0.16209575533866882, 0.3228154480457306, 0.1614077240228653, 0.3228154480457306, 0.15651202201843262, 0.31302404403686523, 0.15651202201843262, 0.31302404403686523, 0.009802496992051601, 0.001960499444976449, 0.893987774848938, 0.031367991119623184, 0.005881498567759991, 0.001960499444976449, 0.027446992695331573, 0.023525994271039963, 0.8926618695259094, 0.00646856427192688, 0.00646856427192688, 0.01940569281578064, 0.07115420699119568, 0.15230368077754974, 0.1597331315279007, 0.2656027674674988, 0.12072852998971939, 0.14673160016536713, 0.0482914112508297, 0.02228834480047226, 0.04457668960094452, 0.009286809712648392, 0.005572086200118065, 0.009286809712648392, 0.007429447956383228, 0.001857361989095807, 0.003714723978191614, 0.9220772385597229, 0.3578176200389862, 0.22547411918640137, 0.09803222864866257, 0.10538464784622192, 0.05391772463917732, 0.05391772463917732, 0.03676208481192589, 0.022057252004742622, 0.009803222492337227, 0.009803222492337227, 0.0049016112461686134, 0.009803222492337227, 0.009803222492337227, 0.0024508056230843067, 0.0024508056230843067, 0.34009549021720886, 0.08502387255430222, 0.17004774510860443, 0.08502387255430222, 0.25507161021232605, 0.8716264963150024, 0.31179144978523254, 0.14550268650054932, 0.1902727335691452, 0.12631551921367645, 0.10872727632522583, 0.03677540272474289, 0.030379680916666985, 0.01119251362979412, 0.007994652725756168, 0.014390375465154648, 0.006395722273737192, 0.003197861136868596, 0.003197861136868596, 0.001598930568434298, 0.001598930568434298, 0.20456592738628387, 0.20609253644943237, 0.10533618927001953, 0.21372559666633606, 0.03663867339491844, 0.14808130264282227, 0.0305322278290987, 0.022899171337485313, 0.013739502988755703, 0.00305322278290987, 0.004579834174364805, 0.00610644556581974, 0.001526611391454935, 0.00305322278290987, 0.001526611391454935, 0.8043561577796936, 0.015771688893437386, 0.15771690011024475, 0.015771688893437386, 0.35918647050857544, 0.0798192173242569, 0.11972881853580475, 0.35918647050857544, 0.059864409267902374, 0.16543617844581604, 0.6617447137832642, 0.03308723494410515, 0.09926170855760574, 0.11765344440937042, 0.8471048474311829, 0.023530689999461174, 0.8195233345031738, 0.01672496646642685, 0.01672496646642685, 0.008362483233213425, 0.09198731184005737, 0.0334499329328537, 0.0684916153550148, 0.0684916153550148, 0.1369832307100296, 0.1369832307100296, 0.0456610806286335, 0.4566107988357544, 0.0684916153550148, 0.02283054031431675, 0.0917554721236229, 0.13763320446014404, 0.2752664089202881, 0.1835109442472458, 0.13763320446014404, 0.04587773606181145, 0.04587773606181145, 0.9047495722770691, 0.1879814714193344, 0.12734228372573853, 0.23447151482105255, 0.17787493765354156, 0.08287355303764343, 0.09904400259256363, 0.008085224777460098, 0.022234367206692696, 0.022234367206692696, 0.018191754817962646, 0.014149142429232597, 0.004042612388730049, 0.7504525780677795, 0.1500905156135559, 0.27754777669906616, 0.13014201819896698, 0.10358242690563202, 0.24434828758239746, 0.09694252908229828, 0.035855453461408615, 0.030543535947799683, 0.017263736575841904, 0.01991969719529152, 0.006639899220317602, 0.01859171688556671, 0.009295858442783356, 0.005311919376254082, 0.002655959688127041, 0.31826063990592957, 0.31826063990592957, 0.15913031995296478, 0.15913031995296478, 0.3470735549926758, 0.007230699528008699, 0.08676838874816895, 0.007230699528008699, 0.20245957374572754, 0.2530744671821594, 0.057845596224069595, 0.028922798112034798, 0.026697831228375435, 0.934424102306366, 0.09716568142175674, 0.43724557757377625, 0.36437129974365234, 0.024291420355439186, 0.07287426292896271, 0.709295392036438, 0.1773238480091095, 0.2720215916633606, 0.09067385643720627, 0.09067385643720627, 0.18134771287441254, 0.09067385643720627, 0.09067385643720627, 0.18134771287441254, 0.0822438895702362, 0.45234137773513794, 0.1644877791404724, 0.02056097239255905, 0.061682913452386856, 0.0411219447851181, 0.02056097239255905, 0.0822438895702362, 0.0411219447851181, 0.0411219447851181, 0.14401499927043915, 0.7200750112533569, 0.04800499975681305, 0.04800499975681305, 0.102707639336586, 0.2567690908908844, 0.564892053604126, 0.051353819668293, 0.36751458048820496, 0.551271915435791, 0.1851346790790558, 0.3702693581581116, 0.1851346790790558, 0.1851346790790558, 0.9592337608337402, 0.022307762876152992, 0.011153881438076496, 0.22515037655830383, 0.03216433897614479, 0.03216433897614479, 0.45030075311660767, 0.08041084557771683, 0.03216433897614479, 0.016082169488072395, 0.03216433897614479, 0.11257518827915192, 0.10444626957178116, 0.7311238646507263, 0.10444626957178116, 0.594862163066864, 0.19828738272190094, 0.19828738272190094, 0.10662894695997238, 0.2488008737564087, 0.10662894695997238, 0.07108596712350845, 0.10662894695997238, 0.31988683342933655, 0.03554298356175423, 0.32883375883102417, 0.32883375883102417, 0.16441687941551208, 0.16441687941551208, 0.16571414470672607, 0.4971424341201782, 0.33142828941345215, 0.8221151232719421, 0.10276439040899277, 0.30728501081466675, 0.26338714361190796, 0.17559142410755157, 0.13169357180595398, 0.043897856026887894, 0.043897856026887894, 0.1950221210718155, 0.5850663781166077, 0.1950221210718155, 0.9184554219245911, 0.05925518646836281, 0.17780834436416626, 0.08890417218208313, 0.711233377456665, 0.19642601907253265, 0.004293464589864016, 0.23292046785354614, 0.035421084612607956, 0.31664302945137024, 0.1373908668756485, 0.011807028204202652, 0.004293464589864016, 0.04293464869260788, 0.017173858359456062, 0.6049363613128662, 0.20164544880390167, 0.15123409032821655, 0.8796006441116333, 0.07212863862514496, 0.5770291090011597, 0.3029402792453766, 0.014425727538764477, 0.014425727538764477, 0.9015846252441406, 0.06811562925577164, 0.9195610284805298, 0.004257226828485727, 0.23929816484451294, 0.2042011022567749, 0.1818666011095047, 0.21217770874500275, 0.004785963334143162, 0.07817073166370392, 0.014357890002429485, 0.01595321111381054, 0.01754853129386902, 0.009571926668286324, 0.004785963334143162, 0.01595321111381054, 0.5417517423629761, 0.3611678183078766, 0.0830329954624176, 0.8303298950195312, 0.20623035728931427, 0.20623035728931427, 0.41246071457862854, 0.27584904432296753, 0.045974839478731155, 0.6436477303504944, 0.9275713562965393, 0.23361046612262726, 0.27175095677375793, 0.0953512117266655, 0.1859348714351654, 0.03814048692584038, 0.033372923731803894, 0.04290804639458656, 0.05721072852611542, 0.01907024346292019, 0.009535121731460094, 0.1099027544260025, 0.15630614757537842, 0.2002672404050827, 0.24422834813594818, 0.11478732526302338, 0.07815307378768921, 0.03419196978211403, 0.014653700403869152, 0.017095984891057014, 0.0048845671117305756, 0.012211417779326439, 0.0024422835558652878, 0.0024422835558652878, 0.0048845671117305756, 0.42100998759269714, 0.14033666253089905, 0.2806733250617981, 0.5225423574447632, 0.18811523914337158, 0.06270507723093033, 0.020901693031191826, 0.06270507723093033, 0.020901693031191826, 0.04180338606238365, 0.0836067721247673, 0.2522713541984558, 0.2522713541984558, 0.1261356770992279, 0.2522713541984558, 0.18631970882415771, 0.2831328809261322, 0.1552664190530777, 0.15343976020812988, 0.05845324322581291, 0.047493260353803635, 0.06393323093652725, 0.003653327701613307, 0.023746630176901817, 0.005479991436004639, 0.00913331937044859, 0.005479991436004639, 0.0018266638508066535, 0.002633416559547186, 0.9453965425491333, 0.005266833119094372, 0.002633416559547186, 0.002633416559547186, 0.026334166526794434, 0.007900250144302845, 0.559141993522644, 0.279570996761322, 0.1307440996170044, 0.1529984176158905, 0.25175195932388306, 0.13769857585430145, 0.15786655247211456, 0.0938853919506073, 0.027817893773317337, 0.006954473443329334, 0.007649920880794525, 0.015995290130376816, 0.007649920880794525, 0.003477236721664667, 0.00139089475851506, 0.00139089475851506, 0.002086342079564929, 0.06831515580415726, 0.4879654049873352, 0.06831515580415726, 0.009759308770298958, 0.05855584889650345, 0.2537420094013214, 0.019518617540597916, 0.019518617540597916, 0.1633276492357254, 0.3448028266429901, 0.10888510197401047, 0.01814751699566841, 0.054442550987005234, 0.054442550987005234, 0.01814751699566841, 0.19962269067764282, 0.01814751699566841, 0.19070914387702942, 0.08581911027431488, 0.10965775698423386, 0.29083144664764404, 0.23997566103935242, 0.03337410092353821, 0.015892427414655685, 0.003178485669195652, 0.003178485669195652, 0.004767728503793478, 0.006356971338391304, 0.006356971338391304, 0.003178485669195652, 0.004767728503793478, 0.001589242834597826, 0.8808156251907349, 0.324032723903656, 0.162016361951828, 0.13771390914916992, 0.04860490933060646, 0.14581473171710968, 0.03240327164530754, 0.07290736585855484, 0.008100817911326885, 0.02430245466530323, 0.01620163582265377, 0.008100817911326885, 0.03240327164530754, 0.11143770068883896, 0.44575080275535583, 0.022287540137767792, 0.2897380292415619, 0.13372524082660675, 0.022287540137767792, 0.8583351373672485, 0.037318918853998184, 0.07463783770799637, 0.037318918853998184, 0.28379714488983154, 0.5675942897796631, 0.14189857244491577, 0.23910681903362274, 0.17608642578125, 0.09823768585920334, 0.25022807717323303, 0.059313319623470306, 0.09267706423997879, 0.033363744616508484, 0.009267706423997879, 0.014828329905867577, 0.01112124789506197, 0.007414164952933788, 0.007414164952933788, 0.001853541238233447, 0.22911158204078674, 0.22911158204078674, 0.4582231640815735, 0.48330527544021606, 0.16110175848007202, 0.16110175848007202, 0.15954916179180145, 0.15954916179180145, 0.15954916179180145, 0.15954916179180145, 0.3190983235836029, 0.33033105731010437, 0.578079342842102, 0.027527587488293648, 0.027527587488293648, 0.11595176160335541, 0.6522286534309387, 0.014493970200419426, 0.057975880801677704, 0.014493970200419426, 0.028987940400838852, 0.07246985286474228, 0.028987940400838852, 0.014493970200419426, 0.014493970200419426, 0.2633346915245056, 0.1640445590019226, 0.15325215458869934, 0.11224101483821869, 0.12087494134902954, 0.07986380159854889, 0.028060253709554672, 0.008633923716843128, 0.01942632906138897, 0.030218735337257385, 0.01295088604092598, 0.004316961858421564, 0.05334896594285965, 0.07422465085983276, 0.2319520264863968, 0.3084962069988251, 0.1646859347820282, 0.1252540946006775, 0.009278081357479095, 0.006958561018109322, 0.009278081357479095, 0.002319520339369774, 0.006958561018109322, 0.002319520339369774, 0.002319520339369774, 0.3292959928512573, 0.16464799642562866, 0.16464799642562866, 0.16464799642562866, 0.16464799642562866, 0.06735464930534363, 0.8756104111671448, 0.39966967701911926, 0.19983483850955963, 0.19983483850955963, 0.2049310952425003, 0.1877100020647049, 0.09643816202878952, 0.11365926265716553, 0.07749494910240173, 0.21698586642742157, 0.02755376137793064, 0.02066531963646412, 0.00688844034448266, 0.008610550314188004, 0.015498990193009377, 0.018943211063742638, 0.001722110086120665, 0.001722110086120665, 0.38428229093551636, 0.3423018753528595, 0.035521894693374634, 0.04198041930794716, 0.03875115513801575, 0.08719009906053543, 0.019375577569007874, 0.012917052023112774, 0.01614631526172161, 0.0032292630057781935, 0.009687788784503937, 0.0032292630057781935, 0.779417872428894, 0.1558835655450821, 0.35272109508514404, 0.19266916811466217, 0.1297103464603424, 0.047788020223379135, 0.04930509999394417, 0.0879906415939331, 0.05309779942035675, 0.026548899710178375, 0.01289517991244793, 0.017446421086788177, 0.016687879338860512, 0.007585400249809027, 0.00530978012830019, 0.0007585400016978383, 0.16161665320396423, 0.08080832660198212, 0.26936110854148865, 0.05387222021818161, 0.05387222021818161, 0.05387222021818161, 0.026936110109090805, 0.026936110109090805, 0.18855276703834534, 0.05387222021818161, 0.026936110109090805, 0.04519171267747879, 0.31634199619293213, 0.04519171267747879, 0.13557514548301697, 0.13557514548301697, 0.13557514548301697, 0.04519171267747879, 0.04519171267747879, 0.09038342535495758, 0.2097814977169037, 0.23899896442890167, 0.17939531803131104, 0.1116107627749443, 0.07771848887205124, 0.055513206869363785, 0.0426575168967247, 0.01869918592274189, 0.01869918592274189, 0.021036583930253983, 0.012855689972639084, 0.008180893957614899, 0.0023373982403427362, 0.001753048738464713, 0.001753048738464713, 0.24676941335201263, 0.08542018383741379, 0.07592905312776566, 0.10914801061153412, 0.09965687990188599, 0.2230415791273117, 0.052201222628355026, 0.009491131640970707, 0.04745565727353096, 0.018982263281941414, 0.014236696995794773, 0.0047455658204853535, 0.0047455658204853535, 0.014236696995794773, 0.010075640864670277, 0.17128589749336243, 0.7858999967575073, 0.020151281729340553, 0.010075640864670277, 0.6803178191184998, 0.040819067507982254, 0.013606355525553226, 0.1292603760957718, 0.013606355525553226, 0.054425422102212906, 0.006803177762776613, 0.040819067507982254, 0.013606355525553226, 0.006803177762776613, 0.8591423034667969, 0.07810384780168533, 0.436099112033844, 0.04360991343855858, 0.08721982687711716, 0.2616594731807709, 0.04360991343855858, 0.13082973659038544, 0.2203759104013443, 0.17972403764724731, 0.13479302823543549, 0.15404917299747467, 0.07702458649873734, 0.11981602758169174, 0.033163364976644516, 0.019256146624684334, 0.021395718678832054, 0.008558288216590881, 0.008558288216590881, 0.018186360597610474, 0.003209357848390937, 0.0010697860270738602, 0.0010697860270738602, 0.14457792043685913, 0.8118606805801392, 0.03336413577198982, 0.9198710918426514, 0.2149365395307541, 0.19610998034477234, 0.16943901777267456, 0.14433693885803223, 0.04549751430749893, 0.11452822387218475, 0.04235975444316864, 0.02353319711983204, 0.00470663933083415, 0.007844398729503155, 0.014119918458163738, 0.007844398729503155, 0.010982158593833447, 0.001568879815749824, 0.003137759631499648, 0.31725412607192993, 0.2110242396593094, 0.12345635890960693, 0.10622989386320114, 0.06747033447027206, 0.05598602443933487, 0.04163063317537308, 0.024404164403676987, 0.01579093001782894, 0.011484312824904919, 0.004306617192924023, 0.008613234385848045, 0.007177695631980896, 0.0014355391031131148, 0.0028710782062262297, 0.1458021104335785, 0.0913459062576294, 0.19674502313137054, 0.13174889981746674, 0.1458021104335785, 0.1914750635623932, 0.029863083735108376, 0.01756652072072029, 0.0052699558436870575, 0.014053216204047203, 0.02107982337474823, 0.0035133040510118008, 0.0035133040510118008, 0.16118258237838745, 0.09977969527244568, 0.16885794699192047, 0.18420866131782532, 0.023026082664728165, 0.26096227765083313, 0.03837680444121361, 0.030701443552970886, 0.030701443552970886, 0.0076753608882427216, 0.9079335331916809, 0.018158670514822006, 0.05447601154446602, 0.041675787419080734, 0.9307591915130615, 0.01389192882925272, 0.06625568866729736, 0.9275795817375183, 0.013191849924623966, 0.3640950322151184, 0.33507296442985535, 0.14774870872497559, 0.010553479194641113, 0.10553479939699173, 0.01583021879196167, 0.0026383697986602783, 0.0026383697986602783, 0.3832333981990814, 0.1916166990995407, 0.3832333981990814, 0.37481406331062317, 0.18740703165531158, 0.18740703165531158, 0.18740703165531158, 0.18740703165531158, 0.07909751683473587, 0.23729254305362701, 0.07909751683473587, 0.15819503366947174, 0.07909751683473587, 0.07909751683473587, 0.3163900673389435, 0.3034305274486542, 0.6755622625350952, 0.011450208723545074, 0.9619066715240479, 0.014976351521909237, 0.6988964080810547, 0.002496058586984873, 0.017472410574555397, 0.23462951183319092, 0.017472410574555397, 0.0074881757609546185, 0.002496058586984873, 0.002496058586984873, 0.1400505006313324, 0.498929888010025, 0.008753156289458275, 0.1400505006313324, 0.16630996763706207, 0.01750631257891655, 0.008753156289458275, 0.026259468868374825, 0.1901906281709671, 0.5705718994140625, 0.1901906281709671, 0.9121345281600952, 0.1837371587753296, 0.1837371587753296, 0.1837371587753296, 0.1837371587753296, 0.3674743175506592, 0.06596457958221436, 0.560698926448822, 0.36280518770217896, 0.10559022426605225, 0.6335413455963135, 0.2111804485321045, 0.74251389503479, 0.1856284737586975, 0.14672939479351044, 0.1312841922044754, 0.23498769104480743, 0.15224553644657135, 0.15665845572948456, 0.08053568750619888, 0.033096857368946075, 0.03199362754821777, 0.005516143050044775, 0.0033096857368946075, 0.014341970905661583, 0.005516143050044775, 0.0033096857368946075, 0.14799778163433075, 0.7399889230728149, 0.5006474256515503, 0.10728159546852112, 0.3933658301830292, 0.06840969622135162, 0.06840969622135162, 0.8209164142608643, 0.026737570762634277, 0.10695028305053711, 0.8556022644042969, 0.0017344877123832703, 0.07631745934486389, 0.912340521812439, 0.0034689754247665405, 0.0017344877123832703, 0.35243654251098633, 0.03524365648627281, 0.563898503780365, 0.03524365648627281, 0.09111835807561874, 0.01607971079647541, 0.15543720126152039, 0.40735265612602234, 0.19831642508506775, 0.06431884318590164, 0.01607971079647541, 0.01607971079647541, 0.010719806887209415, 0.02679951675236225, 0.8926987648010254, 0.011902650818228722, 0.047610603272914886, 0.011902650818228722, 0.011902650818228722, 0.5479211211204529, 0.020045893266797066, 0.046773750334978104, 0.22718679904937744, 0.046773750334978104, 0.013363929465413094, 0.006681964732706547, 0.060137681663036346, 0.020045893266797066, 0.006681964732706547, 0.8064489364624023, 0.13166514039039612, 0.03291628509759903, 0.016458142548799515, 0.5015721917152405, 0.1130996122956276, 0.04425637051463127, 0.01966949924826622, 0.08851274102926254, 0.14260385930538177, 0.0245868731290102, 0.01475212350487709, 0.0245868731290102, 0.01966949924826622, 0.004917374812066555, 0.02817663922905922, 0.5259639620780945, 0.018784426152706146, 0.140883207321167, 0.2441975474357605, 0.009392213076353073, 0.02817663922905922, 0.11260168254375458, 0.7882117629051208, 0.169247105717659, 0.14506895840168, 0.0241781584918499, 0.1934252679347992, 0.07253447920084, 0.2417815923690796, 0.07253447920084, 0.0483563169836998, 0.0241781584918499, 0.06814159452915192, 0.9028761386871338, 0.01703539863228798, 0.5904790759086609, 0.16870830953121185, 0.08435415476560593, 0.08435415476560593, 0.009568857960402966, 0.06698200106620789, 0.8707660436630249, 0.047844287008047104, 0.09920871257781982, 0.8432740569114685, 0.161055326461792, 0.38653281331062317, 0.09663320332765579, 0.0644221305847168, 0.2576885223388672, 0.0322110652923584, 0.3944994807243347, 0.3944994807243347, 0.19724974036216736, 0.7086103558540344, 0.23620346188545227, 0.8291148543357849, 0.07209694385528564, 0.07209694385528564, 0.9279147386550903, 0.04034411907196045, 0.1887531578540802, 0.10835829377174377, 0.19749173521995544, 0.23594145476818085, 0.04718828946352005, 0.10311515629291534, 0.04019743204116821, 0.033206574618816376, 0.017477145418524742, 0.005243143532425165, 0.013981715776026249, 0.005243143532425165, 0.0034954289440065622, 0.0017477144720032811, 0.1855199784040451, 0.1855199784040451, 0.3710399568080902, 0.1855199784040451, 0.07564020156860352, 0.015128039754927158, 0.19666451215744019, 0.5899935364723206, 0.04538412019610405, 0.06051215901970863, 0.015128039754927158, 0.2045334279537201, 0.04624800384044647, 0.38822266459465027, 0.07816564291715622, 0.20844170451164246, 0.024101072922348976, 0.008467944338917732, 0.0013027606764808297, 0.0006513803382404149, 0.020844170823693275, 0.011724845506250858, 0.005862422753125429, 0.0013027606764808297, 0.21646276116371155, 0.7035039663314819, 0.05411569029092789, 0.9620044231414795, 0.04080845043063164, 0.5713183283805847, 0.36727604269981384, 0.18197309970855713, 0.2231745570898056, 0.19227346777915955, 0.23175819218158722, 0.06180218607187271, 0.06523564457893372, 0.008583636954426765, 0.012017091736197472, 0.005150182172656059, 0.003433454781770706, 0.006866909563541412, 0.005150182172656059, 0.001716727390885353, 0.08053625375032425, 0.40268126130104065, 0.02684541791677475, 0.40268126130104065, 0.0536908358335495, 0.8448417782783508, 0.1206916868686676, 0.02202671580016613, 0.6094058156013489, 0.09544910490512848, 0.06240902841091156, 0.0183555968105793, 0.15418700873851776, 0.003671119222417474, 0.011013357900083065, 0.0183555968105793, 0.9253990650177002, 0.19301846623420715, 0.5790553689002991, 0.10257592052221298, 0.0936562791466713, 0.12041521072387695, 0.4207099378108978, 0.13825450837612152, 0.0520312637090683, 0.011892860755324364, 0.01783929020166397, 0.008919645100831985, 0.0014866075944155455, 0.007433037739247084, 0.010406252928078175, 0.007433037739247084, 0.002973215188831091, 0.17310243844985962, 0.6924097537994385, 0.186919167637825, 0.186919167637825, 0.37383833527565, 0.11586779356002808, 0.1544903814792633, 0.2703581750392914, 0.07724519073963165, 0.07724519073963165, 0.07724519073963165, 0.19311298429965973, 0.2807716131210327, 0.4211574196815491, 0.14038580656051636, 0.4843333661556244, 0.16144445538520813, 0.16144445538520813, 0.8783460259437561, 0.6199492812156677, 0.07749366015195847, 0.2324809730052948, 0.1272592842578888, 0.3817778527736664, 0.1272592842578888, 0.3817778527736664, 0.43700867891311646, 0.14566954970359802, 0.14566954970359802, 0.14566954970359802, 0.11966516077518463, 0.1686190813779831, 0.2665269374847412, 0.18493705987930298, 0.08702920377254486, 0.0380752794444561, 0.016317976638674736, 0.0380752794444561, 0.021757300943136215, 0.016317976638674736, 0.016317976638674736, 0.010878650471568108, 0.010878650471568108, 0.0578647218644619, 0.4629177749156952, 0.405053049325943, 0.02893236093223095, 0.3883834481239319, 0.1790420114994049, 0.11844318360090256, 0.06335332989692688, 0.10742521286010742, 0.06335332989692688, 0.022035939618945122, 0.024790432304143906, 0.0055089849047362804, 0.013772462494671345, 0.0055089849047362804, 0.0027544924523681402, 0.8940160274505615, 0.0266386978328228, 0.958993136882782, 0.0133193489164114, 0.31689855456352234, 0.19763566553592682, 0.09881783276796341, 0.14311547577381134, 0.03748262673616409, 0.0783727616071701, 0.034075114876031876, 0.04429765045642853, 0.017037557438015938, 0.00340751139447093, 0.01363004557788372, 0.010222534649074078, 0.00681502278894186, 0.00340751139447093, 0.31022438406944275, 0.3246908187866211, 0.061080452054739, 0.0867985337972641, 0.0257180854678154, 0.0932280570268631, 0.0417918860912323, 0.008036901243031025, 0.01928856410086155, 0.0016073803417384624, 0.0016073803417384624, 0.0128590427339077, 0.01125166192650795, 0.3276023864746094, 0.1638011932373047, 0.3276023864746094, 0.39204084873199463, 0.19602042436599731, 0.19602042436599731, 0.12524570524692535, 0.6262285709381104, 0.12524570524692535, 0.8467493653297424, 0.07461774349212646, 0.8021407723426819, 0.03730887174606323, 0.05596330761909485, 0.5339891314506531, 0.35599273443222046, 0.3694201409816742, 0.5541301965713501, 0.04586884379386902, 0.7109670639038086, 0.02293442189693451, 0.18347537517547607, 0.7333579659461975, 0.18333949148654938, 0.02995259128510952, 0.11981036514043808, 0.8386725783348083, 0.19250653684139252, 0.06238637864589691, 0.3422338366508484, 0.10873054713010788, 0.14972731471061707, 0.06951624900102615, 0.017824679613113403, 0.008912339806556702, 0.005347403697669506, 0.026737019419670105, 0.008912339806556702, 0.005347403697669506, 0.001782467938028276, 0.28321632742881775, 0.1902199238538742, 0.16063015162944794, 0.06129308417439461, 0.021135546267032623, 0.10356418043375015, 0.06552019715309143, 0.023249100893735886, 0.03593042865395546, 0.00845421850681305, 0.014794882386922836, 0.01902199164032936, 0.012681327760219574, 0.0021135546267032623, 0.32990843057632446, 0.5498473644256592, 0.1408817619085312, 0.49308618903160095, 0.1408817619085312, 0.1408817619085312, 0.0884668231010437, 0.8973063230514526, 0.9052641987800598, 0.41494476795196533, 0.27662983536720276, 0.27662983536720276, 0.18670420348644257, 0.24504926800727844, 0.16920068860054016, 0.00583450635895133, 0.017503518611192703, 0.274221807718277, 0.07001407444477081, 0.00583450635895133, 0.00583450635895133, 0.017503518611192703, 0.00583450635895133, 0.1663040816783905, 0.1663040816783905, 0.332608163356781, 0.1663040816783905, 0.1663040816783905, 0.38029760122299194, 0.19014880061149597, 0.19014880061149597, 0.19014880061149597, 0.125753253698349, 0.377259761095047, 0.377259761095047, 0.032128337770700455, 0.2730908691883087, 0.016064168885350227, 0.5381496548652649, 0.04819250479340553, 0.008032084442675114, 0.024096252396702766, 0.016064168885350227, 0.008032084442675114, 0.008032084442675114, 0.008032084442675114, 0.008032084442675114, 0.032518576830625534, 0.016259288415312767, 0.21137075126171112, 0.34144505858421326, 0.13007430732250214, 0.016259288415312767, 0.016259288415312767, 0.13007430732250214, 0.06503715366125107, 0.0688014104962349, 0.4988102614879608, 0.017200352624058723, 0.3268067240715027, 0.03440070524811745, 0.017200352624058723, 0.14623834192752838, 0.7311916947364807, 0.14623834192752838, 0.8703652620315552, 0.02211449295282364, 0.7297782301902771, 0.02211449295282364, 0.19903042912483215, 0.01105724647641182, 0.00552862323820591, 0.00552862323820591, 0.03587482497096062, 0.7174965143203735, 0.14349929988384247, 0.05979137495160103, 0.03587482497096062, 0.21520371735095978, 0.21520371735095978, 0.21520371735095978, 0.21520371735095978, 0.28149449825286865, 0.07037362456321716, 0.01005337480455637, 0.5730423927307129, 0.01005337480455637, 0.04021349921822548, 0.01005337480455637, 0.27418071031570435, 0.6945911049842834, 0.018278712406754494, 0.21907168626785278, 0.4694393277168274, 0.031295955181121826, 0.1251838207244873, 0.031295955181121826, 0.06259191036224365, 0.06259191036224365, 0.7580358386039734, 0.02807540073990822, 0.05615080147981644, 0.11230160295963287, 0.02807540073990822, 0.02807540073990822, 0.18618419766426086, 0.10048036277294159, 0.28370925784111023, 0.0886591449379921, 0.16845236718654633, 0.07979322969913483, 0.014776524156332016, 0.008865914307534695, 0.002955304691568017, 0.008865914307534695, 0.03546365723013878, 0.005910609383136034, 0.008865914307534695, 0.002955304691568017, 0.18575464189052582, 0.18575464189052582, 0.18575464189052582, 0.37150928378105164, 0.8455271124839783, 0.11707298457622528, 0.013008109293878078, 0.013008109293878078, 0.1875276267528534, 0.1875276267528534, 0.3750552535057068, 0.1875276267528534, 0.16200610995292664, 0.6480244398117065, 0.16200610995292664, 0.3398090898990631, 0.16990454494953156, 0.16990454494953156, 0.16990454494953156, 0.17373833060264587, 0.6949533224105835, 0.09260907769203186, 0.8643513321876526, 0.3586242198944092, 0.31080764532089233, 0.04781656339764595, 0.023908281698822975, 0.04781656339764595, 0.04781656339764595, 0.023908281698822975, 0.023908281698822975, 0.04781656339764595, 0.023908281698822975, 0.04781656339764595, 0.12020337581634521, 0.18030506372451782, 0.06010168790817261, 0.12020337581634521, 0.12020337581634521, 0.12020337581634521, 0.24040675163269043, 0.43871378898620605, 0.5062082409858704, 0.913807213306427, 0.8720327019691467, 0.04152536764740944, 0.04152536764740944, 0.2350134551525116, 0.1402181088924408, 0.14614282548427582, 0.22513894736766815, 0.08689573407173157, 0.043447867035865784, 0.031598448753356934, 0.019749030470848083, 0.015799224376678467, 0.009874515235424042, 0.019749030470848083, 0.017774127423763275, 0.003949806094169617, 0.8756846785545349, 0.1315147429704666, 0.08916253596544266, 0.24296791851520538, 0.16717976331710815, 0.1716378927230835, 0.06910096853971481, 0.03566501662135124, 0.042352207005023956, 0.011145316995680332, 0.011145316995680332, 0.01783250831067562, 0.0022290635388344526, 0.004458127077668905, 0.6349058747291565, 0.15872646868228912, 0.15872646868228912, 0.37767577171325684, 0.18883788585662842, 0.37767577171325684, 0.16190987825393677, 0.16190987825393677, 0.16190987825393677, 0.32381975650787354, 0.889842689037323, 0.030684230849146843, 0.16957150399684906, 0.07450868934392929, 0.3622663915157318, 0.19012562930583954, 0.04110824316740036, 0.05652383342385292, 0.0077077955938875675, 0.04624677449464798, 0.015415591187775135, 0.02055412158370018, 0.0128463264554739, 0.0025692651979625225, 0.0025692651979625225, 0.14332008361816406, 0.14332008361816406, 0.14332008361816406, 0.2866401672363281, 0.14332008361816406, 0.10698512941598892, 0.010698513127863407, 0.08558810502290726, 0.267462819814682, 0.21397025883197784, 0.032095540314912796, 0.021397026255726814, 0.05349256470799446, 0.11768364161252975, 0.07488959282636642, 0.13666558265686035, 0.1567634493112564, 0.13666558265686035, 0.22107666730880737, 0.13264599442481995, 0.09646981954574585, 0.024117454886436462, 0.020097879692912102, 0.012058727443218231, 0.008039151318371296, 0.032156605273485184, 0.012058727443218231, 0.012058727443218231, 0.008039151318371296, 0.34029409289360046, 0.17014704644680023, 0.17014704644680023, 0.17014704644680023, 0.08507352322340012, 0.12466894835233688, 0.21064753830432892, 0.27083253860473633, 0.1074732318520546, 0.1074732318520546, 0.02149464748799801, 0.034391433000564575, 0.034391433000564575, 0.017195716500282288, 0.04298929497599602, 0.02149464748799801, 0.008597858250141144, 0.004298929125070572, 0.10926613956689835, 0.3824314773082733, 0.05463306978344917, 0.40974801778793335, 0.8783529996871948, 0.7964916229248047, 0.13274860382080078, 0.15557081997394562, 0.15557081997394562, 0.15557081997394562, 0.31114163994789124, 0.15090516209602356, 0.0862315222620964, 0.06467363983392715, 0.0862315222620964, 0.28025245666503906, 0.1724630445241928, 0.0215578805655241, 0.10778940469026566, 0.5571960806846619, 0.22287842631340027, 0.11143921315670013, 0.19764994084835052, 0.19764994084835052, 0.39529988169670105, 0.19764994084835052, 0.16678501665592194, 0.11119001358747482, 0.16678501665592194, 0.16678501665592194, 0.05559500679373741, 0.27797505259513855, 0.548560380935669, 0.2742801904678345, 0.1855684369802475, 0.1855684369802475, 0.371136873960495, 0.1855684369802475, 0.10925271362066269, 0.10925271362066269, 0.21850542724132538, 0.32775816321372986, 0.10925271362066269, 0.22120319306850433, 0.3686719834804535, 0.010533485561609268, 0.07373439520597458, 0.07373439520597458, 0.1369353085756302, 0.08426788449287415, 0.010533485561609268, 0.010533485561609268, 0.0982927680015564, 0.6225208640098572, 0.02621140331029892, 0.0655285120010376, 0.15071557462215424, 0.02621140331029892, 0.00655285082757473, 0.318392813205719, 0.1591964066028595, 0.1591964066028595, 0.318392813205719, 0.10256239771842957, 0.2734997272491455, 0.5128119587898254, 0.06837493181228638, 0.08629487454891205, 0.08629487454891205, 0.6903589963912964, 0.08629487454891205, 0.05037648603320122, 0.41980403661727905, 0.43659621477127075, 0.03358432278037071, 0.05037648603320122, 0.33011308312416077, 0.550188422203064, 0.35873451828956604, 0.11957817524671555, 0.35873451828956604, 0.9400565028190613, 0.033977944403886795, 0.01132598239928484, 0.4262538552284241, 0.2841692268848419, 0.14208461344242096, 0.5656899809837341, 0.37712666392326355, 0.23306338489055634, 0.20471784472465515, 0.10078416764736176, 0.11023268103599548, 0.11023268103599548, 0.13542872667312622, 0.02834554761648178, 0.022046536207199097, 0.009448515251278877, 0.02834554761648178, 0.01259802095592022, 0.003149505238980055, 0.003149505238980055, 0.003149505238980055, 0.8613146543502808, 0.16086602210998535, 0.16086602210998535, 0.16086602210998535, 0.3217320442199707, 0.19053523242473602, 0.19053523242473602, 0.19053523242473602, 0.19053523242473602, 0.19053523242473602, 0.9170696139335632, 0.03853233903646469, 0.007706467527896166, 0.015412935055792332, 0.03711656108498573, 0.18558280169963837, 0.6680980920791626, 0.07423312216997147, 0.37453940510749817, 0.37453940510749817, 0.18726970255374908, 0.38983839750289917, 0.09745959937572479, 0.2923787832260132, 0.19491919875144958, 0.3842220902442932, 0.1921110451221466, 0.1921110451221466, 0.1921110451221466, 0.1865341067314148, 0.7461364269256592, 0.1865341067314148, 0.8931235671043396, 0.10205741971731186, 0.031184211373329163, 0.2749880254268646, 0.2579784691333771, 0.2636483311653137, 0.02267942577600479, 0.014174641110002995, 0.005669856444001198, 0.008504784666001797, 0.008504784666001797, 0.008504784666001797, 0.002834928222000599, 0.18805034458637238, 0.5641510486602783, 0.18805034458637238, 0.18805034458637238, 0.15641053020954132, 0.15641053020954132, 0.15641053020954132, 0.46923157572746277, 0.1896035522222519, 0.3792071044445038, 0.1896035522222519, 0.1896035522222519, 0.10977603495121002, 0.21955206990242004, 0.16466405987739563, 0.05488801747560501, 0.10977603495121002, 0.05488801747560501, 0.21955206990242004, 0.3143998086452484, 0.4715996980667114, 0.6502791047096252, 0.14598102867603302, 0.1327100247144699, 0.02654200606048107, 0.013271003030240536, 0.2786320447921753, 0.1857547014951706, 0.0928773507475853, 0.2786320447921753, 0.32536011934280396, 0.16268005967140198, 0.32536011934280396, 0.16268005967140198, 0.9544709920883179, 0.15863756835460663, 0.39659392833709717, 0.31727513670921326, 0.07931878417730331, 0.5445659756660461, 0.017017686739563942, 0.23824761807918549, 0.13614149391651154, 0.034035373479127884, 0.017017686739563942, 0.10161475092172623, 0.7748124599456787, 0.08891290426254272, 0.012701843865215778, 0.012701843865215778, 0.878013014793396, 0.008388659916818142, 0.041943296790122986, 0.0027962198946624994, 0.005592439789324999, 0.0027962198946624994, 0.041943296790122986, 0.011184879578649998, 0.19404523074626923, 0.14553391933441162, 0.14553391933441162, 0.19404523074626923, 0.048511307686567307, 0.048511307686567307, 0.24255654215812683, 0.33462876081466675, 0.1432524472475052, 0.12086924910545349, 0.15892067551612854, 0.12758420407772064, 0.0358131118118763, 0.025740673765540123, 0.012310756370425224, 0.01566823571920395, 0.007834117859601974, 0.007834117859601974, 0.006714958231896162, 0.003357479115948081, 0.0011191597441211343, 0.3005775809288025, 0.6612707376480103, 0.8291831016540527, 0.1381971836090088, 0.43918874859809875, 0.2635132372379303, 0.029279248788952827, 0.029279248788952827, 0.058558497577905655, 0.029279248788952827, 0.11711699515581131, 0.32332172989845276, 0.26943477988243103, 0.07657620310783386, 0.07657620310783386, 0.034033868461847305, 0.08508466929197311, 0.07090388983488083, 0.011344621889293194, 0.014180777594447136, 0.017016934230923653, 0.008508467115461826, 0.008508467115461826, 0.0028361554723232985, 0.0028361554723232985, 0.1411719024181366, 0.5646876096725464, 0.1411719024181366, 0.013761100359261036, 0.7430993914604187, 0.027522200718522072, 0.1376110017299652, 0.041283298283815384, 0.027522200718522072, 0.09355879575014114, 0.1871175915002823, 0.1871175915002823, 0.09355879575014114, 0.09355879575014114, 0.09355879575014114, 0.09355879575014114, 0.3857240676879883, 0.19286203384399414, 0.3857240676879883, 0.3548942804336548, 0.04436178505420685, 0.13308535516262054, 0.0887235701084137, 0.0887235701084137, 0.13308535516262054, 0.04436178505420685, 0.04436178505420685, 0.0887235701084137, 0.3136404752731323, 0.15682023763656616, 0.4704607129096985, 0.27728405594825745, 0.09242802113294601, 0.4621400833129883, 0.09242802113294601, 0.18707339465618134, 0.03741467744112015, 0.6734642386436462, 0.03741467744112015, 0.03741467744112015, 0.24152450263500214, 0.2016986608505249, 0.1297551840543747, 0.16958104074001312, 0.09506815671920776, 0.07708229124546051, 0.023124687373638153, 0.025694096460938454, 0.006423524115234613, 0.008992933668196201, 0.008992933668196201, 0.007708229124546051, 0.0038541145622730255, 0.002569409552961588, 0.24449972808361053, 0.16466307640075684, 0.09979580342769623, 0.20957119762897491, 0.12973454594612122, 0.024948950856924057, 0.02993874065577984, 0.054887693375349045, 0.004989790264517069, 0.01496937032788992, 0.009979580529034138, 0.9677959084510803, 0.13332560658454895, 0.2666512131690979, 0.13332560658454895, 0.06666280329227448, 0.13332560658454895, 0.33331403136253357, 0.19052430987358093, 0.38104861974716187, 0.19052430987358093, 0.28265559673309326, 0.28265559673309326, 0.14132779836654663, 0.14132779836654663, 0.14132779836654663, 0.1863728165626526, 0.3727456331253052, 0.1863728165626526, 0.1863728165626526, 0.33388522267341614, 0.2225901484489441, 0.0317985936999321, 0.01589929684996605, 0.14309366047382355, 0.0317985936999321, 0.0317985936999321, 0.1271943747997284, 0.01589929684996605, 0.04769788682460785, 0.8983717560768127, 0.056148234754800797, 0.4988671541213989, 0.12471678853034973, 0.24943357706069946, 0.08494650572538376, 0.16989301145076752, 0.33978602290153503, 0.14157749712467194, 0.028315501287579536, 0.028315501287579536, 0.028315501287579536, 0.028315501287579536, 0.08494650572538376, 0.05663100257515907, 0.19090056419372559, 0.2607422173023224, 0.10243444889783859, 0.1583077758550644, 0.0791538879275322, 0.0744977816939354, 0.0372488908469677, 0.051217224448919296, 0.013968333601951599, 0.013968333601951599, 0.013968333601951599, 0.004656111355870962, 0.4224191904067993, 0.5280239582061768, 0.25296297669410706, 0.16864198446273804, 0.08432099223136902, 0.4216049611568451, 0.23022641241550446, 0.0488688163459301, 0.21502278745174408, 0.15312229096889496, 0.1346607357263565, 0.10533944517374039, 0.031493235379457474, 0.005429868120700121, 0.01954752579331398, 0.028235314413905144, 0.014117657206952572, 0.00977376289665699, 0.00325792096555233, 0.18417643010616302, 0.18417643010616302, 0.5525292754173279, 0.381350576877594, 0.023834411054849625, 0.023834411054849625, 0.262178510427475, 0.04766882210969925, 0.0953376442193985, 0.07150322943925858, 0.023834411054849625, 0.07150322943925858, 0.3664811849594116, 0.4886415898799896, 0.5690698623657227, 0.18968994915485382, 0.18968994915485382, 0.7797478437423706, 0.15594957768917084, 0.18928340077400208, 0.06309446692466736, 0.4416612684726715, 0.25237786769866943, 0.38537362217903137, 0.018430912867188454, 0.12231423705816269, 0.1960378885269165, 0.10053224861621857, 0.09047902375459671, 0.0016755374381318688, 0.005026612430810928, 0.01340429950505495, 0.0536171980202198, 0.008377687074244022, 0.0016755374381318688, 0.03166324272751808, 0.009998918510973454, 0.07665837556123734, 0.5799372792243958, 0.2649713456630707, 0.013331891968846321, 0.0016664864961057901, 0.0066659459844231606, 0.0016664864961057901, 0.0033329729922115803, 0.004999459255486727, 0.0033329729922115803, 0.1487610787153244, 0.005312895402312279, 0.015938686206936836, 0.3293995261192322, 0.3931542634963989, 0.010625790804624557, 0.015938686206936836, 0.0371902696788311, 0.026564477011561394, 0.015938686206936836, 0.005312895402312279, 0.486441433429718, 0.1621471494436264, 0.1621471494436264, 0.1621471494436264, 0.1245184987783432, 0.3112962543964386, 0.1245184987783432, 0.1245184987783432, 0.0622592493891716, 0.1245184987783432, 0.0622592493891716, 0.0622592493891716, 0.8684098720550537, 0.857606828212738, 0.9317005276679993, 0.18983890116214752, 0.18983890116214752, 0.18983890116214752, 0.18983890116214752, 0.18983890116214752, 0.937728762626648, 0.062019575387239456, 0.7176550626754761, 0.15061897039413452, 0.008859938941895962, 0.03543975576758385, 0.008859938941895962, 0.623461127281189, 0.3117305636405945, 0.10041718930006027, 0.06694479286670685, 0.18075093626976013, 0.23430678248405457, 0.19413989782333374, 0.060250312089920044, 0.033472396433353424, 0.006694479379802942, 0.013388958759605885, 0.013388958759605885, 0.07363927364349365, 0.013388958759605885, 0.006694479379802942, 0.006694479379802942, 0.10998567193746567, 0.21997134387493134, 0.5499283671379089, 0.33149948716163635, 0.6629989743232727, 0.8889674544334412, 0.09321855753660202, 0.1553642600774765, 0.2692980468273163, 0.11393378674983978, 0.09839736670255661, 0.14500664174556732, 0.04660927876830101, 0.01553642563521862, 0.0051788087002933025, 0.0258940439671278, 0.03107285127043724, 0.1454385370016098, 0.0743352547287941, 0.2294696867465973, 0.24347488582134247, 0.17129427194595337, 0.05925273522734642, 0.012927869334816933, 0.017237160354852676, 0.014005192555487156, 0.015082514844834805, 0.007541257422417402, 0.007541257422417402, 0.0021546450443565845, 0.0010773225221782923, 0.0010773225221782923, 0.20664729177951813, 0.21223235130310059, 0.2234024852514267, 0.04188796505331993, 0.0977385863661766, 0.07260580360889435, 0.036302901804447174, 0.02234024740755558, 0.013962655328214169, 0.02513277903199196, 0.036302901804447174, 0.008377593010663986, 0.279968798160553, 0.1399843990802765, 0.1399843990802765, 0.279968798160553, 0.18152327835559845, 0.16583608090877533, 0.21737973392009735, 0.1568719744682312, 0.10981038212776184, 0.06498982012271881, 0.02913336642086506, 0.020169252529740334, 0.026892337948083878, 0.006723084487020969, 0.00896411295980215, 0.00896411295980215, 0.18468895554542542, 0.18468895554542542, 0.415550172328949, 0.09234447777271271, 0.046172238886356354, 0.046172238886356354, 0.046172238886356354, 0.9238669276237488, 0.07847224920988083, 0.056674402207136154, 0.27901244163513184, 0.37928253412246704, 0.0871913880109787, 0.05231483280658722, 0.013078708201646805, 0.01743827760219574, 0.004359569400548935, 0.00871913880109787, 0.013078708201646805, 0.00871913880109787, 0.004359569400548935, 0.519740879535675, 0.09355335682630539, 0.015592226758599281, 0.02078963629901409, 0.16631709039211273, 0.07276372611522675, 0.025987043976783752, 0.051974087953567505, 0.010394818149507046, 0.025987043976783752, 0.08457919210195541, 0.8457918763160706, 0.9457092881202698, 0.4351084232330322, 0.2962440252304077, 0.04937400668859482, 0.027772877365350723, 0.03394462913274765, 0.03394462913274765, 0.07714688032865524, 0.02468700334429741, 0.012343501672148705, 0.006171750836074352, 0.003085875418037176, 0.19509592652320862, 0.5852877497673035, 0.19509592652320862, 0.9569412469863892, 0.5589377880096436, 0.1397344470024109, 0.2794688940048218, 0.3401796519756317, 0.21755675971508026, 0.06328924000263214, 0.08306712657213211, 0.027689041569828987, 0.15822309255599976, 0.06328924000263214, 0.003955577500164509, 0.01977788656949997, 0.01977788656949997, 0.003955577500164509, 0.003955577500164509, 0.12490002065896988, 0.24980004131793976, 0.12490002065896988, 0.12490002065896988, 0.12490002065896988, 0.12490002065896988, 0.32500720024108887, 0.4875108003616333, 0.2694524824619293, 0.30794569849967957, 0.028869908303022385, 0.028869908303022385, 0.2694524824619293, 0.05773981660604477, 0.019246606156229973, 0.009623303078114986, 0.6084328889846802, 0.15210822224617004, 0.1422847956418991, 0.177855983376503, 0.355711966753006, 0.07114239782094955, 0.10671359300613403, 0.03557119891047478, 0.07114239782094955, 0.1253446787595749, 0.06674197316169739, 0.37928974628448486, 0.1204611212015152, 0.1758081167936325, 0.056974854320287704, 0.014650676399469376, 0.004883558955043554, 0.009767117910087109, 0.026045648381114006, 0.0032557060476392508, 0.004883558955043554, 0.0016278530238196254, 0.008139264769852161, 0.5009266138076782, 0.21468284726142883, 0.07156094908714294, 0.1431218981742859, 0.15187886357307434, 0.1442849189043045, 0.02278182841837406, 0.48601233959198, 0.10631520301103592, 0.02278182841837406, 0.02278182841837406, 0.03037577122449875, 0.007593942806124687, 0.9457307457923889, 0.027020879089832306, 0.027020879089832306, 0.9336332082748413, 0.4591526687145233, 0.4591526687145233, 0.3186294436454773, 0.25490355491638184, 0.12745177745819092, 0.06372588872909546, 0.06372588872909546, 0.12745177745819092, 0.07906278222799301, 0.47437670826911926, 0.39531391859054565, 0.0962652787566185, 0.5775916576385498, 0.192530557513237, 0.3826545774936676, 0.3826545774936676, 0.1913272887468338, 0.1333659440279007, 0.10002446174621582, 0.06668297201395035, 0.33341485261917114, 0.033341486006975174, 0.06668297201395035, 0.06668297201395035, 0.16670742630958557, 0.28062722086906433, 0.18708480894565582, 0.09354240447282791, 0.28062722086906433, 0.18708480894565582, 0.9301893711090088, 0.02022150717675686, 0.04044301435351372, 0.152801513671875, 0.6250970959663391, 0.013891046866774559, 0.013891046866774559, 0.08334627747535706, 0.04167313873767853, 0.055564187467098236, 0.013891046866774559, 0.013891046866774559, 0.2477642148733139, 0.15599969029426575, 0.1504938155412674, 0.18903492391109467, 0.0862586572766304, 0.08442336320877075, 0.023858776316046715, 0.0036705811507999897, 0.023858776316046715, 0.01651761494576931, 0.005505871493369341, 0.005505871493369341, 0.0036705811507999897, 0.0018352905753999949, 0.9004061222076416, 0.05296506732702255, 0.013241266831755638, 0.013241266831755638, 0.05355548486113548, 0.3748883903026581, 0.535554826259613, 0.10555282235145569, 0.030893508344888687, 0.5213279724121094, 0.15832923352718353, 0.04634026065468788, 0.03346796706318855, 0.01415952481329441, 0.009010606445372105, 0.0025744589511305094, 0.043765801936388016, 0.016733983531594276, 0.009010606445372105, 0.0025744589511305094, 0.0025744589511305094, 0.0012872294755652547, 0.15843476355075836, 0.1302516609430313, 0.30239713191986084, 0.12415801733732224, 0.16529011726379395, 0.045702338218688965, 0.01447240635752678, 0.010663879103958607, 0.01294899545609951, 0.009902172721922398, 0.012187290005385876, 0.006855350453406572, 0.0022851168178021908, 0.003808528184890747, 0.0007617056253366172, 0.8481912612915039, 0.010343795642256737, 0.04137518256902695, 0.05171898007392883, 0.04137518256902695, 0.21642635762691498, 0.21026788651943207, 0.19179247319698334, 0.10909296572208405, 0.06950277835130692, 0.0888579785823822, 0.036950841546058655, 0.031672149896621704, 0.00879781972616911, 0.00879781972616911, 0.015836074948310852, 0.005278691649436951, 0.004398909863084555, 0.0017595639219507575, 0.0017595639219507575, 0.0449768491089344, 0.0449768491089344, 0.1724112629890442, 0.23238039016723633, 0.23238039016723633, 0.0449768491089344, 0.007496141828596592, 0.037480708211660385, 0.0224884245544672, 0.07496141642332077, 0.014992283657193184, 0.06746527552604675, 0.0224884245544672, 0.6740159392356873, 0.22467197477817535, 0.5124809741973877, 0.2759512960910797, 0.03942161425948143, 0.03942161425948143, 0.07884322851896286, 0.03942161425948143, 0.18781425058841705, 0.1247025802731514, 0.21670874953269958, 0.20834456384181976, 0.10341189801692963, 0.07071548700332642, 0.024332210421562195, 0.019769921898841858, 0.01444725040346384, 0.01064534205943346, 0.008364197798073292, 0.006843434181064367, 0.0022811447270214558, 0.0022811447270214558, 0.7050800323486328, 0.10072571784257889, 0.10072571784257889, 0.26933372020721436, 0.26330387592315674, 0.09044789522886276, 0.13466686010360718, 0.06632845848798752, 0.070348359644413, 0.04421897232532501, 0.02612939104437828, 0.014069672673940659, 0.0040199062786996365, 0.0020099531393498182, 0.008039812557399273, 0.0020099531393498182, 0.0040199062786996365, 0.08295249193906784, 0.10369061678647995, 0.1285763680934906, 0.39817196130752563, 0.21567648649215698, 0.02073812298476696, 0.012442873790860176, 0.008295249193906784, 0.012442873790860176, 0.008295249193906784, 0.004147624596953392, 0.004147624596953392, 0.004147624596953392, 0.004147624596953392, 0.3151930272579193, 0.2626608610153198, 0.15759651362895966, 0.052532173693180084, 0.052532173693180084, 0.10506434738636017, 0.28543809056282043, 0.28543809056282043, 0.14271904528141022, 0.14271904528141022, 0.14271904528141022, 0.15838423371315002, 0.15838423371315002, 0.4751527011394501, 0.19352011382579803, 0.38704022765159607, 0.19352011382579803, 0.8791061043739319, 0.12281141430139542, 0.12281141430139542, 0.6140570640563965, 0.1210138127207756, 0.2420276254415512, 0.2420276254415512, 0.2420276254415512, 0.3225180208683014, 0.23671047389507294, 0.07101314514875412, 0.10651971399784088, 0.0887664258480072, 0.0443832129240036, 0.08284866809844971, 0.01775328628718853, 0.008876643143594265, 0.0029588809702545404, 0.0029588809702545404, 0.005917761940509081, 0.0029588809702545404, 0.0029588809702545404, 0.005917761940509081, 0.1584801822900772, 0.1584801822900772, 0.1584801822900772, 0.47544053196907043, 0.9060463905334473, 0.15516451001167297, 0.012930375523865223, 0.12930375337600708, 0.15516451001167297, 0.4202372133731842, 0.01939556375145912, 0.03879112750291824, 0.0064651877619326115, 0.01939556375145912, 0.01939556375145912, 0.0064651877619326115, 0.025860751047730446, 0.1934976726770401, 0.1934976726770401, 0.1934976726770401, 0.1934976726770401, 0.5555891990661621, 0.13889729976654053, 0.13889729976654053, 0.13889729976654053, 0.9127572178840637, 0.42056944966316223, 0.14018981158733368, 0.14018981158733368, 0.14018981158733368, 0.14018981158733368, 0.7626650333404541, 0.15253300964832306, 0.3722020089626312, 0.1861010044813156, 0.1861010044813156, 0.1861010044813156, 0.26218101382255554, 0.13109050691127777, 0.3932715058326721, 0.13109050691127777, 0.8617902994155884, 0.1400003880262375, 0.793335497379303, 0.937187910079956, 0.3356177806854248, 0.1678088903427124, 0.1678088903427124, 0.1678088903427124, 0.8275430202484131, 0.020688574761152267, 0.020688574761152267, 0.041377149522304535, 0.041377149522304535, 0.020688574761152267, 0.041377149522304535, 0.020688574761152267, 0.2663806974887848, 0.29301878809928894, 0.1331903487443924, 0.15982842445373535, 0.02663807012140751, 0.10655228048563004, 0.16837738454341888, 0.33675476908683777, 0.16837738454341888, 0.16837738454341888, 0.12988147139549255, 0.6927012205123901, 0.08658765256404877, 0.056106921285390854, 0.6919853687286377, 0.09351153671741486, 0.13091614842414856, 0.018702307716012, 0.9132751822471619, 0.45464813709259033, 0.25979894399642944, 0.06494973599910736, 0.06494973599910736, 0.06494973599910736, 0.3211650848388672, 0.20230871438980103, 0.12138522416353226, 0.1365583837032318, 0.03287516534328461, 0.09356778115034103, 0.02781744860112667, 0.020230870693922043, 0.022759729996323586, 0.0025288588367402554, 0.0025288588367402554, 0.007586576510220766, 0.0025288588367402554, 0.005057717673480511, 0.3756462037563324, 0.2504308223724365, 0.20869234204292297, 0.08347693830728531, 0.041738469153642654, 0.017734499648213387, 0.5497695207595825, 0.3812917470932007, 0.026601750403642654, 0.008867249824106693, 0.09019231051206589, 0.045096155256032944, 0.8117308020591736, 0.21005012094974518, 0.10288169234991074, 0.2957848608493805, 0.13717558979988098, 0.06858779489994049, 0.05572758615016937, 0.03000716120004654, 0.008573474362492561, 0.008573474362492561, 0.025720423087477684, 0.021433686837553978, 0.021433686837553978, 0.004286737181246281, 0.008573474362492561, 0.20964066684246063, 0.167421355843544, 0.19217060506343842, 0.13102541863918304, 0.1281137317419052, 0.05968935415148735, 0.030572596937417984, 0.020381730049848557, 0.011646703816950321, 0.014558379538357258, 0.01601421646773815, 0.011646703816950321, 0.004367513582110405, 0.0014558379771187901, 0.0029116759542375803, 0.29493212699890137, 0.21614888310432434, 0.09090373665094376, 0.14948615431785583, 0.07878324389457703, 0.05656232684850693, 0.04848199337720871, 0.02626108005642891, 0.012120498344302177, 0.002020083134993911, 0.004040166269987822, 0.008080332539975643, 0.006060249172151089, 0.004040166269987822, 0.002338702091947198, 0.9354808330535889, 0.002338702091947198, 0.002338702091947198, 0.002338702091947198, 0.018709616735577583, 0.030403127893805504, 0.004677404183894396, 0.9042016863822937, 0.44387173652648926, 0.40582558512687683, 0.025364099070429802, 0.01690940000116825, 0.029591448605060577, 0.050728198140859604, 0.01690940000116825, 0.004227350000292063, 0.004227350000292063, 0.004227350000292063, 0.11093728244304657, 0.8774130940437317, 0.1901838332414627, 0.5705515146255493, 0.1901838332414627, 0.01809258759021759, 0.9724765419960022, 0.2955359220504761, 0.27911725640296936, 0.13134931027889252, 0.1149306371808052, 0.016418663784861565, 0.06567465513944626, 0.03283732756972313, 0.016418663784861565, 0.049255989491939545, 0.8897115588188171, 0.5543808937072754, 0.3695872724056244, 0.08341297507286072, 0.25023892521858215, 0.16682595014572144, 0.08341297507286072, 0.08341297507286072, 0.25023892521858215, 0.21103355288505554, 0.12789912521839142, 0.23874503374099731, 0.1321624219417572, 0.12150416523218155, 0.04689634591341019, 0.038369737565517426, 0.025579825043678284, 0.0021316520869731903, 0.012789912521839142, 0.029843129217624664, 0.014921564608812332, 0.0021316520869731903, 0.79580157995224, 0.05684296786785126, 0.05684296786785126, 0.8727381825447083, 0.0033310616854578257, 0.0033310616854578257, 0.06329017132520676, 0.04663486406207085, 0.0033310616854578257, 0.19592827558517456, 0.1704830527305603, 0.2519077956676483, 0.1094144955277443, 0.09414735436439514, 0.053434986621141434, 0.03307880088686943, 0.02798975445330143, 0.010178092867136002, 0.012722616083920002, 0.015267138369381428, 0.012722616083920002, 0.0025445232167840004, 0.0025445232167840004, 0.005089046433568001, 0.1519591510295868, 0.11819044500589371, 0.21467244625091553, 0.224320650100708, 0.12542659044265747, 0.07718560099601746, 0.026532549411058426, 0.014472299255430698, 0.004824100062251091, 0.009648200124502182, 0.024120500311255455, 0.004824100062251091, 0.0024120500311255455, 0.0024120500311255455, 0.2843707203865051, 0.2843707203865051, 0.14218536019325256, 0.14218536019325256, 0.14218536019325256, 0.10028756409883499, 0.10028756409883499, 0.178288996219635, 0.17271746695041656, 0.19500359892845154, 0.13371674716472626, 0.02785765565931797, 0.005571531131863594, 0.016714593395590782, 0.011143062263727188, 0.011143062263727188, 0.016714593395590782, 0.02785765565931797, 0.26708775758743286, 0.09856809675693512, 0.16534003615379333, 0.14626233279705048, 0.08267001807689667, 0.11446617543697357, 0.038155391812324524, 0.025436928495764732, 0.009538847953081131, 0.006359232123941183, 0.006359232123941183, 0.0317961610853672, 0.0031796160619705915, 0.006359232123941183, 0.30297502875328064, 0.12721602618694305, 0.19584572315216064, 0.09875981509685516, 0.12386824190616608, 0.050216853618621826, 0.016738951206207275, 0.0033477903343737125, 0.02845621667802334, 0.01339116133749485, 0.01004337053745985, 0.023434530943632126, 0.0033477903343737125, 0.0016738951671868563, 0.6810687184333801, 0.2270229160785675, 0.13541777431964874, 0.12488528341054916, 0.25879842042922974, 0.16250133514404297, 0.1850709617137909, 0.04212997481226921, 0.01805570349097252, 0.030092839151620865, 0.00451392587274313, 0.010532493703067303, 0.012037135660648346, 0.006018567830324173, 0.0030092839151620865, 0.0015046419575810432, 0.0030092839151620865, 0.5259940028190613, 0.037571001797914505, 0.33813902735710144, 0.037571001797914505, 0.037571001797914505], \"Term\": [\"abbey\", \"abide\", \"abide\", \"accent\", \"accent\", \"accent\", \"accent\", \"accent\", \"accent\", \"accent\", \"accent\", \"accent\", \"acquaintances\", \"acquaintances\", \"acquaintances\", \"acquaintances\", \"actress\", \"adele\", \"adele\", \"adele\", \"adele\", \"adele\", \"adele\", \"administered\", \"administered\", \"administered\", \"adoption\", \"adoption\", \"aerial\", \"aerial\", \"aerial\", \"affection\", \"affection\", \"affection\", \"affection\", \"affection\", \"affection\", \"affection\", \"affection\", \"affection\", \"affection\", \"affection\", \"affection\", \"agonies\", \"agonies\", \"agonies\", \"agonies\", \"air\", \"air\", \"air\", \"air\", \"air\", \"air\", \"air\", \"air\", \"air\", \"air\", \"air\", \"air\", \"air\", \"airing\", \"airing\", \"airing\", \"albion\", \"albion\", \"albion\", \"albion\", \"alfred\", \"alfred\", \"alfred\", \"allee\", \"allenham\", \"alliance\", \"alliance\", \"alliance\", \"alliance\", \"alliance\", \"alliance\", \"amazing\", \"amazing\", \"amazing\", \"amazing\", \"ambitious\", \"ambitious\", \"ambitious\", \"ambitious\", \"amounted\", \"amounted\", \"amounted\", \"amour\", \"amour\", \"amour\", \"amy\", \"anecdote\", \"anecdote\", \"anecdote\", \"anecdote\", \"anguish\", \"anguish\", \"anguish\", \"anguish\", \"annum\", \"annum\", \"annum\", \"annum\", \"annum\", \"annum\", \"answer\", \"answer\", \"answer\", \"answer\", \"answer\", \"answer\", \"answer\", \"answer\", \"answer\", \"answer\", \"answer\", \"answer\", \"answer\", \"answer\", \"antagonist\", \"antagonist\", \"antagonist\", \"apologising\", \"appealing\", \"appreciating\", \"appreciating\", \"appreciating\", \"appreciating\", \"asked\", \"asked\", \"asked\", \"asked\", \"asked\", \"asked\", \"asked\", \"asked\", \"asked\", \"asked\", \"asked\", \"asked\", \"asked\", \"aspire\", \"aspire\", \"aspire\", \"aspire\", \"assez\", \"assez\", \"assez\", \"assiduous\", \"assiduous\", \"assiduous\", \"assiduous\", \"assign\", \"assign\", \"assign\", \"assistance\", \"assistance\", \"assistance\", \"assistance\", \"assistance\", \"assistance\", \"assistance\", \"assistance\", \"assistance\", \"associations\", \"associations\", \"associations\", \"associations\", \"associations\", \"associations\", \"atom\", \"attic\", \"attic\", \"attic\", \"attic\", \"attics\", \"attics\", \"attics\", \"august\", \"august\", \"august\", \"august\", \"august\", \"aunt\", \"aunt\", \"aunt\", \"aunt\", \"aunt\", \"aunt\", \"aunt\", \"aunt\", \"aunt\", \"aunt\", \"aunt\", \"average\", \"average\", \"average\", \"away\", \"away\", \"away\", \"away\", \"away\", \"away\", \"away\", \"away\", \"away\", \"away\", \"away\", \"away\", \"away\", \"away\", \"away\", \"banker\", \"banker\", \"banker\", \"banker\", \"bark\", \"barouche\", \"barouche\", \"barouche\", \"barton\", \"barton\", \"bassompierre\", \"bassompierre\", \"bassompierre\", \"bassompierre\", \"bassompierre\", \"bates\", \"bates\", \"bates\", \"bates\", \"bates\", \"bates\", \"bath\", \"bath\", \"bath\", \"bath\", \"bathing\", \"bathing\", \"bathing\", \"beck\", \"beck\", \"beck\", \"beck\", \"beck\", \"bedrooms\", \"bedrooms\", \"bedrooms\", \"bedrooms\", \"beer\", \"beer\", \"beer\", \"began\", \"began\", \"began\", \"began\", \"began\", \"began\", \"began\", \"began\", \"began\", \"began\", \"began\", \"began\", \"behaviour\", \"behaviour\", \"behaviour\", \"behaviour\", \"behaviour\", \"behaviour\", \"behaviour\", \"belgian\", \"belgian\", \"belgian\", \"belgians\", \"belgians\", \"belgians\", \"belgians\", \"belgium\", \"belgium\", \"belgium\", \"belgium\", \"belgium\", \"belles\", \"bennet\", \"bennet\", \"bennet\", \"bennet\", \"bennet\", \"bennets\", \"bennets\", \"bessie\", \"bessie\", \"bessie\", \"betook\", \"betook\", \"better\", \"better\", \"better\", \"better\", \"better\", \"better\", \"better\", \"better\", \"better\", \"better\", \"better\", \"better\", \"better\", \"better\", \"better\", \"bien\", \"bien\", \"bien\", \"bien\", \"bien\", \"bigben\", \"bigben\", \"bingley\", \"bingley\", \"bingley\", \"bingley\", \"black\", \"black\", \"black\", \"black\", \"black\", \"black\", \"black\", \"black\", \"black\", \"black\", \"black\", \"boarder\", \"boarder\", \"boarders\", \"boarders\", \"boards\", \"boards\", \"boards\", \"boasting\", \"boasting\", \"boasting\", \"body\", \"body\", \"body\", \"body\", \"body\", \"body\", \"body\", \"body\", \"body\", \"body\", \"boiled\", \"boiled\", \"boiled\", \"boiled\", \"bone\", \"bone\", \"bone\", \"bone\", \"bone\", \"book\", \"book\", \"book\", \"book\", \"book\", \"book\", \"book\", \"book\", \"book\", \"book\", \"book\", \"book\", \"book\", \"book\", \"bourgh\", \"bourgh\", \"bourne\", \"boys\", \"boys\", \"boys\", \"boys\", \"boys\", \"boys\", \"boys\", \"boys\", \"boys\", \"bracelet\", \"bracelet\", \"bracelet\", \"bracelet\", \"bracelet\", \"brandon\", \"brandon\", \"brandon\", \"bread\", \"bread\", \"bread\", \"bread\", \"bread\", \"bread\", \"bretton\", \"bretton\", \"bretton\", \"bretton\", \"bretton\", \"bretton\", \"briggs\", \"briggs\", \"brocklehurst\", \"brocklehurst\", \"brushed\", \"brushed\", \"brushed\", \"brushed\", \"brushed\", \"brussels\", \"brussels\", \"brussels\", \"brussels\", \"brussels\", \"brussels\", \"brussels\", \"burns\", \"burnt\", \"burnt\", \"burnt\", \"burnt\", \"cake\", \"cake\", \"cake\", \"cake\", \"cake\", \"cake\", \"cake\", \"came\", \"came\", \"came\", \"came\", \"came\", \"came\", \"came\", \"came\", \"came\", \"came\", \"came\", \"came\", \"came\", \"campbell\", \"campbell\", \"campbell\", \"candle\", \"candle\", \"candle\", \"candle\", \"capacity\", \"capacity\", \"capacity\", \"capacity\", \"capacity\", \"captain\", \"captain\", \"captain\", \"carlo\", \"caroline\", \"caroline\", \"caroline\", \"caroline\", \"carter\", \"carter\", \"carter\", \"carter\", \"carter\", \"catherine\", \"catherine\", \"catherine\", \"catherine\", \"catherine\", \"celine\", \"certain\", \"certain\", \"certain\", \"certain\", \"certain\", \"certain\", \"certain\", \"certain\", \"certain\", \"certain\", \"certain\", \"certain\", \"certain\", \"certainly\", \"certainly\", \"certainly\", \"certainly\", \"certainly\", \"certainly\", \"certainly\", \"certainly\", \"certainly\", \"certainly\", \"certainly\", \"certainly\", \"certainly\", \"ces\", \"ces\", \"ces\", \"ces\", \"chalk\", \"chalk\", \"chalk\", \"chalk\", \"chances\", \"chances\", \"chances\", \"chances\", \"chances\", \"charade\", \"charade\", \"charade\", \"charade\", \"charlotte\", \"charlotte\", \"charlotte\", \"charlotte\", \"charlotte\", \"cheap\", \"cheap\", \"cheap\", \"cheap\", \"cheese\", \"chestnut\", \"chestnut\", \"chestnut\", \"children\", \"children\", \"children\", \"children\", \"children\", \"children\", \"children\", \"children\", \"children\", \"children\", \"children\", \"children\", \"children\", \"chink\", \"chink\", \"chink\", \"cholmondeley\", \"cholmondeley\", \"cholmondeley\", \"cholmondeley\", \"chooses\", \"chooses\", \"church\", \"church\", \"church\", \"church\", \"church\", \"church\", \"church\", \"church\", \"church\", \"churchill\", \"churchill\", \"churchill\", \"churchill\", \"churchill\", \"churchill\", \"churchill\", \"civility\", \"civility\", \"civility\", \"civility\", \"civility\", \"civility\", \"classe\", \"classe\", \"classe\", \"classe\", \"cleveland\", \"cleveland\", \"clever\", \"clever\", \"clever\", \"clever\", \"clever\", \"clever\", \"clever\", \"clever\", \"clever\", \"clever\", \"climax\", \"climax\", \"climax\", \"climax\", \"cloaks\", \"cloaks\", \"cloaks\", \"cloaks\", \"colds\", \"colds\", \"colds\", \"cole\", \"cole\", \"cole\", \"collation\", \"collation\", \"collation\", \"collins\", \"collins\", \"collins\", \"collins\", \"colonel\", \"colonel\", \"colonel\", \"colonel\", \"colonel\", \"colonel\", \"colonel\", \"colonel\", \"combe\", \"come\", \"come\", \"come\", \"come\", \"come\", \"come\", \"come\", \"come\", \"come\", \"come\", \"come\", \"come\", \"come\", \"come\", \"come\", \"comfortable\", \"comfortable\", \"comfortable\", \"comfortable\", \"comfortable\", \"comfortable\", \"comfortable\", \"comfortable\", \"comfortable\", \"comfortable\", \"comfortable\", \"comfortable\", \"comments\", \"comments\", \"comments\", \"comments\", \"committed\", \"committed\", \"committed\", \"committed\", \"committed\", \"committed\", \"committed\", \"communicative\", \"communicative\", \"communicative\", \"communicative\", \"communicative\", \"complacent\", \"complacent\", \"complacent\", \"comprehending\", \"comprehending\", \"comprehending\", \"concisely\", \"concisely\", \"concisely\", \"confidential\", \"confidential\", \"confidential\", \"confidential\", \"consists\", \"consists\", \"consists\", \"consists\", \"contains\", \"contains\", \"contour\", \"contour\", \"contour\", \"conversations\", \"conversations\", \"conversations\", \"conversations\", \"copied\", \"copied\", \"copied\", \"copied\", \"copied\", \"copying\", \"copying\", \"copying\", \"copying\", \"copying\", \"corps\", \"corps\", \"corridor\", \"corridor\", \"corridor\", \"corridor\", \"corridor\", \"cottage\", \"cottage\", \"cottage\", \"cottage\", \"cottage\", \"cottage\", \"cottage\", \"cottage\", \"country\", \"country\", \"country\", \"country\", \"country\", \"country\", \"country\", \"country\", \"country\", \"country\", \"country\", \"course\", \"course\", \"course\", \"course\", \"course\", \"course\", \"course\", \"course\", \"course\", \"course\", \"course\", \"course\", \"course\", \"course\", \"course\", \"cox\", \"crack\", \"crack\", \"crecy\", \"crecy\", \"crecy\", \"crecy\", \"crimsworth\", \"crimsworth\", \"crimsworth\", \"crimsworth\", \"crimsworth\", \"crimsworth\", \"crimsworth\", \"cultivated\", \"cultivated\", \"cultivated\", \"cup\", \"cup\", \"cup\", \"cup\", \"cup\", \"cup\", \"curricle\", \"curtain\", \"curtain\", \"curtain\", \"curtain\", \"curtain\", \"curtain\", \"curtain\", \"darcy\", \"darcy\", \"darcy\", \"dark\", \"dark\", \"dark\", \"dark\", \"dark\", \"dark\", \"dark\", \"dark\", \"dark\", \"dark\", \"dark\", \"dark\", \"dashwood\", \"dashwood\", \"dashwood\", \"dashwood\", \"dashwood\", \"dashwoods\", \"dashwoods\", \"dawn\", \"dawn\", \"dawn\", \"dawn\", \"dawn\", \"dawn\", \"dawn\", \"day\", \"day\", \"day\", \"day\", \"day\", \"day\", \"day\", \"day\", \"day\", \"day\", \"day\", \"day\", \"day\", \"day\", \"day\", \"dear\", \"dear\", \"dear\", \"dear\", \"dear\", \"dear\", \"dear\", \"dear\", \"dear\", \"dear\", \"dear\", \"dear\", \"death\", \"death\", \"death\", \"death\", \"death\", \"death\", \"death\", \"death\", \"death\", \"death\", \"death\", \"decease\", \"decease\", \"decease\", \"decease\", \"decease\", \"deck\", \"deck\", \"defendue\", \"deformity\", \"deformity\", \"deformity\", \"degree\", \"degree\", \"degree\", \"degree\", \"degree\", \"degree\", \"degree\", \"degree\", \"degree\", \"degree\", \"degree\", \"degree\", \"delaford\", \"delaford\", \"demoiselles\", \"demoiselles\", \"demoiselles\", \"demonstrative\", \"denny\", \"denote\", \"denote\", \"denote\", \"denote\", \"dent\", \"deportment\", \"deportment\", \"deportment\", \"des\", \"des\", \"des\", \"des\", \"des\", \"desk\", \"desk\", \"desk\", \"desk\", \"desk\", \"desk\", \"desk\", \"desk\", \"desk\", \"desk\", \"despotism\", \"despotism\", \"despotism\", \"despotism\", \"devoirs\", \"devoirs\", \"devonshire\", \"devonshire\", \"devonshire\", \"devoting\", \"devoting\", \"devoting\", \"devoured\", \"diana\", \"diana\", \"diana\", \"diana\", \"diana\", \"diffused\", \"diffused\", \"diffused\", \"diffused\", \"dimly\", \"dingy\", \"dingy\", \"dingy\", \"director\", \"director\", \"director\", \"director\", \"director\", \"directress\", \"directress\", \"directress\", \"directress\", \"directress\", \"directress\", \"discharging\", \"discharging\", \"discharging\", \"discharging\", \"discharging\", \"dishes\", \"dishes\", \"dishes\", \"dishes\", \"dishes\", \"dishevelled\", \"dishevelled\", \"dishevelled\", \"dishevelled\", \"disposal\", \"disposal\", \"disposal\", \"disposal\", \"disposal\", \"dissimulation\", \"dissimulation\", \"doctor\", \"doctor\", \"doctor\", \"doctor\", \"document\", \"document\", \"document\", \"donwell\", \"donwell\", \"donwell\", \"door\", \"door\", \"door\", \"door\", \"door\", \"door\", \"door\", \"door\", \"door\", \"door\", \"door\", \"door\", \"door\", \"door\", \"doubt\", \"doubt\", \"doubt\", \"doubt\", \"doubt\", \"doubt\", \"doubt\", \"doubt\", \"doubt\", \"doubt\", \"doubt\", \"doubt\", \"doubt\", \"doubt\", \"dr\", \"dr\", \"dr\", \"dr\", \"dr\", \"dr\", \"dr\", \"drawings\", \"drawings\", \"drawings\", \"drawings\", \"drawings\", \"easy\", \"easy\", \"easy\", \"easy\", \"easy\", \"easy\", \"easy\", \"easy\", \"easy\", \"easy\", \"easy\", \"easy\", \"easy\", \"edward\", \"edward\", \"edward\", \"edward\", \"edward\", \"edward\", \"edward\", \"edward\", \"edward\", \"edward\", \"effusions\", \"elderly\", \"elderly\", \"elderly\", \"elderly\", \"elderly\", \"elderly\", \"elderly\", \"elinor\", \"elinor\", \"elinor\", \"elinor\", \"elinor\", \"elinor\", \"eliza\", \"eliza\", \"eliza\", \"eliza\", \"eliza\", \"eliza\", \"elizabeth\", \"elizabeth\", \"elizabeth\", \"elizabeth\", \"elizabeth\", \"elizabeth\", \"elizabeth\", \"elizabeth\", \"elizabeth\", \"elle\", \"elle\", \"elle\", \"elle\", \"elle\", \"elle\", \"elton\", \"elton\", \"elton\", \"elton\", \"elton\", \"elton\", \"elton\", \"eltons\", \"eltons\", \"emanuel\", \"emanuel\", \"emanuel\", \"emanuel\", \"emanuel\", \"embers\", \"embers\", \"emma\", \"emma\", \"emma\", \"emma\", \"emma\", \"emma\", \"emma\", \"emma\", \"emma\", \"employments\", \"employments\", \"encore\", \"encore\", \"encore\", \"encore\", \"enfin\", \"enfin\", \"engagement\", \"engagement\", \"engagement\", \"engagement\", \"engagement\", \"england\", \"england\", \"england\", \"england\", \"england\", \"england\", \"england\", \"england\", \"england\", \"england\", \"england\", \"england\", \"england\", \"english\", \"english\", \"english\", \"english\", \"english\", \"english\", \"english\", \"english\", \"english\", \"english\", \"english\", \"enlarge\", \"enlarge\", \"enlarge\", \"enlarge\", \"enlarged\", \"enlarged\", \"enlarged\", \"enlarged\", \"enormous\", \"enormous\", \"enormous\", \"enormous\", \"enounced\", \"enounced\", \"enounced\", \"enounced\", \"enquire\", \"enquiry\", \"enscombe\", \"enscombe\", \"enscombe\", \"entreaty\", \"entreaty\", \"enumerating\", \"enveloped\", \"equivalent\", \"equivalent\", \"equivalent\", \"equivalent\", \"er\", \"eshton\", \"est\", \"est\", \"est\", \"est\", \"est\", \"est\", \"est\", \"establishment\", \"establishment\", \"establishment\", \"establishment\", \"establishment\", \"establishment\", \"establishment\", \"establishment\", \"establishment\", \"establishment\", \"establishment\", \"estate\", \"estate\", \"estate\", \"estate\", \"estate\", \"estate\", \"estate\", \"estate\", \"estate\", \"estrade\", \"estrade\", \"et\", \"et\", \"et\", \"et\", \"et\", \"etes\", \"etes\", \"etre\", \"etre\", \"etre\", \"evans\", \"evans\", \"evans\", \"evening\", \"evening\", \"evening\", \"evening\", \"evening\", \"evening\", \"evening\", \"evening\", \"evening\", \"evening\", \"evening\", \"evening\", \"evening\", \"evening\", \"everybody\", \"everybody\", \"everybody\", \"everybody\", \"everybody\", \"everybody\", \"everybody\", \"exchanging\", \"exchanging\", \"exchanging\", \"exchanging\", \"existence\", \"existence\", \"existence\", \"existence\", \"existence\", \"existence\", \"existence\", \"existence\", \"existence\", \"existence\", \"expanse\", \"expanse\", \"expanse\", \"expect\", \"expect\", \"expect\", \"expect\", \"expect\", \"expect\", \"expect\", \"expect\", \"expenses\", \"expenses\", \"expenses\", \"expenses\", \"expenses\", \"experiment\", \"experiment\", \"experiment\", \"explore\", \"explore\", \"explore\", \"explore\", \"exploring\", \"exploring\", \"exploring\", \"external\", \"external\", \"external\", \"external\", \"external\", \"externes\", \"extorted\", \"extorted\", \"extorted\", \"eye\", \"eye\", \"eye\", \"eye\", \"eye\", \"eye\", \"eye\", \"eye\", \"eye\", \"eye\", \"eye\", \"eye\", \"eye\", \"eye\", \"eyelid\", \"eyelid\", \"eyelid\", \"eyes\", \"eyes\", \"eyes\", \"eyes\", \"eyes\", \"eyes\", \"eyes\", \"eyes\", \"eyes\", \"eyes\", \"eyes\", \"eyes\", \"eyes\", \"eyre\", \"eyre\", \"eyre\", \"eyre\", \"face\", \"face\", \"face\", \"face\", \"face\", \"face\", \"face\", \"face\", \"face\", \"face\", \"face\", \"face\", \"face\", \"face\", \"face\", \"fairfax\", \"fairfax\", \"fairfax\", \"fairfax\", \"fairfax\", \"fairfax\", \"fairfax\", \"fairfax\", \"fairfax\", \"fairfax\", \"fairfax\", \"family\", \"family\", \"family\", \"family\", \"family\", \"family\", \"family\", \"family\", \"family\", \"family\", \"family\", \"family\", \"family\", \"fanshawe\", \"fanshawe\", \"fanshawe\", \"fanshawe\", \"far\", \"far\", \"far\", \"far\", \"far\", \"far\", \"far\", \"far\", \"far\", \"far\", \"far\", \"far\", \"far\", \"far\", \"far\", \"farewell\", \"farewell\", \"farewell\", \"farewell\", \"farewell\", \"farewell\", \"father\", \"father\", \"father\", \"father\", \"father\", \"father\", \"father\", \"father\", \"father\", \"father\", \"father\", \"father\", \"father\", \"father\", \"fathers\", \"fathers\", \"fathers\", \"fathers\", \"features\", \"features\", \"features\", \"features\", \"features\", \"features\", \"features\", \"features\", \"features\", \"features\", \"features\", \"features\", \"fee\", \"fee\", \"fee\", \"feel\", \"feel\", \"feel\", \"feel\", \"feel\", \"feel\", \"feel\", \"feel\", \"feel\", \"feel\", \"feel\", \"feel\", \"feel\", \"feel\", \"feel\", \"feelings\", \"feelings\", \"feelings\", \"feelings\", \"feelings\", \"feelings\", \"feelings\", \"feelings\", \"feelings\", \"feelings\", \"feelings\", \"feelings\", \"feelings\", \"felicitations\", \"felicitations\", \"felicitations\", \"felt\", \"felt\", \"felt\", \"felt\", \"felt\", \"felt\", \"felt\", \"felt\", \"felt\", \"felt\", \"felt\", \"felt\", \"felt\", \"felt\", \"ferrars\", \"ferrars\", \"ferrars\", \"fetters\", \"fetters\", \"fiacre\", \"fiacre\", \"fifine\", \"fifine\", \"fifth\", \"fifth\", \"fifth\", \"fifth\", \"firmness\", \"firmness\", \"firmness\", \"firmness\", \"firmness\", \"firmness\", \"fitzwilliam\", \"fitzwilliam\", \"flamand\", \"flamand\", \"flown\", \"flown\", \"flown\", \"ford\", \"ford\", \"forster\", \"forster\", \"forster\", \"fortnight\", \"fortnight\", \"fortnight\", \"fortnight\", \"fortnight\", \"fortnight\", \"fortnight\", \"fortnight\", \"fortnight\", \"fortnight\", \"fortune\", \"fortune\", \"fortune\", \"fortune\", \"fortune\", \"fortune\", \"fortune\", \"fortune\", \"fortune\", \"fortune\", \"fortune\", \"fortune\", \"fortune\", \"fortune\", \"fortune\", \"forwarded\", \"forwarded\", \"forwarded\", \"fossette\", \"fossette\", \"fossette\", \"franc\", \"franc\", \"franc\", \"frances\", \"frances\", \"frances\", \"frances\", \"frances\", \"frances\", \"frances\", \"francs\", \"francs\", \"francs\", \"francs\", \"francs\", \"frank\", \"frank\", \"frank\", \"frank\", \"frank\", \"frank\", \"frank\", \"frank\", \"frank\", \"french\", \"french\", \"french\", \"french\", \"french\", \"french\", \"french\", \"french\", \"friend\", \"friend\", \"friend\", \"friend\", \"friend\", \"friend\", \"friend\", \"friend\", \"friend\", \"friend\", \"friend\", \"friend\", \"frock\", \"frock\", \"fulfil\", \"fulfil\", \"fulfil\", \"fulfil\", \"fulfil\", \"funeral\", \"funeral\", \"funeral\", \"funeral\", \"gall\", \"gall\", \"gall\", \"garcon\", \"garden\", \"garden\", \"garden\", \"garden\", \"garden\", \"garden\", \"garden\", \"garden\", \"garden\", \"garden\", \"garden\", \"gardiner\", \"gardiner\", \"gardiner\", \"gateshead\", \"gateshead\", \"gateshead\", \"generations\", \"generations\", \"generations\", \"generations\", \"generations\", \"georgiana\", \"georgiana\", \"georgiana\", \"georgiana\", \"georgiana\", \"georgiana\", \"georgiana\", \"getting\", \"getting\", \"getting\", \"getting\", \"getting\", \"getting\", \"getting\", \"getting\", \"getting\", \"getting\", \"getting\", \"ginevra\", \"ginevra\", \"ginevra\", \"ginevra\", \"given\", \"given\", \"given\", \"given\", \"given\", \"given\", \"given\", \"given\", \"given\", \"given\", \"given\", \"given\", \"given\", \"glide\", \"glide\", \"glide\", \"god\", \"god\", \"god\", \"god\", \"god\", \"god\", \"god\", \"god\", \"god\", \"god\", \"god\", \"goddard\", \"goddard\", \"goddard\", \"goddard\", \"good\", \"good\", \"good\", \"good\", \"good\", \"good\", \"good\", \"good\", \"good\", \"good\", \"good\", \"good\", \"good\", \"good\", \"good\", \"gracechurch\", \"gracechurch\", \"gracechurch\", \"graces\", \"graces\", \"graces\", \"graces\", \"graces\", \"graces\", \"graces\", \"graham\", \"graham\", \"graham\", \"graham\", \"graham\", \"graham\", \"graham\", \"graham\", \"grandmama\", \"grandmama\", \"grate\", \"grate\", \"grate\", \"grate\", \"great\", \"great\", \"great\", \"great\", \"great\", \"great\", \"great\", \"great\", \"great\", \"great\", \"great\", \"great\", \"great\", \"great\", \"greatness\", \"greatness\", \"greatness\", \"greatness\", \"greatness\", \"greatness\", \"grenier\", \"grimaces\", \"grimaces\", \"grimaces\", \"grove\", \"grove\", \"grove\", \"grove\", \"grove\", \"grove\", \"growth\", \"growth\", \"growth\", \"growth\", \"gruel\", \"gruel\", \"hail\", \"hair\", \"hair\", \"hair\", \"hair\", \"hair\", \"hair\", \"hair\", \"hair\", \"hair\", \"hair\", \"hair\", \"half\", \"half\", \"half\", \"half\", \"half\", \"half\", \"half\", \"half\", \"half\", \"half\", \"half\", \"half\", \"half\", \"half\", \"hall\", \"hall\", \"hall\", \"hall\", \"hall\", \"hall\", \"hall\", \"hall\", \"hall\", \"hall\", \"hall\", \"hand\", \"hand\", \"hand\", \"hand\", \"hand\", \"hand\", \"hand\", \"hand\", \"hand\", \"hand\", \"hand\", \"hand\", \"hand\", \"hand\", \"hands\", \"hands\", \"hands\", \"hands\", \"hands\", \"hands\", \"hands\", \"hands\", \"hands\", \"hands\", \"hands\", \"hands\", \"hands\", \"hands\", \"handsomer\", \"handsomer\", \"handwriting\", \"handwriting\", \"handwriting\", \"hannah\", \"hannah\", \"hannah\", \"hannah\", \"harangue\", \"harangue\", \"hardships\", \"hardships\", \"hardships\", \"harp\", \"harp\", \"harp\", \"harp\", \"harriet\", \"harriet\", \"harriet\", \"harriet\", \"harriet\", \"harriet\", \"harriet\", \"harriet\", \"hartfield\", \"hartfield\", \"hartfield\", \"hartfield\", \"hartfield\", \"having\", \"having\", \"having\", \"having\", \"having\", \"having\", \"having\", \"having\", \"having\", \"having\", \"having\", \"having\", \"having\", \"having\", \"hawkins\", \"head\", \"head\", \"head\", \"head\", \"head\", \"head\", \"head\", \"head\", \"head\", \"head\", \"head\", \"head\", \"head\", \"head\", \"head\", \"headache\", \"headache\", \"headache\", \"headache\", \"headache\", \"healthful\", \"heard\", \"heard\", \"heard\", \"heard\", \"heard\", \"heard\", \"heard\", \"heard\", \"heard\", \"heard\", \"heard\", \"heard\", \"heard\", \"heard\", \"heard\", \"heart\", \"heart\", \"heart\", \"heart\", \"heart\", \"heart\", \"heart\", \"heart\", \"heart\", \"heart\", \"heart\", \"heart\", \"heart\", \"heart\", \"heart\", \"helen\", \"helen\", \"helen\", \"helen\", \"henri\", \"henri\", \"henri\", \"henri\", \"henri\", \"henry\", \"henry\", \"henry\", \"henry\", \"hertfordshire\", \"hertfordshire\", \"hertfordshire\", \"highbury\", \"highbury\", \"highbury\", \"highbury\", \"highbury\", \"highbury\", \"higher\", \"higher\", \"higher\", \"higher\", \"higher\", \"higher\", \"higher\", \"higher\", \"hints\", \"hints\", \"hints\", \"hints\", \"hints\", \"hints\", \"hints\", \"hole\", \"home\", \"home\", \"home\", \"home\", \"home\", \"home\", \"home\", \"home\", \"home\", \"home\", \"home\", \"home\", \"honeymoon\", \"honeymoon\", \"house\", \"house\", \"house\", \"house\", \"house\", \"house\", \"house\", \"house\", \"house\", \"house\", \"house\", \"house\", \"house\", \"house\", \"housekeeping\", \"housekeeping\", \"housekeeping\", \"housekeeping\", \"hunsden\", \"hunsden\", \"hunsden\", \"hunsden\", \"hunsden\", \"hunsden\", \"hunsden\", \"hunsden\", \"hurst\", \"hurst\", \"il\", \"il\", \"il\", \"il\", \"il\", \"imbecile\", \"imbecile\", \"including\", \"including\", \"including\", \"including\", \"including\", \"including\", \"including\", \"income\", \"income\", \"income\", \"income\", \"income\", \"income\", \"income\", \"income\", \"income\", \"income\", \"india\", \"india\", \"india\", \"india\", \"indian\", \"indian\", \"indian\", \"indian\", \"infirm\", \"infirm\", \"inflicting\", \"inflicting\", \"inflicting\", \"inflicting\", \"ingram\", \"ingram\", \"ingram\", \"inquiry\", \"inquiry\", \"inquiry\", \"inquiry\", \"inquiry\", \"inquiry\", \"inquiry\", \"inquiry\", \"inquiry\", \"insane\", \"insane\", \"insane\", \"insight\", \"insight\", \"insight\", \"intelligent\", \"intelligent\", \"intelligent\", \"intelligent\", \"intelligent\", \"intelligent\", \"intelligent\", \"interior\", \"interior\", \"interior\", \"interior\", \"interrupting\", \"interrupting\", \"interrupting\", \"intimately\", \"intimately\", \"involuntarily\", \"involuntarily\", \"involuntarily\", \"involuntarily\", \"involuntarily\", \"involuntarily\", \"irritating\", \"irritating\", \"irritating\", \"isabella\", \"isabella\", \"isidore\", \"isidore\", \"isidore\", \"jane\", \"jane\", \"jane\", \"jane\", \"jane\", \"jane\", \"jane\", \"jane\", \"jane\", \"jane\", \"janet\", \"janet\", \"janet\", \"jar\", \"je\", \"je\", \"je\", \"je\", \"je\", \"jenkinson\", \"jennings\", \"jennings\", \"jennings\", \"john\", \"john\", \"john\", \"john\", \"john\", \"john\", \"john\", \"john\", \"john\", \"john\", \"john\", \"john\", \"joys\", \"joys\", \"judgement\", \"judgement\", \"jump\", \"jump\", \"jump\", \"justine\", \"justine\", \"justine\", \"kent\", \"kept\", \"kept\", \"kept\", \"kept\", \"kept\", \"kept\", \"kept\", \"kept\", \"kept\", \"kept\", \"kind\", \"kind\", \"kind\", \"kind\", \"kind\", \"kind\", \"kind\", \"kind\", \"kind\", \"kind\", \"kind\", \"kind\", \"kind\", \"kind\", \"kings\", \"kings\", \"kings\", \"kiss\", \"kiss\", \"kiss\", \"kiss\", \"kiss\", \"kiss\", \"kiss\", \"kiss\", \"kisses\", \"kisses\", \"kisses\", \"kisses\", \"knew\", \"knew\", \"knew\", \"knew\", \"knew\", \"knew\", \"knew\", \"knew\", \"knew\", \"knew\", \"knew\", \"knew\", \"knew\", \"knightley\", \"knightley\", \"knightley\", \"knightley\", \"knightley\", \"knightley\", \"knightley\", \"knightleys\", \"knightleys\", \"know\", \"know\", \"know\", \"know\", \"know\", \"know\", \"know\", \"know\", \"know\", \"know\", \"know\", \"know\", \"know\", \"know\", \"know\", \"la\", \"la\", \"la\", \"la\", \"la\", \"la\", \"la\", \"la\", \"lace\", \"lace\", \"lace\", \"lace\", \"lace\", \"lace\", \"lace\", \"lace\", \"lace\", \"lady\", \"lady\", \"lady\", \"lady\", \"lady\", \"lady\", \"lady\", \"lady\", \"lady\", \"lady\", \"lady\", \"lady\", \"lady\", \"lady\", \"lady\", \"larkins\", \"laugh\", \"laugh\", \"laugh\", \"laugh\", \"laugh\", \"laugh\", \"laugh\", \"laugh\", \"laugh\", \"laugh\", \"laugh\", \"laugh\", \"le\", \"le\", \"le\", \"le\", \"le\", \"le\", \"leah\", \"leah\", \"leah\", \"leah\", \"leaved\", \"leaved\", \"leaved\", \"left\", \"left\", \"left\", \"left\", \"left\", \"left\", \"left\", \"left\", \"left\", \"left\", \"left\", \"left\", \"left\", \"leg\", \"leg\", \"leg\", \"legitimate\", \"legitimate\", \"legitimate\", \"lengths\", \"lengths\", \"lengths\", \"lengths\", \"lengths\", \"les\", \"les\", \"les\", \"les\", \"lesson\", \"lesson\", \"lesson\", \"lesson\", \"lesson\", \"lesson\", \"lesson\", \"lesson\", \"lesson\", \"lesson\", \"let\", \"let\", \"let\", \"let\", \"let\", \"let\", \"let\", \"let\", \"let\", \"let\", \"let\", \"let\", \"letter\", \"letter\", \"letter\", \"letter\", \"letter\", \"letter\", \"letter\", \"letter\", \"letter\", \"letter\", \"letter\", \"letter\", \"letter\", \"levity\", \"levity\", \"levity\", \"levity\", \"levity\", \"lid\", \"lid\", \"lied\", \"lied\", \"lied\", \"life\", \"life\", \"life\", \"life\", \"life\", \"life\", \"life\", \"life\", \"life\", \"life\", \"life\", \"life\", \"life\", \"life\", \"light\", \"light\", \"light\", \"light\", \"light\", \"light\", \"light\", \"light\", \"light\", \"light\", \"light\", \"light\", \"lighting\", \"lighting\", \"like\", \"like\", \"like\", \"like\", \"like\", \"like\", \"like\", \"like\", \"like\", \"like\", \"like\", \"like\", \"like\", \"like\", \"likeness\", \"likeness\", \"likeness\", \"likeness\", \"likeness\", \"likeness\", \"likeness\", \"likeness\", \"likeness\", \"likeness\", \"likeness\", \"limited\", \"limited\", \"limited\", \"limited\", \"limited\", \"limited\", \"limited\", \"limited\", \"limited\", \"little\", \"little\", \"little\", \"little\", \"little\", \"little\", \"little\", \"little\", \"little\", \"little\", \"little\", \"little\", \"little\", \"little\", \"little\", \"live\", \"live\", \"live\", \"live\", \"live\", \"live\", \"live\", \"live\", \"live\", \"live\", \"live\", \"live\", \"live\", \"live\", \"lizzy\", \"lizzy\", \"lizzy\", \"lizzy\", \"lizzy\", \"ll\", \"ll\", \"ll\", \"ll\", \"ll\", \"ll\", \"ll\", \"ll\", \"ll\", \"ll\", \"lloyd\", \"lloyd\", \"lodge\", \"lodge\", \"lodge\", \"lodge\", \"lodge\", \"lodge\", \"long\", \"long\", \"long\", \"long\", \"long\", \"long\", \"long\", \"long\", \"long\", \"long\", \"long\", \"long\", \"long\", \"long\", \"long\", \"longbourn\", \"longbourn\", \"longbourn\", \"longstaple\", \"look\", \"look\", \"look\", \"look\", \"look\", \"look\", \"look\", \"look\", \"look\", \"look\", \"look\", \"look\", \"look\", \"look\", \"look\", \"looked\", \"looked\", \"looked\", \"looked\", \"looked\", \"looked\", \"looked\", \"looked\", \"looked\", \"looked\", \"looked\", \"looked\", \"looked\", \"looked\", \"looked\", \"love\", \"love\", \"love\", \"love\", \"love\", \"love\", \"love\", \"love\", \"love\", \"love\", \"love\", \"love\", \"love\", \"loved\", \"loved\", \"loved\", \"loved\", \"loved\", \"loved\", \"loved\", \"loved\", \"loved\", \"loved\", \"lowood\", \"lowood\", \"lowood\", \"lucas\", \"lucas\", \"lucas\", \"lucases\", \"lucases\", \"lucy\", \"lucy\", \"lucy\", \"lucy\", \"lucy\", \"lucy\", \"lucy\", \"lucy\", \"lucy\", \"lui\", \"lui\", \"lui\", \"luxuries\", \"luxuries\", \"luxuries\", \"luxuries\", \"luxuries\", \"luxury\", \"luxury\", \"luxury\", \"luxury\", \"luxury\", \"luxury\", \"luxury\", \"lydia\", \"lydia\", \"lydia\", \"lynn\", \"madame\", \"madame\", \"madame\", \"madame\", \"madame\", \"madame\", \"madame\", \"madame\", \"madame\", \"mademoiselle\", \"mademoiselle\", \"mademoiselle\", \"mademoiselle\", \"mademoiselle\", \"mademoiselle\", \"mademoiselle\", \"mademoiselle\", \"magi\", \"magi\", \"magi\", \"magna\", \"maintaining\", \"maintaining\", \"maintaining\", \"maintaining\", \"maintaining\", \"mais\", \"mais\", \"mais\", \"maker\", \"maker\", \"maker\", \"mal\", \"mal\", \"man\", \"man\", \"man\", \"man\", \"man\", \"man\", \"man\", \"man\", \"man\", \"man\", \"man\", \"man\", \"man\", \"maniac\", \"maniac\", \"maple\", \"maple\", \"maple\", \"marchmont\", \"marchmont\", \"marchmont\", \"margaret\", \"margaret\", \"margaret\", \"marianne\", \"marianne\", \"marianne\", \"marianne\", \"marianne\", \"marie\", \"marie\", \"marie\", \"marie\", \"marriage\", \"marriage\", \"marriage\", \"marriage\", \"marriage\", \"marriage\", \"marriage\", \"marriage\", \"marriage\", \"marriage\", \"martin\", \"martin\", \"martin\", \"martin\", \"martin\", \"mary\", \"mary\", \"mary\", \"mary\", \"mary\", \"mary\", \"mary\", \"mary\", \"mary\", \"mary\", \"mason\", \"mason\", \"mason\", \"mason\", \"master\", \"master\", \"master\", \"master\", \"master\", \"master\", \"master\", \"master\", \"master\", \"master\", \"master\", \"mdlle\", \"mdlle\", \"mdlle\", \"mdlle\", \"mdlle\", \"mdlle\", \"mdlle\", \"mender\", \"mender\", \"mental\", \"mental\", \"mental\", \"mental\", \"mental\", \"mental\", \"mental\", \"mental\", \"mental\", \"meryton\", \"meryton\", \"meryton\", \"messieurs\", \"messieurs\", \"messieurs\", \"messieurs\", \"middleton\", \"middleton\", \"middleton\", \"middleton\", \"middletons\", \"middletons\", \"mien\", \"mien\", \"mien\", \"mien\", \"mien\", \"mien\", \"military\", \"military\", \"military\", \"militia\", \"militia\", \"millcote\", \"millcote\", \"millcote\", \"miller\", \"miller\", \"mind\", \"mind\", \"mind\", \"mind\", \"mind\", \"mind\", \"mind\", \"mind\", \"mind\", \"mind\", \"mind\", \"mind\", \"mind\", \"mind\", \"mischievous\", \"mischievous\", \"mischievous\", \"mischievous\", \"misery\", \"misery\", \"misery\", \"misery\", \"misery\", \"misery\", \"misery\", \"miss\", \"miss\", \"miss\", \"miss\", \"miss\", \"miss\", \"miss\", \"miss\", \"miss\", \"miss\", \"miss\", \"miss\", \"miss\", \"missionary\", \"missionary\", \"missionary\", \"missis\", \"moi\", \"moi\", \"moi\", \"moment\", \"moment\", \"moment\", \"moment\", \"moment\", \"moment\", \"moment\", \"moment\", \"moment\", \"moment\", \"moment\", \"moment\", \"moment\", \"mon\", \"mon\", \"mon\", \"mon\", \"mon\", \"monday\", \"monday\", \"monsieur\", \"monsieur\", \"monsieur\", \"monsieur\", \"monsieur\", \"monsieur\", \"monsieur\", \"monsieur\", \"monsieur\", \"moors\", \"morals\", \"morals\", \"mother\", \"mother\", \"mother\", \"mother\", \"mother\", \"mother\", \"mother\", \"mother\", \"mother\", \"mother\", \"mother\", \"mother\", \"mother\", \"mother\", \"mound\", \"mound\", \"mud\", \"mud\", \"mud\", \"musical\", \"musical\", \"musical\", \"musical\", \"musical\", \"musical\", \"musical\", \"mystic\", \"mystic\", \"mystic\", \"nailed\", \"nailed\", \"nailed\", \"naked\", \"nash\", \"nash\", \"nash\", \"nation\", \"nation\", \"nation\", \"nation\", \"nations\", \"nations\", \"nations\", \"nations\", \"natural\", \"natural\", \"natural\", \"natural\", \"natural\", \"natural\", \"natural\", \"natural\", \"natural\", \"natural\", \"natural\", \"natural\", \"natural\", \"ne\", \"ne\", \"ne\", \"ne\", \"near\", \"near\", \"near\", \"near\", \"near\", \"near\", \"near\", \"near\", \"near\", \"near\", \"near\", \"near\", \"nest\", \"netherfield\", \"netherfield\", \"netherfield\", \"new\", \"new\", \"new\", \"new\", \"new\", \"new\", \"new\", \"new\", \"new\", \"new\", \"new\", \"new\", \"new\", \"new\", \"night\", \"night\", \"night\", \"night\", \"night\", \"night\", \"night\", \"night\", \"night\", \"night\", \"night\", \"night\", \"night\", \"ninety\", \"ninety\", \"ninety\", \"nobleman\", \"nobleman\", \"nobleman\", \"non\", \"non\", \"non\", \"nonsensical\", \"norland\", \"norland\", \"norland\", \"norland\", \"notre\", \"notre\", \"numero\", \"numero\", \"nun\", \"nun\", \"nun\", \"nun\", \"obeying\", \"obeying\", \"officers\", \"officers\", \"officers\", \"oh\", \"oh\", \"oh\", \"oh\", \"oh\", \"oh\", \"oh\", \"oh\", \"oh\", \"oh\", \"oh\", \"oh\", \"oh\", \"old\", \"old\", \"old\", \"old\", \"old\", \"old\", \"old\", \"old\", \"old\", \"old\", \"old\", \"old\", \"old\", \"old\", \"oratory\", \"oratory\", \"ou\", \"ou\", \"ou\", \"ou\", \"palmer\", \"palmer\", \"palmers\", \"panel\", \"panel\", \"panel\", \"papa\", \"papa\", \"papa\", \"papa\", \"papa\", \"papa\", \"papa\", \"papa\", \"papa\", \"papa\", \"papa\", \"paragraph\", \"paragraph\", \"paragraph\", \"paragraph\", \"paragraph\", \"paramount\", \"paramount\", \"paramount\", \"paramount\", \"parisian\", \"parisian\", \"parisian\", \"park\", \"park\", \"park\", \"park\", \"park\", \"park\", \"park\", \"park\", \"park\", \"park\", \"park\", \"park\", \"parties\", \"parties\", \"parties\", \"parties\", \"parties\", \"parties\", \"parties\", \"parties\", \"parties\", \"pas\", \"pas\", \"pas\", \"pas\", \"pas\", \"pas\", \"patrician\", \"patrician\", \"patrician\", \"patty\", \"paul\", \"paul\", \"paul\", \"paul\", \"paul\", \"paul\", \"paul\", \"paulina\", \"paulina\", \"paulina\", \"paulina\", \"paulina\", \"peak\", \"peak\", \"peak\", \"peak\", \"pelet\", \"pelet\", \"pelet\", \"pelet\", \"pelet\", \"pelet\", \"pelet\", \"pemberley\", \"pemberley\", \"pemberley\", \"pencil\", \"pencil\", \"pencil\", \"pencil\", \"pencil\", \"pencil\", \"pencil\", \"pensionnat\", \"pensionnat\", \"pensionnat\", \"pensionnat\", \"pensionnat\", \"pensionnat\", \"people\", \"people\", \"people\", \"people\", \"people\", \"people\", \"people\", \"people\", \"people\", \"people\", \"people\", \"people\", \"people\", \"people\", \"performances\", \"performances\", \"performances\", \"performances\", \"perry\", \"perry\", \"perry\", \"perry\", \"petit\", \"petit\", \"petit\", \"petit\", \"peut\", \"peut\", \"peut\", \"philanthropist\", \"philanthropist\", \"philanthropist\", \"philanthropist\", \"philanthropy\", \"philanthropy\", \"phillips\", \"phillips\", \"pictures\", \"pictures\", \"pictures\", \"pictures\", \"pictures\", \"pictures\", \"pictures\", \"pictures\", \"pictures\", \"pictures\", \"pictures\", \"pieces\", \"pieces\", \"pieces\", \"pieces\", \"pieces\", \"pieces\", \"pieces\", \"pierre\", \"pierre\", \"pile\", \"pilot\", \"pilot\", \"pilot\", \"place\", \"place\", \"place\", \"place\", \"place\", \"place\", \"place\", \"place\", \"place\", \"place\", \"place\", \"place\", \"place\", \"platform\", \"pleasure\", \"pleasure\", \"pleasure\", \"pleasure\", \"pleasure\", \"pleasure\", \"pleasure\", \"pleasure\", \"pleasure\", \"pleasure\", \"pleasure\", \"pleasure\", \"pleasure\", \"plebeian\", \"plebeian\", \"plebeian\", \"poet\", \"poet\", \"poet\", \"pomp\", \"pomp\", \"pomp\", \"pomp\", \"poole\", \"poole\", \"poor\", \"poor\", \"poor\", \"poor\", \"poor\", \"poor\", \"poor\", \"poor\", \"poor\", \"poor\", \"poor\", \"poor\", \"poor\", \"portfolio\", \"portfolio\", \"portfolio\", \"portfolio\", \"portfolio\", \"pounds\", \"pounds\", \"pounds\", \"pounds\", \"pounds\", \"pounds\", \"pounds\", \"pounds\", \"pounds\", \"pounds\", \"power\", \"power\", \"power\", \"power\", \"power\", \"power\", \"power\", \"power\", \"power\", \"power\", \"power\", \"power\", \"power\", \"power\", \"preparations\", \"preparations\", \"preparations\", \"preparations\", \"preparations\", \"pretty\", \"pretty\", \"pretty\", \"pretty\", \"pretty\", \"pretty\", \"pretty\", \"pretty\", \"pretty\", \"pretty\", \"pretty\", \"pretty\", \"pretty\", \"priest\", \"priest\", \"priest\", \"priest\", \"problem\", \"professional\", \"professional\", \"promptitude\", \"promptitude\", \"promptitude\", \"promptitude\", \"property\", \"property\", \"property\", \"property\", \"property\", \"property\", \"property\", \"property\", \"propre\", \"propre\", \"propre\", \"prose\", \"prose\", \"prose\", \"prose\", \"prosperity\", \"prosperity\", \"prosperity\", \"prosperity\", \"prosperity\", \"prosperity\", \"protestants\", \"protestants\", \"publicity\", \"publicity\", \"publicity\", \"publicity\", \"punctuality\", \"punctuality\", \"punctuality\", \"punctuality\", \"punctuality\", \"pupil\", \"pupil\", \"pupil\", \"pupil\", \"pupil\", \"pupil\", \"pupil\", \"pupil\", \"pupil\", \"pupils\", \"pupils\", \"pupils\", \"pupils\", \"pupils\", \"pupils\", \"pupils\", \"pushing\", \"pushing\", \"pushing\", \"pushing\", \"qu\", \"qu\", \"qu\", \"qu\", \"quarrelled\", \"quarrelled\", \"quarrelled\", \"quarrelled\", \"que\", \"que\", \"que\", \"que\", \"que\", \"quel\", \"quel\", \"rainbow\", \"rainbow\", \"rainbow\", \"randalls\", \"randalls\", \"randalls\", \"rats\", \"rats\", \"rats\", \"rays\", \"rays\", \"read\", \"read\", \"read\", \"read\", \"read\", \"read\", \"read\", \"read\", \"read\", \"read\", \"read\", \"read\", \"read\", \"read\", \"recital\", \"reckon\", \"reckon\", \"reckon\", \"reckon\", \"recurrence\", \"recurrence\", \"recurrence\", \"recurrence\", \"recurrence\", \"reed\", \"reed\", \"reed\", \"reed\", \"regiment\", \"regiment\", \"regiment\", \"regiment\", \"regularity\", \"regularity\", \"regularity\", \"relatives\", \"relatives\", \"relatives\", \"relatives\", \"reluctantly\", \"reluctantly\", \"reluctantly\", \"reluctantly\", \"reminiscences\", \"reminiscences\", \"reminiscences\", \"remnant\", \"replied\", \"replied\", \"replied\", \"replied\", \"replied\", \"replied\", \"replied\", \"replied\", \"replied\", \"replied\", \"replied\", \"replied\", \"reported\", \"reported\", \"reported\", \"reported\", \"repugnance\", \"repugnance\", \"repugnance\", \"repugnance\", \"resided\", \"resided\", \"resided\", \"resided\", \"resources\", \"resources\", \"resources\", \"resources\", \"resources\", \"resources\", \"resources\", \"rests\", \"rests\", \"reuter\", \"reuter\", \"reuter\", \"reuter\", \"reuter\", \"richard\", \"richard\", \"richard\", \"richard\", \"richer\", \"richer\", \"richer\", \"richer\", \"richmond\", \"riddle\", \"riddle\", \"riddle\", \"riddle\", \"rivers\", \"rivers\", \"rivers\", \"rivers\", \"rivers\", \"rivers\", \"robert\", \"robert\", \"robert\", \"robert\", \"robert\", \"rochester\", \"rochester\", \"rochester\", \"rochester\", \"rochester\", \"rochester\", \"rochester\", \"rochester\", \"rome\", \"rome\", \"rome\", \"rome\", \"rome\", \"rome\", \"rome\", \"room\", \"room\", \"room\", \"room\", \"room\", \"room\", \"room\", \"room\", \"room\", \"room\", \"room\", \"room\", \"room\", \"room\", \"rosamond\", \"rosamond\", \"rosine\", \"rosine\", \"rough\", \"rough\", \"rough\", \"rough\", \"rough\", \"rough\", \"rough\", \"round\", \"round\", \"round\", \"round\", \"round\", \"round\", \"round\", \"round\", \"round\", \"round\", \"round\", \"round\", \"round\", \"round\", \"rubber\", \"rubber\", \"rubber\", \"rue\", \"rue\", \"rue\", \"rue\", \"rue\", \"rue\", \"rumour\", \"rumour\", \"rumour\", \"rumour\", \"rumour\", \"rumour\", \"rumour\", \"sacrifices\", \"sacrifices\", \"sacrifices\", \"salary\", \"salary\", \"salary\", \"salary\", \"salary\", \"salary\", \"salary\", \"salary\", \"salary\", \"sarah\", \"sarah\", \"sarah\", \"sarcastic\", \"sarcastic\", \"sarcastic\", \"sarcastic\", \"saturday\", \"saturday\", \"saturday\", \"saturday\", \"saturday\", \"saw\", \"saw\", \"saw\", \"saw\", \"saw\", \"saw\", \"saw\", \"saw\", \"saw\", \"saw\", \"saw\", \"saw\", \"saw\", \"saw\", \"scarcely\", \"scarcely\", \"scarcely\", \"scarcely\", \"scarcely\", \"scarcely\", \"scarcely\", \"scarcely\", \"scarcely\", \"scarcely\", \"scarcely\", \"scatcherd\", \"scotch\", \"scotch\", \"scotch\", \"scotch\", \"scotch\", \"scotch\", \"scowled\", \"scowled\", \"scowled\", \"scrape\", \"scrape\", \"scrape\", \"scrape\", \"scrape\", \"scrupled\", \"scrupled\", \"scrupled\", \"scrupled\", \"sea\", \"sea\", \"sea\", \"sea\", \"sea\", \"sea\", \"sea\", \"sea\", \"sea\", \"sea\", \"seacombe\", \"seacombe\", \"seas\", \"seas\", \"seas\", \"secured\", \"secured\", \"secured\", \"secured\", \"secured\", \"secured\", \"secured\", \"secured\", \"secured\", \"secured\", \"self\", \"self\", \"self\", \"self\", \"self\", \"self\", \"self\", \"self\", \"self\", \"self\", \"self\", \"self\", \"selina\", \"selina\", \"serenity\", \"serenity\", \"serenity\", \"serenity\", \"shall\", \"shall\", \"shall\", \"shall\", \"shall\", \"shall\", \"shall\", \"shall\", \"shall\", \"shall\", \"shall\", \"shall\", \"shall\", \"shelves\", \"shelves\", \"shelves\", \"shire\", \"shire\", \"shire\", \"shire\", \"shire\", \"shire\", \"shire\", \"shire\", \"shire\", \"shrine\", \"shrine\", \"shudder\", \"shudder\", \"shudder\", \"sickening\", \"sickening\", \"sickly\", \"sickly\", \"sickly\", \"sickly\", \"sir\", \"sir\", \"sir\", \"sir\", \"sir\", \"sir\", \"sir\", \"sir\", \"sir\", \"sir\", \"sir\", \"sir\", \"sister\", \"sister\", \"sister\", \"sister\", \"sister\", \"sister\", \"sister\", \"sister\", \"sister\", \"sister\", \"sister\", \"sister\", \"sisters\", \"sisters\", \"sisters\", \"sisters\", \"sisters\", \"sisters\", \"sisters\", \"sisters\", \"sisters\", \"sisters\", \"sisters\", \"sixpence\", \"sixpence\", \"sixpence\", \"sixpence\", \"sketch\", \"sketch\", \"sketch\", \"sketch\", \"sketch\", \"sketch\", \"sketch\", \"sketch\", \"skies\", \"sleeper\", \"sleeve\", \"slippery\", \"slippery\", \"slippery\", \"slippery\", \"slippery\", \"smallridge\", \"smith\", \"smith\", \"smith\", \"smith\", \"smith\", \"smith\", \"sneered\", \"sneered\", \"society\", \"society\", \"society\", \"society\", \"society\", \"society\", \"society\", \"society\", \"society\", \"society\", \"society\", \"society\", \"society\", \"society\", \"soir\", \"soir\", \"soir\", \"soit\", \"soit\", \"somersetshire\", \"son\", \"son\", \"son\", \"son\", \"son\", \"son\", \"son\", \"son\", \"son\", \"son\", \"son\", \"soon\", \"soon\", \"soon\", \"soon\", \"soon\", \"soon\", \"soon\", \"soon\", \"soon\", \"soon\", \"soon\", \"soon\", \"soon\", \"soon\", \"soon\", \"sort\", \"sort\", \"sort\", \"sort\", \"sort\", \"sort\", \"sort\", \"sort\", \"sort\", \"sort\", \"sort\", \"sort\", \"sparkled\", \"sparkled\", \"sparkled\", \"sparkled\", \"speak\", \"speak\", \"speak\", \"speak\", \"speak\", \"speak\", \"speak\", \"speak\", \"speak\", \"speak\", \"speak\", \"speak\", \"spectacles\", \"spectacles\", \"spectacles\", \"spectacles\", \"spectacles\", \"spectacles\", \"spectacles\", \"spectral\", \"spirits\", \"spirits\", \"spirits\", \"spirits\", \"spirits\", \"spirits\", \"spirits\", \"spirits\", \"spirits\", \"spirits\", \"spirits\", \"spirits\", \"spirits\", \"st\", \"st\", \"st\", \"st\", \"st\", \"st\", \"st\", \"st\", \"st\", \"st\", \"sternly\", \"sternly\", \"stile\", \"stood\", \"stood\", \"stood\", \"stood\", \"stood\", \"stood\", \"stood\", \"stood\", \"stood\", \"stood\", \"stood\", \"storeroom\", \"storeroom\", \"storeroom\", \"storey\", \"storms\", \"storms\", \"storms\", \"strange\", \"strange\", \"strange\", \"strange\", \"strange\", \"strange\", \"strange\", \"strange\", \"strange\", \"strange\", \"strange\", \"strange\", \"submissive\", \"submissive\", \"submissive\", \"submissive\", \"submissive\", \"submissive\", \"subside\", \"subside\", \"sun\", \"sun\", \"sun\", \"sun\", \"sun\", \"sun\", \"sun\", \"sun\", \"suns\", \"suns\", \"superiority\", \"superiority\", \"superiority\", \"superiority\", \"superiority\", \"superiority\", \"superiority\", \"sure\", \"sure\", \"sure\", \"sure\", \"sure\", \"sure\", \"sure\", \"sure\", \"sure\", \"sure\", \"sure\", \"sure\", \"sure\", \"sure\", \"surgeon\", \"surgeon\", \"surgeon\", \"surgeon\", \"surprise\", \"surprise\", \"surprise\", \"surprise\", \"surprise\", \"surprise\", \"surprise\", \"surprise\", \"surprise\", \"surprize\", \"surprize\", \"surprize\", \"surprized\", \"surry\", \"surry\", \"swelled\", \"swelled\", \"swelled\", \"swelled\", \"swelled\", \"swelled\", \"swiss\", \"swiss\", \"swiss\", \"switzerland\", \"switzerland\", \"switzerland\", \"swung\", \"swung\", \"swung\", \"talents\", \"talents\", \"talents\", \"talents\", \"talents\", \"talents\", \"talents\", \"talents\", \"talker\", \"talker\", \"talker\", \"talker\", \"talker\", \"taylor\", \"taylor\", \"taylor\", \"teacher\", \"teacher\", \"teacher\", \"teacher\", \"teacher\", \"teacher\", \"teacher\", \"teacher\", \"teacher\", \"tell\", \"tell\", \"tell\", \"tell\", \"tell\", \"tell\", \"tell\", \"tell\", \"tell\", \"tell\", \"tell\", \"tell\", \"tell\", \"tell\", \"temple\", \"temple\", \"temple\", \"temple\", \"terrasse\", \"terrasse\", \"terrasse\", \"thing\", \"thing\", \"thing\", \"thing\", \"thing\", \"thing\", \"thing\", \"thing\", \"thing\", \"thing\", \"thing\", \"thing\", \"thing\", \"thing\", \"thing\", \"think\", \"think\", \"think\", \"think\", \"think\", \"think\", \"think\", \"think\", \"think\", \"think\", \"think\", \"think\", \"think\", \"think\", \"think\", \"thornfield\", \"thornfield\", \"thornfield\", \"thornfield\", \"thornfield\", \"thought\", \"thought\", \"thought\", \"thought\", \"thought\", \"thought\", \"thought\", \"thought\", \"thought\", \"thought\", \"thought\", \"thought\", \"thought\", \"thought\", \"thought\", \"thousand\", \"thousand\", \"thousand\", \"thousand\", \"thousand\", \"thousand\", \"thousand\", \"thousand\", \"thousand\", \"thousand\", \"thousand\", \"thousand\", \"thousand\", \"throne\", \"throne\", \"tied\", \"tied\", \"tied\", \"tied\", \"tied\", \"tied\", \"time\", \"time\", \"time\", \"time\", \"time\", \"time\", \"time\", \"time\", \"time\", \"time\", \"time\", \"time\", \"time\", \"time\", \"tints\", \"tints\", \"tints\", \"took\", \"took\", \"took\", \"took\", \"took\", \"took\", \"took\", \"took\", \"took\", \"took\", \"took\", \"took\", \"took\", \"took\", \"town\", \"town\", \"town\", \"town\", \"town\", \"town\", \"town\", \"town\", \"town\", \"town\", \"town\", \"town\", \"town\", \"town\", \"traced\", \"traced\", \"traced\", \"traced\", \"traced\", \"traced\", \"tranquilly\", \"tranquilly\", \"tranquilly\", \"tranquilly\", \"tranquilly\", \"treats\", \"treats\", \"treats\", \"triumphantly\", \"triumphantly\", \"triumphantly\", \"trod\", \"troop\", \"troop\", \"troop\", \"truths\", \"truths\", \"truths\", \"truths\", \"turned\", \"turned\", \"turned\", \"turned\", \"turned\", \"turned\", \"turned\", \"turned\", \"turned\", \"turned\", \"turned\", \"turned\", \"turned\", \"turned\", \"turned\", \"tutor\", \"tutor\", \"tutor\", \"tutor\", \"unceasing\", \"uncle\", \"uncle\", \"uncle\", \"uncle\", \"uncle\", \"uncle\", \"uncle\", \"uncle\", \"uncle\", \"uncle\", \"uncle\", \"uncle\", \"undone\", \"undone\", \"undone\", \"undone\", \"unfrequently\", \"unfrequently\", \"unfrequently\", \"unfrequently\", \"unhappiness\", \"unkind\", \"unkind\", \"unkind\", \"unkind\", \"unkind\", \"unmarried\", \"unmarried\", \"unprepared\", \"unprepared\", \"unprepared\", \"unprepared\", \"unwholesome\", \"unwholesome\", \"unwholesome\", \"unwholesome\", \"unwillingly\", \"vandenhuten\", \"vandenhuten\", \"varens\", \"vases\", \"vases\", \"vases\", \"vases\", \"ve\", \"ve\", \"ve\", \"ve\", \"ve\", \"ve\", \"ve\", \"ve\", \"veil\", \"veil\", \"veil\", \"veil\", \"veil\", \"veil\", \"vicar\", \"vicar\", \"vicar\", \"vicar\", \"victor\", \"victor\", \"victor\", \"villette\", \"villette\", \"villette\", \"villette\", \"villette\", \"violets\", \"visage\", \"visage\", \"visage\", \"visage\", \"visage\", \"voice\", \"voice\", \"voice\", \"voice\", \"voice\", \"voice\", \"voice\", \"voice\", \"voice\", \"voice\", \"voice\", \"voice\", \"voice\", \"voice\", \"volume\", \"volume\", \"volume\", \"volume\", \"volume\", \"vous\", \"vous\", \"vous\", \"vous\", \"vous\", \"walravens\", \"walravens\", \"walravens\", \"wanted\", \"wanted\", \"wanted\", \"wanted\", \"wanted\", \"wanted\", \"wanted\", \"wanted\", \"wanted\", \"wanted\", \"wanted\", \"wanted\", \"wanted\", \"wanted\", \"way\", \"way\", \"way\", \"way\", \"way\", \"way\", \"way\", \"way\", \"way\", \"way\", \"way\", \"way\", \"way\", \"way\", \"way\", \"went\", \"went\", \"went\", \"went\", \"went\", \"went\", \"went\", \"went\", \"went\", \"went\", \"went\", \"went\", \"went\", \"went\", \"weston\", \"weston\", \"weston\", \"weston\", \"weston\", \"weston\", \"weston\", \"weston\", \"wheel\", \"white\", \"white\", \"white\", \"white\", \"white\", \"white\", \"white\", \"white\", \"white\", \"white\", \"wickham\", \"wickham\", \"wider\", \"wider\", \"wider\", \"willoughby\", \"willoughby\", \"windows\", \"windows\", \"windows\", \"windows\", \"windows\", \"windows\", \"windows\", \"windows\", \"windows\", \"windsor\", \"winning\", \"winning\", \"wives\", \"wives\", \"wives\", \"wives\", \"wives\", \"wives\", \"woman\", \"woman\", \"woman\", \"woman\", \"woman\", \"woman\", \"woman\", \"woman\", \"woman\", \"woman\", \"woman\", \"woman\", \"woman\", \"wont\", \"wont\", \"wont\", \"woodhouse\", \"woodhouse\", \"woodhouse\", \"woodhouse\", \"woodhouse\", \"woodhouse\", \"word\", \"word\", \"word\", \"word\", \"word\", \"word\", \"word\", \"word\", \"word\", \"word\", \"word\", \"word\", \"word\", \"word\", \"word\", \"world\", \"world\", \"world\", \"world\", \"world\", \"world\", \"world\", \"world\", \"world\", \"world\", \"world\", \"world\", \"world\", \"world\", \"xvii\", \"xvii\", \"xvii\", \"xvii\", \"xvii\", \"year\", \"year\", \"year\", \"year\", \"year\", \"year\", \"year\", \"year\", \"year\", \"year\", \"year\", \"year\", \"year\", \"years\", \"years\", \"years\", \"years\", \"years\", \"years\", \"years\", \"years\", \"years\", \"years\", \"years\", \"years\", \"years\", \"years\", \"yes\", \"yes\", \"yes\", \"yes\", \"yes\", \"yes\", \"yes\", \"yes\", \"yes\", \"yes\", \"yes\", \"yes\", \"yes\", \"yes\", \"yorke\", \"yorke\", \"young\", \"young\", \"young\", \"young\", \"young\", \"young\", \"young\", \"young\", \"young\", \"young\", \"young\", \"young\", \"young\", \"young\", \"young\", \"zoraide\", \"zoraide\", \"zoraide\", \"zoraide\", \"zoraide\"]}, \"R\": 30, \"lambda.step\": 0.01, \"plot.opts\": {\"xlab\": \"PC1\", \"ylab\": \"PC2\"}, \"topic.order\": [11, 5, 12, 14, 6, 7, 3, 2, 8, 13, 9, 10, 4, 1, 15]};\n",
       "\n",
       "function LDAvis_load_lib(url, callback){\n",
       "  var s = document.createElement('script');\n",
       "  s.src = url;\n",
       "  s.async = true;\n",
       "  s.onreadystatechange = s.onload = callback;\n",
       "  s.onerror = function(){console.warn(\"failed to load library \" + url);};\n",
       "  document.getElementsByTagName(\"head\")[0].appendChild(s);\n",
       "}\n",
       "\n",
       "if(typeof(LDAvis) !== \"undefined\"){\n",
       "   // already loaded: just create the visualization\n",
       "   !function(LDAvis){\n",
       "       new LDAvis(\"#\" + \"ldavis_el257411122082513044498088709\", ldavis_el257411122082513044498088709_data);\n",
       "   }(LDAvis);\n",
       "}else if(typeof define === \"function\" && define.amd){\n",
       "   // require.js is available: use it to load d3/LDAvis\n",
       "   require.config({paths: {d3: \"https://cdnjs.cloudflare.com/ajax/libs/d3/3.5.5/d3.min\"}});\n",
       "   require([\"d3\"], function(d3){\n",
       "      window.d3 = d3;\n",
       "      LDAvis_load_lib(\"https://cdn.rawgit.com/bmabey/pyLDAvis/files/ldavis.v1.0.0.js\", function(){\n",
       "        new LDAvis(\"#\" + \"ldavis_el257411122082513044498088709\", ldavis_el257411122082513044498088709_data);\n",
       "      });\n",
       "    });\n",
       "}else{\n",
       "    // require.js not available: dynamically load d3 & LDAvis\n",
       "    LDAvis_load_lib(\"https://cdnjs.cloudflare.com/ajax/libs/d3/3.5.5/d3.min.js\", function(){\n",
       "         LDAvis_load_lib(\"https://cdn.rawgit.com/bmabey/pyLDAvis/files/ldavis.v1.0.0.js\", function(){\n",
       "                 new LDAvis(\"#\" + \"ldavis_el257411122082513044498088709\", ldavis_el257411122082513044498088709_data);\n",
       "            })\n",
       "         });\n",
       "}\n",
       "</script>"
      ],
      "text/plain": [
       "PreparedData(topic_coordinates=              x         y  topics  cluster       Freq\n",
       "topic                                                \n",
       "10    -0.045594  0.020556       1        1  21.411926\n",
       "4     -0.077666  0.055243       2        1  17.607483\n",
       "11     0.141289  0.008634       3        1  16.260637\n",
       "13     0.104043  0.014424       4        1  16.003149\n",
       "5      0.152210  0.012564       5        1  10.043459\n",
       "6     -0.013860  0.051119       6        1   6.805943\n",
       "2     -0.077657  0.072671       7        1   3.625703\n",
       "1     -0.033809  0.047089       8        1   2.328252\n",
       "7     -0.071730  0.053930       9        1   1.555922\n",
       "12     0.095364 -0.031605      10        1   1.282468\n",
       "8      0.052509 -0.003885      11        1   1.224832\n",
       "9      0.006459 -0.050557      12        1   0.866365\n",
       "3     -0.099428 -0.027452      13        1   0.458793\n",
       "0     -0.046036 -0.148618      14        1   0.262597\n",
       "14    -0.086092 -0.074113      15        1   0.262477, topic_info=     Category         Freq          Term        Total  loglift  logprob\n",
       "90    Default   836.000000          emma   836.000000  30.0000  30.0000\n",
       "177   Default  1711.000000        little  1711.000000  29.0000  29.0000\n",
       "848   Default   931.000000          jane   931.000000  28.0000  28.0000\n",
       "1131  Default  1535.000000          miss  1535.000000  27.0000  27.0000\n",
       "414   Default  1318.000000          like  1318.000000  26.0000  26.0000\n",
       "495   Default  1312.000000         think  1312.000000  25.0000  25.0000\n",
       "1641  Default   657.000000     elizabeth   657.000000  24.0000  24.0000\n",
       "1197  Default   596.000000           sir   596.000000  23.0000  23.0000\n",
       "387   Default  1349.000000          good  1349.000000  22.0000  22.0000\n",
       "271   Default   776.000000         thing   776.000000  21.0000  21.0000\n",
       "169   Default  1437.000000          know  1437.000000  20.0000  20.0000\n",
       "913   Default   357.000000     rochester   357.000000  19.0000  19.0000\n",
       "195   Default   672.000000        mother   672.000000  18.0000  18.0000\n",
       "272   Default  1136.000000       thought  1136.000000  17.0000  17.0000\n",
       "681   Default   920.000000         shall   920.000000  16.0000  16.0000\n",
       "134   Default   510.000000       harriet   510.000000  15.0000  15.0000\n",
       "1297  Default   361.000000       fairfax   361.000000  14.0000  14.0000\n",
       "2119  Default   424.000000         darcy   424.000000  13.0000  13.0000\n",
       "702   Default   614.000000          sure   614.000000  12.0000  12.0000\n",
       "89    Default   370.000000         elton   370.000000  11.0000  11.0000\n",
       "496   Default  1315.000000          time  1315.000000  10.0000  10.0000\n",
       "2721  Default   695.000000        elinor   695.000000   9.0000   9.0000\n",
       "2745  Default   576.000000      marianne   576.000000   8.0000   8.0000\n",
       "179   Default   934.000000          long   934.000000   7.0000   7.0000\n",
       "509   Default   427.000000        weston   427.000000   6.0000   6.0000\n",
       "351   Default  1058.000000           day  1058.000000   5.0000   5.0000\n",
       "562   Default   587.000000          dear   587.000000   4.0000   4.0000\n",
       "434   Default   622.000000         night   622.000000   3.0000   3.0000\n",
       "2485  Default   272.000000      monsieur   272.000000   2.0000   2.0000\n",
       "148   Default   753.000000         house   753.000000   1.0000   1.0000\n",
       "...       ...          ...           ...          ...      ...      ...\n",
       "2198  Topic15     1.191029      capacity    21.045624   3.0709  -6.5378\n",
       "1831  Topic15     2.633766  mademoiselle   114.244507   2.1728  -5.7442\n",
       "1653  Topic15     1.194112      firmness    22.450764   3.0088  -6.5352\n",
       "1906  Topic15     1.775600        accent    53.255692   2.5418  -6.1385\n",
       "5422  Topic15     1.162497         hints    21.797066   3.0116  -6.5620\n",
       "6008  Topic15     1.547797      pictures    41.826511   2.6461  -6.2758\n",
       "1251  Topic15     2.444135          book   166.297684   1.7227  -5.8189\n",
       "1640  Topic15     1.620805         eliza    60.185501   2.3283  -6.2297\n",
       "2087  Topic15     1.125771        volume    23.958714   2.8849  -6.5941\n",
       "1138  Topic15     2.362336       natural   183.846329   1.5883  -5.8529\n",
       "318   Topic15     2.808324         asked   396.865601   0.9918  -5.6800\n",
       "70    Topic15     2.661690        course   340.516144   1.0913  -5.7336\n",
       "2788  Topic15     2.320266        wanted   233.277649   1.3322  -5.8709\n",
       "1061  Topic15     2.050897       english   223.400116   1.2521  -5.9943\n",
       "513   Topic15     2.330263          word   393.000946   0.8149  -5.8666\n",
       "678   Topic15     1.945711      scarcely   200.409225   1.3080  -6.0470\n",
       "387   Topic15     2.824890          good  1349.910400  -0.2266  -5.6741\n",
       "177   Topic15     2.958398        little  1711.304443  -0.4176  -5.6279\n",
       "169   Topic15     2.836005          know  1437.923340  -0.2858  -5.6702\n",
       "496   Topic15     2.786014          time  1315.129150  -0.2143  -5.6880\n",
       "472   Topic15     2.465385           saw   778.388916   0.1879  -5.8102\n",
       "351   Topic15     2.355530           day  1058.313477  -0.1649  -5.8558\n",
       "570   Topic15     1.910507         doubt   315.451721   0.8361  -6.0652\n",
       "217   Topic15     1.813373         power   248.782471   1.0214  -6.1174\n",
       "506   Topic15     1.853801         voice   395.435272   0.5800  -6.0954\n",
       "272   Topic15     1.950029       thought  1136.645264  -0.4252  -6.0447\n",
       "518   Topic15     1.882114         young   664.609924   0.0760  -6.0802\n",
       "416   Topic15     1.846061          look   637.397461   0.0984  -6.0995\n",
       "374   Topic15     1.834379          face   499.783569   0.3353  -6.1059\n",
       "181   Topic15     1.813011        looked   696.602417  -0.0085  -6.1176\n",
       "\n",
       "[1125 rows x 6 columns], token_table=      Topic      Freq           Term\n",
       "term                                \n",
       "0         3  0.958440          abbey\n",
       "6075      5  0.147771          abide\n",
       "6075      6  0.738853          abide\n",
       "1906      1  0.300437         accent\n",
       "1906      2  0.225328         accent\n",
       "1906      3  0.075109         accent\n",
       "1906      4  0.112664         accent\n",
       "1906      6  0.075109         accent\n",
       "1906      7  0.075109         accent\n",
       "1906      8  0.056332         accent\n",
       "1906      9  0.037555         accent\n",
       "1906     15  0.037555         accent\n",
       "2092      1  0.066859  acquaintances\n",
       "2092      3  0.066859  acquaintances\n",
       "2092      5  0.735444  acquaintances\n",
       "2092      6  0.066859  acquaintances\n",
       "4844      2  0.855206        actress\n",
       "734       1  0.838484          adele\n",
       "734       6  0.015108          adele\n",
       "734       9  0.015108          adele\n",
       "734      12  0.098201          adele\n",
       "734      13  0.015108          adele\n",
       "734      14  0.007554          adele\n",
       "4048      3  0.187652   administered\n",
       "4048      7  0.375303   administered\n",
       "4048      9  0.375303   administered\n",
       "6431      1  0.559907       adoption\n",
       "6431     12  0.373272       adoption\n",
       "6051      1  0.556188         aerial\n",
       "6051      2  0.185396         aerial\n",
       "...     ...       ...            ...\n",
       "517       7  0.016739            yes\n",
       "517       8  0.003348            yes\n",
       "517       9  0.028456            yes\n",
       "517      10  0.013391            yes\n",
       "517      11  0.010043            yes\n",
       "517      12  0.023435            yes\n",
       "517      13  0.003348            yes\n",
       "517      15  0.001674            yes\n",
       "7303      6  0.681069          yorke\n",
       "7303      8  0.227023          yorke\n",
       "518       1  0.135418          young\n",
       "518       2  0.124885          young\n",
       "518       3  0.258798          young\n",
       "518       4  0.162501          young\n",
       "518       5  0.185071          young\n",
       "518       6  0.042130          young\n",
       "518       7  0.018056          young\n",
       "518       8  0.030093          young\n",
       "518       9  0.004514          young\n",
       "518      10  0.010532          young\n",
       "518      11  0.012037          young\n",
       "518      12  0.006019          young\n",
       "518      13  0.003009          young\n",
       "518      14  0.001505          young\n",
       "518      15  0.003009          young\n",
       "5389      2  0.525994        zoraide\n",
       "5389      6  0.037571        zoraide\n",
       "5389      8  0.338139        zoraide\n",
       "5389     12  0.037571        zoraide\n",
       "5389     13  0.037571        zoraide\n",
       "\n",
       "[4380 rows x 3 columns], R=30, lambda_step=0.01, plot_opts={'xlab': 'PC1', 'ylab': 'PC2'}, topic_order=[11, 5, 12, 14, 6, 7, 3, 2, 8, 13, 9, 10, 4, 1, 15])"
      ]
     },
     "execution_count": 65,
     "metadata": {},
     "output_type": "execute_result"
    }
   ],
   "source": [
    "pyLDAvis.gensim.prepare(lda, corpus, id2word)"
   ]
  },
  {
   "cell_type": "markdown",
   "metadata": {},
   "source": [
    "### Overall Model / Documents"
   ]
  },
  {
   "cell_type": "code",
   "execution_count": 66,
   "metadata": {},
   "outputs": [
    {
     "data": {
      "text/plain": [
       "[(10, 0.13784581), (11, 0.7755074), (13, 0.084544025)]"
      ]
     },
     "execution_count": 66,
     "metadata": {},
     "output_type": "execute_result"
    }
   ],
   "source": [
    "lda[corpus[0]]"
   ]
  },
  {
   "cell_type": "code",
   "execution_count": 67,
   "metadata": {},
   "outputs": [],
   "source": [
    "distro = [lda[d] for d in corpus]"
   ]
  },
  {
   "cell_type": "code",
   "execution_count": 70,
   "metadata": {},
   "outputs": [
    {
     "data": {
      "text/plain": [
       "[(10, 0.13785432), (11, 0.7755409), (13, 0.08450204)]"
      ]
     },
     "execution_count": 70,
     "metadata": {},
     "output_type": "execute_result"
    }
   ],
   "source": [
    "distro[0]"
   ]
  },
  {
   "cell_type": "code",
   "execution_count": 71,
   "metadata": {},
   "outputs": [],
   "source": [
    "distro = [lda[d] for d in corpus]\n",
    "\n",
    "def update(doc):\n",
    "        d_dist = {k:0 for k in range(0,15)}\n",
    "        for t in doc:\n",
    "            d_dist[t[0]] = t[1]\n",
    "        return d_dist\n",
    "    \n",
    "new_distro = [update(d) for d in distro]"
   ]
  },
  {
   "cell_type": "code",
   "execution_count": 72,
   "metadata": {},
   "outputs": [
    {
     "data": {
      "text/plain": [
       "813"
      ]
     },
     "execution_count": 72,
     "metadata": {},
     "output_type": "execute_result"
    }
   ],
   "source": [
    "len(new_distro)"
   ]
  },
  {
   "cell_type": "code",
   "execution_count": 73,
   "metadata": {},
   "outputs": [
    {
     "data": {
      "text/html": [
       "<div>\n",
       "<style scoped>\n",
       "    .dataframe tbody tr th:only-of-type {\n",
       "        vertical-align: middle;\n",
       "    }\n",
       "\n",
       "    .dataframe tbody tr th {\n",
       "        vertical-align: top;\n",
       "    }\n",
       "\n",
       "    .dataframe thead th {\n",
       "        text-align: right;\n",
       "    }\n",
       "</style>\n",
       "<table border=\"1\" class=\"dataframe\">\n",
       "  <thead>\n",
       "    <tr style=\"text-align: right;\">\n",
       "      <th></th>\n",
       "      <th>tokens</th>\n",
       "      <th>author</th>\n",
       "      <th>book</th>\n",
       "      <th>section</th>\n",
       "    </tr>\n",
       "  </thead>\n",
       "  <tbody>\n",
       "    <tr>\n",
       "      <th>Austen_Emma0026</th>\n",
       "      <td>[giving, fair, companion, account, yesterday, ...</td>\n",
       "      <td>1</td>\n",
       "      <td>Emma</td>\n",
       "      <td>26</td>\n",
       "    </tr>\n",
       "    <tr>\n",
       "      <th>Austen_Emma0032</th>\n",
       "      <td>[feels, like, snow, place, party, try, day, di...</td>\n",
       "      <td>1</td>\n",
       "      <td>Emma</td>\n",
       "      <td>32</td>\n",
       "    </tr>\n",
       "    <tr>\n",
       "      <th>CBronte_Villette0086</th>\n",
       "      <td>[pierced, opaque, blackness, stood, bougie, qu...</td>\n",
       "      <td>0</td>\n",
       "      <td>Villette</td>\n",
       "      <td>86</td>\n",
       "    </tr>\n",
       "    <tr>\n",
       "      <th>CBronte_Jane0099</th>\n",
       "      <td>[joke, queer, looks, tell, thing, specially, s...</td>\n",
       "      <td>0</td>\n",
       "      <td>Jane</td>\n",
       "      <td>99</td>\n",
       "    </tr>\n",
       "    <tr>\n",
       "      <th>CBronte_Villette0092</th>\n",
       "      <td>[second, landing, floor, comprising, abode, kn...</td>\n",
       "      <td>0</td>\n",
       "      <td>Villette</td>\n",
       "      <td>92</td>\n",
       "    </tr>\n",
       "  </tbody>\n",
       "</table>\n",
       "</div>"
      ],
      "text/plain": [
       "                                                                 tokens  \\\n",
       "Austen_Emma0026       [giving, fair, companion, account, yesterday, ...   \n",
       "Austen_Emma0032       [feels, like, snow, place, party, try, day, di...   \n",
       "CBronte_Villette0086  [pierced, opaque, blackness, stood, bougie, qu...   \n",
       "CBronte_Jane0099      [joke, queer, looks, tell, thing, specially, s...   \n",
       "CBronte_Villette0092  [second, landing, floor, comprising, abode, kn...   \n",
       "\n",
       "                      author      book  section  \n",
       "Austen_Emma0026            1      Emma       26  \n",
       "Austen_Emma0032            1      Emma       32  \n",
       "CBronte_Villette0086       0  Villette       86  \n",
       "CBronte_Jane0099           0      Jane       99  \n",
       "CBronte_Villette0092       0  Villette       92  "
      ]
     },
     "execution_count": 73,
     "metadata": {},
     "output_type": "execute_result"
    }
   ],
   "source": [
    "df.head()"
   ]
  },
  {
   "cell_type": "code",
   "execution_count": 74,
   "metadata": {},
   "outputs": [],
   "source": [
    "df = pd.DataFrame.from_records(new_distro, index=titles)\n",
    "df.columns = topics\n",
    "df['author'] = df.reset_index()['index'].apply(lambda x: x.split('_')[0]).tolist()"
   ]
  },
  {
   "cell_type": "code",
   "execution_count": 75,
   "metadata": {},
   "outputs": [
    {
     "data": {
      "text/html": [
       "<div>\n",
       "<style scoped>\n",
       "    .dataframe tbody tr th:only-of-type {\n",
       "        vertical-align: middle;\n",
       "    }\n",
       "\n",
       "    .dataframe tbody tr th {\n",
       "        vertical-align: top;\n",
       "    }\n",
       "\n",
       "    .dataframe thead th {\n",
       "        text-align: right;\n",
       "    }\n",
       "</style>\n",
       "<table border=\"1\" class=\"dataframe\">\n",
       "  <thead>\n",
       "    <tr style=\"text-align: right;\">\n",
       "      <th></th>\n",
       "      <th>pounds mother sure think year</th>\n",
       "      <th>pelet thought like little man</th>\n",
       "      <th>madame little like day vous</th>\n",
       "      <th>night look like old est</th>\n",
       "      <th>little madame like thought know</th>\n",
       "      <th>elizabeth darcy miss bingley bennet</th>\n",
       "      <th>know jane life like long</th>\n",
       "      <th>frances monsieur hunsden little english</th>\n",
       "      <th>good little like emma elton</th>\n",
       "      <th>sir long jane rochester little</th>\n",
       "      <th>like little rochester miss room</th>\n",
       "      <th>emma miss harriet thing weston</th>\n",
       "      <th>jane emma little thing miss</th>\n",
       "      <th>elinor marianne sister mother time</th>\n",
       "      <th>monsieur henri georgiana mdlle little</th>\n",
       "      <th>author</th>\n",
       "    </tr>\n",
       "  </thead>\n",
       "  <tbody>\n",
       "    <tr>\n",
       "      <th>Austen_Emma0026</th>\n",
       "      <td>0.0</td>\n",
       "      <td>0.0</td>\n",
       "      <td>0.0</td>\n",
       "      <td>0.0</td>\n",
       "      <td>0.000000</td>\n",
       "      <td>0.000000</td>\n",
       "      <td>0.000000</td>\n",
       "      <td>0.0</td>\n",
       "      <td>0.0</td>\n",
       "      <td>0.0</td>\n",
       "      <td>0.137813</td>\n",
       "      <td>0.775376</td>\n",
       "      <td>0.0</td>\n",
       "      <td>0.084708</td>\n",
       "      <td>0.0</td>\n",
       "      <td>Austen</td>\n",
       "    </tr>\n",
       "    <tr>\n",
       "      <th>Austen_Emma0032</th>\n",
       "      <td>0.0</td>\n",
       "      <td>0.0</td>\n",
       "      <td>0.0</td>\n",
       "      <td>0.0</td>\n",
       "      <td>0.000000</td>\n",
       "      <td>0.000000</td>\n",
       "      <td>0.000000</td>\n",
       "      <td>0.0</td>\n",
       "      <td>0.0</td>\n",
       "      <td>0.0</td>\n",
       "      <td>0.000000</td>\n",
       "      <td>0.997455</td>\n",
       "      <td>0.0</td>\n",
       "      <td>0.000000</td>\n",
       "      <td>0.0</td>\n",
       "      <td>Austen</td>\n",
       "    </tr>\n",
       "    <tr>\n",
       "      <th>CBronte_Villette0086</th>\n",
       "      <td>0.0</td>\n",
       "      <td>0.0</td>\n",
       "      <td>0.0</td>\n",
       "      <td>0.0</td>\n",
       "      <td>0.215017</td>\n",
       "      <td>0.000000</td>\n",
       "      <td>0.782771</td>\n",
       "      <td>0.0</td>\n",
       "      <td>0.0</td>\n",
       "      <td>0.0</td>\n",
       "      <td>0.000000</td>\n",
       "      <td>0.000000</td>\n",
       "      <td>0.0</td>\n",
       "      <td>0.000000</td>\n",
       "      <td>0.0</td>\n",
       "      <td>CBronte</td>\n",
       "    </tr>\n",
       "    <tr>\n",
       "      <th>CBronte_Jane0099</th>\n",
       "      <td>0.0</td>\n",
       "      <td>0.0</td>\n",
       "      <td>0.0</td>\n",
       "      <td>0.0</td>\n",
       "      <td>0.000000</td>\n",
       "      <td>0.000000</td>\n",
       "      <td>0.522729</td>\n",
       "      <td>0.0</td>\n",
       "      <td>0.0</td>\n",
       "      <td>0.0</td>\n",
       "      <td>0.473159</td>\n",
       "      <td>0.000000</td>\n",
       "      <td>0.0</td>\n",
       "      <td>0.000000</td>\n",
       "      <td>0.0</td>\n",
       "      <td>CBronte</td>\n",
       "    </tr>\n",
       "    <tr>\n",
       "      <th>CBronte_Villette0092</th>\n",
       "      <td>0.0</td>\n",
       "      <td>0.0</td>\n",
       "      <td>0.0</td>\n",
       "      <td>0.0</td>\n",
       "      <td>0.561909</td>\n",
       "      <td>0.027238</td>\n",
       "      <td>0.000000</td>\n",
       "      <td>0.0</td>\n",
       "      <td>0.0</td>\n",
       "      <td>0.0</td>\n",
       "      <td>0.370953</td>\n",
       "      <td>0.038246</td>\n",
       "      <td>0.0</td>\n",
       "      <td>0.000000</td>\n",
       "      <td>0.0</td>\n",
       "      <td>CBronte</td>\n",
       "    </tr>\n",
       "  </tbody>\n",
       "</table>\n",
       "</div>"
      ],
      "text/plain": [
       "                      pounds mother sure think year  \\\n",
       "Austen_Emma0026                                 0.0   \n",
       "Austen_Emma0032                                 0.0   \n",
       "CBronte_Villette0086                            0.0   \n",
       "CBronte_Jane0099                                0.0   \n",
       "CBronte_Villette0092                            0.0   \n",
       "\n",
       "                      pelet thought like little man  \\\n",
       "Austen_Emma0026                                 0.0   \n",
       "Austen_Emma0032                                 0.0   \n",
       "CBronte_Villette0086                            0.0   \n",
       "CBronte_Jane0099                                0.0   \n",
       "CBronte_Villette0092                            0.0   \n",
       "\n",
       "                      madame little like day vous  night look like old est  \\\n",
       "Austen_Emma0026                               0.0                      0.0   \n",
       "Austen_Emma0032                               0.0                      0.0   \n",
       "CBronte_Villette0086                          0.0                      0.0   \n",
       "CBronte_Jane0099                              0.0                      0.0   \n",
       "CBronte_Villette0092                          0.0                      0.0   \n",
       "\n",
       "                      little madame like thought know  \\\n",
       "Austen_Emma0026                              0.000000   \n",
       "Austen_Emma0032                              0.000000   \n",
       "CBronte_Villette0086                         0.215017   \n",
       "CBronte_Jane0099                             0.000000   \n",
       "CBronte_Villette0092                         0.561909   \n",
       "\n",
       "                      elizabeth darcy miss bingley bennet  \\\n",
       "Austen_Emma0026                                  0.000000   \n",
       "Austen_Emma0032                                  0.000000   \n",
       "CBronte_Villette0086                             0.000000   \n",
       "CBronte_Jane0099                                 0.000000   \n",
       "CBronte_Villette0092                             0.027238   \n",
       "\n",
       "                      know jane life like long  \\\n",
       "Austen_Emma0026                       0.000000   \n",
       "Austen_Emma0032                       0.000000   \n",
       "CBronte_Villette0086                  0.782771   \n",
       "CBronte_Jane0099                      0.522729   \n",
       "CBronte_Villette0092                  0.000000   \n",
       "\n",
       "                      frances monsieur hunsden little english  \\\n",
       "Austen_Emma0026                                           0.0   \n",
       "Austen_Emma0032                                           0.0   \n",
       "CBronte_Villette0086                                      0.0   \n",
       "CBronte_Jane0099                                          0.0   \n",
       "CBronte_Villette0092                                      0.0   \n",
       "\n",
       "                      good little like emma elton  \\\n",
       "Austen_Emma0026                               0.0   \n",
       "Austen_Emma0032                               0.0   \n",
       "CBronte_Villette0086                          0.0   \n",
       "CBronte_Jane0099                              0.0   \n",
       "CBronte_Villette0092                          0.0   \n",
       "\n",
       "                      sir long jane rochester little  \\\n",
       "Austen_Emma0026                                  0.0   \n",
       "Austen_Emma0032                                  0.0   \n",
       "CBronte_Villette0086                             0.0   \n",
       "CBronte_Jane0099                                 0.0   \n",
       "CBronte_Villette0092                             0.0   \n",
       "\n",
       "                      like little rochester miss room  \\\n",
       "Austen_Emma0026                              0.137813   \n",
       "Austen_Emma0032                              0.000000   \n",
       "CBronte_Villette0086                         0.000000   \n",
       "CBronte_Jane0099                             0.473159   \n",
       "CBronte_Villette0092                         0.370953   \n",
       "\n",
       "                      emma miss harriet thing weston  \\\n",
       "Austen_Emma0026                             0.775376   \n",
       "Austen_Emma0032                             0.997455   \n",
       "CBronte_Villette0086                        0.000000   \n",
       "CBronte_Jane0099                            0.000000   \n",
       "CBronte_Villette0092                        0.038246   \n",
       "\n",
       "                      jane emma little thing miss  \\\n",
       "Austen_Emma0026                               0.0   \n",
       "Austen_Emma0032                               0.0   \n",
       "CBronte_Villette0086                          0.0   \n",
       "CBronte_Jane0099                              0.0   \n",
       "CBronte_Villette0092                          0.0   \n",
       "\n",
       "                      elinor marianne sister mother time  \\\n",
       "Austen_Emma0026                                 0.084708   \n",
       "Austen_Emma0032                                 0.000000   \n",
       "CBronte_Villette0086                            0.000000   \n",
       "CBronte_Jane0099                                0.000000   \n",
       "CBronte_Villette0092                            0.000000   \n",
       "\n",
       "                      monsieur henri georgiana mdlle little   author  \n",
       "Austen_Emma0026                                         0.0   Austen  \n",
       "Austen_Emma0032                                         0.0   Austen  \n",
       "CBronte_Villette0086                                    0.0  CBronte  \n",
       "CBronte_Jane0099                                        0.0  CBronte  \n",
       "CBronte_Villette0092                                    0.0  CBronte  "
      ]
     },
     "execution_count": 75,
     "metadata": {},
     "output_type": "execute_result"
    }
   ],
   "source": [
    "df.head()"
   ]
  },
  {
   "cell_type": "code",
   "execution_count": 76,
   "metadata": {},
   "outputs": [
    {
     "data": {
      "text/html": [
       "<div>\n",
       "<style scoped>\n",
       "    .dataframe tbody tr th:only-of-type {\n",
       "        vertical-align: middle;\n",
       "    }\n",
       "\n",
       "    .dataframe tbody tr th {\n",
       "        vertical-align: top;\n",
       "    }\n",
       "\n",
       "    .dataframe thead th {\n",
       "        text-align: right;\n",
       "    }\n",
       "</style>\n",
       "<table border=\"1\" class=\"dataframe\">\n",
       "  <thead>\n",
       "    <tr style=\"text-align: right;\">\n",
       "      <th></th>\n",
       "      <th>pounds mother sure think year</th>\n",
       "      <th>pelet thought like little man</th>\n",
       "      <th>madame little like day vous</th>\n",
       "      <th>night look like old est</th>\n",
       "      <th>little madame like thought know</th>\n",
       "      <th>elizabeth darcy miss bingley bennet</th>\n",
       "      <th>know jane life like long</th>\n",
       "      <th>frances monsieur hunsden little english</th>\n",
       "      <th>good little like emma elton</th>\n",
       "      <th>sir long jane rochester little</th>\n",
       "      <th>like little rochester miss room</th>\n",
       "      <th>emma miss harriet thing weston</th>\n",
       "      <th>jane emma little thing miss</th>\n",
       "      <th>elinor marianne sister mother time</th>\n",
       "      <th>monsieur henri georgiana mdlle little</th>\n",
       "    </tr>\n",
       "    <tr>\n",
       "      <th>author</th>\n",
       "      <th></th>\n",
       "      <th></th>\n",
       "      <th></th>\n",
       "      <th></th>\n",
       "      <th></th>\n",
       "      <th></th>\n",
       "      <th></th>\n",
       "      <th></th>\n",
       "      <th></th>\n",
       "      <th></th>\n",
       "      <th></th>\n",
       "      <th></th>\n",
       "      <th></th>\n",
       "      <th></th>\n",
       "      <th></th>\n",
       "    </tr>\n",
       "  </thead>\n",
       "  <tbody>\n",
       "    <tr>\n",
       "      <th>Austen</th>\n",
       "      <td>0.002680</td>\n",
       "      <td>0.005265</td>\n",
       "      <td>0.000558</td>\n",
       "      <td>0.000027</td>\n",
       "      <td>0.002224</td>\n",
       "      <td>0.229068</td>\n",
       "      <td>0.005129</td>\n",
       "      <td>0.000833</td>\n",
       "      <td>0.016319</td>\n",
       "      <td>0.005213</td>\n",
       "      <td>0.014229</td>\n",
       "      <td>0.352142</td>\n",
       "      <td>0.023068</td>\n",
       "      <td>0.340476</td>\n",
       "      <td>0.000000</td>\n",
       "    </tr>\n",
       "    <tr>\n",
       "      <th>CBronte</th>\n",
       "      <td>0.002808</td>\n",
       "      <td>0.035886</td>\n",
       "      <td>0.061154</td>\n",
       "      <td>0.008203</td>\n",
       "      <td>0.298078</td>\n",
       "      <td>0.005798</td>\n",
       "      <td>0.123300</td>\n",
       "      <td>0.026866</td>\n",
       "      <td>0.007873</td>\n",
       "      <td>0.012273</td>\n",
       "      <td>0.385653</td>\n",
       "      <td>0.005757</td>\n",
       "      <td>0.004657</td>\n",
       "      <td>0.014485</td>\n",
       "      <td>0.004485</td>\n",
       "    </tr>\n",
       "  </tbody>\n",
       "</table>\n",
       "</div>"
      ],
      "text/plain": [
       "         pounds mother sure think year  pelet thought like little man  \\\n",
       "author                                                                  \n",
       "Austen                        0.002680                       0.005265   \n",
       "CBronte                       0.002808                       0.035886   \n",
       "\n",
       "         madame little like day vous  night look like old est  \\\n",
       "author                                                          \n",
       "Austen                      0.000558                 0.000027   \n",
       "CBronte                     0.061154                 0.008203   \n",
       "\n",
       "         little madame like thought know  elizabeth darcy miss bingley bennet  \\\n",
       "author                                                                          \n",
       "Austen                          0.002224                             0.229068   \n",
       "CBronte                         0.298078                             0.005798   \n",
       "\n",
       "         know jane life like long  frances monsieur hunsden little english  \\\n",
       "author                                                                       \n",
       "Austen                   0.005129                                 0.000833   \n",
       "CBronte                  0.123300                                 0.026866   \n",
       "\n",
       "         good little like emma elton  sir long jane rochester little  \\\n",
       "author                                                                 \n",
       "Austen                      0.016319                        0.005213   \n",
       "CBronte                     0.007873                        0.012273   \n",
       "\n",
       "         like little rochester miss room  emma miss harriet thing weston  \\\n",
       "author                                                                     \n",
       "Austen                          0.014229                        0.352142   \n",
       "CBronte                         0.385653                        0.005757   \n",
       "\n",
       "         jane emma little thing miss  elinor marianne sister mother time  \\\n",
       "author                                                                     \n",
       "Austen                      0.023068                            0.340476   \n",
       "CBronte                     0.004657                            0.014485   \n",
       "\n",
       "         monsieur henri georgiana mdlle little  \n",
       "author                                          \n",
       "Austen                                0.000000  \n",
       "CBronte                               0.004485  "
      ]
     },
     "execution_count": 76,
     "metadata": {},
     "output_type": "execute_result"
    }
   ],
   "source": [
    "df.groupby('author').mean()"
   ]
  },
  {
   "cell_type": "markdown",
   "metadata": {},
   "source": [
    "## Challenge\n",
    "### *Can we see if one of the authors focus more on men than women?*\n",
    "\n",
    "*  Use Spacy for text prepocessing\n",
    "*  Extract the Named Entities from the documents using Spacy (command is fairly straight forward)\n",
    "*  Create unique list of names from the authors (you'll find that there are different types of named entities not all people)\n",
    "*  Label the names with genders (can you this by hand or you use the US census name lists)\n",
    "*  Customize your processing to replace the proper name with your gender from the previous step's lookup table\n",
    "*  Then follow the rest of the LDA flow\n"
   ]
  },
  {
   "cell_type": "markdown",
   "metadata": {},
   "source": [
    "# Selecting the Number of Topics (Learn)\n",
    "<a id=\"#p4\"></a>"
   ]
  },
  {
   "cell_type": "markdown",
   "metadata": {},
   "source": [
    "## Overview"
   ]
  },
  {
   "cell_type": "markdown",
   "metadata": {},
   "source": [
    "## Follow Along"
   ]
  },
  {
   "cell_type": "code",
   "execution_count": 15,
   "metadata": {},
   "outputs": [],
   "source": [
    "from gensim.models.coherencemodel import CoherenceModel\n",
    "\n",
    "def compute_coherence_values(dictionary, corpus, limit, start=2, step=3, passes=5):\n",
    "    \"\"\"\n",
    "    Compute c_v coherence for various number of topics\n",
    "\n",
    "    Parameters:\n",
    "    ----------\n",
    "    dictionary : Gensim dictionary\n",
    "    corpus : Gensim corpus\n",
    "    limit : Max num of topics\n",
    "    passes: the number of times the entire lda model & coherence values are calculated\n",
    "\n",
    "    Returns:\n",
    "    -------\n",
    "    coherence_values : Coherence values corresponding to the LDA model with respective number of topics\n",
    "    \"\"\"\n",
    "    \n",
    "    coherence_values = []\n",
    "    \n",
    "    for iter_ in range(passes):\n",
    "        for num_topics in range(start, limit, step):\n",
    "            model = LdaMulticore(corpus=corpus, num_topics=num_topics, id2word=dictionary, workers=4)\n",
    "            coherencemodel = CoherenceModel(model=model,dictionary=dictionary,corpus=corpus, coherence='u_mass')\n",
    "            coherence_values.append({'pass': iter_, \n",
    "                                     'num_topics': num_topics, \n",
    "                                     'coherence_score': coherencemodel.get_coherence()\n",
    "                                    })\n",
    "\n",
    "    return coherence_values"
   ]
  },
  {
   "cell_type": "code",
   "execution_count": null,
   "metadata": {},
   "outputs": [],
   "source": [
    "# Can take a long time to run.\n",
    "coherence_values = compute_coherence_values(dictionary=id2word, \n",
    "                                                        corpus=corpus,\n",
    "                                                        start=2, \n",
    "                                                        limit=40, \n",
    "                                                        step=6,\n",
    "                                                        passes=40)"
   ]
  },
  {
   "cell_type": "code",
   "execution_count": 79,
   "metadata": {},
   "outputs": [],
   "source": [
    "topic_coherence = pd.DataFrame.from_records(coherence_values)"
   ]
  },
  {
   "cell_type": "code",
   "execution_count": null,
   "metadata": {},
   "outputs": [],
   "source": []
  },
  {
   "cell_type": "code",
   "execution_count": 80,
   "metadata": {},
   "outputs": [
    {
     "data": {
      "text/html": [
       "<div>\n",
       "<style scoped>\n",
       "    .dataframe tbody tr th:only-of-type {\n",
       "        vertical-align: middle;\n",
       "    }\n",
       "\n",
       "    .dataframe tbody tr th {\n",
       "        vertical-align: top;\n",
       "    }\n",
       "\n",
       "    .dataframe thead th {\n",
       "        text-align: right;\n",
       "    }\n",
       "</style>\n",
       "<table border=\"1\" class=\"dataframe\">\n",
       "  <thead>\n",
       "    <tr style=\"text-align: right;\">\n",
       "      <th></th>\n",
       "      <th>coherence_score</th>\n",
       "      <th>num_topics</th>\n",
       "      <th>pass</th>\n",
       "    </tr>\n",
       "  </thead>\n",
       "  <tbody>\n",
       "    <tr>\n",
       "      <th>0</th>\n",
       "      <td>-0.603344</td>\n",
       "      <td>2</td>\n",
       "      <td>0</td>\n",
       "    </tr>\n",
       "    <tr>\n",
       "      <th>1</th>\n",
       "      <td>-0.859198</td>\n",
       "      <td>8</td>\n",
       "      <td>0</td>\n",
       "    </tr>\n",
       "    <tr>\n",
       "      <th>2</th>\n",
       "      <td>-0.821042</td>\n",
       "      <td>14</td>\n",
       "      <td>0</td>\n",
       "    </tr>\n",
       "    <tr>\n",
       "      <th>3</th>\n",
       "      <td>-0.710456</td>\n",
       "      <td>20</td>\n",
       "      <td>0</td>\n",
       "    </tr>\n",
       "    <tr>\n",
       "      <th>4</th>\n",
       "      <td>-0.843094</td>\n",
       "      <td>26</td>\n",
       "      <td>0</td>\n",
       "    </tr>\n",
       "  </tbody>\n",
       "</table>\n",
       "</div>"
      ],
      "text/plain": [
       "   coherence_score  num_topics  pass\n",
       "0        -0.603344           2     0\n",
       "1        -0.859198           8     0\n",
       "2        -0.821042          14     0\n",
       "3        -0.710456          20     0\n",
       "4        -0.843094          26     0"
      ]
     },
     "execution_count": 80,
     "metadata": {},
     "output_type": "execute_result"
    }
   ],
   "source": [
    "topic_coherence.head()"
   ]
  },
  {
   "cell_type": "code",
   "execution_count": 82,
   "metadata": {},
   "outputs": [
    {
     "data": {
      "image/png": "[encoded data removed]",
      "text/plain": [
       "<Figure size 432x288 with 1 Axes>"
      ]
     },
     "metadata": {
      "needs_background": "light"
     },
     "output_type": "display_data"
    }
   ],
   "source": [
    "import seaborn as sns\n",
    "\n",
    "ax = sns.lineplot(x=\"num_topics\", y=\"coherence_score\", data=topic_coherence)"
   ]
  },
  {
   "cell_type": "code",
   "execution_count": 84,
   "metadata": {},
   "outputs": [
    {
     "ename": "NameError",
     "evalue": "name 'x' is not defined",
     "output_type": "error",
     "traceback": [
      "\u001b[0;31m---------------------------------------------------------------------------\u001b[0m",
      "\u001b[0;31mNameError\u001b[0m                                 Traceback (most recent call last)",
      "\u001b[0;32m<ipython-input-84-374779cc73b5>\u001b[0m in \u001b[0;36m<module>\u001b[0;34m\u001b[0m\n\u001b[1;32m      1\u001b[0m \u001b[0;31m# Print the coherence scores\u001b[0m\u001b[0;34m\u001b[0m\u001b[0;34m\u001b[0m\u001b[0;34m\u001b[0m\u001b[0m\n\u001b[0;32m----> 2\u001b[0;31m \u001b[0;32mfor\u001b[0m \u001b[0mm\u001b[0m\u001b[0;34m,\u001b[0m \u001b[0mcv\u001b[0m \u001b[0;32min\u001b[0m \u001b[0mzip\u001b[0m\u001b[0;34m(\u001b[0m\u001b[0mx\u001b[0m\u001b[0;34m,\u001b[0m \u001b[0mcoherence_values\u001b[0m\u001b[0;34m)\u001b[0m\u001b[0;34m:\u001b[0m\u001b[0;34m\u001b[0m\u001b[0;34m\u001b[0m\u001b[0m\n\u001b[0m\u001b[1;32m      3\u001b[0m     \u001b[0mprint\u001b[0m\u001b[0;34m(\u001b[0m\u001b[0;34m\"Num Topics =\"\u001b[0m\u001b[0;34m,\u001b[0m \u001b[0mm\u001b[0m\u001b[0;34m,\u001b[0m \u001b[0;34m\" has Coherence Value of\"\u001b[0m\u001b[0;34m,\u001b[0m \u001b[0mround\u001b[0m\u001b[0;34m(\u001b[0m\u001b[0mcv\u001b[0m\u001b[0;34m,\u001b[0m \u001b[0;36m4\u001b[0m\u001b[0;34m)\u001b[0m\u001b[0;34m)\u001b[0m\u001b[0;34m\u001b[0m\u001b[0;34m\u001b[0m\u001b[0m\n",
      "\u001b[0;31mNameError\u001b[0m: name 'x' is not defined"
     ]
    }
   ],
   "source": [
    "# Print the coherence scores\n",
    "for m, cv in zip(x, coherence_values):\n",
    "    print(\"Num Topics =\", m, \" has Coherence Value of\", round(cv, 4))"
   ]
  },
  {
   "cell_type": "code",
   "execution_count": null,
   "metadata": {},
   "outputs": [],
   "source": [
    "lda[id2word.doc2bow(tokenize(\"This is a sample document to score with a topic distribution.\"))]"
   ]
  },
  {
   "cell_type": "markdown",
   "metadata": {},
   "source": [
    "## Challenge\n",
    "### *Can we see if one of the authors focus more on men than women?*\n",
    "\n",
    "*  Use Spacy for text prepocessing\n",
    "*  Extract the Named Entities from the documents using Spacy (command is fairly straight forward)\n",
    "*  Create unique list of names from the authors (you'll find that there are different types of named entities not all people)\n",
    "*  Label the names with genders (can you this by hand or you use the US census name lists)\n",
    "*  Customize your processing to replace the proper name with your gender from the previous step's lookup table\n",
    "*  Then follow the rest of the LDA flow"
   ]
  },
  {
   "cell_type": "code",
   "execution_count": 85,
   "metadata": {},
   "outputs": [
    {
     "name": "stderr",
     "output_type": "stream",
     "text": [
      "/Users/jonathansokoll/anaconda3/envs/U4-S1-NLP/lib/python3.7/site-packages/thinc/neural/train.py:7: DeprecationWarning: Using or importing the ABCs from 'collections' instead of from 'collections.abc' is deprecated, and in 3.8 it will stop working\n",
      "  from .optimizers import Adam, linear_decay\n",
      "/Users/jonathansokoll/anaconda3/envs/U4-S1-NLP/lib/python3.7/site-packages/thinc/check.py:4: DeprecationWarning: Using or importing the ABCs from 'collections' instead of from 'collections.abc' is deprecated, and in 3.8 it will stop working\n",
      "  from collections import Sequence, Sized, Iterable, Callable\n",
      "/Users/jonathansokoll/anaconda3/envs/U4-S1-NLP/lib/python3.7/site-packages/thinc/check.py:4: DeprecationWarning: Using or importing the ABCs from 'collections' instead of from 'collections.abc' is deprecated, and in 3.8 it will stop working\n",
      "  from collections import Sequence, Sized, Iterable, Callable\n"
     ]
    }
   ],
   "source": [
    "import spacy\n",
    "\n",
    "nlp = spacy.load('en_core_web_lg')"
   ]
  },
  {
   "cell_type": "code",
   "execution_count": 86,
   "metadata": {},
   "outputs": [],
   "source": [
    "test = \"Ned asked me a question about England today.\""
   ]
  },
  {
   "cell_type": "code",
   "execution_count": 87,
   "metadata": {},
   "outputs": [
    {
     "name": "stdout",
     "output_type": "stream",
     "text": [
      "Ned Ned PROPN\n",
      "asked ask VERB\n",
      "me -PRON- PRON\n",
      "a a DET\n",
      "question question NOUN\n",
      "about about ADP\n",
      "England England PROPN\n",
      "today today NOUN\n",
      ". . PUNCT\n"
     ]
    }
   ],
   "source": [
    "doc = nlp(test)\n",
    "\n",
    "for token in doc:\n",
    "    print(token.text, token.lemma_, token.pos_)"
   ]
  },
  {
   "cell_type": "code",
   "execution_count": 88,
   "metadata": {},
   "outputs": [
    {
     "name": "stdout",
     "output_type": "stream",
     "text": [
      "Ned PERSON\n",
      "England GPE\n",
      "today DATE\n"
     ]
    }
   ],
   "source": [
    "for ent in doc.ents:\n",
    "    print(ent.text, ent.label_)"
   ]
  },
  {
   "cell_type": "code",
   "execution_count": 89,
   "metadata": {},
   "outputs": [],
   "source": [
    "def doc_stream(path):\n",
    "    for f in os.listdir(path):\n",
    "        if os.path.isdir(f) == False:\n",
    "            with open(os.path.join(path,f)) as t:\n",
    "                text = t.read().strip('\\n')\n",
    "                yield text\n",
    "\n",
    "def get_people(docstream):\n",
    "    \n",
    "    ppl = []\n",
    "    \n",
    "    for d in docstream:\n",
    "        \n",
    "        doc = nlp(d)\n",
    "        \n",
    "        for ent in doc.ents:\n",
    "            \n",
    "            if ent.label_ == \"PERSON\":\n",
    "                ppl.append(ent.lemma_)\n",
    "                \n",
    "    return set(ppl)"
   ]
  },
  {
   "cell_type": "code",
   "execution_count": null,
   "metadata": {},
   "outputs": [],
   "source": [
    "%pwd"
   ]
  },
  {
   "cell_type": "code",
   "execution_count": 90,
   "metadata": {},
   "outputs": [],
   "source": [
    "people = get_people(doc_stream(path))"
   ]
  },
  {
   "cell_type": "code",
   "execution_count": null,
   "metadata": {},
   "outputs": [],
   "source": [
    "list(people)[:50]"
   ]
  },
  {
   "cell_type": "code",
   "execution_count": null,
   "metadata": {},
   "outputs": [],
   "source": [
    "gender_lookup = {'Adele':'female_charc', 'William Crimsworth':'male_charc'}"
   ]
  },
  {
   "cell_type": "code",
   "execution_count": null,
   "metadata": {},
   "outputs": [],
   "source": [
    "doc = nlp(next(doc_stream(path)))"
   ]
  },
  {
   "cell_type": "code",
   "execution_count": null,
   "metadata": {},
   "outputs": [],
   "source": [
    "doc.ents[0].lemma_"
   ]
  },
  {
   "cell_type": "markdown",
   "metadata": {},
   "source": [
    "# Sources\n",
    "\n",
    "### *References*\n",
    "* [Andrew Ng et al paper on LDA](https://ai.stanford.edu/~ang/papers/jair03-lda.pdf)\n",
    "* On [Coherence](https://pdfs.semanticscholar.org/1521/8d9c029cbb903ae7c729b2c644c24994c201.pdf)\n",
    "\n",
    "### *Resources*\n",
    "\n",
    "* [Gensim](https://radimrehurek.com/gensim/): Python package for topic modeling, nlp, word vectorization, and few other things. Well maintained and well documented.\n",
    "* [Topic Modeling with Gensim](http://www.machinelearningplus.com/nlp/topic-modeling-gensim-python/#11createthedictionaryandcorpusneededfortopicmodeling): A kind of cookbook for LDA with gensim. Excellent overview, but the you need to be aware of missing import statements and assumed prior knowledge.\n",
    "* [Chinese Restuarant Process](https://en.wikipedia.org/wiki/Chinese_restaurant_process): That really obscure stats thing I mentioned... \n",
    "* [PyLDAvis](https://github.com/bmabey/pyLDAvis): Library for visualizing the topic model and performing some exploratory work. Works well. Has a direct parrell implementation in R as well. \n",
    "* [Rare Technologies](https://rare-technologies.com/): The people that made & maintain gensim and a few other libraries.\n",
    "* [Jane Austen v. Charlotte Bronte](https://www.literaryladiesguide.com/literary-musings/jane-austen-charlotte-bronte-different-alike/)"
   ]
  }
 ],
 "metadata": {
  "kernelspec": {
   "display_name": "lambda",
   "language": "python",
   "name": "lambda"
  },
  "language_info": {
   "codemirror_mode": {
    "name": "ipython",
    "version": 3
   },
   "file_extension": ".py",
   "mimetype": "text/x-python",
   "name": "python",
   "nbconvert_exporter": "python",
   "pygments_lexer": "ipython3",
   "version": "3.7.5"
  }
 },
 "nbformat": 4,
 "nbformat_minor": 4
}
